{
  "nbformat": 4,
  "nbformat_minor": 0,
  "metadata": {
    "colab": {
      "name": "16_Natural_language_Processing_with_RNNs_and Attention.ipynb",
      "provenance": [],
      "collapsed_sections": [],
      "authorship_tag": "ABX9TyOuvvowxJ48k8oyq8d9OBgu",
      "include_colab_link": true
    },
    "kernelspec": {
      "name": "python3",
      "display_name": "Python 3"
    },
    "widgets": {
      "application/vnd.jupyter.widget-state+json": {
        "68443fb5ad65444d810bb7e71d0a4a96": {
          "model_module": "@jupyter-widgets/controls",
          "model_name": "HBoxModel",
          "state": {
            "_view_name": "HBoxView",
            "_dom_classes": [],
            "_model_name": "HBoxModel",
            "_view_module": "@jupyter-widgets/controls",
            "_model_module_version": "1.5.0",
            "_view_count": null,
            "_view_module_version": "1.5.0",
            "box_style": "",
            "layout": "IPY_MODEL_4401f5692f7a4438930262e89f4b2742",
            "_model_module": "@jupyter-widgets/controls",
            "children": [
              "IPY_MODEL_702f39f18c38492ca35a216c130ed9e1",
              "IPY_MODEL_1911392bfdc941d4bda57d346ba5fe22"
            ]
          }
        },
        "4401f5692f7a4438930262e89f4b2742": {
          "model_module": "@jupyter-widgets/base",
          "model_name": "LayoutModel",
          "state": {
            "_view_name": "LayoutView",
            "grid_template_rows": null,
            "right": null,
            "justify_content": null,
            "_view_module": "@jupyter-widgets/base",
            "overflow": null,
            "_model_module_version": "1.2.0",
            "_view_count": null,
            "flex_flow": null,
            "width": null,
            "min_width": null,
            "border": null,
            "align_items": null,
            "bottom": null,
            "_model_module": "@jupyter-widgets/base",
            "top": null,
            "grid_column": null,
            "overflow_y": null,
            "overflow_x": null,
            "grid_auto_flow": null,
            "grid_area": null,
            "grid_template_columns": null,
            "flex": null,
            "_model_name": "LayoutModel",
            "justify_items": null,
            "grid_row": null,
            "max_height": null,
            "align_content": null,
            "visibility": null,
            "align_self": null,
            "height": null,
            "min_height": null,
            "padding": null,
            "grid_auto_rows": null,
            "grid_gap": null,
            "max_width": null,
            "order": null,
            "_view_module_version": "1.2.0",
            "grid_template_areas": null,
            "object_position": null,
            "object_fit": null,
            "grid_auto_columns": null,
            "margin": null,
            "display": null,
            "left": null
          }
        },
        "702f39f18c38492ca35a216c130ed9e1": {
          "model_module": "@jupyter-widgets/controls",
          "model_name": "FloatProgressModel",
          "state": {
            "_view_name": "ProgressView",
            "style": "IPY_MODEL_2b1628855f364f6f9aa76c0bf397b2bc",
            "_dom_classes": [],
            "description": "Dl Completed...: 100%",
            "_model_name": "FloatProgressModel",
            "bar_style": "success",
            "max": 1,
            "_view_module": "@jupyter-widgets/controls",
            "_model_module_version": "1.5.0",
            "value": 1,
            "_view_count": null,
            "_view_module_version": "1.5.0",
            "orientation": "horizontal",
            "min": 0,
            "description_tooltip": null,
            "_model_module": "@jupyter-widgets/controls",
            "layout": "IPY_MODEL_9272e45996194aeb960196b0b2473bba"
          }
        },
        "1911392bfdc941d4bda57d346ba5fe22": {
          "model_module": "@jupyter-widgets/controls",
          "model_name": "HTMLModel",
          "state": {
            "_view_name": "HTMLView",
            "style": "IPY_MODEL_8fd765038942407f9d8e88f3f9324cd1",
            "_dom_classes": [],
            "description": "",
            "_model_name": "HTMLModel",
            "placeholder": "​",
            "_view_module": "@jupyter-widgets/controls",
            "_model_module_version": "1.5.0",
            "value": " 1/1 [00:18&lt;00:00, 18.83s/ url]",
            "_view_count": null,
            "_view_module_version": "1.5.0",
            "description_tooltip": null,
            "_model_module": "@jupyter-widgets/controls",
            "layout": "IPY_MODEL_ce3011294c8240688c03d064cac99da8"
          }
        },
        "2b1628855f364f6f9aa76c0bf397b2bc": {
          "model_module": "@jupyter-widgets/controls",
          "model_name": "ProgressStyleModel",
          "state": {
            "_view_name": "StyleView",
            "_model_name": "ProgressStyleModel",
            "description_width": "initial",
            "_view_module": "@jupyter-widgets/base",
            "_model_module_version": "1.5.0",
            "_view_count": null,
            "_view_module_version": "1.2.0",
            "bar_color": null,
            "_model_module": "@jupyter-widgets/controls"
          }
        },
        "9272e45996194aeb960196b0b2473bba": {
          "model_module": "@jupyter-widgets/base",
          "model_name": "LayoutModel",
          "state": {
            "_view_name": "LayoutView",
            "grid_template_rows": null,
            "right": null,
            "justify_content": null,
            "_view_module": "@jupyter-widgets/base",
            "overflow": null,
            "_model_module_version": "1.2.0",
            "_view_count": null,
            "flex_flow": null,
            "width": null,
            "min_width": null,
            "border": null,
            "align_items": null,
            "bottom": null,
            "_model_module": "@jupyter-widgets/base",
            "top": null,
            "grid_column": null,
            "overflow_y": null,
            "overflow_x": null,
            "grid_auto_flow": null,
            "grid_area": null,
            "grid_template_columns": null,
            "flex": null,
            "_model_name": "LayoutModel",
            "justify_items": null,
            "grid_row": null,
            "max_height": null,
            "align_content": null,
            "visibility": null,
            "align_self": null,
            "height": null,
            "min_height": null,
            "padding": null,
            "grid_auto_rows": null,
            "grid_gap": null,
            "max_width": null,
            "order": null,
            "_view_module_version": "1.2.0",
            "grid_template_areas": null,
            "object_position": null,
            "object_fit": null,
            "grid_auto_columns": null,
            "margin": null,
            "display": null,
            "left": null
          }
        },
        "8fd765038942407f9d8e88f3f9324cd1": {
          "model_module": "@jupyter-widgets/controls",
          "model_name": "DescriptionStyleModel",
          "state": {
            "_view_name": "StyleView",
            "_model_name": "DescriptionStyleModel",
            "description_width": "",
            "_view_module": "@jupyter-widgets/base",
            "_model_module_version": "1.5.0",
            "_view_count": null,
            "_view_module_version": "1.2.0",
            "_model_module": "@jupyter-widgets/controls"
          }
        },
        "ce3011294c8240688c03d064cac99da8": {
          "model_module": "@jupyter-widgets/base",
          "model_name": "LayoutModel",
          "state": {
            "_view_name": "LayoutView",
            "grid_template_rows": null,
            "right": null,
            "justify_content": null,
            "_view_module": "@jupyter-widgets/base",
            "overflow": null,
            "_model_module_version": "1.2.0",
            "_view_count": null,
            "flex_flow": null,
            "width": null,
            "min_width": null,
            "border": null,
            "align_items": null,
            "bottom": null,
            "_model_module": "@jupyter-widgets/base",
            "top": null,
            "grid_column": null,
            "overflow_y": null,
            "overflow_x": null,
            "grid_auto_flow": null,
            "grid_area": null,
            "grid_template_columns": null,
            "flex": null,
            "_model_name": "LayoutModel",
            "justify_items": null,
            "grid_row": null,
            "max_height": null,
            "align_content": null,
            "visibility": null,
            "align_self": null,
            "height": null,
            "min_height": null,
            "padding": null,
            "grid_auto_rows": null,
            "grid_gap": null,
            "max_width": null,
            "order": null,
            "_view_module_version": "1.2.0",
            "grid_template_areas": null,
            "object_position": null,
            "object_fit": null,
            "grid_auto_columns": null,
            "margin": null,
            "display": null,
            "left": null
          }
        },
        "ec60df66a4b1489484b2264eabaa77e0": {
          "model_module": "@jupyter-widgets/controls",
          "model_name": "HBoxModel",
          "state": {
            "_view_name": "HBoxView",
            "_dom_classes": [],
            "_model_name": "HBoxModel",
            "_view_module": "@jupyter-widgets/controls",
            "_model_module_version": "1.5.0",
            "_view_count": null,
            "_view_module_version": "1.5.0",
            "box_style": "",
            "layout": "IPY_MODEL_874dd408e4314a0983dd0928a30f2f81",
            "_model_module": "@jupyter-widgets/controls",
            "children": [
              "IPY_MODEL_35aa802358cb4be197cac60fd31022a4",
              "IPY_MODEL_33ce70ccf6d8484c8589cea3044d759c"
            ]
          }
        },
        "874dd408e4314a0983dd0928a30f2f81": {
          "model_module": "@jupyter-widgets/base",
          "model_name": "LayoutModel",
          "state": {
            "_view_name": "LayoutView",
            "grid_template_rows": null,
            "right": null,
            "justify_content": null,
            "_view_module": "@jupyter-widgets/base",
            "overflow": null,
            "_model_module_version": "1.2.0",
            "_view_count": null,
            "flex_flow": null,
            "width": null,
            "min_width": null,
            "border": null,
            "align_items": null,
            "bottom": null,
            "_model_module": "@jupyter-widgets/base",
            "top": null,
            "grid_column": null,
            "overflow_y": null,
            "overflow_x": null,
            "grid_auto_flow": null,
            "grid_area": null,
            "grid_template_columns": null,
            "flex": null,
            "_model_name": "LayoutModel",
            "justify_items": null,
            "grid_row": null,
            "max_height": null,
            "align_content": null,
            "visibility": null,
            "align_self": null,
            "height": null,
            "min_height": null,
            "padding": null,
            "grid_auto_rows": null,
            "grid_gap": null,
            "max_width": null,
            "order": null,
            "_view_module_version": "1.2.0",
            "grid_template_areas": null,
            "object_position": null,
            "object_fit": null,
            "grid_auto_columns": null,
            "margin": null,
            "display": null,
            "left": null
          }
        },
        "35aa802358cb4be197cac60fd31022a4": {
          "model_module": "@jupyter-widgets/controls",
          "model_name": "FloatProgressModel",
          "state": {
            "_view_name": "ProgressView",
            "style": "IPY_MODEL_38cf64d03668410e8482bb3dede6895c",
            "_dom_classes": [],
            "description": "Dl Size...: 100%",
            "_model_name": "FloatProgressModel",
            "bar_style": "success",
            "max": 1,
            "_view_module": "@jupyter-widgets/controls",
            "_model_module_version": "1.5.0",
            "value": 1,
            "_view_count": null,
            "_view_module_version": "1.5.0",
            "orientation": "horizontal",
            "min": 0,
            "description_tooltip": null,
            "_model_module": "@jupyter-widgets/controls",
            "layout": "IPY_MODEL_10620b5292894f7891d6876541639638"
          }
        },
        "33ce70ccf6d8484c8589cea3044d759c": {
          "model_module": "@jupyter-widgets/controls",
          "model_name": "HTMLModel",
          "state": {
            "_view_name": "HTMLView",
            "style": "IPY_MODEL_3b07bf39fbfd4882b19dabcf1248b125",
            "_dom_classes": [],
            "description": "",
            "_model_name": "HTMLModel",
            "placeholder": "​",
            "_view_module": "@jupyter-widgets/controls",
            "_model_module_version": "1.5.0",
            "value": " 80/80 [00:18&lt;00:00,  4.26 MiB/s]",
            "_view_count": null,
            "_view_module_version": "1.5.0",
            "description_tooltip": null,
            "_model_module": "@jupyter-widgets/controls",
            "layout": "IPY_MODEL_05785b64b7fc49b0af140217892a2f93"
          }
        },
        "38cf64d03668410e8482bb3dede6895c": {
          "model_module": "@jupyter-widgets/controls",
          "model_name": "ProgressStyleModel",
          "state": {
            "_view_name": "StyleView",
            "_model_name": "ProgressStyleModel",
            "description_width": "initial",
            "_view_module": "@jupyter-widgets/base",
            "_model_module_version": "1.5.0",
            "_view_count": null,
            "_view_module_version": "1.2.0",
            "bar_color": null,
            "_model_module": "@jupyter-widgets/controls"
          }
        },
        "10620b5292894f7891d6876541639638": {
          "model_module": "@jupyter-widgets/base",
          "model_name": "LayoutModel",
          "state": {
            "_view_name": "LayoutView",
            "grid_template_rows": null,
            "right": null,
            "justify_content": null,
            "_view_module": "@jupyter-widgets/base",
            "overflow": null,
            "_model_module_version": "1.2.0",
            "_view_count": null,
            "flex_flow": null,
            "width": null,
            "min_width": null,
            "border": null,
            "align_items": null,
            "bottom": null,
            "_model_module": "@jupyter-widgets/base",
            "top": null,
            "grid_column": null,
            "overflow_y": null,
            "overflow_x": null,
            "grid_auto_flow": null,
            "grid_area": null,
            "grid_template_columns": null,
            "flex": null,
            "_model_name": "LayoutModel",
            "justify_items": null,
            "grid_row": null,
            "max_height": null,
            "align_content": null,
            "visibility": null,
            "align_self": null,
            "height": null,
            "min_height": null,
            "padding": null,
            "grid_auto_rows": null,
            "grid_gap": null,
            "max_width": null,
            "order": null,
            "_view_module_version": "1.2.0",
            "grid_template_areas": null,
            "object_position": null,
            "object_fit": null,
            "grid_auto_columns": null,
            "margin": null,
            "display": null,
            "left": null
          }
        },
        "3b07bf39fbfd4882b19dabcf1248b125": {
          "model_module": "@jupyter-widgets/controls",
          "model_name": "DescriptionStyleModel",
          "state": {
            "_view_name": "StyleView",
            "_model_name": "DescriptionStyleModel",
            "description_width": "",
            "_view_module": "@jupyter-widgets/base",
            "_model_module_version": "1.5.0",
            "_view_count": null,
            "_view_module_version": "1.2.0",
            "_model_module": "@jupyter-widgets/controls"
          }
        },
        "05785b64b7fc49b0af140217892a2f93": {
          "model_module": "@jupyter-widgets/base",
          "model_name": "LayoutModel",
          "state": {
            "_view_name": "LayoutView",
            "grid_template_rows": null,
            "right": null,
            "justify_content": null,
            "_view_module": "@jupyter-widgets/base",
            "overflow": null,
            "_model_module_version": "1.2.0",
            "_view_count": null,
            "flex_flow": null,
            "width": null,
            "min_width": null,
            "border": null,
            "align_items": null,
            "bottom": null,
            "_model_module": "@jupyter-widgets/base",
            "top": null,
            "grid_column": null,
            "overflow_y": null,
            "overflow_x": null,
            "grid_auto_flow": null,
            "grid_area": null,
            "grid_template_columns": null,
            "flex": null,
            "_model_name": "LayoutModel",
            "justify_items": null,
            "grid_row": null,
            "max_height": null,
            "align_content": null,
            "visibility": null,
            "align_self": null,
            "height": null,
            "min_height": null,
            "padding": null,
            "grid_auto_rows": null,
            "grid_gap": null,
            "max_width": null,
            "order": null,
            "_view_module_version": "1.2.0",
            "grid_template_areas": null,
            "object_position": null,
            "object_fit": null,
            "grid_auto_columns": null,
            "margin": null,
            "display": null,
            "left": null
          }
        },
        "4fd8a92da23348d695d378f2bc336ade": {
          "model_module": "@jupyter-widgets/controls",
          "model_name": "HBoxModel",
          "state": {
            "_view_name": "HBoxView",
            "_dom_classes": [],
            "_model_name": "HBoxModel",
            "_view_module": "@jupyter-widgets/controls",
            "_model_module_version": "1.5.0",
            "_view_count": null,
            "_view_module_version": "1.5.0",
            "box_style": "",
            "layout": "IPY_MODEL_1f8a2380f6cd415ea71003c391f6457e",
            "_model_module": "@jupyter-widgets/controls",
            "children": [
              "IPY_MODEL_4126a31b669c4d20a7c590ec1b5a5f29",
              "IPY_MODEL_2889ec9723f34e1ba2e2048e662da620"
            ]
          }
        },
        "1f8a2380f6cd415ea71003c391f6457e": {
          "model_module": "@jupyter-widgets/base",
          "model_name": "LayoutModel",
          "state": {
            "_view_name": "LayoutView",
            "grid_template_rows": null,
            "right": null,
            "justify_content": null,
            "_view_module": "@jupyter-widgets/base",
            "overflow": null,
            "_model_module_version": "1.2.0",
            "_view_count": null,
            "flex_flow": null,
            "width": null,
            "min_width": null,
            "border": null,
            "align_items": null,
            "bottom": null,
            "_model_module": "@jupyter-widgets/base",
            "top": null,
            "grid_column": null,
            "overflow_y": null,
            "overflow_x": null,
            "grid_auto_flow": null,
            "grid_area": null,
            "grid_template_columns": null,
            "flex": null,
            "_model_name": "LayoutModel",
            "justify_items": null,
            "grid_row": null,
            "max_height": null,
            "align_content": null,
            "visibility": null,
            "align_self": null,
            "height": null,
            "min_height": null,
            "padding": null,
            "grid_auto_rows": null,
            "grid_gap": null,
            "max_width": null,
            "order": null,
            "_view_module_version": "1.2.0",
            "grid_template_areas": null,
            "object_position": null,
            "object_fit": null,
            "grid_auto_columns": null,
            "margin": null,
            "display": null,
            "left": null
          }
        },
        "4126a31b669c4d20a7c590ec1b5a5f29": {
          "model_module": "@jupyter-widgets/controls",
          "model_name": "FloatProgressModel",
          "state": {
            "_view_name": "ProgressView",
            "style": "IPY_MODEL_327b065f6af7480a96eaabc780f3180d",
            "_dom_classes": [],
            "description": "",
            "_model_name": "FloatProgressModel",
            "bar_style": "info",
            "max": 1,
            "_view_module": "@jupyter-widgets/controls",
            "_model_module_version": "1.5.0",
            "value": 1,
            "_view_count": null,
            "_view_module_version": "1.5.0",
            "orientation": "horizontal",
            "min": 0,
            "description_tooltip": null,
            "_model_module": "@jupyter-widgets/controls",
            "layout": "IPY_MODEL_507f4aa9490f4029bfe2b5d80a548b38"
          }
        },
        "2889ec9723f34e1ba2e2048e662da620": {
          "model_module": "@jupyter-widgets/controls",
          "model_name": "HTMLModel",
          "state": {
            "_view_name": "HTMLView",
            "style": "IPY_MODEL_3865df4f22cf4753bb6742ffae40864e",
            "_dom_classes": [],
            "description": "",
            "_model_name": "HTMLModel",
            "placeholder": "​",
            "_view_module": "@jupyter-widgets/controls",
            "_model_module_version": "1.5.0",
            "value": " 25000/0 [00:14&lt;00:00, 3167.02 examples/s]",
            "_view_count": null,
            "_view_module_version": "1.5.0",
            "description_tooltip": null,
            "_model_module": "@jupyter-widgets/controls",
            "layout": "IPY_MODEL_33f4cbe3f0664159904e2a5f7fd22ab3"
          }
        },
        "327b065f6af7480a96eaabc780f3180d": {
          "model_module": "@jupyter-widgets/controls",
          "model_name": "ProgressStyleModel",
          "state": {
            "_view_name": "StyleView",
            "_model_name": "ProgressStyleModel",
            "description_width": "initial",
            "_view_module": "@jupyter-widgets/base",
            "_model_module_version": "1.5.0",
            "_view_count": null,
            "_view_module_version": "1.2.0",
            "bar_color": null,
            "_model_module": "@jupyter-widgets/controls"
          }
        },
        "507f4aa9490f4029bfe2b5d80a548b38": {
          "model_module": "@jupyter-widgets/base",
          "model_name": "LayoutModel",
          "state": {
            "_view_name": "LayoutView",
            "grid_template_rows": null,
            "right": null,
            "justify_content": null,
            "_view_module": "@jupyter-widgets/base",
            "overflow": null,
            "_model_module_version": "1.2.0",
            "_view_count": null,
            "flex_flow": null,
            "width": null,
            "min_width": null,
            "border": null,
            "align_items": null,
            "bottom": null,
            "_model_module": "@jupyter-widgets/base",
            "top": null,
            "grid_column": null,
            "overflow_y": null,
            "overflow_x": null,
            "grid_auto_flow": null,
            "grid_area": null,
            "grid_template_columns": null,
            "flex": null,
            "_model_name": "LayoutModel",
            "justify_items": null,
            "grid_row": null,
            "max_height": null,
            "align_content": null,
            "visibility": null,
            "align_self": null,
            "height": null,
            "min_height": null,
            "padding": null,
            "grid_auto_rows": null,
            "grid_gap": null,
            "max_width": null,
            "order": null,
            "_view_module_version": "1.2.0",
            "grid_template_areas": null,
            "object_position": null,
            "object_fit": null,
            "grid_auto_columns": null,
            "margin": null,
            "display": null,
            "left": null
          }
        },
        "3865df4f22cf4753bb6742ffae40864e": {
          "model_module": "@jupyter-widgets/controls",
          "model_name": "DescriptionStyleModel",
          "state": {
            "_view_name": "StyleView",
            "_model_name": "DescriptionStyleModel",
            "description_width": "",
            "_view_module": "@jupyter-widgets/base",
            "_model_module_version": "1.5.0",
            "_view_count": null,
            "_view_module_version": "1.2.0",
            "_model_module": "@jupyter-widgets/controls"
          }
        },
        "33f4cbe3f0664159904e2a5f7fd22ab3": {
          "model_module": "@jupyter-widgets/base",
          "model_name": "LayoutModel",
          "state": {
            "_view_name": "LayoutView",
            "grid_template_rows": null,
            "right": null,
            "justify_content": null,
            "_view_module": "@jupyter-widgets/base",
            "overflow": null,
            "_model_module_version": "1.2.0",
            "_view_count": null,
            "flex_flow": null,
            "width": null,
            "min_width": null,
            "border": null,
            "align_items": null,
            "bottom": null,
            "_model_module": "@jupyter-widgets/base",
            "top": null,
            "grid_column": null,
            "overflow_y": null,
            "overflow_x": null,
            "grid_auto_flow": null,
            "grid_area": null,
            "grid_template_columns": null,
            "flex": null,
            "_model_name": "LayoutModel",
            "justify_items": null,
            "grid_row": null,
            "max_height": null,
            "align_content": null,
            "visibility": null,
            "align_self": null,
            "height": null,
            "min_height": null,
            "padding": null,
            "grid_auto_rows": null,
            "grid_gap": null,
            "max_width": null,
            "order": null,
            "_view_module_version": "1.2.0",
            "grid_template_areas": null,
            "object_position": null,
            "object_fit": null,
            "grid_auto_columns": null,
            "margin": null,
            "display": null,
            "left": null
          }
        },
        "52b660f01e1e43319b575d3a8ba01d05": {
          "model_module": "@jupyter-widgets/controls",
          "model_name": "HBoxModel",
          "state": {
            "_view_name": "HBoxView",
            "_dom_classes": [],
            "_model_name": "HBoxModel",
            "_view_module": "@jupyter-widgets/controls",
            "_model_module_version": "1.5.0",
            "_view_count": null,
            "_view_module_version": "1.5.0",
            "box_style": "",
            "layout": "IPY_MODEL_742c006a1a5f4dcc9303c120927b97ff",
            "_model_module": "@jupyter-widgets/controls",
            "children": [
              "IPY_MODEL_a5c26ffd76f54cfe917f5e3908fc5ce8",
              "IPY_MODEL_9534a691b78c4b10a28f5010be85b7eb"
            ]
          }
        },
        "742c006a1a5f4dcc9303c120927b97ff": {
          "model_module": "@jupyter-widgets/base",
          "model_name": "LayoutModel",
          "state": {
            "_view_name": "LayoutView",
            "grid_template_rows": null,
            "right": null,
            "justify_content": null,
            "_view_module": "@jupyter-widgets/base",
            "overflow": null,
            "_model_module_version": "1.2.0",
            "_view_count": null,
            "flex_flow": null,
            "width": null,
            "min_width": null,
            "border": null,
            "align_items": null,
            "bottom": null,
            "_model_module": "@jupyter-widgets/base",
            "top": null,
            "grid_column": null,
            "overflow_y": null,
            "overflow_x": null,
            "grid_auto_flow": null,
            "grid_area": null,
            "grid_template_columns": null,
            "flex": null,
            "_model_name": "LayoutModel",
            "justify_items": null,
            "grid_row": null,
            "max_height": null,
            "align_content": null,
            "visibility": null,
            "align_self": null,
            "height": null,
            "min_height": null,
            "padding": null,
            "grid_auto_rows": null,
            "grid_gap": null,
            "max_width": null,
            "order": null,
            "_view_module_version": "1.2.0",
            "grid_template_areas": null,
            "object_position": null,
            "object_fit": null,
            "grid_auto_columns": null,
            "margin": null,
            "display": null,
            "left": null
          }
        },
        "a5c26ffd76f54cfe917f5e3908fc5ce8": {
          "model_module": "@jupyter-widgets/controls",
          "model_name": "FloatProgressModel",
          "state": {
            "_view_name": "ProgressView",
            "style": "IPY_MODEL_1cd3d12681594297947dddf494414067",
            "_dom_classes": [],
            "description": " 35%",
            "_model_name": "FloatProgressModel",
            "bar_style": "danger",
            "max": 25000,
            "_view_module": "@jupyter-widgets/controls",
            "_model_module_version": "1.5.0",
            "value": 8873,
            "_view_count": null,
            "_view_module_version": "1.5.0",
            "orientation": "horizontal",
            "min": 0,
            "description_tooltip": null,
            "_model_module": "@jupyter-widgets/controls",
            "layout": "IPY_MODEL_8924aa082a274351bdb029de85e94e4b"
          }
        },
        "9534a691b78c4b10a28f5010be85b7eb": {
          "model_module": "@jupyter-widgets/controls",
          "model_name": "HTMLModel",
          "state": {
            "_view_name": "HTMLView",
            "style": "IPY_MODEL_8834e97c8e864f449f6213c1ccd4f918",
            "_dom_classes": [],
            "description": "",
            "_model_name": "HTMLModel",
            "placeholder": "​",
            "_view_module": "@jupyter-widgets/controls",
            "_model_module_version": "1.5.0",
            "value": " 8873/25000 [00:00&lt;00:00, 88727.97 examples/s]",
            "_view_count": null,
            "_view_module_version": "1.5.0",
            "description_tooltip": null,
            "_model_module": "@jupyter-widgets/controls",
            "layout": "IPY_MODEL_c76d115949f74a9aab33916f45630f44"
          }
        },
        "1cd3d12681594297947dddf494414067": {
          "model_module": "@jupyter-widgets/controls",
          "model_name": "ProgressStyleModel",
          "state": {
            "_view_name": "StyleView",
            "_model_name": "ProgressStyleModel",
            "description_width": "initial",
            "_view_module": "@jupyter-widgets/base",
            "_model_module_version": "1.5.0",
            "_view_count": null,
            "_view_module_version": "1.2.0",
            "bar_color": null,
            "_model_module": "@jupyter-widgets/controls"
          }
        },
        "8924aa082a274351bdb029de85e94e4b": {
          "model_module": "@jupyter-widgets/base",
          "model_name": "LayoutModel",
          "state": {
            "_view_name": "LayoutView",
            "grid_template_rows": null,
            "right": null,
            "justify_content": null,
            "_view_module": "@jupyter-widgets/base",
            "overflow": null,
            "_model_module_version": "1.2.0",
            "_view_count": null,
            "flex_flow": null,
            "width": null,
            "min_width": null,
            "border": null,
            "align_items": null,
            "bottom": null,
            "_model_module": "@jupyter-widgets/base",
            "top": null,
            "grid_column": null,
            "overflow_y": null,
            "overflow_x": null,
            "grid_auto_flow": null,
            "grid_area": null,
            "grid_template_columns": null,
            "flex": null,
            "_model_name": "LayoutModel",
            "justify_items": null,
            "grid_row": null,
            "max_height": null,
            "align_content": null,
            "visibility": null,
            "align_self": null,
            "height": null,
            "min_height": null,
            "padding": null,
            "grid_auto_rows": null,
            "grid_gap": null,
            "max_width": null,
            "order": null,
            "_view_module_version": "1.2.0",
            "grid_template_areas": null,
            "object_position": null,
            "object_fit": null,
            "grid_auto_columns": null,
            "margin": null,
            "display": null,
            "left": null
          }
        },
        "8834e97c8e864f449f6213c1ccd4f918": {
          "model_module": "@jupyter-widgets/controls",
          "model_name": "DescriptionStyleModel",
          "state": {
            "_view_name": "StyleView",
            "_model_name": "DescriptionStyleModel",
            "description_width": "",
            "_view_module": "@jupyter-widgets/base",
            "_model_module_version": "1.5.0",
            "_view_count": null,
            "_view_module_version": "1.2.0",
            "_model_module": "@jupyter-widgets/controls"
          }
        },
        "c76d115949f74a9aab33916f45630f44": {
          "model_module": "@jupyter-widgets/base",
          "model_name": "LayoutModel",
          "state": {
            "_view_name": "LayoutView",
            "grid_template_rows": null,
            "right": null,
            "justify_content": null,
            "_view_module": "@jupyter-widgets/base",
            "overflow": null,
            "_model_module_version": "1.2.0",
            "_view_count": null,
            "flex_flow": null,
            "width": null,
            "min_width": null,
            "border": null,
            "align_items": null,
            "bottom": null,
            "_model_module": "@jupyter-widgets/base",
            "top": null,
            "grid_column": null,
            "overflow_y": null,
            "overflow_x": null,
            "grid_auto_flow": null,
            "grid_area": null,
            "grid_template_columns": null,
            "flex": null,
            "_model_name": "LayoutModel",
            "justify_items": null,
            "grid_row": null,
            "max_height": null,
            "align_content": null,
            "visibility": null,
            "align_self": null,
            "height": null,
            "min_height": null,
            "padding": null,
            "grid_auto_rows": null,
            "grid_gap": null,
            "max_width": null,
            "order": null,
            "_view_module_version": "1.2.0",
            "grid_template_areas": null,
            "object_position": null,
            "object_fit": null,
            "grid_auto_columns": null,
            "margin": null,
            "display": null,
            "left": null
          }
        },
        "abce698db4fa4ea8b97c7a53e75ab671": {
          "model_module": "@jupyter-widgets/controls",
          "model_name": "HBoxModel",
          "state": {
            "_view_name": "HBoxView",
            "_dom_classes": [],
            "_model_name": "HBoxModel",
            "_view_module": "@jupyter-widgets/controls",
            "_model_module_version": "1.5.0",
            "_view_count": null,
            "_view_module_version": "1.5.0",
            "box_style": "",
            "layout": "IPY_MODEL_2bcad543932a4daab1f319498671ba00",
            "_model_module": "@jupyter-widgets/controls",
            "children": [
              "IPY_MODEL_8cca4f44e3c34f029726c786cefdb47f",
              "IPY_MODEL_c31de600c2c645a2b7e7335ae759368f"
            ]
          }
        },
        "2bcad543932a4daab1f319498671ba00": {
          "model_module": "@jupyter-widgets/base",
          "model_name": "LayoutModel",
          "state": {
            "_view_name": "LayoutView",
            "grid_template_rows": null,
            "right": null,
            "justify_content": null,
            "_view_module": "@jupyter-widgets/base",
            "overflow": null,
            "_model_module_version": "1.2.0",
            "_view_count": null,
            "flex_flow": null,
            "width": null,
            "min_width": null,
            "border": null,
            "align_items": null,
            "bottom": null,
            "_model_module": "@jupyter-widgets/base",
            "top": null,
            "grid_column": null,
            "overflow_y": null,
            "overflow_x": null,
            "grid_auto_flow": null,
            "grid_area": null,
            "grid_template_columns": null,
            "flex": null,
            "_model_name": "LayoutModel",
            "justify_items": null,
            "grid_row": null,
            "max_height": null,
            "align_content": null,
            "visibility": null,
            "align_self": null,
            "height": null,
            "min_height": null,
            "padding": null,
            "grid_auto_rows": null,
            "grid_gap": null,
            "max_width": null,
            "order": null,
            "_view_module_version": "1.2.0",
            "grid_template_areas": null,
            "object_position": null,
            "object_fit": null,
            "grid_auto_columns": null,
            "margin": null,
            "display": null,
            "left": null
          }
        },
        "8cca4f44e3c34f029726c786cefdb47f": {
          "model_module": "@jupyter-widgets/controls",
          "model_name": "FloatProgressModel",
          "state": {
            "_view_name": "ProgressView",
            "style": "IPY_MODEL_9067f658dbfc476ba4c4acc0ed6d75a1",
            "_dom_classes": [],
            "description": "",
            "_model_name": "FloatProgressModel",
            "bar_style": "info",
            "max": 1,
            "_view_module": "@jupyter-widgets/controls",
            "_model_module_version": "1.5.0",
            "value": 1,
            "_view_count": null,
            "_view_module_version": "1.5.0",
            "orientation": "horizontal",
            "min": 0,
            "description_tooltip": null,
            "_model_module": "@jupyter-widgets/controls",
            "layout": "IPY_MODEL_610c35d935554b7d8c948256353f30a0"
          }
        },
        "c31de600c2c645a2b7e7335ae759368f": {
          "model_module": "@jupyter-widgets/controls",
          "model_name": "HTMLModel",
          "state": {
            "_view_name": "HTMLView",
            "style": "IPY_MODEL_91b8702ac8f347c7961d7ee2a1a8ab77",
            "_dom_classes": [],
            "description": "",
            "_model_name": "HTMLModel",
            "placeholder": "​",
            "_view_module": "@jupyter-widgets/controls",
            "_model_module_version": "1.5.0",
            "value": " 25000/0 [00:14&lt;00:00, 3153.85 examples/s]",
            "_view_count": null,
            "_view_module_version": "1.5.0",
            "description_tooltip": null,
            "_model_module": "@jupyter-widgets/controls",
            "layout": "IPY_MODEL_26119ed009bd4013ad2d246ac717689f"
          }
        },
        "9067f658dbfc476ba4c4acc0ed6d75a1": {
          "model_module": "@jupyter-widgets/controls",
          "model_name": "ProgressStyleModel",
          "state": {
            "_view_name": "StyleView",
            "_model_name": "ProgressStyleModel",
            "description_width": "initial",
            "_view_module": "@jupyter-widgets/base",
            "_model_module_version": "1.5.0",
            "_view_count": null,
            "_view_module_version": "1.2.0",
            "bar_color": null,
            "_model_module": "@jupyter-widgets/controls"
          }
        },
        "610c35d935554b7d8c948256353f30a0": {
          "model_module": "@jupyter-widgets/base",
          "model_name": "LayoutModel",
          "state": {
            "_view_name": "LayoutView",
            "grid_template_rows": null,
            "right": null,
            "justify_content": null,
            "_view_module": "@jupyter-widgets/base",
            "overflow": null,
            "_model_module_version": "1.2.0",
            "_view_count": null,
            "flex_flow": null,
            "width": null,
            "min_width": null,
            "border": null,
            "align_items": null,
            "bottom": null,
            "_model_module": "@jupyter-widgets/base",
            "top": null,
            "grid_column": null,
            "overflow_y": null,
            "overflow_x": null,
            "grid_auto_flow": null,
            "grid_area": null,
            "grid_template_columns": null,
            "flex": null,
            "_model_name": "LayoutModel",
            "justify_items": null,
            "grid_row": null,
            "max_height": null,
            "align_content": null,
            "visibility": null,
            "align_self": null,
            "height": null,
            "min_height": null,
            "padding": null,
            "grid_auto_rows": null,
            "grid_gap": null,
            "max_width": null,
            "order": null,
            "_view_module_version": "1.2.0",
            "grid_template_areas": null,
            "object_position": null,
            "object_fit": null,
            "grid_auto_columns": null,
            "margin": null,
            "display": null,
            "left": null
          }
        },
        "91b8702ac8f347c7961d7ee2a1a8ab77": {
          "model_module": "@jupyter-widgets/controls",
          "model_name": "DescriptionStyleModel",
          "state": {
            "_view_name": "StyleView",
            "_model_name": "DescriptionStyleModel",
            "description_width": "",
            "_view_module": "@jupyter-widgets/base",
            "_model_module_version": "1.5.0",
            "_view_count": null,
            "_view_module_version": "1.2.0",
            "_model_module": "@jupyter-widgets/controls"
          }
        },
        "26119ed009bd4013ad2d246ac717689f": {
          "model_module": "@jupyter-widgets/base",
          "model_name": "LayoutModel",
          "state": {
            "_view_name": "LayoutView",
            "grid_template_rows": null,
            "right": null,
            "justify_content": null,
            "_view_module": "@jupyter-widgets/base",
            "overflow": null,
            "_model_module_version": "1.2.0",
            "_view_count": null,
            "flex_flow": null,
            "width": null,
            "min_width": null,
            "border": null,
            "align_items": null,
            "bottom": null,
            "_model_module": "@jupyter-widgets/base",
            "top": null,
            "grid_column": null,
            "overflow_y": null,
            "overflow_x": null,
            "grid_auto_flow": null,
            "grid_area": null,
            "grid_template_columns": null,
            "flex": null,
            "_model_name": "LayoutModel",
            "justify_items": null,
            "grid_row": null,
            "max_height": null,
            "align_content": null,
            "visibility": null,
            "align_self": null,
            "height": null,
            "min_height": null,
            "padding": null,
            "grid_auto_rows": null,
            "grid_gap": null,
            "max_width": null,
            "order": null,
            "_view_module_version": "1.2.0",
            "grid_template_areas": null,
            "object_position": null,
            "object_fit": null,
            "grid_auto_columns": null,
            "margin": null,
            "display": null,
            "left": null
          }
        },
        "62fa89fb13ca41ba9318d3d036c634fe": {
          "model_module": "@jupyter-widgets/controls",
          "model_name": "HBoxModel",
          "state": {
            "_view_name": "HBoxView",
            "_dom_classes": [],
            "_model_name": "HBoxModel",
            "_view_module": "@jupyter-widgets/controls",
            "_model_module_version": "1.5.0",
            "_view_count": null,
            "_view_module_version": "1.5.0",
            "box_style": "",
            "layout": "IPY_MODEL_ef8ec06fb3e74c13a33023bd0fa187a3",
            "_model_module": "@jupyter-widgets/controls",
            "children": [
              "IPY_MODEL_866114f2f5c64263b0328dd411937eab",
              "IPY_MODEL_e89dac93b34b4e1da155a668d4b92973"
            ]
          }
        },
        "ef8ec06fb3e74c13a33023bd0fa187a3": {
          "model_module": "@jupyter-widgets/base",
          "model_name": "LayoutModel",
          "state": {
            "_view_name": "LayoutView",
            "grid_template_rows": null,
            "right": null,
            "justify_content": null,
            "_view_module": "@jupyter-widgets/base",
            "overflow": null,
            "_model_module_version": "1.2.0",
            "_view_count": null,
            "flex_flow": null,
            "width": null,
            "min_width": null,
            "border": null,
            "align_items": null,
            "bottom": null,
            "_model_module": "@jupyter-widgets/base",
            "top": null,
            "grid_column": null,
            "overflow_y": null,
            "overflow_x": null,
            "grid_auto_flow": null,
            "grid_area": null,
            "grid_template_columns": null,
            "flex": null,
            "_model_name": "LayoutModel",
            "justify_items": null,
            "grid_row": null,
            "max_height": null,
            "align_content": null,
            "visibility": null,
            "align_self": null,
            "height": null,
            "min_height": null,
            "padding": null,
            "grid_auto_rows": null,
            "grid_gap": null,
            "max_width": null,
            "order": null,
            "_view_module_version": "1.2.0",
            "grid_template_areas": null,
            "object_position": null,
            "object_fit": null,
            "grid_auto_columns": null,
            "margin": null,
            "display": null,
            "left": null
          }
        },
        "866114f2f5c64263b0328dd411937eab": {
          "model_module": "@jupyter-widgets/controls",
          "model_name": "FloatProgressModel",
          "state": {
            "_view_name": "ProgressView",
            "style": "IPY_MODEL_982e02c714f34d708869535a9ad70b9c",
            "_dom_classes": [],
            "description": " 30%",
            "_model_name": "FloatProgressModel",
            "bar_style": "danger",
            "max": 25000,
            "_view_module": "@jupyter-widgets/controls",
            "_model_module_version": "1.5.0",
            "value": 7501,
            "_view_count": null,
            "_view_module_version": "1.5.0",
            "orientation": "horizontal",
            "min": 0,
            "description_tooltip": null,
            "_model_module": "@jupyter-widgets/controls",
            "layout": "IPY_MODEL_f3d05a84369c420aa00f6106e5faba99"
          }
        },
        "e89dac93b34b4e1da155a668d4b92973": {
          "model_module": "@jupyter-widgets/controls",
          "model_name": "HTMLModel",
          "state": {
            "_view_name": "HTMLView",
            "style": "IPY_MODEL_957def9bd2a9413e9e49303965967bd8",
            "_dom_classes": [],
            "description": "",
            "_model_name": "HTMLModel",
            "placeholder": "​",
            "_view_module": "@jupyter-widgets/controls",
            "_model_module_version": "1.5.0",
            "value": " 7501/25000 [00:00&lt;00:00, 75008.28 examples/s]",
            "_view_count": null,
            "_view_module_version": "1.5.0",
            "description_tooltip": null,
            "_model_module": "@jupyter-widgets/controls",
            "layout": "IPY_MODEL_fd7f0c95efca464985f7e5730d01b387"
          }
        },
        "982e02c714f34d708869535a9ad70b9c": {
          "model_module": "@jupyter-widgets/controls",
          "model_name": "ProgressStyleModel",
          "state": {
            "_view_name": "StyleView",
            "_model_name": "ProgressStyleModel",
            "description_width": "initial",
            "_view_module": "@jupyter-widgets/base",
            "_model_module_version": "1.5.0",
            "_view_count": null,
            "_view_module_version": "1.2.0",
            "bar_color": null,
            "_model_module": "@jupyter-widgets/controls"
          }
        },
        "f3d05a84369c420aa00f6106e5faba99": {
          "model_module": "@jupyter-widgets/base",
          "model_name": "LayoutModel",
          "state": {
            "_view_name": "LayoutView",
            "grid_template_rows": null,
            "right": null,
            "justify_content": null,
            "_view_module": "@jupyter-widgets/base",
            "overflow": null,
            "_model_module_version": "1.2.0",
            "_view_count": null,
            "flex_flow": null,
            "width": null,
            "min_width": null,
            "border": null,
            "align_items": null,
            "bottom": null,
            "_model_module": "@jupyter-widgets/base",
            "top": null,
            "grid_column": null,
            "overflow_y": null,
            "overflow_x": null,
            "grid_auto_flow": null,
            "grid_area": null,
            "grid_template_columns": null,
            "flex": null,
            "_model_name": "LayoutModel",
            "justify_items": null,
            "grid_row": null,
            "max_height": null,
            "align_content": null,
            "visibility": null,
            "align_self": null,
            "height": null,
            "min_height": null,
            "padding": null,
            "grid_auto_rows": null,
            "grid_gap": null,
            "max_width": null,
            "order": null,
            "_view_module_version": "1.2.0",
            "grid_template_areas": null,
            "object_position": null,
            "object_fit": null,
            "grid_auto_columns": null,
            "margin": null,
            "display": null,
            "left": null
          }
        },
        "957def9bd2a9413e9e49303965967bd8": {
          "model_module": "@jupyter-widgets/controls",
          "model_name": "DescriptionStyleModel",
          "state": {
            "_view_name": "StyleView",
            "_model_name": "DescriptionStyleModel",
            "description_width": "",
            "_view_module": "@jupyter-widgets/base",
            "_model_module_version": "1.5.0",
            "_view_count": null,
            "_view_module_version": "1.2.0",
            "_model_module": "@jupyter-widgets/controls"
          }
        },
        "fd7f0c95efca464985f7e5730d01b387": {
          "model_module": "@jupyter-widgets/base",
          "model_name": "LayoutModel",
          "state": {
            "_view_name": "LayoutView",
            "grid_template_rows": null,
            "right": null,
            "justify_content": null,
            "_view_module": "@jupyter-widgets/base",
            "overflow": null,
            "_model_module_version": "1.2.0",
            "_view_count": null,
            "flex_flow": null,
            "width": null,
            "min_width": null,
            "border": null,
            "align_items": null,
            "bottom": null,
            "_model_module": "@jupyter-widgets/base",
            "top": null,
            "grid_column": null,
            "overflow_y": null,
            "overflow_x": null,
            "grid_auto_flow": null,
            "grid_area": null,
            "grid_template_columns": null,
            "flex": null,
            "_model_name": "LayoutModel",
            "justify_items": null,
            "grid_row": null,
            "max_height": null,
            "align_content": null,
            "visibility": null,
            "align_self": null,
            "height": null,
            "min_height": null,
            "padding": null,
            "grid_auto_rows": null,
            "grid_gap": null,
            "max_width": null,
            "order": null,
            "_view_module_version": "1.2.0",
            "grid_template_areas": null,
            "object_position": null,
            "object_fit": null,
            "grid_auto_columns": null,
            "margin": null,
            "display": null,
            "left": null
          }
        },
        "0c59bbf1738248f5936ee25b77ced41e": {
          "model_module": "@jupyter-widgets/controls",
          "model_name": "HBoxModel",
          "state": {
            "_view_name": "HBoxView",
            "_dom_classes": [],
            "_model_name": "HBoxModel",
            "_view_module": "@jupyter-widgets/controls",
            "_model_module_version": "1.5.0",
            "_view_count": null,
            "_view_module_version": "1.5.0",
            "box_style": "",
            "layout": "IPY_MODEL_336f84d22b0d4918a227959d37da8897",
            "_model_module": "@jupyter-widgets/controls",
            "children": [
              "IPY_MODEL_5d7aa62fea5545d6b6729197f191229d",
              "IPY_MODEL_4c19a378a45b4e64bab58fd17c5eda14"
            ]
          }
        },
        "336f84d22b0d4918a227959d37da8897": {
          "model_module": "@jupyter-widgets/base",
          "model_name": "LayoutModel",
          "state": {
            "_view_name": "LayoutView",
            "grid_template_rows": null,
            "right": null,
            "justify_content": null,
            "_view_module": "@jupyter-widgets/base",
            "overflow": null,
            "_model_module_version": "1.2.0",
            "_view_count": null,
            "flex_flow": null,
            "width": null,
            "min_width": null,
            "border": null,
            "align_items": null,
            "bottom": null,
            "_model_module": "@jupyter-widgets/base",
            "top": null,
            "grid_column": null,
            "overflow_y": null,
            "overflow_x": null,
            "grid_auto_flow": null,
            "grid_area": null,
            "grid_template_columns": null,
            "flex": null,
            "_model_name": "LayoutModel",
            "justify_items": null,
            "grid_row": null,
            "max_height": null,
            "align_content": null,
            "visibility": null,
            "align_self": null,
            "height": null,
            "min_height": null,
            "padding": null,
            "grid_auto_rows": null,
            "grid_gap": null,
            "max_width": null,
            "order": null,
            "_view_module_version": "1.2.0",
            "grid_template_areas": null,
            "object_position": null,
            "object_fit": null,
            "grid_auto_columns": null,
            "margin": null,
            "display": null,
            "left": null
          }
        },
        "5d7aa62fea5545d6b6729197f191229d": {
          "model_module": "@jupyter-widgets/controls",
          "model_name": "FloatProgressModel",
          "state": {
            "_view_name": "ProgressView",
            "style": "IPY_MODEL_91fae56c4c5d440f96f292511268338c",
            "_dom_classes": [],
            "description": "",
            "_model_name": "FloatProgressModel",
            "bar_style": "info",
            "max": 1,
            "_view_module": "@jupyter-widgets/controls",
            "_model_module_version": "1.5.0",
            "value": 1,
            "_view_count": null,
            "_view_module_version": "1.5.0",
            "orientation": "horizontal",
            "min": 0,
            "description_tooltip": null,
            "_model_module": "@jupyter-widgets/controls",
            "layout": "IPY_MODEL_27c163e4bb054a989f5985b0358d8f97"
          }
        },
        "4c19a378a45b4e64bab58fd17c5eda14": {
          "model_module": "@jupyter-widgets/controls",
          "model_name": "HTMLModel",
          "state": {
            "_view_name": "HTMLView",
            "style": "IPY_MODEL_1208d476cdf14854a50ef6e72ba971fe",
            "_dom_classes": [],
            "description": "",
            "_model_name": "HTMLModel",
            "placeholder": "​",
            "_view_module": "@jupyter-widgets/controls",
            "_model_module_version": "1.5.0",
            "value": " 50000/0 [00:19&lt;00:00, 3202.22 examples/s]",
            "_view_count": null,
            "_view_module_version": "1.5.0",
            "description_tooltip": null,
            "_model_module": "@jupyter-widgets/controls",
            "layout": "IPY_MODEL_ca16ca7b665440b2a5f9f0af32bde642"
          }
        },
        "91fae56c4c5d440f96f292511268338c": {
          "model_module": "@jupyter-widgets/controls",
          "model_name": "ProgressStyleModel",
          "state": {
            "_view_name": "StyleView",
            "_model_name": "ProgressStyleModel",
            "description_width": "initial",
            "_view_module": "@jupyter-widgets/base",
            "_model_module_version": "1.5.0",
            "_view_count": null,
            "_view_module_version": "1.2.0",
            "bar_color": null,
            "_model_module": "@jupyter-widgets/controls"
          }
        },
        "27c163e4bb054a989f5985b0358d8f97": {
          "model_module": "@jupyter-widgets/base",
          "model_name": "LayoutModel",
          "state": {
            "_view_name": "LayoutView",
            "grid_template_rows": null,
            "right": null,
            "justify_content": null,
            "_view_module": "@jupyter-widgets/base",
            "overflow": null,
            "_model_module_version": "1.2.0",
            "_view_count": null,
            "flex_flow": null,
            "width": null,
            "min_width": null,
            "border": null,
            "align_items": null,
            "bottom": null,
            "_model_module": "@jupyter-widgets/base",
            "top": null,
            "grid_column": null,
            "overflow_y": null,
            "overflow_x": null,
            "grid_auto_flow": null,
            "grid_area": null,
            "grid_template_columns": null,
            "flex": null,
            "_model_name": "LayoutModel",
            "justify_items": null,
            "grid_row": null,
            "max_height": null,
            "align_content": null,
            "visibility": null,
            "align_self": null,
            "height": null,
            "min_height": null,
            "padding": null,
            "grid_auto_rows": null,
            "grid_gap": null,
            "max_width": null,
            "order": null,
            "_view_module_version": "1.2.0",
            "grid_template_areas": null,
            "object_position": null,
            "object_fit": null,
            "grid_auto_columns": null,
            "margin": null,
            "display": null,
            "left": null
          }
        },
        "1208d476cdf14854a50ef6e72ba971fe": {
          "model_module": "@jupyter-widgets/controls",
          "model_name": "DescriptionStyleModel",
          "state": {
            "_view_name": "StyleView",
            "_model_name": "DescriptionStyleModel",
            "description_width": "",
            "_view_module": "@jupyter-widgets/base",
            "_model_module_version": "1.5.0",
            "_view_count": null,
            "_view_module_version": "1.2.0",
            "_model_module": "@jupyter-widgets/controls"
          }
        },
        "ca16ca7b665440b2a5f9f0af32bde642": {
          "model_module": "@jupyter-widgets/base",
          "model_name": "LayoutModel",
          "state": {
            "_view_name": "LayoutView",
            "grid_template_rows": null,
            "right": null,
            "justify_content": null,
            "_view_module": "@jupyter-widgets/base",
            "overflow": null,
            "_model_module_version": "1.2.0",
            "_view_count": null,
            "flex_flow": null,
            "width": null,
            "min_width": null,
            "border": null,
            "align_items": null,
            "bottom": null,
            "_model_module": "@jupyter-widgets/base",
            "top": null,
            "grid_column": null,
            "overflow_y": null,
            "overflow_x": null,
            "grid_auto_flow": null,
            "grid_area": null,
            "grid_template_columns": null,
            "flex": null,
            "_model_name": "LayoutModel",
            "justify_items": null,
            "grid_row": null,
            "max_height": null,
            "align_content": null,
            "visibility": null,
            "align_self": null,
            "height": null,
            "min_height": null,
            "padding": null,
            "grid_auto_rows": null,
            "grid_gap": null,
            "max_width": null,
            "order": null,
            "_view_module_version": "1.2.0",
            "grid_template_areas": null,
            "object_position": null,
            "object_fit": null,
            "grid_auto_columns": null,
            "margin": null,
            "display": null,
            "left": null
          }
        },
        "0921891fe1dd462aa6a77b7ffc74baae": {
          "model_module": "@jupyter-widgets/controls",
          "model_name": "HBoxModel",
          "state": {
            "_view_name": "HBoxView",
            "_dom_classes": [],
            "_model_name": "HBoxModel",
            "_view_module": "@jupyter-widgets/controls",
            "_model_module_version": "1.5.0",
            "_view_count": null,
            "_view_module_version": "1.5.0",
            "box_style": "",
            "layout": "IPY_MODEL_ef19e119ac3246c2aa7496af972bfe06",
            "_model_module": "@jupyter-widgets/controls",
            "children": [
              "IPY_MODEL_eb26313137494a4d9fe87fa80fecf1a0",
              "IPY_MODEL_dee6a7efd4be48b09679a0e6e2cc91b4"
            ]
          }
        },
        "ef19e119ac3246c2aa7496af972bfe06": {
          "model_module": "@jupyter-widgets/base",
          "model_name": "LayoutModel",
          "state": {
            "_view_name": "LayoutView",
            "grid_template_rows": null,
            "right": null,
            "justify_content": null,
            "_view_module": "@jupyter-widgets/base",
            "overflow": null,
            "_model_module_version": "1.2.0",
            "_view_count": null,
            "flex_flow": null,
            "width": null,
            "min_width": null,
            "border": null,
            "align_items": null,
            "bottom": null,
            "_model_module": "@jupyter-widgets/base",
            "top": null,
            "grid_column": null,
            "overflow_y": null,
            "overflow_x": null,
            "grid_auto_flow": null,
            "grid_area": null,
            "grid_template_columns": null,
            "flex": null,
            "_model_name": "LayoutModel",
            "justify_items": null,
            "grid_row": null,
            "max_height": null,
            "align_content": null,
            "visibility": null,
            "align_self": null,
            "height": null,
            "min_height": null,
            "padding": null,
            "grid_auto_rows": null,
            "grid_gap": null,
            "max_width": null,
            "order": null,
            "_view_module_version": "1.2.0",
            "grid_template_areas": null,
            "object_position": null,
            "object_fit": null,
            "grid_auto_columns": null,
            "margin": null,
            "display": null,
            "left": null
          }
        },
        "eb26313137494a4d9fe87fa80fecf1a0": {
          "model_module": "@jupyter-widgets/controls",
          "model_name": "FloatProgressModel",
          "state": {
            "_view_name": "ProgressView",
            "style": "IPY_MODEL_984e693b51a44f99b070de18e5bd50b1",
            "_dom_classes": [],
            "description": " 91%",
            "_model_name": "FloatProgressModel",
            "bar_style": "danger",
            "max": 50000,
            "_view_module": "@jupyter-widgets/controls",
            "_model_module_version": "1.5.0",
            "value": 45531,
            "_view_count": null,
            "_view_module_version": "1.5.0",
            "orientation": "horizontal",
            "min": 0,
            "description_tooltip": null,
            "_model_module": "@jupyter-widgets/controls",
            "layout": "IPY_MODEL_bb8ec2a8936f46e89b3370553fd0f856"
          }
        },
        "dee6a7efd4be48b09679a0e6e2cc91b4": {
          "model_module": "@jupyter-widgets/controls",
          "model_name": "HTMLModel",
          "state": {
            "_view_name": "HTMLView",
            "style": "IPY_MODEL_90a98472b2c2432f961bfa64db0db20e",
            "_dom_classes": [],
            "description": "",
            "_model_name": "HTMLModel",
            "placeholder": "​",
            "_view_module": "@jupyter-widgets/controls",
            "_model_module_version": "1.5.0",
            "value": " 45531/50000 [00:00&lt;00:00, 7856.70 examples/s]",
            "_view_count": null,
            "_view_module_version": "1.5.0",
            "description_tooltip": null,
            "_model_module": "@jupyter-widgets/controls",
            "layout": "IPY_MODEL_74e0592d580b478c8e871af2a4b44673"
          }
        },
        "984e693b51a44f99b070de18e5bd50b1": {
          "model_module": "@jupyter-widgets/controls",
          "model_name": "ProgressStyleModel",
          "state": {
            "_view_name": "StyleView",
            "_model_name": "ProgressStyleModel",
            "description_width": "initial",
            "_view_module": "@jupyter-widgets/base",
            "_model_module_version": "1.5.0",
            "_view_count": null,
            "_view_module_version": "1.2.0",
            "bar_color": null,
            "_model_module": "@jupyter-widgets/controls"
          }
        },
        "bb8ec2a8936f46e89b3370553fd0f856": {
          "model_module": "@jupyter-widgets/base",
          "model_name": "LayoutModel",
          "state": {
            "_view_name": "LayoutView",
            "grid_template_rows": null,
            "right": null,
            "justify_content": null,
            "_view_module": "@jupyter-widgets/base",
            "overflow": null,
            "_model_module_version": "1.2.0",
            "_view_count": null,
            "flex_flow": null,
            "width": null,
            "min_width": null,
            "border": null,
            "align_items": null,
            "bottom": null,
            "_model_module": "@jupyter-widgets/base",
            "top": null,
            "grid_column": null,
            "overflow_y": null,
            "overflow_x": null,
            "grid_auto_flow": null,
            "grid_area": null,
            "grid_template_columns": null,
            "flex": null,
            "_model_name": "LayoutModel",
            "justify_items": null,
            "grid_row": null,
            "max_height": null,
            "align_content": null,
            "visibility": null,
            "align_self": null,
            "height": null,
            "min_height": null,
            "padding": null,
            "grid_auto_rows": null,
            "grid_gap": null,
            "max_width": null,
            "order": null,
            "_view_module_version": "1.2.0",
            "grid_template_areas": null,
            "object_position": null,
            "object_fit": null,
            "grid_auto_columns": null,
            "margin": null,
            "display": null,
            "left": null
          }
        },
        "90a98472b2c2432f961bfa64db0db20e": {
          "model_module": "@jupyter-widgets/controls",
          "model_name": "DescriptionStyleModel",
          "state": {
            "_view_name": "StyleView",
            "_model_name": "DescriptionStyleModel",
            "description_width": "",
            "_view_module": "@jupyter-widgets/base",
            "_model_module_version": "1.5.0",
            "_view_count": null,
            "_view_module_version": "1.2.0",
            "_model_module": "@jupyter-widgets/controls"
          }
        },
        "74e0592d580b478c8e871af2a4b44673": {
          "model_module": "@jupyter-widgets/base",
          "model_name": "LayoutModel",
          "state": {
            "_view_name": "LayoutView",
            "grid_template_rows": null,
            "right": null,
            "justify_content": null,
            "_view_module": "@jupyter-widgets/base",
            "overflow": null,
            "_model_module_version": "1.2.0",
            "_view_count": null,
            "flex_flow": null,
            "width": null,
            "min_width": null,
            "border": null,
            "align_items": null,
            "bottom": null,
            "_model_module": "@jupyter-widgets/base",
            "top": null,
            "grid_column": null,
            "overflow_y": null,
            "overflow_x": null,
            "grid_auto_flow": null,
            "grid_area": null,
            "grid_template_columns": null,
            "flex": null,
            "_model_name": "LayoutModel",
            "justify_items": null,
            "grid_row": null,
            "max_height": null,
            "align_content": null,
            "visibility": null,
            "align_self": null,
            "height": null,
            "min_height": null,
            "padding": null,
            "grid_auto_rows": null,
            "grid_gap": null,
            "max_width": null,
            "order": null,
            "_view_module_version": "1.2.0",
            "grid_template_areas": null,
            "object_position": null,
            "object_fit": null,
            "grid_auto_columns": null,
            "margin": null,
            "display": null,
            "left": null
          }
        }
      }
    }
  },
  "cells": [
    {
      "cell_type": "markdown",
      "metadata": {
        "id": "view-in-github",
        "colab_type": "text"
      },
      "source": [
        "<a href=\"https://colab.research.google.com/github/Jun-Liu-291/Hands-On-Machine-Learning-with-Scikit-Learn-Keras-and-TensorFlow/blob/master/16_Natural_language_Processing_with_RNNs_and_Attention.ipynb\" target=\"_parent\"><img src=\"https://colab.research.google.com/assets/colab-badge.svg\" alt=\"Open In Colab\"/></a>"
      ]
    },
    {
      "cell_type": "code",
      "metadata": {
        "id": "vWKE9yvjy-zJ",
        "outputId": "b9256e7a-e530-4f85-e85b-a6cc36addc5d",
        "colab": {
          "base_uri": "https://localhost:8080/"
        }
      },
      "source": [
        "# Python ≥3.5 is required\n",
        "import sys\n",
        "assert sys.version_info >= (3, 5)\n",
        "\n",
        "# Scikit-Learn ≥0.20 is required\n",
        "import sklearn\n",
        "assert sklearn.__version__ >= \"0.20\"\n",
        "\n",
        "try:\n",
        "    # %tensorflow_version only exists in Colab.\n",
        "    %tensorflow_version 2.x\n",
        "    !pip install -q -U tensorflow-addons\n",
        "    IS_COLAB = True\n",
        "except Exception:\n",
        "    IS_COLAB = False\n",
        "\n",
        "# TensorFlow ≥2.0 is required\n",
        "import tensorflow as tf\n",
        "from tensorflow import keras\n",
        "assert tf.__version__ >= \"2.0\"\n",
        "\n",
        "if not tf.config.list_physical_devices('GPU'):\n",
        "    print(\"No GPU was detected. LSTMs and CNNs can be very slow without a GPU.\")\n",
        "    if IS_COLAB:\n",
        "        print(\"Go to Runtime > Change runtime and select a GPU hardware accelerator.\")\n",
        "\n",
        "# Common imports\n",
        "import numpy as np\n",
        "import os\n",
        "\n",
        "# to make this notebook's output stable across runs\n",
        "np.random.seed(42)\n",
        "tf.random.set_seed(42)\n",
        "\n",
        "# To plot pretty figures\n",
        "%matplotlib inline\n",
        "import matplotlib as mpl\n",
        "import matplotlib.pyplot as plt\n",
        "mpl.rc('axes', labelsize=14)\n",
        "mpl.rc('xtick', labelsize=12)\n",
        "mpl.rc('ytick', labelsize=12)\n",
        "\n",
        "# Where to save the figures\n",
        "PROJECT_ROOT_DIR = \".\"\n",
        "CHAPTER_ID = \"nlp\"\n",
        "IMAGES_PATH = os.path.join(PROJECT_ROOT_DIR, \"images\", CHAPTER_ID)\n",
        "os.makedirs(IMAGES_PATH, exist_ok=True)"
      ],
      "execution_count": 1,
      "outputs": [
        {
          "output_type": "stream",
          "text": [
            "\u001b[?25l\r\u001b[K     |▎                               | 10kB 18.3MB/s eta 0:00:01\r\u001b[K     |▋                               | 20kB 23.2MB/s eta 0:00:01\r\u001b[K     |█                               | 30kB 15.6MB/s eta 0:00:01\r\u001b[K     |█▏                              | 40kB 13.0MB/s eta 0:00:01\r\u001b[K     |█▌                              | 51kB 7.6MB/s eta 0:00:01\r\u001b[K     |█▉                              | 61kB 8.2MB/s eta 0:00:01\r\u001b[K     |██                              | 71kB 8.1MB/s eta 0:00:01\r\u001b[K     |██▍                             | 81kB 8.1MB/s eta 0:00:01\r\u001b[K     |██▊                             | 92kB 8.7MB/s eta 0:00:01\r\u001b[K     |███                             | 102kB 8.6MB/s eta 0:00:01\r\u001b[K     |███▎                            | 112kB 8.6MB/s eta 0:00:01\r\u001b[K     |███▋                            | 122kB 8.6MB/s eta 0:00:01\r\u001b[K     |███▉                            | 133kB 8.6MB/s eta 0:00:01\r\u001b[K     |████▏                           | 143kB 8.6MB/s eta 0:00:01\r\u001b[K     |████▌                           | 153kB 8.6MB/s eta 0:00:01\r\u001b[K     |████▊                           | 163kB 8.6MB/s eta 0:00:01\r\u001b[K     |█████                           | 174kB 8.6MB/s eta 0:00:01\r\u001b[K     |█████▍                          | 184kB 8.6MB/s eta 0:00:01\r\u001b[K     |█████▋                          | 194kB 8.6MB/s eta 0:00:01\r\u001b[K     |██████                          | 204kB 8.6MB/s eta 0:00:01\r\u001b[K     |██████▎                         | 215kB 8.6MB/s eta 0:00:01\r\u001b[K     |██████▌                         | 225kB 8.6MB/s eta 0:00:01\r\u001b[K     |██████▉                         | 235kB 8.6MB/s eta 0:00:01\r\u001b[K     |███████▏                        | 245kB 8.6MB/s eta 0:00:01\r\u001b[K     |███████▌                        | 256kB 8.6MB/s eta 0:00:01\r\u001b[K     |███████▊                        | 266kB 8.6MB/s eta 0:00:01\r\u001b[K     |████████                        | 276kB 8.6MB/s eta 0:00:01\r\u001b[K     |████████▍                       | 286kB 8.6MB/s eta 0:00:01\r\u001b[K     |████████▋                       | 296kB 8.6MB/s eta 0:00:01\r\u001b[K     |█████████                       | 307kB 8.6MB/s eta 0:00:01\r\u001b[K     |█████████▎                      | 317kB 8.6MB/s eta 0:00:01\r\u001b[K     |█████████▌                      | 327kB 8.6MB/s eta 0:00:01\r\u001b[K     |█████████▉                      | 337kB 8.6MB/s eta 0:00:01\r\u001b[K     |██████████▏                     | 348kB 8.6MB/s eta 0:00:01\r\u001b[K     |██████████▍                     | 358kB 8.6MB/s eta 0:00:01\r\u001b[K     |██████████▊                     | 368kB 8.6MB/s eta 0:00:01\r\u001b[K     |███████████                     | 378kB 8.6MB/s eta 0:00:01\r\u001b[K     |███████████▎                    | 389kB 8.6MB/s eta 0:00:01\r\u001b[K     |███████████▋                    | 399kB 8.6MB/s eta 0:00:01\r\u001b[K     |████████████                    | 409kB 8.6MB/s eta 0:00:01\r\u001b[K     |████████████▏                   | 419kB 8.6MB/s eta 0:00:01\r\u001b[K     |████████████▌                   | 430kB 8.6MB/s eta 0:00:01\r\u001b[K     |████████████▉                   | 440kB 8.6MB/s eta 0:00:01\r\u001b[K     |█████████████                   | 450kB 8.6MB/s eta 0:00:01\r\u001b[K     |█████████████▍                  | 460kB 8.6MB/s eta 0:00:01\r\u001b[K     |█████████████▊                  | 471kB 8.6MB/s eta 0:00:01\r\u001b[K     |██████████████                  | 481kB 8.6MB/s eta 0:00:01\r\u001b[K     |██████████████▎                 | 491kB 8.6MB/s eta 0:00:01\r\u001b[K     |██████████████▋                 | 501kB 8.6MB/s eta 0:00:01\r\u001b[K     |███████████████                 | 512kB 8.6MB/s eta 0:00:01\r\u001b[K     |███████████████▏                | 522kB 8.6MB/s eta 0:00:01\r\u001b[K     |███████████████▌                | 532kB 8.6MB/s eta 0:00:01\r\u001b[K     |███████████████▉                | 542kB 8.6MB/s eta 0:00:01\r\u001b[K     |████████████████                | 552kB 8.6MB/s eta 0:00:01\r\u001b[K     |████████████████▍               | 563kB 8.6MB/s eta 0:00:01\r\u001b[K     |████████████████▊               | 573kB 8.6MB/s eta 0:00:01\r\u001b[K     |█████████████████               | 583kB 8.6MB/s eta 0:00:01\r\u001b[K     |█████████████████▎              | 593kB 8.6MB/s eta 0:00:01\r\u001b[K     |█████████████████▋              | 604kB 8.6MB/s eta 0:00:01\r\u001b[K     |█████████████████▉              | 614kB 8.6MB/s eta 0:00:01\r\u001b[K     |██████████████████▏             | 624kB 8.6MB/s eta 0:00:01\r\u001b[K     |██████████████████▌             | 634kB 8.6MB/s eta 0:00:01\r\u001b[K     |██████████████████▊             | 645kB 8.6MB/s eta 0:00:01\r\u001b[K     |███████████████████             | 655kB 8.6MB/s eta 0:00:01\r\u001b[K     |███████████████████▍            | 665kB 8.6MB/s eta 0:00:01\r\u001b[K     |███████████████████▋            | 675kB 8.6MB/s eta 0:00:01\r\u001b[K     |████████████████████            | 686kB 8.6MB/s eta 0:00:01\r\u001b[K     |████████████████████▎           | 696kB 8.6MB/s eta 0:00:01\r\u001b[K     |████████████████████▌           | 706kB 8.6MB/s eta 0:00:01\r\u001b[K     |████████████████████▉           | 716kB 8.6MB/s eta 0:00:01\r\u001b[K     |█████████████████████▏          | 727kB 8.6MB/s eta 0:00:01\r\u001b[K     |█████████████████████▍          | 737kB 8.6MB/s eta 0:00:01\r\u001b[K     |█████████████████████▊          | 747kB 8.6MB/s eta 0:00:01\r\u001b[K     |██████████████████████          | 757kB 8.6MB/s eta 0:00:01\r\u001b[K     |██████████████████████▍         | 768kB 8.6MB/s eta 0:00:01\r\u001b[K     |██████████████████████▋         | 778kB 8.6MB/s eta 0:00:01\r\u001b[K     |███████████████████████         | 788kB 8.6MB/s eta 0:00:01\r\u001b[K     |███████████████████████▎        | 798kB 8.6MB/s eta 0:00:01\r\u001b[K     |███████████████████████▌        | 808kB 8.6MB/s eta 0:00:01\r\u001b[K     |███████████████████████▉        | 819kB 8.6MB/s eta 0:00:01\r\u001b[K     |████████████████████████▏       | 829kB 8.6MB/s eta 0:00:01\r\u001b[K     |████████████████████████▍       | 839kB 8.6MB/s eta 0:00:01\r\u001b[K     |████████████████████████▊       | 849kB 8.6MB/s eta 0:00:01\r\u001b[K     |█████████████████████████       | 860kB 8.6MB/s eta 0:00:01\r\u001b[K     |█████████████████████████▎      | 870kB 8.6MB/s eta 0:00:01\r\u001b[K     |█████████████████████████▋      | 880kB 8.6MB/s eta 0:00:01\r\u001b[K     |██████████████████████████      | 890kB 8.6MB/s eta 0:00:01\r\u001b[K     |██████████████████████████▏     | 901kB 8.6MB/s eta 0:00:01\r\u001b[K     |██████████████████████████▌     | 911kB 8.6MB/s eta 0:00:01\r\u001b[K     |██████████████████████████▉     | 921kB 8.6MB/s eta 0:00:01\r\u001b[K     |███████████████████████████     | 931kB 8.6MB/s eta 0:00:01\r\u001b[K     |███████████████████████████▍    | 942kB 8.6MB/s eta 0:00:01\r\u001b[K     |███████████████████████████▊    | 952kB 8.6MB/s eta 0:00:01\r\u001b[K     |████████████████████████████    | 962kB 8.6MB/s eta 0:00:01\r\u001b[K     |████████████████████████████▎   | 972kB 8.6MB/s eta 0:00:01\r\u001b[K     |████████████████████████████▋   | 983kB 8.6MB/s eta 0:00:01\r\u001b[K     |████████████████████████████▉   | 993kB 8.6MB/s eta 0:00:01\r\u001b[K     |█████████████████████████████▏  | 1.0MB 8.6MB/s eta 0:00:01\r\u001b[K     |█████████████████████████████▌  | 1.0MB 8.6MB/s eta 0:00:01\r\u001b[K     |█████████████████████████████▉  | 1.0MB 8.6MB/s eta 0:00:01\r\u001b[K     |██████████████████████████████  | 1.0MB 8.6MB/s eta 0:00:01\r\u001b[K     |██████████████████████████████▍ | 1.0MB 8.6MB/s eta 0:00:01\r\u001b[K     |██████████████████████████████▊ | 1.1MB 8.6MB/s eta 0:00:01\r\u001b[K     |███████████████████████████████ | 1.1MB 8.6MB/s eta 0:00:01\r\u001b[K     |███████████████████████████████▎| 1.1MB 8.6MB/s eta 0:00:01\r\u001b[K     |███████████████████████████████▋| 1.1MB 8.6MB/s eta 0:00:01\r\u001b[K     |███████████████████████████████▉| 1.1MB 8.6MB/s eta 0:00:01\r\u001b[K     |████████████████████████████████| 1.1MB 8.6MB/s \n",
            "\u001b[?25hNo GPU was detected. LSTMs and CNNs can be very slow without a GPU.\n",
            "Go to Runtime > Change runtime and select a GPU hardware accelerator.\n"
          ],
          "name": "stdout"
        }
      ]
    },
    {
      "cell_type": "markdown",
      "metadata": {
        "id": "19CfxB4B0e6B"
      },
      "source": [
        "# Char-RNN\n",
        "\n",
        "## Spliting a sequence into batches of shuffled windows\n",
        "\n",
        "For example, let's split the sequence 0 to 14 into windows of length 5, each shifted by 2 (e.g., ```[0, 1, 2, 3, 4], [2, 3, 4, 5, 6]```, etc.), then shuffle them, and split them into inputs (the first 4 steps) and targets (the last 4 steps)(e.g., ```[2, 3, 4, 5, 6]``` would be split into ```[[2, 3, 4, 5], [3, 4, 5, 6]]```), then create batches of 3 such input/target pairs:"
      ]
    },
    {
      "cell_type": "code",
      "metadata": {
        "id": "PrlxZaSpz29V",
        "outputId": "94f7e055-0922-4a3c-a2fa-6dd18d023fc6",
        "colab": {
          "base_uri": "https://localhost:8080/",
          "height": 323
        }
      },
      "source": [
        "np.random.seed(42)\n",
        "tf.random.set_seed(42)\n",
        "\n",
        "n_steps = 5\n",
        "dataset = tf.data.Dataset.from_tensor_slices(tf.range(15))\n",
        "dataset = dataset.window(n_steps, shift=2, drop_remainder=True)\n",
        "dataset = dataset.flat_map(lambda window: window.batch(n_steps))\n",
        "dataset = dataset.shuffle(10).map(lambda window: (window[:-1], window[1:]))\n",
        "dataset = dataset.batch(3).prefetch(1)\n",
        "for index, (X_batch, Y_batch) in enumerate(dataset):\n",
        "  print(\"_\" * 20, \"Batch\", index, \"\\nX_batch\")\n",
        "  print(X_batch.numpy())\n",
        "  print(\"=\"*5, \"\\Y_batch\")\n",
        "  print(Y_batch.numpy())"
      ],
      "execution_count": null,
      "outputs": [
        {
          "output_type": "stream",
          "text": [
            "____________________ Batch 0 \n",
            "X_batch\n",
            "[[6 7 8 9]\n",
            " [2 3 4 5]\n",
            " [4 5 6 7]]\n",
            "===== \\Y_batch\n",
            "[[ 7  8  9 10]\n",
            " [ 3  4  5  6]\n",
            " [ 5  6  7  8]]\n",
            "____________________ Batch 1 \n",
            "X_batch\n",
            "[[ 0  1  2  3]\n",
            " [ 8  9 10 11]\n",
            " [10 11 12 13]]\n",
            "===== \\Y_batch\n",
            "[[ 1  2  3  4]\n",
            " [ 9 10 11 12]\n",
            " [11 12 13 14]]\n"
          ],
          "name": "stdout"
        }
      ]
    },
    {
      "cell_type": "markdown",
      "metadata": {
        "id": "7J1hi7e55obm"
      },
      "source": [
        "## Loading the Data and Preparing the Dataset0"
      ]
    },
    {
      "cell_type": "code",
      "metadata": {
        "id": "FSlBdj055gOz",
        "outputId": "8a945956-8473-47ab-fc98-62c0d303611e",
        "colab": {
          "base_uri": "https://localhost:8080/",
          "height": 51
        }
      },
      "source": [
        "shakespeare_url = \"https://raw.githubusercontent.com/karpathy/char-rnn/master/data/tinyshakespeare/input.txt\"\n",
        "filepath = keras.utils.get_file(\"shakespeare.txt\", shakespeare_url)\n",
        "with open(filepath) as f:\n",
        "    shakespeare_text = f.read()"
      ],
      "execution_count": null,
      "outputs": [
        {
          "output_type": "stream",
          "text": [
            "Downloading data from https://raw.githubusercontent.com/karpathy/char-rnn/master/data/tinyshakespeare/input.txt\n",
            "1122304/1115394 [==============================] - 0s 0us/step\n"
          ],
          "name": "stdout"
        }
      ]
    },
    {
      "cell_type": "code",
      "metadata": {
        "id": "K8brfire51df",
        "outputId": "e51575dd-7c93-4b0a-8554-4d4dc4b30ea5",
        "colab": {
          "base_uri": "https://localhost:8080/",
          "height": 170
        }
      },
      "source": [
        "print(shakespeare_text[:148])"
      ],
      "execution_count": null,
      "outputs": [
        {
          "output_type": "stream",
          "text": [
            "First Citizen:\n",
            "Before we proceed any further, hear me speak.\n",
            "\n",
            "All:\n",
            "Speak, speak.\n",
            "\n",
            "First Citizen:\n",
            "You are all resolved rather to die than to famish?\n",
            "\n"
          ],
          "name": "stdout"
        }
      ]
    },
    {
      "cell_type": "code",
      "metadata": {
        "id": "gs0AF4AS56Ls",
        "outputId": "6d5395ca-5e60-4020-ba4e-67330040f7c2",
        "colab": {
          "base_uri": "https://localhost:8080/",
          "height": 35
        }
      },
      "source": [
        "\"\".join(sorted(set(shakespeare_text.lower())))"
      ],
      "execution_count": null,
      "outputs": [
        {
          "output_type": "execute_result",
          "data": {
            "application/vnd.google.colaboratory.intrinsic+json": {
              "type": "string"
            },
            "text/plain": [
              "\"\\n !$&',-.3:;?abcdefghijklmnopqrstuvwxyz\""
            ]
          },
          "metadata": {
            "tags": []
          },
          "execution_count": 5
        }
      ]
    },
    {
      "cell_type": "code",
      "metadata": {
        "id": "VD0bHAMy6YJI"
      },
      "source": [
        "tokenizer = keras.preprocessing.text.Tokenizer(char_level=True)\n",
        "tokenizer.fit_on_texts(shakespeare_text)"
      ],
      "execution_count": null,
      "outputs": []
    },
    {
      "cell_type": "code",
      "metadata": {
        "id": "uet_yoqK6j9N",
        "outputId": "dfb0aeb8-b419-4fa6-8db2-bbfcfcf4c571",
        "colab": {
          "base_uri": "https://localhost:8080/",
          "height": 34
        }
      },
      "source": [
        "tokenizer.texts_to_sequences([\"First\"])"
      ],
      "execution_count": null,
      "outputs": [
        {
          "output_type": "execute_result",
          "data": {
            "text/plain": [
              "[[20, 6, 9, 8, 3]]"
            ]
          },
          "metadata": {
            "tags": []
          },
          "execution_count": 7
        }
      ]
    },
    {
      "cell_type": "code",
      "metadata": {
        "id": "ozOrOAKZ6oZC",
        "outputId": "98c7cdff-e2c9-4708-c5ac-09f8034944d9",
        "colab": {
          "base_uri": "https://localhost:8080/",
          "height": 34
        }
      },
      "source": [
        "tokenizer.sequences_to_texts([[20, 6, 9, 8, 3]])"
      ],
      "execution_count": null,
      "outputs": [
        {
          "output_type": "execute_result",
          "data": {
            "text/plain": [
              "['f i r s t']"
            ]
          },
          "metadata": {
            "tags": []
          },
          "execution_count": 8
        }
      ]
    },
    {
      "cell_type": "code",
      "metadata": {
        "id": "cyXz5HcW6uWM"
      },
      "source": [
        "max_id = len(tokenizer.word_index) # number of distinct characters\n",
        "dataset_size = tokenizer.document_count # total number of characters"
      ],
      "execution_count": null,
      "outputs": []
    },
    {
      "cell_type": "code",
      "metadata": {
        "id": "4X9ogYz27KpS"
      },
      "source": [
        "[encoded] = np.array(tokenizer.texts_to_sequences([shakespeare_text])) - 1\n",
        "train_size = dataset_size * 90 // 100\n",
        "dataset = tf.data.Dataset.from_tensor_slices(encoded[:train_size])"
      ],
      "execution_count": null,
      "outputs": []
    },
    {
      "cell_type": "code",
      "metadata": {
        "id": "eyKAdeg38GNi"
      },
      "source": [
        "n_steps = 100\n",
        "window_length = n_steps + 1 # target = input shipfed 1 character ahead\n",
        "dataset = dataset.repeat().window(window_length, shift=1, drop_remainder=True)"
      ],
      "execution_count": null,
      "outputs": []
    },
    {
      "cell_type": "code",
      "metadata": {
        "id": "kg2xu8CB8gAQ"
      },
      "source": [
        "dataset = dataset.flat_map(lambda window: window.batch(window_length))"
      ],
      "execution_count": null,
      "outputs": []
    },
    {
      "cell_type": "code",
      "metadata": {
        "id": "CBJqP2Ov8nXF"
      },
      "source": [
        "np.random.seed(42)\n",
        "tf.random.set_seed(42)"
      ],
      "execution_count": null,
      "outputs": []
    },
    {
      "cell_type": "code",
      "metadata": {
        "id": "BAfMaBkXBYbQ"
      },
      "source": [
        "batch_size = 128\n",
        "dataset = dataset.shuffle(10000).batch(batch_size)\n",
        "dataset = dataset.map(lambda windows: (windows[:, :-1], windows[:, 1:]))"
      ],
      "execution_count": null,
      "outputs": []
    },
    {
      "cell_type": "code",
      "metadata": {
        "id": "4PPqF4ZxBlz1"
      },
      "source": [
        "dataset = dataset.map(\n",
        "    lambda X_batch, Y_batch: (tf.one_hot(X_batch, depth=max_id), Y_batch)\n",
        "    )"
      ],
      "execution_count": null,
      "outputs": []
    },
    {
      "cell_type": "code",
      "metadata": {
        "id": "Ki-ZxdUoCW-1"
      },
      "source": [
        "dataset = dataset.prefetch(1)"
      ],
      "execution_count": null,
      "outputs": []
    },
    {
      "cell_type": "code",
      "metadata": {
        "id": "CkWm2Y7yCgD_",
        "outputId": "6051985a-6dd5-4afa-ff31-89c85dcc8aa0",
        "colab": {
          "base_uri": "https://localhost:8080/",
          "height": 34
        }
      },
      "source": [
        "for X_batch, Y_batch in dataset.take(1):\n",
        "  print(X_batch.shape, Y_batch.shape)"
      ],
      "execution_count": null,
      "outputs": [
        {
          "output_type": "stream",
          "text": [
            "(128, 100, 39) (128, 100)\n"
          ],
          "name": "stdout"
        }
      ]
    },
    {
      "cell_type": "markdown",
      "metadata": {
        "id": "pEXMRSL9hkPr"
      },
      "source": [
        "## Creating and Training the Model"
      ]
    },
    {
      "cell_type": "code",
      "metadata": {
        "id": "wCe6r_WKCnxP",
        "outputId": "2fd0335b-610c-47a8-e517-8b97250eb205",
        "colab": {
          "base_uri": "https://localhost:8080/",
          "height": 221
        }
      },
      "source": [
        "model = keras.models.Sequential([\n",
        "    keras.layers.GRU(128, return_sequences=True, input_shape=[None, max_id],\n",
        "                     dropout=0.2, recurrent_dropout=0.2),\n",
        "    keras.layers.GRU(128, return_sequences=True,\n",
        "                     dropout=0.2, recurrent_dropout=0.2),\n",
        "    keras.layers.TimeDistributed(keras.layers.Dense(max_id, activation=\"softmax\"))\n",
        "\n",
        "])\n",
        "model.compile(loss=\"sparse_categorical_crossentropy\", optimizer=\"adam\")\n",
        "history = model.fit(dataset, steps_per_epoch=train_size // batch_size, epochs=5)"
      ],
      "execution_count": null,
      "outputs": [
        {
          "output_type": "stream",
          "text": [
            "WARNING:tensorflow:Layer gru will not use cuDNN kernel since it doesn't meet the cuDNN kernel criteria. It will use generic GPU kernel as fallback when running on GPU\n",
            "WARNING:tensorflow:Layer gru_1 will not use cuDNN kernel since it doesn't meet the cuDNN kernel criteria. It will use generic GPU kernel as fallback when running on GPU\n",
            "Epoch 1/5\n",
            "7842/7842 [==============================] - 4923s 628ms/step - loss: 1.6191\n",
            "Epoch 2/5\n",
            "7842/7842 [==============================] - 5055s 645ms/step - loss: 1.4533\n",
            "Epoch 3/5\n",
            "7842/7842 [==============================] - 5097s 650ms/step - loss: 1.4236\n",
            "Epoch 4/5\n",
            "7842/7842 [==============================] - 5189s 662ms/step - loss: 1.4098\n",
            "Epoch 5/5\n",
            "7842/7842 [==============================] - 4995s 637ms/step - loss: 1.4011\n"
          ],
          "name": "stdout"
        }
      ]
    },
    {
      "cell_type": "markdown",
      "metadata": {
        "id": "Gt97isWKrLYX"
      },
      "source": [
        "## Using the Model to Generate Text"
      ]
    },
    {
      "cell_type": "code",
      "metadata": {
        "id": "xau7WzTJpJ-j"
      },
      "source": [
        "def preprocess(texts):\n",
        "  X = np.array(tokenizer.texts_to_sequences(texts)) - 1\n",
        "  return tf.one_hot(X, max_id)"
      ],
      "execution_count": null,
      "outputs": []
    },
    {
      "cell_type": "code",
      "metadata": {
        "id": "AqsrJD9erbP3",
        "outputId": "b2ed6d13-8781-4a21-d824-1808a237b51b",
        "colab": {
          "base_uri": "https://localhost:8080/",
          "height": 106
        }
      },
      "source": [
        "X_new = preprocess([\"How are yo\"])\n",
        "Y_pred = model.predict_classes(X_new)\n",
        "tokenizer.sequences_to_texts(Y_pred+1)[0][-1] # 1st sentence, last char"
      ],
      "execution_count": null,
      "outputs": [
        {
          "output_type": "stream",
          "text": [
            "WARNING:tensorflow:From <ipython-input-21-47af92c4f782>:2: Sequential.predict_classes (from tensorflow.python.keras.engine.sequential) is deprecated and will be removed after 2021-01-01.\n",
            "Instructions for updating:\n",
            "Please use instead:* `np.argmax(model.predict(x), axis=-1)`,   if your model does multi-class classification   (e.g. if it uses a `softmax` last-layer activation).* `(model.predict(x) > 0.5).astype(\"int32\")`,   if your model does binary classification   (e.g. if it uses a `sigmoid` last-layer activation).\n"
          ],
          "name": "stdout"
        },
        {
          "output_type": "execute_result",
          "data": {
            "application/vnd.google.colaboratory.intrinsic+json": {
              "type": "string"
            },
            "text/plain": [
              "'u'"
            ]
          },
          "metadata": {
            "tags": []
          },
          "execution_count": 21
        }
      ]
    },
    {
      "cell_type": "code",
      "metadata": {
        "id": "cZJgJ5fIruQg",
        "outputId": "8290d9fb-6f05-4118-b421-d5eb205ca300",
        "colab": {
          "base_uri": "https://localhost:8080/",
          "height": 51
        }
      },
      "source": [
        "tf.random.set_seed(42)\n",
        "\n",
        "tf.random.categorical([[np.log(0.5), np.log(0.4), np.log(0.1)]], num_samples=40).numpy()"
      ],
      "execution_count": null,
      "outputs": [
        {
          "output_type": "execute_result",
          "data": {
            "text/plain": [
              "array([[0, 0, 1, 1, 1, 0, 0, 0, 0, 1, 0, 0, 0, 0, 0, 0, 0, 1, 1, 1, 0, 0,\n",
              "        2, 0, 0, 1, 1, 1, 0, 0, 1, 2, 0, 0, 1, 1, 0, 0, 0, 0]])"
            ]
          },
          "metadata": {
            "tags": []
          },
          "execution_count": 22
        }
      ]
    },
    {
      "cell_type": "code",
      "metadata": {
        "id": "45SC3_KhsNZP"
      },
      "source": [
        "# define next_char function give temperature:\n",
        "# close to zero will favor the high-probability characters\n",
        "# while a very high temperature will give all characters an equal probabiltiy\n",
        "def next_char(text, temperature=1):\n",
        "  X_new = preprocess([text])\n",
        "  y_proba = model.predict(X_new)[0, -1:, :]\n",
        "  rescaled_logits = tf.math.log(y_proba) / temperature\n",
        "  char_id = tf.random.categorical(rescaled_logits, num_samples=1) + 1\n",
        "  return tokenizer.sequences_to_texts(char_id.numpy())[0]"
      ],
      "execution_count": null,
      "outputs": []
    },
    {
      "cell_type": "code",
      "metadata": {
        "id": "lpQa8LyByB8h",
        "outputId": "5d169f45-9cdc-479b-cc34-2d293c0180d8",
        "colab": {
          "base_uri": "https://localhost:8080/",
          "height": 35
        }
      },
      "source": [
        "tf.random.set_seed(42)\n",
        "\n",
        "next_char(\"how are yo\", temperature=1)"
      ],
      "execution_count": null,
      "outputs": [
        {
          "output_type": "execute_result",
          "data": {
            "application/vnd.google.colaboratory.intrinsic+json": {
              "type": "string"
            },
            "text/plain": [
              "'u'"
            ]
          },
          "metadata": {
            "tags": []
          },
          "execution_count": 24
        }
      ]
    },
    {
      "cell_type": "code",
      "metadata": {
        "id": "wBwBJgeLyXxL"
      },
      "source": [
        "# repeatedly call next_char()\n",
        "def complete_text(text, n_chars=50, temperature=1):\n",
        "  for _ in range(n_chars):\n",
        "    text += next_char(text, temperature)\n",
        "  return text"
      ],
      "execution_count": null,
      "outputs": []
    },
    {
      "cell_type": "code",
      "metadata": {
        "id": "AM3qidajyteV",
        "outputId": "ebf96859-fb92-4c5e-9439-7a1f2d62bf0f",
        "colab": {
          "base_uri": "https://localhost:8080/",
          "height": 51
        }
      },
      "source": [
        "tf.random.set_seed(42)\n",
        "\n",
        "print(complete_text(\"t\", temperature=0.2))"
      ],
      "execution_count": null,
      "outputs": [
        {
          "output_type": "stream",
          "text": [
            "the suitors and the state,\n",
            "who shall be the other a\n"
          ],
          "name": "stdout"
        }
      ]
    },
    {
      "cell_type": "code",
      "metadata": {
        "id": "lb0VtL0zy4t0",
        "outputId": "6f2a248a-1ddb-4004-c852-20f6651e5c43",
        "colab": {
          "base_uri": "https://localhost:8080/",
          "height": 68
        }
      },
      "source": [
        "print(complete_text(\"t\", temperature=1)) # work better"
      ],
      "execution_count": null,
      "outputs": [
        {
          "output_type": "stream",
          "text": [
            "to-co be\n",
            "done executed to spear:\n",
            "that with the sent\n"
          ],
          "name": "stdout"
        }
      ]
    },
    {
      "cell_type": "code",
      "metadata": {
        "id": "26xbXl6By6zR",
        "outputId": "8f8ad431-b65e-479b-ee4b-47c038d3d7f5",
        "colab": {
          "base_uri": "https://localhost:8080/",
          "height": 102
        }
      },
      "source": [
        "print(complete_text(\"t\", temperature=2))"
      ],
      "execution_count": null,
      "outputs": [
        {
          "output_type": "stream",
          "text": [
            "tpe:\n",
            "but, lvy?\n",
            "my? mazens?\n",
            "free we deniburdy.-\n",
            "mast\n"
          ],
          "name": "stdout"
        }
      ]
    },
    {
      "cell_type": "markdown",
      "metadata": {
        "id": "4GpDb_F8zcT-"
      },
      "source": [
        "## Stateful RNN\n",
        "\n",
        "until now, all the model are statelss RNNs: at each training interation the model starts with a hidden state full of zeroes, then it updates this state at each time step, and after the last time step, it throws away, as it is not needed anymore.\n",
        "\n",
        "To learn long-term patterns despite only backpropagating through short sequences. preserve this final state after processing one trianing batch and use it as the initial state for the next training batch.\n",
        "\n",
        "1. each input sequence in a btahc starts exactly where the corresponding sequence in the previous batch left off."
      ]
    },
    {
      "cell_type": "code",
      "metadata": {
        "id": "JDIZVX_K52Np"
      },
      "source": [
        "tf.random.set_seed(42)"
      ],
      "execution_count": null,
      "outputs": []
    },
    {
      "cell_type": "code",
      "metadata": {
        "id": "b-0pxkgT55qu"
      },
      "source": [
        "dataset = tf.data.Dataset.from_tensor_slices(encoded[:train_size])\n",
        "dataset = dataset.window(window_length, shift=n_steps, drop_remainder=True)\n",
        "dataset = dataset.flat_map(lambda window: window.batch(window_length))\n",
        "dataset = dataset.repeat().batch(1)\n",
        "dataset = dataset.map(lambda windows: (windows[:, :-1], windows[:, 1:]))\n",
        "dataset = dataset.map(lambda X_batch, Y_batch: (tf.one_hot(X_batch, depth=max_id), Y_batch))\n",
        "dataset = dataset.prefetch(1)"
      ],
      "execution_count": null,
      "outputs": []
    },
    {
      "cell_type": "code",
      "metadata": {
        "id": "s2_CJH-c6txm"
      },
      "source": [
        "batch_size = 32\n",
        "encoded_parts = np.array_split(encoded[:train_size], batch_size)\n",
        "datasets = []\n",
        "for encoded_part in encoded_parts:\n",
        "  dataset = tf.data.Dataset.from_tensor_slices(encoded_part)\n",
        "  dataset = dataset.window(window_length, shift=n_steps, drop_remainder=True)\n",
        "  dataset = dataset.flat_map(lambda window: window.batch(window_length))\n",
        "  datasets.append(dataset)\n",
        "dataset = tf.data.Dataset.zip(tuple(datasets)).map(lambda *windows: tf.stack(windows))\n",
        "dataset = dataset.repeat().map(lambda windows: (windows[:, :-1], windows[:, 1:]))\n",
        "dataset = dataset.map(\n",
        "    lambda X_batch, Y_batch: (tf.one_hot(X_batch, depth=max_id), Y_batch)\n",
        ")\n",
        "dataset = dataset.prefetch(1)"
      ],
      "execution_count": null,
      "outputs": []
    },
    {
      "cell_type": "code",
      "metadata": {
        "id": "YyPlvQ0XlqhM",
        "outputId": "eb64f56f-e215-45cb-817f-b766967c570d",
        "colab": {
          "base_uri": "https://localhost:8080/",
          "height": 51
        }
      },
      "source": [
        "model = keras.models.Sequential(\n",
        "    [\n",
        "     keras.layers.GRU(128, return_sequences=True, stateful=True,\n",
        "                      dropout=0.2, recurrent_dropout=0.2,\n",
        "                      batch_input_shape=[batch_size, None, max_id]),\n",
        "     keras.layers.GRU(128, return_sequences=True, stateful=True,\n",
        "                      dropout=0.2, recurrent_dropout=0.2),\n",
        "     keras.layers.TimeDistributed(keras.layers.Dense(max_id,\n",
        "                                                     activation=\"softmax\"))\n",
        "    ]\n",
        ")"
      ],
      "execution_count": null,
      "outputs": [
        {
          "output_type": "stream",
          "text": [
            "WARNING:tensorflow:Layer gru will not use cuDNN kernel since it doesn't meet the cuDNN kernel criteria. It will use generic GPU kernel as fallback when running on GPU\n",
            "WARNING:tensorflow:Layer gru_1 will not use cuDNN kernel since it doesn't meet the cuDNN kernel criteria. It will use generic GPU kernel as fallback when running on GPU\n"
          ],
          "name": "stdout"
        }
      ]
    },
    {
      "cell_type": "markdown",
      "metadata": {
        "id": "nqmXWtf4mk3i"
      },
      "source": [
        "At the end of each epoch, we need to reset the states before we go back to the beginning of the text. For this, we can use a small callback:"
      ]
    },
    {
      "cell_type": "code",
      "metadata": {
        "id": "Q7vaqy4bmRbx"
      },
      "source": [
        "class ResetStatesCallback(keras.callbacks.Callback):\n",
        "  def on_epoch_begin(self, epoch, logs):\n",
        "    self.model.reset_states()"
      ],
      "execution_count": null,
      "outputs": []
    },
    {
      "cell_type": "code",
      "metadata": {
        "id": "y93mK2sNnAj9",
        "outputId": "4b57bf86-7c3c-430d-87f4-dba723d8fbe7",
        "colab": {
          "base_uri": "https://localhost:8080/",
          "height": 1000
        }
      },
      "source": [
        "model.compile(loss=\"sparse_categorical_crossentropy\", optimizer=\"adam\")\n",
        "steps_per_epoch = train_size // batch_size // n_steps\n",
        "history = model.fit(dataset, steps_per_epoch=steps_per_epoch, epochs=50,\n",
        "                    callbacks=[ResetStatesCallback()])"
      ],
      "execution_count": null,
      "outputs": [
        {
          "output_type": "stream",
          "text": [
            "Epoch 1/50\n",
            "313/313 [==============================] - 80s 256ms/step - loss: 2.6145\n",
            "Epoch 2/50\n",
            "313/313 [==============================] - 80s 256ms/step - loss: 2.1799\n",
            "Epoch 3/50\n",
            "313/313 [==============================] - 80s 257ms/step - loss: 2.5664\n",
            "Epoch 4/50\n",
            "313/313 [==============================] - 80s 257ms/step - loss: 2.4927\n",
            "Epoch 5/50\n",
            "313/313 [==============================] - 81s 258ms/step - loss: 2.2136\n",
            "Epoch 6/50\n",
            "313/313 [==============================] - 81s 257ms/step - loss: 2.1568\n",
            "Epoch 7/50\n",
            "313/313 [==============================] - 81s 258ms/step - loss: 2.0758\n",
            "Epoch 8/50\n",
            "313/313 [==============================] - 81s 259ms/step - loss: 1.9767\n",
            "Epoch 9/50\n",
            "313/313 [==============================] - 80s 257ms/step - loss: 1.9557\n",
            "Epoch 10/50\n",
            "313/313 [==============================] - 81s 259ms/step - loss: 1.9222\n",
            "Epoch 11/50\n",
            "313/313 [==============================] - 81s 260ms/step - loss: 1.8304\n",
            "Epoch 12/50\n",
            "313/313 [==============================] - 81s 260ms/step - loss: 1.7892\n",
            "Epoch 13/50\n",
            "313/313 [==============================] - 81s 259ms/step - loss: 1.7648\n",
            "Epoch 14/50\n",
            "313/313 [==============================] - 80s 256ms/step - loss: 1.7434\n",
            "Epoch 15/50\n",
            "313/313 [==============================] - 81s 258ms/step - loss: 1.7249\n",
            "Epoch 16/50\n",
            "313/313 [==============================] - 81s 257ms/step - loss: 1.7103\n",
            "Epoch 17/50\n",
            "313/313 [==============================] - 81s 258ms/step - loss: 1.6970\n",
            "Epoch 18/50\n",
            "313/313 [==============================] - 81s 259ms/step - loss: 1.6863\n",
            "Epoch 19/50\n",
            "313/313 [==============================] - 81s 258ms/step - loss: 1.6763\n",
            "Epoch 20/50\n",
            "313/313 [==============================] - 80s 256ms/step - loss: 1.6665\n",
            "Epoch 21/50\n",
            "313/313 [==============================] - 80s 256ms/step - loss: 1.6591\n",
            "Epoch 22/50\n",
            "313/313 [==============================] - 80s 257ms/step - loss: 1.6527\n",
            "Epoch 23/50\n",
            "313/313 [==============================] - 81s 258ms/step - loss: 1.6445\n",
            "Epoch 24/50\n",
            "313/313 [==============================] - 81s 258ms/step - loss: 1.6382\n",
            "Epoch 25/50\n",
            "313/313 [==============================] - 80s 257ms/step - loss: 1.6337\n",
            "Epoch 26/50\n",
            "313/313 [==============================] - 80s 256ms/step - loss: 1.6286\n",
            "Epoch 27/50\n",
            "313/313 [==============================] - 81s 258ms/step - loss: 1.6226\n",
            "Epoch 28/50\n",
            "313/313 [==============================] - 80s 255ms/step - loss: 1.6190\n",
            "Epoch 29/50\n",
            "313/313 [==============================] - 80s 255ms/step - loss: 1.6142\n",
            "Epoch 30/50\n",
            "313/313 [==============================] - 80s 255ms/step - loss: 1.6103\n",
            "Epoch 31/50\n",
            "313/313 [==============================] - 80s 254ms/step - loss: 1.6068\n",
            "Epoch 32/50\n",
            "313/313 [==============================] - 80s 256ms/step - loss: 1.6031\n",
            "Epoch 33/50\n",
            "313/313 [==============================] - 80s 256ms/step - loss: 1.6003\n",
            "Epoch 34/50\n",
            "313/313 [==============================] - 80s 255ms/step - loss: 1.5981\n",
            "Epoch 35/50\n",
            "313/313 [==============================] - 79s 254ms/step - loss: 1.5940\n",
            "Epoch 36/50\n",
            "313/313 [==============================] - 79s 253ms/step - loss: 1.5921\n",
            "Epoch 37/50\n",
            "313/313 [==============================] - 79s 252ms/step - loss: 1.5896\n",
            "Epoch 38/50\n",
            "313/313 [==============================] - 79s 254ms/step - loss: 1.5852\n",
            "Epoch 39/50\n",
            "313/313 [==============================] - 80s 254ms/step - loss: 1.5853\n",
            "Epoch 40/50\n",
            "313/313 [==============================] - 79s 252ms/step - loss: 1.5819\n",
            "Epoch 41/50\n",
            "313/313 [==============================] - 79s 252ms/step - loss: 1.5802\n",
            "Epoch 42/50\n",
            "313/313 [==============================] - 80s 255ms/step - loss: 1.5765\n",
            "Epoch 43/50\n",
            "313/313 [==============================] - 79s 253ms/step - loss: 1.5751\n",
            "Epoch 44/50\n",
            "313/313 [==============================] - 80s 256ms/step - loss: 1.5728\n",
            "Epoch 45/50\n",
            "313/313 [==============================] - 81s 258ms/step - loss: 1.5701\n",
            "Epoch 46/50\n",
            "313/313 [==============================] - 81s 259ms/step - loss: 1.5702\n",
            "Epoch 47/50\n",
            "313/313 [==============================] - 80s 256ms/step - loss: 1.5681\n",
            "Epoch 48/50\n",
            "313/313 [==============================] - 80s 256ms/step - loss: 1.5669\n",
            "Epoch 49/50\n",
            "313/313 [==============================] - 80s 256ms/step - loss: 1.5650\n",
            "Epoch 50/50\n",
            "313/313 [==============================] - 81s 259ms/step - loss: 1.5632\n"
          ],
          "name": "stdout"
        }
      ]
    },
    {
      "cell_type": "markdown",
      "metadata": {
        "id": "NlYUjaMMoTLr"
      },
      "source": [
        "To use the model with different batch sizes, we need to create a stateless copy. We can get rid of dropout since it is only used during training:"
      ]
    },
    {
      "cell_type": "code",
      "metadata": {
        "id": "FjqyrBOpnZ-b"
      },
      "source": [
        "stateless_model = keras.models.Sequential(\n",
        "    [\n",
        "     keras.layers.GRU(128, return_sequences=True, input_shape=[None, max_id]),\n",
        "     keras.layers.GRU(128, return_sequences=True),\n",
        "     keras.layers.TimeDistributed(keras.layers.Dense(max_id, activation=\"softmax\"))\n",
        "    ]\n",
        ")"
      ],
      "execution_count": null,
      "outputs": []
    },
    {
      "cell_type": "markdown",
      "metadata": {
        "id": "YEnElWUNo4mh"
      },
      "source": [
        "To set the weights, we first need to build the model (so the weights get created):"
      ]
    },
    {
      "cell_type": "code",
      "metadata": {
        "id": "-C9rv68Eo3JZ"
      },
      "source": [
        "stateless_model.build(tf.TensorShape([None, None, max_id]))"
      ],
      "execution_count": null,
      "outputs": []
    },
    {
      "cell_type": "code",
      "metadata": {
        "id": "JO45qaHJpH6C"
      },
      "source": [
        "stateless_model.set_weights(model.get_weights())\n",
        "model = stateless_model"
      ],
      "execution_count": null,
      "outputs": []
    },
    {
      "cell_type": "code",
      "metadata": {
        "id": "_OTIVvMspO3W"
      },
      "source": [
        "tf.random.set_seed(42)"
      ],
      "execution_count": null,
      "outputs": []
    },
    {
      "cell_type": "code",
      "metadata": {
        "id": "Tn37GmTipRuB",
        "outputId": "739da9be-ea8a-41b6-b9c8-7d199f2f67b1",
        "colab": {
          "base_uri": "https://localhost:8080/",
          "height": 51
        }
      },
      "source": [
        "print(complete_text(\"t\"))"
      ],
      "execution_count": null,
      "outputs": [
        {
          "output_type": "stream",
          "text": [
            "the fouds:\n",
            "new your saint joy you. believe ionstand\n"
          ],
          "name": "stdout"
        }
      ]
    },
    {
      "cell_type": "markdown",
      "metadata": {
        "id": "fkWxyXmOlkJH"
      },
      "source": [
        "## Sentiment Analysis"
      ]
    },
    {
      "cell_type": "code",
      "metadata": {
        "id": "azhSjGswpV_k"
      },
      "source": [
        "tf.random.set_seed(42)"
      ],
      "execution_count": null,
      "outputs": []
    },
    {
      "cell_type": "code",
      "metadata": {
        "id": "oJ15KNAGlyIh",
        "outputId": "e4fb1b14-9aba-49cf-ebb1-d738aa2fed42",
        "colab": {
          "base_uri": "https://localhost:8080/"
        }
      },
      "source": [
        "(X_train, y_test), (X_valid, y_test) = keras.datasets.imdb.load_data()"
      ],
      "execution_count": null,
      "outputs": [
        {
          "output_type": "stream",
          "text": [
            "Downloading data from https://storage.googleapis.com/tensorflow/tf-keras-datasets/imdb.npz\n",
            "17465344/17464789 [==============================] - 0s 0us/step\n"
          ],
          "name": "stdout"
        }
      ]
    },
    {
      "cell_type": "code",
      "metadata": {
        "id": "BzOihs7Tl8yE",
        "outputId": "aeddbd48-acac-4aac-c636-0748377760f0",
        "colab": {
          "base_uri": "https://localhost:8080/"
        }
      },
      "source": [
        "X_train[0][:10]"
      ],
      "execution_count": null,
      "outputs": [
        {
          "output_type": "execute_result",
          "data": {
            "text/plain": [
              "[1, 14, 22, 16, 43, 530, 973, 1622, 1385, 65]"
            ]
          },
          "metadata": {
            "tags": []
          },
          "execution_count": 14
        }
      ]
    },
    {
      "cell_type": "code",
      "metadata": {
        "id": "u1aIwqXPl_C-",
        "outputId": "c6924b40-782e-41ab-9be3-ef1bcc9949de",
        "colab": {
          "base_uri": "https://localhost:8080/",
          "height": 69
        }
      },
      "source": [
        "word_index = keras.datasets.imdb.get_word_index()\n",
        "id_to_word = {id_ + 3: word for word, id_ in word_index.items()}\n",
        "for id_, token in enumerate((\"<pad>\", \"<sos>\", \"<unk>\")):\n",
        "  id_to_word[id_] = token\n",
        "\" \".join([id_to_word[id_] for id_ in X_train[0][:10]])"
      ],
      "execution_count": null,
      "outputs": [
        {
          "output_type": "stream",
          "text": [
            "Downloading data from https://storage.googleapis.com/tensorflow/tf-keras-datasets/imdb_word_index.json\n",
            "1646592/1641221 [==============================] - 0s 0us/step\n"
          ],
          "name": "stdout"
        },
        {
          "output_type": "execute_result",
          "data": {
            "application/vnd.google.colaboratory.intrinsic+json": {
              "type": "string"
            },
            "text/plain": [
              "'<sos> this film was just brilliant casting location scenery story'"
            ]
          },
          "metadata": {
            "tags": []
          },
          "execution_count": 15
        }
      ]
    },
    {
      "cell_type": "code",
      "metadata": {
        "id": "va3W_jHwmwrG",
        "outputId": "5a7e4593-5365-4143-f769-cdc3068656e6",
        "colab": {
          "base_uri": "https://localhost:8080/",
          "height": 367,
          "referenced_widgets": [
            "68443fb5ad65444d810bb7e71d0a4a96",
            "4401f5692f7a4438930262e89f4b2742",
            "702f39f18c38492ca35a216c130ed9e1",
            "1911392bfdc941d4bda57d346ba5fe22",
            "2b1628855f364f6f9aa76c0bf397b2bc",
            "9272e45996194aeb960196b0b2473bba",
            "8fd765038942407f9d8e88f3f9324cd1",
            "ce3011294c8240688c03d064cac99da8",
            "ec60df66a4b1489484b2264eabaa77e0",
            "874dd408e4314a0983dd0928a30f2f81",
            "35aa802358cb4be197cac60fd31022a4",
            "33ce70ccf6d8484c8589cea3044d759c",
            "38cf64d03668410e8482bb3dede6895c",
            "10620b5292894f7891d6876541639638",
            "3b07bf39fbfd4882b19dabcf1248b125",
            "05785b64b7fc49b0af140217892a2f93",
            "4fd8a92da23348d695d378f2bc336ade",
            "1f8a2380f6cd415ea71003c391f6457e",
            "4126a31b669c4d20a7c590ec1b5a5f29",
            "2889ec9723f34e1ba2e2048e662da620",
            "327b065f6af7480a96eaabc780f3180d",
            "507f4aa9490f4029bfe2b5d80a548b38",
            "3865df4f22cf4753bb6742ffae40864e",
            "33f4cbe3f0664159904e2a5f7fd22ab3",
            "52b660f01e1e43319b575d3a8ba01d05",
            "742c006a1a5f4dcc9303c120927b97ff",
            "a5c26ffd76f54cfe917f5e3908fc5ce8",
            "9534a691b78c4b10a28f5010be85b7eb",
            "1cd3d12681594297947dddf494414067",
            "8924aa082a274351bdb029de85e94e4b",
            "8834e97c8e864f449f6213c1ccd4f918",
            "c76d115949f74a9aab33916f45630f44",
            "abce698db4fa4ea8b97c7a53e75ab671",
            "2bcad543932a4daab1f319498671ba00",
            "8cca4f44e3c34f029726c786cefdb47f",
            "c31de600c2c645a2b7e7335ae759368f",
            "9067f658dbfc476ba4c4acc0ed6d75a1",
            "610c35d935554b7d8c948256353f30a0",
            "91b8702ac8f347c7961d7ee2a1a8ab77",
            "26119ed009bd4013ad2d246ac717689f",
            "62fa89fb13ca41ba9318d3d036c634fe",
            "ef8ec06fb3e74c13a33023bd0fa187a3",
            "866114f2f5c64263b0328dd411937eab",
            "e89dac93b34b4e1da155a668d4b92973",
            "982e02c714f34d708869535a9ad70b9c",
            "f3d05a84369c420aa00f6106e5faba99",
            "957def9bd2a9413e9e49303965967bd8",
            "fd7f0c95efca464985f7e5730d01b387",
            "0c59bbf1738248f5936ee25b77ced41e",
            "336f84d22b0d4918a227959d37da8897",
            "5d7aa62fea5545d6b6729197f191229d",
            "4c19a378a45b4e64bab58fd17c5eda14",
            "91fae56c4c5d440f96f292511268338c",
            "27c163e4bb054a989f5985b0358d8f97",
            "1208d476cdf14854a50ef6e72ba971fe",
            "ca16ca7b665440b2a5f9f0af32bde642",
            "0921891fe1dd462aa6a77b7ffc74baae",
            "ef19e119ac3246c2aa7496af972bfe06",
            "eb26313137494a4d9fe87fa80fecf1a0",
            "dee6a7efd4be48b09679a0e6e2cc91b4",
            "984e693b51a44f99b070de18e5bd50b1",
            "bb8ec2a8936f46e89b3370553fd0f856",
            "90a98472b2c2432f961bfa64db0db20e",
            "74e0592d580b478c8e871af2a4b44673"
          ]
        }
      },
      "source": [
        "import tensorflow_datasets as tfds\n",
        "\n",
        "datasets, info = tfds.load(\"imdb_reviews\", as_supervised=True, with_info=True)"
      ],
      "execution_count": null,
      "outputs": [
        {
          "output_type": "stream",
          "text": [
            "\u001b[1mDownloading and preparing dataset imdb_reviews/plain_text/1.0.0 (download: 80.23 MiB, generated: Unknown size, total: 80.23 MiB) to /root/tensorflow_datasets/imdb_reviews/plain_text/1.0.0...\u001b[0m\n"
          ],
          "name": "stdout"
        },
        {
          "output_type": "display_data",
          "data": {
            "application/vnd.jupyter.widget-view+json": {
              "model_id": "68443fb5ad65444d810bb7e71d0a4a96",
              "version_minor": 0,
              "version_major": 2
            },
            "text/plain": [
              "HBox(children=(FloatProgress(value=1.0, bar_style='info', description='Dl Completed...', max=1.0, style=Progre…"
            ]
          },
          "metadata": {
            "tags": []
          }
        },
        {
          "output_type": "display_data",
          "data": {
            "application/vnd.jupyter.widget-view+json": {
              "model_id": "ec60df66a4b1489484b2264eabaa77e0",
              "version_minor": 0,
              "version_major": 2
            },
            "text/plain": [
              "HBox(children=(FloatProgress(value=1.0, bar_style='info', description='Dl Size...', max=1.0, style=ProgressSty…"
            ]
          },
          "metadata": {
            "tags": []
          }
        },
        {
          "output_type": "stream",
          "text": [
            "\n",
            "\n",
            "\n",
            "\n"
          ],
          "name": "stdout"
        },
        {
          "output_type": "display_data",
          "data": {
            "application/vnd.jupyter.widget-view+json": {
              "model_id": "4fd8a92da23348d695d378f2bc336ade",
              "version_minor": 0,
              "version_major": 2
            },
            "text/plain": [
              "HBox(children=(FloatProgress(value=1.0, bar_style='info', max=1.0), HTML(value='')))"
            ]
          },
          "metadata": {
            "tags": []
          }
        },
        {
          "output_type": "stream",
          "text": [
            "\rShuffling and writing examples to /root/tensorflow_datasets/imdb_reviews/plain_text/1.0.0.incomplete3R02AB/imdb_reviews-train.tfrecord\n"
          ],
          "name": "stdout"
        },
        {
          "output_type": "display_data",
          "data": {
            "application/vnd.jupyter.widget-view+json": {
              "model_id": "52b660f01e1e43319b575d3a8ba01d05",
              "version_minor": 0,
              "version_major": 2
            },
            "text/plain": [
              "HBox(children=(FloatProgress(value=0.0, max=25000.0), HTML(value='')))"
            ]
          },
          "metadata": {
            "tags": []
          }
        },
        {
          "output_type": "stream",
          "text": [
            "\r"
          ],
          "name": "stdout"
        },
        {
          "output_type": "display_data",
          "data": {
            "application/vnd.jupyter.widget-view+json": {
              "model_id": "abce698db4fa4ea8b97c7a53e75ab671",
              "version_minor": 0,
              "version_major": 2
            },
            "text/plain": [
              "HBox(children=(FloatProgress(value=1.0, bar_style='info', max=1.0), HTML(value='')))"
            ]
          },
          "metadata": {
            "tags": []
          }
        },
        {
          "output_type": "stream",
          "text": [
            "\rShuffling and writing examples to /root/tensorflow_datasets/imdb_reviews/plain_text/1.0.0.incomplete3R02AB/imdb_reviews-test.tfrecord\n"
          ],
          "name": "stdout"
        },
        {
          "output_type": "display_data",
          "data": {
            "application/vnd.jupyter.widget-view+json": {
              "model_id": "62fa89fb13ca41ba9318d3d036c634fe",
              "version_minor": 0,
              "version_major": 2
            },
            "text/plain": [
              "HBox(children=(FloatProgress(value=0.0, max=25000.0), HTML(value='')))"
            ]
          },
          "metadata": {
            "tags": []
          }
        },
        {
          "output_type": "stream",
          "text": [
            "\r"
          ],
          "name": "stdout"
        },
        {
          "output_type": "display_data",
          "data": {
            "application/vnd.jupyter.widget-view+json": {
              "model_id": "0c59bbf1738248f5936ee25b77ced41e",
              "version_minor": 0,
              "version_major": 2
            },
            "text/plain": [
              "HBox(children=(FloatProgress(value=1.0, bar_style='info', max=1.0), HTML(value='')))"
            ]
          },
          "metadata": {
            "tags": []
          }
        },
        {
          "output_type": "stream",
          "text": [
            "\rShuffling and writing examples to /root/tensorflow_datasets/imdb_reviews/plain_text/1.0.0.incomplete3R02AB/imdb_reviews-unsupervised.tfrecord\n"
          ],
          "name": "stdout"
        },
        {
          "output_type": "display_data",
          "data": {
            "application/vnd.jupyter.widget-view+json": {
              "model_id": "0921891fe1dd462aa6a77b7ffc74baae",
              "version_minor": 0,
              "version_major": 2
            },
            "text/plain": [
              "HBox(children=(FloatProgress(value=0.0, max=50000.0), HTML(value='')))"
            ]
          },
          "metadata": {
            "tags": []
          }
        },
        {
          "output_type": "stream",
          "text": [
            "WARNING:absl:Dataset is using deprecated text encoder API which will be removed soon. Please use the plain_text version of the dataset and migrate to `tensorflow_text`.\n"
          ],
          "name": "stderr"
        },
        {
          "output_type": "stream",
          "text": [
            "\u001b[1mDataset imdb_reviews downloaded and prepared to /root/tensorflow_datasets/imdb_reviews/plain_text/1.0.0. Subsequent calls will reuse this data.\u001b[0m\n",
            "\r"
          ],
          "name": "stdout"
        }
      ]
    },
    {
      "cell_type": "code",
      "metadata": {
        "id": "ggj-yUPWnPs0",
        "outputId": "1536dca3-5547-4b80-c3f1-d168e72d799b",
        "colab": {
          "base_uri": "https://localhost:8080/"
        }
      },
      "source": [
        "datasets.keys()"
      ],
      "execution_count": null,
      "outputs": [
        {
          "output_type": "execute_result",
          "data": {
            "text/plain": [
              "dict_keys(['test', 'train', 'unsupervised'])"
            ]
          },
          "metadata": {
            "tags": []
          },
          "execution_count": 10
        }
      ]
    },
    {
      "cell_type": "code",
      "metadata": {
        "id": "ZyM4varQpLLx"
      },
      "source": [
        "train_size = info.splits[\"train\"].num_examples\n",
        "test_size = info.splits[\"test\"].num_examples"
      ],
      "execution_count": null,
      "outputs": []
    },
    {
      "cell_type": "code",
      "metadata": {
        "id": "qnfc133-pXZ-",
        "outputId": "029c750b-1c84-46e2-95c3-f271dcb50af6",
        "colab": {
          "base_uri": "https://localhost:8080/"
        }
      },
      "source": [
        "train_size, test_size"
      ],
      "execution_count": null,
      "outputs": [
        {
          "output_type": "execute_result",
          "data": {
            "text/plain": [
              "(25000, 25000)"
            ]
          },
          "metadata": {
            "tags": []
          },
          "execution_count": 12
        }
      ]
    },
    {
      "cell_type": "code",
      "metadata": {
        "id": "jj20arrJpaVr",
        "outputId": "2b6e7a97-5b2c-4b78-b670-efc26888b4c9",
        "colab": {
          "base_uri": "https://localhost:8080/"
        }
      },
      "source": [
        "for X_batch, y_batch in datasets[\"train\"].batch(2).take(1):\n",
        "  for review, label in zip(X_batch.numpy(), y_batch.numpy()):\n",
        "    print(\"Review:\", review.decode(\"utf-8\")[:200], \"...\")\n",
        "    print(\"Label:\", label, \"= Positive\" if label else \"= Negative\")\n",
        "    print()"
      ],
      "execution_count": null,
      "outputs": [
        {
          "output_type": "stream",
          "text": [
            "Review: This was an absolutely terrible movie. Don't be lured in by Christopher Walken or Michael Ironside. Both are great actors, but this must simply be their worst role in history. Even their great acting  ...\n",
            "Label: 0 = Negative\n",
            "\n",
            "Review: I have been known to fall asleep during films, but this is usually due to a combination of things including, really tired, being warm and comfortable on the sette and having just eaten a lot. However  ...\n",
            "Label: 0 = Negative\n",
            "\n"
          ],
          "name": "stdout"
        }
      ]
    },
    {
      "cell_type": "code",
      "metadata": {
        "id": "YNLskTELrAYI"
      },
      "source": [
        "# Preprocessing function:\n",
        "def preprocess(X_batch, y_batch):\n",
        "  X_batch = tf.strings.substr(X_batch, 0, 300)  #keep only first 300 characters of each:\n",
        "  X_batch = tf.strings.regex_replace(X_batch, rb\"<br\\s*/?>\", b\" \")\n",
        "  X_batch = tf.strings.regex_replace(X_batch, b\"[^a-zA-Z']\", b\" \")\n",
        "  X_batch = tf.strings.split(X_batch)\n",
        "  return X_batch.to_tensor(default_value=b\"<pad>\"), y_batch"
      ],
      "execution_count": null,
      "outputs": []
    },
    {
      "cell_type": "code",
      "metadata": {
        "id": "Q5JUmLBnrtp5",
        "outputId": "a2128880-a954-4233-a58e-f2a5c9f4f258",
        "colab": {
          "base_uri": "https://localhost:8080/"
        }
      },
      "source": [
        "preprocess(X_batch, y_batch)"
      ],
      "execution_count": null,
      "outputs": [
        {
          "output_type": "execute_result",
          "data": {
            "text/plain": [
              "(<tf.Tensor: shape=(2, 53), dtype=string, numpy=\n",
              " array([[b'This', b'was', b'an', b'absolutely', b'terrible', b'movie',\n",
              "         b\"Don't\", b'be', b'lured', b'in', b'by', b'Christopher',\n",
              "         b'Walken', b'or', b'Michael', b'Ironside', b'Both', b'are',\n",
              "         b'great', b'actors', b'but', b'this', b'must', b'simply', b'be',\n",
              "         b'their', b'worst', b'role', b'in', b'history', b'Even',\n",
              "         b'their', b'great', b'acting', b'could', b'not', b'redeem',\n",
              "         b'this', b\"movie's\", b'ridiculous', b'storyline', b'This',\n",
              "         b'movie', b'is', b'an', b'early', b'nineties', b'US',\n",
              "         b'propaganda', b'pi', b'<pad>', b'<pad>', b'<pad>'],\n",
              "        [b'I', b'have', b'been', b'known', b'to', b'fall', b'asleep',\n",
              "         b'during', b'films', b'but', b'this', b'is', b'usually', b'due',\n",
              "         b'to', b'a', b'combination', b'of', b'things', b'including',\n",
              "         b'really', b'tired', b'being', b'warm', b'and', b'comfortable',\n",
              "         b'on', b'the', b'sette', b'and', b'having', b'just', b'eaten',\n",
              "         b'a', b'lot', b'However', b'on', b'this', b'occasion', b'I',\n",
              "         b'fell', b'asleep', b'because', b'the', b'film', b'was',\n",
              "         b'rubbish', b'The', b'plot', b'development', b'was', b'constant',\n",
              "         b'Cons']], dtype=object)>,\n",
              " <tf.Tensor: shape=(2,), dtype=int64, numpy=array([0, 0])>)"
            ]
          },
          "metadata": {
            "tags": []
          },
          "execution_count": 20
        }
      ]
    },
    {
      "cell_type": "code",
      "metadata": {
        "id": "jzrHPKqHs8-a"
      },
      "source": [
        "# construct the vocabulary\n",
        "from collections import Counter\n",
        "\n",
        "vocabulary = Counter()\n",
        "for X_batch, y_batch in datasets[\"train\"].batch(32).map(preprocess):\n",
        "  for review in X_batch:\n",
        "    vocabulary.update(list(review.numpy()))"
      ],
      "execution_count": null,
      "outputs": []
    },
    {
      "cell_type": "code",
      "metadata": {
        "id": "xz6sN0u5tjjc",
        "outputId": "214e6f6f-8e44-473e-edcb-66fa4950df3b",
        "colab": {
          "base_uri": "https://localhost:8080/"
        }
      },
      "source": [
        "vocabulary.most_common()[:3]"
      ],
      "execution_count": null,
      "outputs": [
        {
          "output_type": "execute_result",
          "data": {
            "text/plain": [
              "[(b'<pad>', 214309), (b'the', 61137), (b'a', 38564)]"
            ]
          },
          "metadata": {
            "tags": []
          },
          "execution_count": 22
        }
      ]
    },
    {
      "cell_type": "code",
      "metadata": {
        "id": "H68vtJJutnvB",
        "outputId": "d65c92b0-7e8d-4dcf-c04f-df2f89d5b255",
        "colab": {
          "base_uri": "https://localhost:8080/"
        }
      },
      "source": [
        "len(vocabulary)"
      ],
      "execution_count": null,
      "outputs": [
        {
          "output_type": "execute_result",
          "data": {
            "text/plain": [
              "53893"
            ]
          },
          "metadata": {
            "tags": []
          },
          "execution_count": 23
        }
      ]
    },
    {
      "cell_type": "code",
      "metadata": {
        "id": "fRomHrNxtp9A"
      },
      "source": [
        "vocab_size = 10000\n",
        "truncated_vocabulary = [\n",
        "                        word for word, count in vocabulary.most_common()[:vocab_size]\n",
        "]"
      ],
      "execution_count": null,
      "outputs": []
    },
    {
      "cell_type": "code",
      "metadata": {
        "id": "IpHtItgBuKle",
        "outputId": "180cb756-495d-4f7f-b899-5a1b58a683e1",
        "colab": {
          "base_uri": "https://localhost:8080/"
        }
      },
      "source": [
        "word_to_id = {word: index for index, word in enumerate(truncated_vocabulary)}\n",
        "for word in b\"This movie was faaaaaantastic\".split():\n",
        "  print(word_to_id.get(word) or vocab_size)"
      ],
      "execution_count": null,
      "outputs": [
        {
          "output_type": "stream",
          "text": [
            "22\n",
            "12\n",
            "11\n",
            "10000\n"
          ],
          "name": "stdout"
        }
      ]
    },
    {
      "cell_type": "code",
      "metadata": {
        "id": "jI4W1X8rudEy"
      },
      "source": [
        "words = tf.constant(truncated_vocabulary)\n",
        "word_ids = tf.range(len(truncated_vocabulary), dtype=tf.int64)\n",
        "vocab_init = tf.lookup.KeyValueTensorInitializer(words, word_ids)\n",
        "num_oov_buckets = 1000\n",
        "table = tf.lookup.StaticVocabularyTable(vocab_init, num_oov_buckets)"
      ],
      "execution_count": null,
      "outputs": []
    },
    {
      "cell_type": "code",
      "metadata": {
        "id": "eAkdHH-QvgBH",
        "outputId": "d19a7c9d-a29f-4ef2-d2e3-1262ecf9f3cc",
        "colab": {
          "base_uri": "https://localhost:8080/"
        }
      },
      "source": [
        "table.lookup(tf.constant([b\"This movie was faaaaaantastc\".split()]))"
      ],
      "execution_count": null,
      "outputs": [
        {
          "output_type": "execute_result",
          "data": {
            "text/plain": [
              "<tf.Tensor: shape=(1, 4), dtype=int64, numpy=array([[   22,    12,    11, 10920]])>"
            ]
          },
          "metadata": {
            "tags": []
          },
          "execution_count": 27
        }
      ]
    },
    {
      "cell_type": "code",
      "metadata": {
        "id": "63JntlfyvpDn"
      },
      "source": [
        "# encode words:\n",
        "def encode_words(X_batch, y_batch):\n",
        "  return table.lookup(X_batch), y_batch\n",
        "\n",
        "train_set = datasets[\"train\"].repeat().batch(32).map(preprocess)\n",
        "train_set = train_set.map(encode_words).prefetch(1)"
      ],
      "execution_count": null,
      "outputs": []
    },
    {
      "cell_type": "code",
      "metadata": {
        "id": "cfGlfRw7wXwd",
        "outputId": "99443f6a-38db-43de-a9b7-fab294ba85b8",
        "colab": {
          "base_uri": "https://localhost:8080/"
        }
      },
      "source": [
        "for X_batch, y_batch in train_set.take(1):\n",
        "  print(X_batch)\n",
        "  print(y_batch)"
      ],
      "execution_count": null,
      "outputs": [
        {
          "output_type": "stream",
          "text": [
            "tf.Tensor(\n",
            "[[  22   11   28 ...    0    0    0]\n",
            " [   6   21   70 ...    0    0    0]\n",
            " [4099 6881    1 ...    0    0    0]\n",
            " ...\n",
            " [  22   12  118 ...  331 1047    0]\n",
            " [1757 4101  451 ...    0    0    0]\n",
            " [3365 4392    6 ...    0    0    0]], shape=(32, 60), dtype=int64)\n",
            "tf.Tensor([0 0 0 1 1 1 0 0 0 0 0 1 1 0 1 0 1 1 1 0 1 1 1 1 1 0 0 0 1 0 0 0], shape=(32,), dtype=int64)\n"
          ],
          "name": "stdout"
        }
      ]
    },
    {
      "cell_type": "code",
      "metadata": {
        "id": "RWczegr6wgsZ",
        "outputId": "bee3de8d-ee32-4143-a255-c04fa7221576",
        "colab": {
          "base_uri": "https://localhost:8080/"
        }
      },
      "source": [
        "embed_size = 128\n",
        "model = keras.models.Sequential([\n",
        "    keras.layers.Embedding(vocab_size + num_oov_buckets, embed_size,\n",
        "                           mask_zero=True, # padding tokens will be ignored by all downstream layers.\n",
        "                           input_shape=[None]),\n",
        "    keras.layers.GRU(128, return_sequences=True),\n",
        "    keras.layers.GRU(128),\n",
        "    keras.layers.Dense(1, activation=\"sigmoid\")\n",
        "])\n",
        "model.compile(loss=\"binary_crossentropy\", optimizer=\"adam\", metrics=[\"accuracy\"])\n",
        "history = model.fit(train_set, steps_per_epoch=train_size // 32, epochs=5)"
      ],
      "execution_count": null,
      "outputs": [
        {
          "output_type": "stream",
          "text": [
            "Epoch 1/5\n",
            "781/781 [==============================] - 122s 156ms/step - loss: 0.5537 - accuracy: 0.7052\n",
            "Epoch 2/5\n",
            "781/781 [==============================] - 123s 158ms/step - loss: 0.3531 - accuracy: 0.8492\n",
            "Epoch 3/5\n",
            "781/781 [==============================] - 122s 156ms/step - loss: 0.1819 - accuracy: 0.9335\n",
            "Epoch 4/5\n",
            "781/781 [==============================] - 123s 158ms/step - loss: 0.1249 - accuracy: 0.9548\n",
            "Epoch 5/5\n",
            "781/781 [==============================] - 123s 158ms/step - loss: 0.1057 - accuracy: 0.9618\n"
          ],
          "name": "stdout"
        }
      ]
    },
    {
      "cell_type": "markdown",
      "metadata": {
        "id": "n0L7iWAS3IYq"
      },
      "source": [
        "## Masking"
      ]
    },
    {
      "cell_type": "code",
      "metadata": {
        "id": "JAgCBbhlxVdG",
        "outputId": "1c21439f-5c55-420d-bff7-530f0dd13971",
        "colab": {
          "base_uri": "https://localhost:8080/"
        }
      },
      "source": [
        "# using manual masking\n",
        "K= keras.backend\n",
        "embed_size = 128\n",
        "inputs = keras.layers.Input(shape=[None])\n",
        "mask = keras.layers.Lambda(lambda inputs: K.not_equal(inputs, 0))(inputs)\n",
        "z = keras.layers.Embedding(vocab_size + num_oov_buckets, embed_size)(inputs)\n",
        "z = keras.layers.GRU(128, return_sequences=True)(z, mask=mask)\n",
        "z = keras.layers.GRU(128)(z, mask = mask)\n",
        "outputs = keras.layers.Dense(1, activation=\"sigmoid\")(z)\n",
        "model = keras.models.Model(inputs=[inputs], outputs=[outputs])\n",
        "model.compile(loss=\"binary_crossentropy\", optimizer=\"adam\", metrics=[\"accuracy\"])\n",
        "history = model.fit(train_set, steps_per_epoch=train_size // 32, epochs=5)"
      ],
      "execution_count": null,
      "outputs": [
        {
          "output_type": "stream",
          "text": [
            "Epoch 1/5\n",
            "781/781 [==============================] - 123s 157ms/step - loss: 0.5462 - accuracy: 0.7162\n",
            "Epoch 2/5\n",
            "781/781 [==============================] - 125s 160ms/step - loss: 0.3721 - accuracy: 0.8404\n",
            "Epoch 3/5\n",
            "781/781 [==============================] - 128s 163ms/step - loss: 0.2338 - accuracy: 0.9122\n",
            "Epoch 4/5\n",
            "781/781 [==============================] - 125s 160ms/step - loss: 0.1496 - accuracy: 0.9476\n",
            "Epoch 5/5\n",
            "781/781 [==============================] - 124s 159ms/step - loss: 0.1121 - accuracy: 0.9611\n"
          ],
          "name": "stdout"
        }
      ]
    },
    {
      "cell_type": "markdown",
      "metadata": {
        "id": "JGOISRLw_zlX"
      },
      "source": [
        "# Reusing Pretrained Embeddings"
      ]
    },
    {
      "cell_type": "code",
      "metadata": {
        "id": "NoftRP084za-"
      },
      "source": [
        "tf.random.set_seed(42)"
      ],
      "execution_count": null,
      "outputs": []
    },
    {
      "cell_type": "code",
      "metadata": {
        "id": "QAuvotW7_4hr"
      },
      "source": [
        "TFHUB_CACHE_DIR = os.path.join(os.curdir, \"my_tfhub_cache\")\n",
        "os.environ[\"TFHUB_CACHE_DIR\"] = TFHUB_CACHE_DIR"
      ],
      "execution_count": null,
      "outputs": []
    },
    {
      "cell_type": "code",
      "metadata": {
        "id": "EEDJau9MAQXE",
        "outputId": "0525629f-06dd-4114-e42c-3c8f53acc63a",
        "colab": {
          "base_uri": "https://localhost:8080/"
        }
      },
      "source": [
        "import tensorflow_hub as hub\n",
        "\n",
        "model = keras.Sequential([\n",
        "    hub.KerasLayer(\"https://tfhub.dev/google/tf2-preview/nnlm-en-dim50/1\",\n",
        "                   dtype=tf.string, input_shape=[], output_shape=[50]),\n",
        "    keras.layers.Dense(128, activation=\"relu\"),\n",
        "    keras.layers.Dense(1, activation=\"sigmoid\")\n",
        "])\n",
        "model.compile(loss=\"binary_crossentropy\", optimizer=\"adam\",\n",
        "              metrics=[\"accuracy\"])"
      ],
      "execution_count": null,
      "outputs": [
        {
          "output_type": "stream",
          "text": [
            "WARNING:tensorflow:9 out of the last 9 calls to <function recreate_function.<locals>.restored_function_body at 0x7fd1be5f56a8> triggered tf.function retracing. Tracing is expensive and the excessive number of tracings could be due to (1) creating @tf.function repeatedly in a loop, (2) passing tensors with different shapes, (3) passing Python objects instead of tensors. For (1), please define your @tf.function outside of the loop. For (2), @tf.function has experimental_relax_shapes=True option that relaxes argument shapes that can avoid unnecessary retracing. For (3), please refer to https://www.tensorflow.org/tutorials/customization/performance#python_or_tensor_args and https://www.tensorflow.org/api_docs/python/tf/function for  more details.\n"
          ],
          "name": "stdout"
        },
        {
          "output_type": "stream",
          "text": [
            "WARNING:tensorflow:9 out of the last 9 calls to <function recreate_function.<locals>.restored_function_body at 0x7fd1be5f56a8> triggered tf.function retracing. Tracing is expensive and the excessive number of tracings could be due to (1) creating @tf.function repeatedly in a loop, (2) passing tensors with different shapes, (3) passing Python objects instead of tensors. For (1), please define your @tf.function outside of the loop. For (2), @tf.function has experimental_relax_shapes=True option that relaxes argument shapes that can avoid unnecessary retracing. For (3), please refer to https://www.tensorflow.org/tutorials/customization/performance#python_or_tensor_args and https://www.tensorflow.org/api_docs/python/tf/function for  more details.\n"
          ],
          "name": "stderr"
        },
        {
          "output_type": "stream",
          "text": [
            "WARNING:tensorflow:10 out of the last 10 calls to <function recreate_function.<locals>.restored_function_body at 0x7fd1be5fe8c8> triggered tf.function retracing. Tracing is expensive and the excessive number of tracings could be due to (1) creating @tf.function repeatedly in a loop, (2) passing tensors with different shapes, (3) passing Python objects instead of tensors. For (1), please define your @tf.function outside of the loop. For (2), @tf.function has experimental_relax_shapes=True option that relaxes argument shapes that can avoid unnecessary retracing. For (3), please refer to https://www.tensorflow.org/tutorials/customization/performance#python_or_tensor_args and https://www.tensorflow.org/api_docs/python/tf/function for  more details.\n"
          ],
          "name": "stdout"
        },
        {
          "output_type": "stream",
          "text": [
            "WARNING:tensorflow:10 out of the last 10 calls to <function recreate_function.<locals>.restored_function_body at 0x7fd1be5fe8c8> triggered tf.function retracing. Tracing is expensive and the excessive number of tracings could be due to (1) creating @tf.function repeatedly in a loop, (2) passing tensors with different shapes, (3) passing Python objects instead of tensors. For (1), please define your @tf.function outside of the loop. For (2), @tf.function has experimental_relax_shapes=True option that relaxes argument shapes that can avoid unnecessary retracing. For (3), please refer to https://www.tensorflow.org/tutorials/customization/performance#python_or_tensor_args and https://www.tensorflow.org/api_docs/python/tf/function for  more details.\n"
          ],
          "name": "stderr"
        }
      ]
    },
    {
      "cell_type": "code",
      "metadata": {
        "id": "095hJx3_A6EM"
      },
      "source": [
        "for dirpath, dirnames, filenames in os.walk(TFHUB_CACHE_DIR):\n",
        "    for filename in filenames:\n",
        "        print(os.path.join(dirpath, filename))"
      ],
      "execution_count": null,
      "outputs": []
    },
    {
      "cell_type": "code",
      "metadata": {
        "id": "pDc05UOyBJ_P",
        "outputId": "46d3ff52-05de-4820-c281-19ecd56391dc",
        "colab": {
          "base_uri": "https://localhost:8080/"
        }
      },
      "source": [
        "import tensorflow_datasets as tfds\n",
        "\n",
        "datasets, info = tfds.load(\"imdb_reviews\", as_supervised=True, with_info=True)\n",
        "train_size = info.splits[\"train\"].num_examples\n",
        "batch_size = 32\n",
        "train_set = datasets[\"train\"].repeat().batch(batch_size).prefetch(1)\n",
        "history = model.fit(train_set, steps_per_epoch=train_size // batch_size, epochs=5)"
      ],
      "execution_count": null,
      "outputs": [
        {
          "output_type": "stream",
          "text": [
            "Epoch 1/5\n",
            "781/781 [==============================] - 53s 68ms/step - loss: 0.5460 - accuracy: 0.7267\n",
            "Epoch 2/5\n",
            "781/781 [==============================] - 53s 68ms/step - loss: 0.5129 - accuracy: 0.7495\n",
            "Epoch 3/5\n",
            "781/781 [==============================] - 53s 68ms/step - loss: 0.5082 - accuracy: 0.7532\n",
            "Epoch 4/5\n",
            "781/781 [==============================] - 53s 68ms/step - loss: 0.5046 - accuracy: 0.7535\n",
            "Epoch 5/5\n",
            "781/781 [==============================] - 53s 68ms/step - loss: 0.5016 - accuracy: 0.7565\n"
          ],
          "name": "stdout"
        }
      ]
    },
    {
      "cell_type": "markdown",
      "metadata": {
        "id": "izftDg6NKAh3"
      },
      "source": [
        "# Automatic Translation"
      ]
    },
    {
      "cell_type": "code",
      "metadata": {
        "id": "T_hxYh1HHEm9"
      },
      "source": [
        "tf.random.set_seed(42)"
      ],
      "execution_count": 2,
      "outputs": []
    },
    {
      "cell_type": "code",
      "metadata": {
        "id": "XPk8bHGcKFSd"
      },
      "source": [
        "vocab_size = 100\n",
        "embed_size = 10"
      ],
      "execution_count": 3,
      "outputs": []
    },
    {
      "cell_type": "code",
      "metadata": {
        "id": "ftauKKTCKIgw"
      },
      "source": [
        "import tensorflow_addons as tfa\n",
        "\n",
        "encoder_inputs = keras.layers.Input(shape=[None], dtype=np.int32)\n",
        "decoder_inputs = keras.layers.Input(shape=[None], dtype=np.int32)\n",
        "sequence_lengths = keras.layers.Input(shape=[], dtype=np.int32)\n",
        "\n",
        "embeddings = keras.layers.Embedding(vocab_size, embed_size)\n",
        "encoder_embeddings = embeddings(encoder_inputs)\n",
        "decoder_embeddings = embeddings(decoder_inputs)\n",
        "\n",
        "encoder = keras.layers.LSTM(512, return_state=True)\n",
        "encoder_outputs, state_h, state_c = encoder(encoder_embeddings)\n",
        "encoder_state = [state_h, state_c]\n",
        "\n",
        "sampler = tfa.seq2seq.sampler.TrainingSampler()\n",
        "\n",
        "decoder_cell = keras.layers.LSTMCell(512)\n",
        "output_layer = keras.layers.Dense(vocab_size)\n",
        "decoder = tfa.seq2seq.basic_decoder.BasicDecoder(decoder_cell, sampler,\n",
        "                                                 output_layer = output_layer)\n",
        "final_outputs, final_state, final_sequence_lenghts = decoder(\n",
        "    decoder_embeddings, initial_state=encoder_state,\n",
        "    sequence_length=sequence_lengths\n",
        ")\n",
        "Y_proba = tf.nn.softmax(final_outputs.rnn_output)\n",
        "\n",
        "model = keras.models.Model(\n",
        "    inputs=[encoder_inputs, decoder_inputs, sequence_lengths],\n",
        "    outputs=[Y_proba]\n",
        ")"
      ],
      "execution_count": 4,
      "outputs": []
    },
    {
      "cell_type": "code",
      "metadata": {
        "id": "x8qaSu7jKd-l"
      },
      "source": [
        "model.compile(loss=\"sparse_categorical_crossentropy\", optimizer=\"adam\")"
      ],
      "execution_count": 5,
      "outputs": []
    },
    {
      "cell_type": "code",
      "metadata": {
        "id": "JOup6BhaMock",
        "outputId": "97c5320a-5616-4fe1-f177-1d4f766fa168",
        "colab": {
          "base_uri": "https://localhost:8080/"
        }
      },
      "source": [
        "X = np.random.randint(100, size=10*1000).reshape(1000, 10)\n",
        "Y = np.random.randint(100, size=15*1000).reshape(1000, 15)\n",
        "X_decoder = np.c_[np.zeros((1000, 1)), Y[:, :-1]]\n",
        "seq_lengths = np.full([1000], 15)\n",
        "\n",
        "history = model.fit([X, X_decoder, seq_lengths], Y, epochs=2)"
      ],
      "execution_count": 6,
      "outputs": [
        {
          "output_type": "stream",
          "text": [
            "Epoch 1/2\n",
            "32/32 [==============================] - 9s 291ms/step - loss: 4.6052\n",
            "Epoch 2/2\n",
            "32/32 [==============================] - 10s 299ms/step - loss: 4.6037\n"
          ],
          "name": "stdout"
        }
      ]
    },
    {
      "cell_type": "markdown",
      "metadata": {
        "id": "KOL6VbhcNM17"
      },
      "source": [
        "# Bidirectional Recurrent Layers"
      ]
    },
    {
      "cell_type": "code",
      "metadata": {
        "id": "N7dKPORGNJn5",
        "outputId": "92a2676d-591a-4ecc-8912-597647ebdc24",
        "colab": {
          "base_uri": "https://localhost:8080/"
        }
      },
      "source": [
        "model = keras.models.Sequential([\n",
        "                                 keras.layers.GRU(10, return_sequences=True, input_shape=[None, 10]),\n",
        "                                 keras.layers.Bidirectional(keras.layers.GRU(10, return_sequences=True))\n",
        "])\n",
        "\n",
        "model.summary()"
      ],
      "execution_count": 7,
      "outputs": [
        {
          "output_type": "stream",
          "text": [
            "Model: \"sequential\"\n",
            "_________________________________________________________________\n",
            "Layer (type)                 Output Shape              Param #   \n",
            "=================================================================\n",
            "gru (GRU)                    (None, None, 10)          660       \n",
            "_________________________________________________________________\n",
            "bidirectional (Bidirectional (None, None, 20)          1320      \n",
            "=================================================================\n",
            "Total params: 1,980\n",
            "Trainable params: 1,980\n",
            "Non-trainable params: 0\n",
            "_________________________________________________________________\n"
          ],
          "name": "stdout"
        }
      ]
    },
    {
      "cell_type": "markdown",
      "metadata": {
        "id": "FDdIfKeQxk7M"
      },
      "source": [
        "# Positional Encoding"
      ]
    },
    {
      "cell_type": "code",
      "metadata": {
        "id": "KkZ8K66cNmj7"
      },
      "source": [
        "class PositionalEncoding(keras.layers.Layer):\n",
        "  def __init__(self, max_steps, max_dims, dtype=tf.float32, **kwargs):\n",
        "    super().__init__(dtype=dtype, **kwargs)\n",
        "    if max_dims % 2 == 1: max_dims += 1 # max_dims must be even\n",
        "    p, i = np.meshgrid(np.arange(max_steps), np.arange(max_dims // 2))\n",
        "    pos_emb = np.empty((1, max_steps, max_dims))\n",
        "    pos_emb[0, :, ::2] = np.sin(p / 10000**(2 * i / max_dims)).T\n",
        "    pos_emb[0, :, 1::2] = np.cos(p / 10000**(2 * i / max_dims)).T\n",
        "    self.positional_embedding = tf.constant(pos_emb.astype(self.dtype))\n",
        "  def call(self, inputs):\n",
        "    shape = tf.shape(inputs)\n",
        "    return inputs + self.positional_embedding[:, :shape[-2], :shape[-1]]"
      ],
      "execution_count": 8,
      "outputs": []
    },
    {
      "cell_type": "code",
      "metadata": {
        "id": "nh-yv3s30raR"
      },
      "source": [
        "max_steps = 201\n",
        "max_dims = 512\n",
        "pos_emb = PositionalEncoding(max_steps, max_dims)\n",
        "PE = pos_emb(np.zeros((1, max_steps, max_dims), np.float32))[0].numpy()"
      ],
      "execution_count": 9,
      "outputs": []
    },
    {
      "cell_type": "code",
      "metadata": {
        "id": "JccRXMNW3zO_",
        "outputId": "8c043a49-f510-433d-92a3-88ef6f710837",
        "colab": {
          "base_uri": "https://localhost:8080/",
          "height": 348
        }
      },
      "source": [
        "i1, i2, crop_i = 100, 101, 150\n",
        "p1, p2, p3 = 22, 60, 35\n",
        "fig, (ax1, ax2) = plt.subplots(nrows=2, ncols=1, sharex=True, figsize=(9, 5))\n",
        "ax1.plot([p1, p1], [-1, 1], \"k--\", label=\"$p = {}$\".format(p1))\n",
        "ax1.plot([p2, p2], [-1, 1], \"k--\", label=\"$p = {}$\".format(p2), alpha=0.5)\n",
        "ax1.plot(p3, PE[p3, i1], \"bx\", label=\"$p = {}$\".format(p3))\n",
        "ax1.plot(PE[:,i1], \"b-\", label=\"$i = {}$\".format(i1))\n",
        "ax1.plot(PE[:,i2], \"r-\", label=\"$i = {}$\".format(i2))\n",
        "ax1.plot([p1, p2], [PE[p1, i1], PE[p2, i1]], \"bo\")\n",
        "ax1.plot([p1, p2], [PE[p1, i2], PE[p2, i2]], \"ro\")\n",
        "ax1.legend(loc=\"center right\", fontsize=14, framealpha=0.95)\n",
        "ax1.set_ylabel(\"$P_{(p,i)}$\", rotation=0, fontsize=16)\n",
        "ax1.grid(True, alpha=0.3)\n",
        "ax1.hlines(0, 0, max_steps - 1, color=\"k\", linewidth=1, alpha=0.3)\n",
        "ax1.axis([0, max_steps - 1, -1, 1])\n",
        "ax2.imshow(PE.T[:crop_i], cmap=\"gray\", interpolation=\"bilinear\", aspect=\"auto\")\n",
        "ax2.hlines(i1, 0, max_steps - 1, color=\"b\")\n",
        "cheat = 2 # need to raise the red line a bit, or else it hides the blue one\n",
        "ax2.hlines(i2+cheat, 0, max_steps - 1, color=\"r\")\n",
        "ax2.plot([p1, p1], [0, crop_i], \"k--\")\n",
        "ax2.plot([p2, p2], [0, crop_i], \"k--\", alpha=0.5)\n",
        "ax2.plot([p1, p2], [i2+cheat, i2+cheat], \"ro\")\n",
        "ax2.plot([p1, p2], [i1, i1], \"bo\")\n",
        "ax2.axis([0, max_steps - 1, 0, crop_i])\n",
        "ax2.set_xlabel(\"$p$\", fontsize=16)\n",
        "ax2.set_ylabel(\"$i$\", rotation=0, fontsize=16)\n",
        "plt.savefig(\"positional_embedding_plot\")\n",
        "plt.show()"
      ],
      "execution_count": 10,
      "outputs": [
        {
          "output_type": "display_data",
          "data": {
            "image/png": "[encoded data removed]",
            "text/plain": [
              "<Figure size 648x360 with 2 Axes>"
            ]
          },
          "metadata": {
            "tags": [],
            "needs_background": "light"
          }
        }
      ]
    },
    {
      "cell_type": "code",
      "metadata": {
        "id": "-zjsWVay37Eq"
      },
      "source": [
        "embed_size = 512; max_steps = 500; vocab_size = 10000\n",
        "encoder_inputs = keras.layers.Input(shape=[None], dtype=np.int32)\n",
        "decoder_inputs = keras.layers.Input(shape=[None], dtype=np.int32)\n",
        "embeddings = keras.layers.Embedding(vocab_size, embed_size)\n",
        "encoder_embeddings = embeddings(encoder_inputs)\n",
        "decoder_embeddings = embeddings(decoder_inputs)\n",
        "positional_encoding = PositionalEncoding(max_steps, max_dims=embed_size)\n",
        "encoder_in = positional_encoding(encoder_embeddings)\n",
        "decoder_in = positional_encoding(decoder_embeddings)"
      ],
      "execution_count": 12,
      "outputs": []
    },
    {
      "cell_type": "markdown",
      "metadata": {
        "id": "f3MctghdxRM6"
      },
      "source": [
        "Here's a basic impolimentation of the ```MultiHeadAttention``` layer. One will likely be added to ```keras.layers``` in the near future. Note that ```Conv1D``` layers with ```kernel_size=1``` (and the default ```padding=\"valid\"``` and ```strides=1```) is equivalent to a ```TimeDistributed(Dense(...))``` layer."
      ]
    },
    {
      "cell_type": "code",
      "metadata": {
        "id": "58Mt1mIkxOJY"
      },
      "source": [
        "K = keras.backend\n",
        "\n",
        "class MultiHeadAttention(keras.layers.Layer):\n",
        "  def __init__(self, n_heads, causal=False, use_scale=False, **kwargs):\n",
        "    self.n_heads = n_heads\n",
        "    self.causal = causal\n",
        "    self.use_scale = use_scale\n",
        "    super().__init__(**kwargs)\n",
        "  def build(self, batch_input_shape):\n",
        "    self.dims = batch_input_shape[0][-1]\n",
        "    self.q_dims, self.v_dims, self.k_dims = [self.dims // self.n_heads] * 3 # could be hyperparameters instead\n",
        "    self.q_linear = keras.layers.Conv1D(self.n_heads * self.q_dims, kernel_size=1, use_bias=False)\n",
        "    self.v_linear = keras.layers.Conv1D(self.n_heads * self.v_dims, kernel_size=1, use_bias=False)\n",
        "    self.k_linear = keras.layers.Conv1D(self.n_heads * self.k_dims, kernel_size=1, use_bias=False)\n",
        "    self.attention = keras.layers.Attention(causal=self.causal, use_scale=self.use_scale)\n",
        "    self.out_linear = keras.layers.Conv1D(self.dims, kernel_size=1, use_bias=False)\n",
        "    super().build(batch_input_shape)\n",
        "  def _multi_head_linear(self, inputs, linear):\n",
        "    shape = K.concatenate([K.shape(inputs)[:-1], [self.n_heads, -1]])\n",
        "    projected = K.reshape(linear(inputs), shape)\n",
        "    perm = K.permute_dimensions(projected, [0, 2, 1, 3])\n",
        "    return K.reshape(perm, [shape[0] * self.n_heads, shape[1], -1])\n",
        "  def call(self, inputs):\n",
        "    q = inputs[0]\n",
        "    v = inputs[1]\n",
        "    k = inputs[2] if len(inputs) > 2 else v\n",
        "    shape = K.shape(q)\n",
        "    q_proj = self._multi_head_linear(q, self.q_linear)\n",
        "    v_proj = self._multi_head_linear(v, self.v_linear)\n",
        "    k_proj = self._multi_head_linear(k, self.k_linear)\n",
        "    multi_attended = self.attention([q_proj, v_proj, k_proj])\n",
        "    shape_attended = K.shape(multi_attended)\n",
        "    reshaped_attended = K.reshape(multi_attended, [shape[0], self.n_heads, shape_attended[1], shape_attended[2]])\n",
        "    perm = K.permute_dimensions(reshaped_attended, [0, 2, 1, 3])\n",
        "    concat = K.reshape(perm, [shape[0], shape_attended[1], -1])\n",
        "    return self.out_linear(concat)"
      ],
      "execution_count": 21,
      "outputs": []
    },
    {
      "cell_type": "code",
      "metadata": {
        "id": "cOzlGnS01Kul",
        "outputId": "39ec2547-f1c7-40c3-efd1-c034494e2a0f",
        "colab": {
          "base_uri": "https://localhost:8080/"
        }
      },
      "source": [
        "Q = np.random.rand(2, 50, 512)\n",
        "V = np.random.rand(2, 80, 512)\n",
        "multi_attn = MultiHeadAttention(8)\n",
        "multi_attn([Q, V]).shape"
      ],
      "execution_count": 22,
      "outputs": [
        {
          "output_type": "stream",
          "text": [
            "WARNING:tensorflow:Layer multi_head_attention_4 is casting an input tensor from dtype float64 to the layer's dtype of float32, which is new behavior in TensorFlow 2.  The layer has dtype float32 because its dtype defaults to floatx.\n",
            "\n",
            "If you intended to run this layer in float32, you can safely ignore this warning. If in doubt, this warning is likely only an issue if you are porting a TensorFlow 1.X model to TensorFlow 2.\n",
            "\n",
            "To change all layers to have dtype float64 by default, call `tf.keras.backend.set_floatx('float64')`. To change just this layer, pass dtype='float64' to the layer constructor. If you are the author of this layer, you can disable autocasting by passing autocast=False to the base Layer constructor.\n",
            "\n"
          ],
          "name": "stdout"
        },
        {
          "output_type": "execute_result",
          "data": {
            "text/plain": [
              "TensorShape([2, 50, 512])"
            ]
          },
          "metadata": {
            "tags": []
          },
          "execution_count": 22
        }
      ]
    },
    {
      "cell_type": "markdown",
      "metadata": {
        "id": "Vyzd5cBqx6NM"
      },
      "source": [
        "# Exercise\n",
        "\n",
        "## 8 Embedded Reber grammars"
      ]
    },
    {
      "cell_type": "code",
      "metadata": {
        "id": "zNkGtCau1NHb"
      },
      "source": [
        "default_reber_grammar = [\n",
        "    [(\"B\", 1)],           # (state 0) =B=>(state 1)\n",
        "    [(\"T\", 2), (\"P\", 3)], # (state 1) =T=>(state 2) or =P=>(state 3)\n",
        "    [(\"S\", 2), (\"X\", 4)], # (state 2) =S=>(state 2) or =X=>(state 4)\n",
        "    [(\"T\", 3), (\"V\", 5)], # and so on...\n",
        "    [(\"X\", 3), (\"S\", 6)],\n",
        "    [(\"P\", 4), (\"V\", 6)],\n",
        "    [(\"E\", None)]]        # (state 6) =E=>(terminal state)\n",
        "\n",
        "embedded_reber_grammar = [\n",
        "    [(\"B\", 1)],\n",
        "    [(\"T\", 2), (\"P\", 3)],\n",
        "    [(default_reber_grammar, 4)],\n",
        "    [(default_reber_grammar, 5)],\n",
        "    [(\"T\", 6)],\n",
        "    [(\"P\", 6)],\n",
        "    [(\"E\", None)]]\n",
        "\n",
        "def generate_string(grammar):\n",
        "  state = 0\n",
        "  output = []\n",
        "  while state is not None:\n",
        "    index = np.random.randint(len(grammar[state]))\n",
        "    production, state = grammar[state][index]\n",
        "    if isinstance(production, list):\n",
        "      production = generate_string(grammar=production)\n",
        "    output.append(production)\n",
        "  return \"\".join(output)"
      ],
      "execution_count": 4,
      "outputs": []
    },
    {
      "cell_type": "code",
      "metadata": {
        "id": "L50gDhaTzyXL",
        "outputId": "457306f9-5ab5-41b3-86f6-08d2a6d1f018",
        "colab": {
          "base_uri": "https://localhost:8080/"
        }
      },
      "source": [
        "np.random.seed(42)\n",
        "\n",
        "for _ in range(25):\n",
        "  print(generate_string(default_reber_grammar), end=\" \")"
      ],
      "execution_count": 5,
      "outputs": [
        {
          "output_type": "stream",
          "text": [
            "BTXXTTVPXTVPXTTVPSE BPVPSE BTXSE BPVVE BPVVE BTSXSE BPTVPXTTTVVE BPVVE BTXSE BTXXVPSE BPTTTTTTTTVVE BTXSE BPVPSE BTXSE BPTVPSE BTXXTVPSE BPVVE BPVVE BPVVE BPTTVVE BPVVE BPVVE BTXXVVE BTXXVVE BTXXVPXVVE "
          ],
          "name": "stdout"
        }
      ]
    },
    {
      "cell_type": "code",
      "metadata": {
        "id": "jQh3LTG4z8KB",
        "outputId": "76ce1532-2889-4a1d-9b3a-82c2c6878802",
        "colab": {
          "base_uri": "https://localhost:8080/"
        }
      },
      "source": [
        "np.random.seed(42)\n",
        "\n",
        "for _ in range(25):\n",
        "  print(generate_string(embedded_reber_grammar), end=\" \")"
      ],
      "execution_count": 6,
      "outputs": [
        {
          "output_type": "stream",
          "text": [
            "BTBPTTTVPXTVPXTTVPSETE BPBPTVPSEPE BPBPVVEPE BPBPVPXVVEPE BPBTXXTTTTVVEPE BPBPVPSEPE BPBTXXVPSEPE BPBTSSSSSSSXSEPE BTBPVVETE BPBTXXVVEPE BPBTXXVPSEPE BTBTXXVVETE BPBPVVEPE BPBPVVEPE BPBTSXSEPE BPBPVVEPE BPBPTVPSEPE BPBTXXVVEPE BTBPTVPXVVETE BTBPVVETE BTBTSSSSSSSXXVVETE BPBTSSSXXTTTTVPSEPE BTBPTTVVETE BPBTXXTVVEPE BTBTXSETE "
          ],
          "name": "stdout"
        }
      ]
    },
    {
      "cell_type": "markdown",
      "metadata": {
        "id": "k-O0xCtB1of5"
      },
      "source": [
        "generate a string that respects the grammar, and we will corrupt it by changing just one charcter"
      ]
    },
    {
      "cell_type": "code",
      "metadata": {
        "id": "4g7ZxVmK1Ond"
      },
      "source": [
        "POSSIBLE_CHARS = \"BEPSTVX\"\n",
        "\n",
        "def generate_corrupted_string(grammar, chars=POSSIBLE_CHARS):\n",
        "  good_string = generate_string(grammar)\n",
        "  index = np.random.randint(len(good_string))\n",
        "  good_char = good_string[index]\n",
        "  bad_char = np.random.choice(sorted(set(chars)-set(good_char)))\n",
        "  return good_string[:index] + bad_char + good_string[index+1:]"
      ],
      "execution_count": 7,
      "outputs": []
    },
    {
      "cell_type": "code",
      "metadata": {
        "id": "TxiFg2Ga2UAG",
        "outputId": "e1eb9602-d574-4e25-ea7f-59b7ceb61e3f",
        "colab": {
          "base_uri": "https://localhost:8080/"
        }
      },
      "source": [
        "np.random.seed(42)\n",
        "\n",
        "for _ in range(25):\n",
        "  print(generate_corrupted_string(embedded_reber_grammar), end=\" \")"
      ],
      "execution_count": 8,
      "outputs": [
        {
          "output_type": "stream",
          "text": [
            "BTBPTTTPPXTVPXTTVPSETE BPBTXEEPE BPBPTVVVEPE BPBTSSSSXSETE BPTTXSEPE BTBPVPXTTTTTTEVETE BPBTXXSVEPE BSBPTTVPSETE BPBXVVEPE BEBTXSETE BPBPVPSXPE BTBPVVVETE BPBTSXSETE BPBPTTTPTTTTTVPSEPE BTBTXXTTSTVPSETE BBBTXSETE BPBTPXSEPE BPBPVPXTTTTVPXTVPXVPXTTTVVEVE BTBXXXTVPSETE BEBTSSSSSXXVPXTVVETE BTBXTTVVETE BPBTXSTPE BTBTXXTTTVPSBTE BTBTXSETX BTBTSXSSTE "
          ],
          "name": "stdout"
        }
      ]
    },
    {
      "cell_type": "code",
      "metadata": {
        "id": "2GJKWfOp2ets"
      },
      "source": [
        "# emdedding char\n",
        "def string_to_ids(s, chars=POSSIBLE_CHARS):\n",
        "  return [POSSIBLE_CHARS.index(c) for c in s]"
      ],
      "execution_count": 9,
      "outputs": []
    },
    {
      "cell_type": "code",
      "metadata": {
        "id": "MaHpQMlj26DE",
        "outputId": "50f504f9-a6fe-4519-b7b6-5edad3311b1e",
        "colab": {
          "base_uri": "https://localhost:8080/"
        }
      },
      "source": [
        "string_to_ids(\"BTTTXXVVETE\")"
      ],
      "execution_count": 10,
      "outputs": [
        {
          "output_type": "execute_result",
          "data": {
            "text/plain": [
              "[0, 4, 4, 4, 6, 6, 5, 5, 1, 4, 1]"
            ]
          },
          "metadata": {
            "tags": []
          },
          "execution_count": 10
        }
      ]
    },
    {
      "cell_type": "markdown",
      "metadata": {
        "id": "3eWV-mJT2-98"
      },
      "source": [
        "now generate the dataset, with 50% good strings and 50% bad strings:"
      ]
    },
    {
      "cell_type": "code",
      "metadata": {
        "id": "swjyo54N29TL"
      },
      "source": [
        "def generate_dataset(size):\n",
        "  good_strings = [string_to_ids(generate_string(embedded_reber_grammar)) for  _ in range(size//2)]\n",
        "  bad_strings = [string_to_ids(generate_corrupted_string(embedded_reber_grammar)) for _ in range(size//2)]\n",
        "  all_strings = good_strings + bad_strings\n",
        "  X = tf.ragged.constant(all_strings, ragged_rank=1)\n",
        "  y = np.array([[1.] for _ in range(len(good_strings))] +\n",
        "               [[0.] for _ in range(len(bad_strings))])\n",
        "  return X, y"
      ],
      "execution_count": 11,
      "outputs": []
    },
    {
      "cell_type": "code",
      "metadata": {
        "id": "tzIsZC4H3xx-"
      },
      "source": [
        "np.random.seed(42)\n",
        "\n",
        "X_train, y_train = generate_dataset(10000)\n",
        "X_valid, y_valid = generate_dataset(2000)"
      ],
      "execution_count": 12,
      "outputs": []
    },
    {
      "cell_type": "code",
      "metadata": {
        "id": "ypW9TU7f399c",
        "outputId": "a3d774d0-a1aa-4dde-ad23-f8c117ebfd15",
        "colab": {
          "base_uri": "https://localhost:8080/"
        }
      },
      "source": [
        "X_train[0]"
      ],
      "execution_count": 13,
      "outputs": [
        {
          "output_type": "execute_result",
          "data": {
            "text/plain": [
              "<tf.Tensor: shape=(22,), dtype=int32, numpy=\n",
              "array([0, 4, 0, 2, 4, 4, 4, 5, 2, 6, 4, 5, 2, 6, 4, 4, 5, 2, 3, 1, 4, 1],\n",
              "      dtype=int32)>"
            ]
          },
          "metadata": {
            "tags": []
          },
          "execution_count": 13
        }
      ]
    },
    {
      "cell_type": "code",
      "metadata": {
        "id": "1v_xINJd3_cM",
        "outputId": "cd92cbd1-cdb1-4d76-e715-5915430fb03d",
        "colab": {
          "base_uri": "https://localhost:8080/"
        }
      },
      "source": [
        "y_train[0]"
      ],
      "execution_count": 14,
      "outputs": [
        {
          "output_type": "execute_result",
          "data": {
            "text/plain": [
              "array([1.])"
            ]
          },
          "metadata": {
            "tags": []
          },
          "execution_count": 14
        }
      ]
    },
    {
      "cell_type": "code",
      "metadata": {
        "id": "17lKEed74Cp0",
        "outputId": "79b6ab4f-98ca-46a8-e360-7616a566524b",
        "colab": {
          "base_uri": "https://localhost:8080/"
        }
      },
      "source": [
        "np.random.seed(42)\n",
        "tf.random.set_seed(42)\n",
        "\n",
        "embedding_size = 5\n",
        "\n",
        "model = keras.models.Sequential([\n",
        "    keras.layers.InputLayer(input_shape=[None], dtype=tf.int32, ragged=True),\n",
        "    keras.layers.Embedding(input_dim=len(POSSIBLE_CHARS), output_dim=embedding_size),\n",
        "    keras.layers.GRU(30),\n",
        "    keras.layers.Dense(1, activation=\"sigmoid\")\n",
        "])\n",
        "optimizer = keras.optimizers.SGD(lr=0.02, momentum = 0.95, nesterov=True)\n",
        "model.compile(loss=\"binary_crossentropy\", optimizer=optimizer, metrics=[\"accuracy\"])\n",
        "history = model.fit(X_train, y_train, epochs=20, validation_data=(X_valid, y_valid))"
      ],
      "execution_count": 15,
      "outputs": [
        {
          "output_type": "stream",
          "text": [
            "Epoch 1/20\n"
          ],
          "name": "stdout"
        },
        {
          "output_type": "stream",
          "text": [
            "/usr/local/lib/python3.6/dist-packages/tensorflow/python/framework/indexed_slices.py:432: UserWarning: Converting sparse IndexedSlices to a dense Tensor of unknown shape. This may consume a large amount of memory.\n",
            "  \"Converting sparse IndexedSlices to a dense Tensor of unknown shape. \"\n"
          ],
          "name": "stderr"
        },
        {
          "output_type": "stream",
          "text": [
            "313/313 [==============================] - 6s 18ms/step - loss: 0.6910 - accuracy: 0.5095 - val_loss: 0.6825 - val_accuracy: 0.5645\n",
            "Epoch 2/20\n",
            "313/313 [==============================] - 6s 20ms/step - loss: 0.6678 - accuracy: 0.5659 - val_loss: 0.6635 - val_accuracy: 0.6105\n",
            "Epoch 3/20\n",
            "313/313 [==============================] - 4s 14ms/step - loss: 0.6504 - accuracy: 0.5766 - val_loss: 0.6521 - val_accuracy: 0.6110\n",
            "Epoch 4/20\n",
            "313/313 [==============================] - 4s 13ms/step - loss: 0.6347 - accuracy: 0.5980 - val_loss: 0.6224 - val_accuracy: 0.6445\n",
            "Epoch 5/20\n",
            "313/313 [==============================] - 4s 13ms/step - loss: 0.6054 - accuracy: 0.6361 - val_loss: 0.5779 - val_accuracy: 0.6980\n",
            "Epoch 6/20\n",
            "313/313 [==============================] - 4s 13ms/step - loss: 0.5414 - accuracy: 0.7093 - val_loss: 0.4695 - val_accuracy: 0.7795\n",
            "Epoch 7/20\n",
            "313/313 [==============================] - 4s 13ms/step - loss: 0.4016 - accuracy: 0.8262 - val_loss: 0.4032 - val_accuracy: 0.8120\n",
            "Epoch 8/20\n",
            "313/313 [==============================] - 4s 13ms/step - loss: 0.2614 - accuracy: 0.9028 - val_loss: 0.1936 - val_accuracy: 0.9335\n",
            "Epoch 9/20\n",
            "313/313 [==============================] - 4s 13ms/step - loss: 0.1609 - accuracy: 0.9500 - val_loss: 0.4907 - val_accuracy: 0.7630\n",
            "Epoch 10/20\n",
            "313/313 [==============================] - 4s 13ms/step - loss: 0.0790 - accuracy: 0.9805 - val_loss: 0.0410 - val_accuracy: 0.9945\n",
            "Epoch 11/20\n",
            "313/313 [==============================] - 4s 13ms/step - loss: 0.0521 - accuracy: 0.9870 - val_loss: 0.0401 - val_accuracy: 0.9910\n",
            "Epoch 12/20\n",
            "313/313 [==============================] - 4s 13ms/step - loss: 0.0375 - accuracy: 0.9906 - val_loss: 0.0030 - val_accuracy: 1.0000\n",
            "Epoch 13/20\n",
            "313/313 [==============================] - 4s 13ms/step - loss: 0.0034 - accuracy: 0.9996 - val_loss: 9.5456e-04 - val_accuracy: 1.0000\n",
            "Epoch 14/20\n",
            "313/313 [==============================] - 4s 13ms/step - loss: 9.0666e-04 - accuracy: 1.0000 - val_loss: 0.0022 - val_accuracy: 1.0000\n",
            "Epoch 15/20\n",
            "313/313 [==============================] - 4s 13ms/step - loss: 0.0179 - accuracy: 0.9954 - val_loss: 0.0021 - val_accuracy: 1.0000\n",
            "Epoch 16/20\n",
            "313/313 [==============================] - 4s 13ms/step - loss: 0.0021 - accuracy: 0.9998 - val_loss: 7.1216e-04 - val_accuracy: 1.0000\n",
            "Epoch 17/20\n",
            "313/313 [==============================] - 4s 13ms/step - loss: 6.2584e-04 - accuracy: 1.0000 - val_loss: 5.1694e-04 - val_accuracy: 1.0000\n",
            "Epoch 18/20\n",
            "313/313 [==============================] - 4s 13ms/step - loss: 4.8229e-04 - accuracy: 1.0000 - val_loss: 4.1370e-04 - val_accuracy: 1.0000\n",
            "Epoch 19/20\n",
            "313/313 [==============================] - 4s 13ms/step - loss: 4.0037e-04 - accuracy: 1.0000 - val_loss: 3.5157e-04 - val_accuracy: 1.0000\n",
            "Epoch 20/20\n",
            "313/313 [==============================] - 4s 13ms/step - loss: 3.4185e-04 - accuracy: 1.0000 - val_loss: 3.0308e-04 - val_accuracy: 1.0000\n"
          ],
          "name": "stdout"
        }
      ]
    },
    {
      "cell_type": "code",
      "metadata": {
        "id": "O6s6Ex9I4gdF",
        "outputId": "223de5bd-86ce-4e71-e1df-bbcc70be82e4",
        "colab": {
          "base_uri": "https://localhost:8080/"
        }
      },
      "source": [
        "test_strings = [\"BPBTSSSSSSSXXTTVPXVPXTTTTTVVETE\",\n",
        "                \"BPBTSSSSSSSXXTTVPXVPXTTTTTVVEPE\"]\n",
        "X_test = tf.ragged.constant([string_to_ids(s) for s in test_strings], ragged_rank=1)\n",
        "\n",
        "y_proba = model.predict(X_test)\n",
        "print()\n",
        "print(\"Estimated probability that these are Reber strings:\")\n",
        "for index, string in enumerate(test_strings):\n",
        "    print(\"{}: {:.2f}%\".format(string, 100 * y_proba[index][0]))"
      ],
      "execution_count": 16,
      "outputs": [
        {
          "output_type": "stream",
          "text": [
            "\n",
            "Estimated probability that these are Reber strings:\n",
            "BPBTSSSSSSSXXTTVPXVPXTTTTTVVETE: 0.15%\n",
            "BPBTSSSSSSSXXTTVPXVPXTTTTTVVEPE: 99.97%\n"
          ],
          "name": "stdout"
        }
      ]
    },
    {
      "cell_type": "markdown",
      "metadata": {
        "id": "EtlJ4CPz40aH"
      },
      "source": [
        "## 9 Train an Encoder-Decoder model that can convert a date string from one format to another."
      ]
    },
    {
      "cell_type": "code",
      "metadata": {
        "id": "rE_05uwI49u1"
      },
      "source": [
        "from datetime import date\n",
        "\n",
        "# cannot use strftime()'s %B format since it depends on the locale\n",
        "MONTHS = [\"January\", \"February\", \"March\", \"April\", \"May\", \"June\",\n",
        "          \"July\", \"August\", \"September\", \"October\", \"November\", \"December\"]\n",
        "\n",
        "def random_dates(n_dates):\n",
        "  min_date = date(1000, 1, 1).toordinal()\n",
        "  max_date = date(9999, 12, 31).toordinal()\n",
        "\n",
        "  ordinals = np.random.randint(max_date - min_date, size=n_dates) + min_date\n",
        "  dates = [date.fromordinal(ordinal) for ordinal in ordinals]\n",
        "\n",
        "  x = [MONTHS[dt.month-1] + \" \" + dt.strftime(\"%d, %Y\") for dt in dates]\n",
        "  y = [dt.isoformat() for dt in dates]\n",
        "  return x, y"
      ],
      "execution_count": 2,
      "outputs": []
    },
    {
      "cell_type": "code",
      "metadata": {
        "id": "qpneFo9g7jhQ",
        "outputId": "75e2729a-cbb3-4e09-b7ad-f7c27e1401ff",
        "colab": {
          "base_uri": "https://localhost:8080/"
        }
      },
      "source": [
        "np.random.seed(42)\n",
        "\n",
        "n_dates = 3\n",
        "x_example, y_example = random_dates(n_dates)\n",
        "print(\"{:25s}{:25s}\".format(\"Input\", \"Target\"))\n",
        "print(\"-\" * 50)\n",
        "for idx in range(n_dates):\n",
        "    print(\"{:25s}{:25s}\".format(x_example[idx], y_example[idx]))"
      ],
      "execution_count": 3,
      "outputs": [
        {
          "output_type": "stream",
          "text": [
            "Input                    Target                   \n",
            "--------------------------------------------------\n",
            "September 20, 7075       7075-09-20               \n",
            "May 15, 8579             8579-05-15               \n",
            "January 11, 7103         7103-01-11               \n"
          ],
          "name": "stdout"
        }
      ]
    },
    {
      "cell_type": "code",
      "metadata": {
        "id": "CXOfC9tC7tLe",
        "outputId": "d05cf155-6abd-4027-dcd9-bcad4db81dbf",
        "colab": {
          "base_uri": "https://localhost:8080/",
          "height": 35
        }
      },
      "source": [
        "INPUT_CHARS = \"\".join(sorted(set(\"\".join(MONTHS)))) + \"0123456789, \"\n",
        "INPUT_CHARS"
      ],
      "execution_count": 4,
      "outputs": [
        {
          "output_type": "execute_result",
          "data": {
            "application/vnd.google.colaboratory.intrinsic+json": {
              "type": "string"
            },
            "text/plain": [
              "'ADFJMNOSabceghilmnoprstuvy0123456789, '"
            ]
          },
          "metadata": {
            "tags": []
          },
          "execution_count": 4
        }
      ]
    },
    {
      "cell_type": "code",
      "metadata": {
        "id": "Rjz9B_ZD8PBv"
      },
      "source": [
        "OUTPUT_CHARS = \"0123456789-\""
      ],
      "execution_count": 5,
      "outputs": []
    },
    {
      "cell_type": "code",
      "metadata": {
        "id": "jdnD9p428Uf2"
      },
      "source": [
        "def date_str_to_ids(date_str, chars=INPUT_CHARS):\n",
        "  return [chars.index(c) for c in date_str]"
      ],
      "execution_count": 6,
      "outputs": []
    },
    {
      "cell_type": "code",
      "metadata": {
        "id": "rddpM94N8fQe",
        "outputId": "464fb727-77b8-4051-ba37-21c7a03c4356",
        "colab": {
          "base_uri": "https://localhost:8080/"
        }
      },
      "source": [
        "date_str_to_ids(x_example[0])"
      ],
      "execution_count": 7,
      "outputs": [
        {
          "output_type": "execute_result",
          "data": {
            "text/plain": [
              "[7, 11, 19, 22, 11, 16, 9, 11, 20, 37, 28, 26, 36, 37, 33, 26, 33, 31]"
            ]
          },
          "metadata": {
            "tags": []
          },
          "execution_count": 7
        }
      ]
    },
    {
      "cell_type": "code",
      "metadata": {
        "id": "Av0D0gNp8khe",
        "outputId": "7ef3bf59-9478-48a3-b74f-cedf94f7de57",
        "colab": {
          "base_uri": "https://localhost:8080/"
        }
      },
      "source": [
        "date_str_to_ids(y_example[0], OUTPUT_CHARS)"
      ],
      "execution_count": 8,
      "outputs": [
        {
          "output_type": "execute_result",
          "data": {
            "text/plain": [
              "[7, 0, 7, 5, 10, 0, 9, 10, 2, 0]"
            ]
          },
          "metadata": {
            "tags": []
          },
          "execution_count": 8
        }
      ]
    },
    {
      "cell_type": "code",
      "metadata": {
        "id": "vv-aKRau8vSA"
      },
      "source": [
        "def prepare_date_strs(date_strs, chars=INPUT_CHARS):\n",
        "  X_ids = [date_str_to_ids(dt, chars) for dt in date_strs]\n",
        "  X = tf.ragged.constant(X_ids, ragged_rank=1)\n",
        "  return (X+1).to_tensor() # using 0 as the padding token ID\n",
        "\n",
        "def create_dataset(n_dates):\n",
        "  x, y = random_dates(n_dates)\n",
        "  return prepare_date_strs(x, INPUT_CHARS), prepare_date_strs(y, OUTPUT_CHARS)"
      ],
      "execution_count": 9,
      "outputs": []
    },
    {
      "cell_type": "code",
      "metadata": {
        "id": "zFye05_59VTR"
      },
      "source": [
        "np.random.seed(42)\n",
        "\n",
        "X_train, Y_train = create_dataset(10000)\n",
        "X_valid, Y_valid = create_dataset(2000)\n",
        "X_test, Y_test = create_dataset(2000)"
      ],
      "execution_count": 10,
      "outputs": []
    },
    {
      "cell_type": "code",
      "metadata": {
        "id": "6vIeF4rB9alX",
        "outputId": "fcb249e4-a880-4d72-d949-4940933d1828",
        "colab": {
          "base_uri": "https://localhost:8080/"
        }
      },
      "source": [
        "Y_train.shape"
      ],
      "execution_count": 11,
      "outputs": [
        {
          "output_type": "execute_result",
          "data": {
            "text/plain": [
              "TensorShape([10000, 10])"
            ]
          },
          "metadata": {
            "tags": []
          },
          "execution_count": 11
        }
      ]
    },
    {
      "cell_type": "markdown",
      "metadata": {
        "id": "4v6ARCVd9gZ_"
      },
      "source": [
        "### First version: basic seq2seq model"
      ]
    },
    {
      "cell_type": "code",
      "metadata": {
        "id": "DF024jHb9fSH",
        "outputId": "ced421f0-201a-4d6f-a411-629af437f2a6",
        "colab": {
          "base_uri": "https://localhost:8080/"
        }
      },
      "source": [
        "embedding_size = 32\n",
        "max_output_length = Y_train.shape[1]\n",
        "\n",
        "np.random.seed(42)\n",
        "tf.random.set_seed(42)\n",
        "\n",
        "encoder = keras.models.Sequential([\n",
        "    keras.layers.Embedding(input_dim=len(INPUT_CHARS) + 1,\n",
        "                           output_dim = embedding_size,\n",
        "                           input_shape=[None]),\n",
        "    keras.layers.LSTM(128)\n",
        "])\n",
        "\n",
        "decoder = keras.models.Sequential([\n",
        "    keras.layers.LSTM(128, return_sequences=True),\n",
        "    keras.layers.Dense(len(OUTPUT_CHARS)+1, activation=\"softmax\")\n",
        "])\n",
        "\n",
        "model = keras.models.Sequential([\n",
        "    encoder,\n",
        "    keras.layers.RepeatVector(max_output_length),\n",
        "    decoder\n",
        "])\n",
        "\n",
        "optimizer = keras.optimizers.Nadam()\n",
        "model.compile(loss=\"sparse_categorical_crossentropy\", optimizer=optimizer)\n",
        "history = model.fit(X_train, Y_train, epochs=20,\n",
        "                    validation_data=(X_valid, Y_valid))"
      ],
      "execution_count": 12,
      "outputs": [
        {
          "output_type": "stream",
          "text": [
            "Epoch 1/20\n",
            "313/313 [==============================] - 13s 41ms/step - loss: 1.7955 - val_loss: 1.3513\n",
            "Epoch 2/20\n",
            "313/313 [==============================] - 12s 40ms/step - loss: 1.2933 - val_loss: 1.1348\n",
            "Epoch 3/20\n",
            "313/313 [==============================] - 13s 40ms/step - loss: 1.0733 - val_loss: 0.9109\n",
            "Epoch 4/20\n",
            "313/313 [==============================] - 12s 39ms/step - loss: 0.7964 - val_loss: 0.6749\n",
            "Epoch 5/20\n",
            "313/313 [==============================] - 13s 40ms/step - loss: 0.7810 - val_loss: 0.5758\n",
            "Epoch 6/20\n",
            "313/313 [==============================] - 13s 40ms/step - loss: 0.7051 - val_loss: 0.4820\n",
            "Epoch 7/20\n",
            "313/313 [==============================] - 12s 39ms/step - loss: 0.3950 - val_loss: 0.3390\n",
            "Epoch 8/20\n",
            "313/313 [==============================] - 12s 39ms/step - loss: 0.3356 - val_loss: 0.2460\n",
            "Epoch 9/20\n",
            "313/313 [==============================] - 12s 39ms/step - loss: 0.1894 - val_loss: 0.1464\n",
            "Epoch 10/20\n",
            "313/313 [==============================] - 12s 39ms/step - loss: 0.1150 - val_loss: 0.0836\n",
            "Epoch 11/20\n",
            "313/313 [==============================] - 12s 39ms/step - loss: 0.0693 - val_loss: 0.0470\n",
            "Epoch 12/20\n",
            "313/313 [==============================] - 12s 39ms/step - loss: 0.0331 - val_loss: 0.0280\n",
            "Epoch 13/20\n",
            "313/313 [==============================] - 12s 39ms/step - loss: 0.0193 - val_loss: 0.0171\n",
            "Epoch 14/20\n",
            "313/313 [==============================] - 12s 39ms/step - loss: 0.0121 - val_loss: 0.0116\n",
            "Epoch 15/20\n",
            "313/313 [==============================] - 12s 39ms/step - loss: 0.1614 - val_loss: 0.0496\n",
            "Epoch 16/20\n",
            "313/313 [==============================] - 12s 39ms/step - loss: 0.0222 - val_loss: 0.0137\n",
            "Epoch 17/20\n",
            "313/313 [==============================] - 12s 39ms/step - loss: 0.0091 - val_loss: 0.0082\n",
            "Epoch 18/20\n",
            "313/313 [==============================] - 12s 39ms/step - loss: 0.0057 - val_loss: 0.0056\n",
            "Epoch 19/20\n",
            "313/313 [==============================] - 12s 39ms/step - loss: 0.0040 - val_loss: 0.0042\n",
            "Epoch 20/20\n",
            "313/313 [==============================] - 12s 39ms/step - loss: 0.0030 - val_loss: 0.0032\n"
          ],
          "name": "stdout"
        }
      ]
    },
    {
      "cell_type": "code",
      "metadata": {
        "id": "OMTSoKum_nJm"
      },
      "source": [
        "def ids_to_date_strs(ids, chars=OUTPUT_CHARS):\n",
        "    return [\"\".join([(\"?\" + chars)[index] for index in sequence])\n",
        "            for sequence in ids]"
      ],
      "execution_count": 13,
      "outputs": []
    },
    {
      "cell_type": "code",
      "metadata": {
        "id": "0WGm9p5YAN89",
        "outputId": "b2416153-cf42-4e22-e7fc-eadf01d7350c",
        "colab": {
          "base_uri": "https://localhost:8080/"
        }
      },
      "source": [
        "X_new = prepare_date_strs([\"September 17, 2009\", \"July 14, 1789\"])\n",
        "ids = model.predict_classes(X_new)\n",
        "for date_str in ids_to_date_strs(ids):\n",
        "    print(date_str)"
      ],
      "execution_count": 14,
      "outputs": [
        {
          "output_type": "stream",
          "text": [
            "WARNING:tensorflow:From <ipython-input-14-151c8dbc5145>:2: Sequential.predict_classes (from tensorflow.python.keras.engine.sequential) is deprecated and will be removed after 2021-01-01.\n",
            "Instructions for updating:\n",
            "Please use instead:* `np.argmax(model.predict(x), axis=-1)`,   if your model does multi-class classification   (e.g. if it uses a `softmax` last-layer activation).* `(model.predict(x) > 0.5).astype(\"int32\")`,   if your model does binary classification   (e.g. if it uses a `sigmoid` last-layer activation).\n",
            "2009-09-17\n",
            "1789-07-14\n"
          ],
          "name": "stdout"
        }
      ]
    },
    {
      "cell_type": "markdown",
      "metadata": {
        "id": "Q9cxZSikXw5J"
      },
      "source": [
        "Since the model was only trained on input strings of length 18 (which is the length of the longest date), it does not perform well if we try to use it to make predictions on shorter sequences:"
      ]
    },
    {
      "cell_type": "code",
      "metadata": {
        "id": "_J-9SWFCAVaY",
        "outputId": "cbd2dca6-4b22-417f-bc5c-8ae4f0be34c8",
        "colab": {
          "base_uri": "https://localhost:8080/"
        }
      },
      "source": [
        "X_new = prepare_date_strs([\"May 02, 2020\", \"July 14, 1789\"])\n",
        "ids = model.predict_classes(X_new)\n",
        "for date_str in ids_to_date_strs(ids):\n",
        "    print(date_str)"
      ],
      "execution_count": 15,
      "outputs": [
        {
          "output_type": "stream",
          "text": [
            "2020-02-02\n",
            "1789-02-14\n"
          ],
          "name": "stdout"
        }
      ]
    },
    {
      "cell_type": "markdown",
      "metadata": {
        "id": "Hph94xdQYXtt"
      },
      "source": [
        "we need to ensure that we always pass sequences of the same lenght as during training, using padding if necessary."
      ]
    },
    {
      "cell_type": "code",
      "metadata": {
        "id": "McS29aEAYBqv"
      },
      "source": [
        "max_input_length = X_train.shape[1]\n",
        "\n",
        "def prepare_date_strs_padded(date_strs):\n",
        "  X = prepare_date_strs(date_strs)\n",
        "  if X.shape[1] < max_input_length:\n",
        "    X = tf.pad(X, [[0, 0], [0, max_input_length - X.shape[1]]])\n",
        "  return X\n",
        "\n",
        "def convert_date_strs(date_strs):\n",
        "  X = prepare_date_strs_padded(date_strs)\n",
        "  ids = model.predict_classes(X)\n",
        "  return ids_to_date_strs(ids)\n"
      ],
      "execution_count": 16,
      "outputs": []
    },
    {
      "cell_type": "code",
      "metadata": {
        "id": "G6P2tP87chw9",
        "outputId": "d308ab23-0b3e-40c7-bb14-f2189205c267",
        "colab": {
          "base_uri": "https://localhost:8080/"
        }
      },
      "source": [
        "convert_date_strs([\"May 02, 2020\", \"July 14, 1789\"])"
      ],
      "execution_count": 17,
      "outputs": [
        {
          "output_type": "execute_result",
          "data": {
            "text/plain": [
              "['2020-05-02', '1789-07-14']"
            ]
          },
          "metadata": {
            "tags": []
          },
          "execution_count": 17
        }
      ]
    },
    {
      "cell_type": "markdown",
      "metadata": {
        "id": "S4_dryEFcrra"
      },
      "source": [
        "### Second version: feeding the shifted targets to the encoder (teacher forcing)\n",
        "\n",
        "predict one character at a time, start with an sos token, then feeding the decoder all the characters that were predicted so far"
      ]
    },
    {
      "cell_type": "code",
      "metadata": {
        "id": "CJYKHpTlcldJ"
      },
      "source": [
        "sos_id = len(OUTPUT_CHARS) + 1\n",
        "\n",
        "def shifted_output_sequences(Y):\n",
        "  sos_tokens = tf.fill(dims=(len(Y), 1), value=sos_id)\n",
        "  return tf.concat([sos_tokens, Y[:, :-1]], axis=1)\n",
        "\n",
        "X_train_decoder = shifted_output_sequences(Y_train)\n",
        "X_valid_decoder = shifted_output_sequences(Y_valid)\n",
        "X_test_decoder = shifted_output_sequences(Y_test)"
      ],
      "execution_count": 18,
      "outputs": []
    },
    {
      "cell_type": "code",
      "metadata": {
        "id": "QhZCLsQoeMGS",
        "outputId": "cade0e88-d673-4d76-e23e-2fd2f32a3349",
        "colab": {
          "base_uri": "https://localhost:8080/"
        }
      },
      "source": [
        "X_train_decoder"
      ],
      "execution_count": 19,
      "outputs": [
        {
          "output_type": "execute_result",
          "data": {
            "text/plain": [
              "<tf.Tensor: shape=(10000, 10), dtype=int32, numpy=\n",
              "array([[12,  8,  1, ..., 10, 11,  3],\n",
              "       [12,  9,  6, ...,  6, 11,  2],\n",
              "       [12,  8,  2, ...,  2, 11,  2],\n",
              "       ...,\n",
              "       [12, 10,  8, ...,  2, 11,  4],\n",
              "       [12,  2,  2, ...,  3, 11,  3],\n",
              "       [12,  8,  9, ...,  8, 11,  3]], dtype=int32)>"
            ]
          },
          "metadata": {
            "tags": []
          },
          "execution_count": 19
        }
      ]
    },
    {
      "cell_type": "code",
      "metadata": {
        "id": "NU2-RCfteW6T",
        "outputId": "2e6b3fda-6b95-43c0-9ffa-7cc364402d10",
        "colab": {
          "base_uri": "https://localhost:8080/"
        }
      },
      "source": [
        "encoder_embedding_size = 32\n",
        "decoder_embedding_size = 32\n",
        "lstm_units = 128\n",
        "\n",
        "np.random.seed(42)\n",
        "tf.random.set_seed(42)\n",
        "\n",
        "encoder_input = keras.layers.Input(shape=[None], dtype=tf.int32)\n",
        "encoder_embedding = keras.layers.Embedding(\n",
        "    input_dim=len(INPUT_CHARS)+1,\n",
        "    output_dim = encoder_embedding_size\n",
        ")(encoder_input)\n",
        "\n",
        "_, encoder_state_h, encoder_state_c = keras.layers.LSTM(\n",
        "    lstm_units, return_state=True\n",
        ")(encoder_embedding)\n",
        "encoder_state = [encoder_state_h, encoder_state_c]\n",
        "\n",
        "decoder_input = keras.layers.Input(shape=[None], dtype=tf.int32)\n",
        "decoder_embedding = keras.layers.Embedding(\n",
        "    input_dim=len(OUTPUT_CHARS) + 2,\n",
        "    output_dim=decoder_embedding_size\n",
        ")(decoder_input)\n",
        "decoder_lstm_output = keras.layers.LSTM(lstm_units, return_sequences=True)(\n",
        "    decoder_embedding, initial_state=encoder_state)\n",
        "decoder_output = keras.layers.Dense(len(OUTPUT_CHARS) + 1,\n",
        "                                    activation=\"softmax\")(decoder_lstm_output)\n",
        "\n",
        "model = keras.models.Model(inputs=[encoder_input, decoder_input],\n",
        "                           outputs=[decoder_output])\n",
        "\n",
        "optimizer = keras.optimizers.Nadam()\n",
        "model.compile(loss=\"sparse_categorical_crossentropy\", optimizer=optimizer,\n",
        "              metrics=[\"accuracy\"])\n",
        "history = model.fit([X_train, X_train_decoder], Y_train, epochs=10,\n",
        "                    validation_data=([X_valid, X_valid_decoder], Y_valid))"
      ],
      "execution_count": 20,
      "outputs": [
        {
          "output_type": "stream",
          "text": [
            "Epoch 1/10\n",
            "313/313 [==============================] - 12s 39ms/step - loss: 1.6847 - accuracy: 0.3744 - val_loss: 1.4174 - val_accuracy: 0.4638\n",
            "Epoch 2/10\n",
            "313/313 [==============================] - 12s 38ms/step - loss: 1.2021 - accuracy: 0.5575 - val_loss: 0.9748 - val_accuracy: 0.6436\n",
            "Epoch 3/10\n",
            "313/313 [==============================] - 11s 37ms/step - loss: 0.6212 - accuracy: 0.7829 - val_loss: 0.9875 - val_accuracy: 0.6988\n",
            "Epoch 4/10\n",
            "313/313 [==============================] - 12s 37ms/step - loss: 0.2020 - accuracy: 0.9544 - val_loss: 0.0927 - val_accuracy: 0.9893\n",
            "Epoch 5/10\n",
            "313/313 [==============================] - 11s 37ms/step - loss: 0.0769 - accuracy: 0.9910 - val_loss: 0.0381 - val_accuracy: 0.9991\n",
            "Epoch 6/10\n",
            "313/313 [==============================] - 11s 36ms/step - loss: 0.0260 - accuracy: 0.9996 - val_loss: 0.0196 - val_accuracy: 0.9998\n",
            "Epoch 7/10\n",
            "313/313 [==============================] - 12s 37ms/step - loss: 0.0144 - accuracy: 1.0000 - val_loss: 0.0119 - val_accuracy: 0.9999\n",
            "Epoch 8/10\n",
            "313/313 [==============================] - 12s 38ms/step - loss: 0.0645 - accuracy: 0.9880 - val_loss: 0.0129 - val_accuracy: 0.9998\n",
            "Epoch 9/10\n",
            "313/313 [==============================] - 12s 38ms/step - loss: 0.0089 - accuracy: 1.0000 - val_loss: 0.0073 - val_accuracy: 1.0000\n",
            "Epoch 10/10\n",
            "313/313 [==============================] - 12s 37ms/step - loss: 0.0056 - accuracy: 1.0000 - val_loss: 0.0052 - val_accuracy: 1.0000\n"
          ],
          "name": "stdout"
        }
      ]
    },
    {
      "cell_type": "code",
      "metadata": {
        "id": "XnLI2AfRh75-"
      },
      "source": [
        "sos_id = len(OUTPUT_CHARS) + 1\n",
        "\n",
        "def predict_date_strs(date_strs):\n",
        "    X = prepare_date_strs_padded(date_strs)\n",
        "    Y_pred = tf.fill(dims=(len(X), 1), value=sos_id)\n",
        "    for index in range(max_output_length):\n",
        "        pad_size = max_output_length - Y_pred.shape[1]\n",
        "        X_decoder = tf.pad(Y_pred, [[0, 0], [0, pad_size]])\n",
        "        Y_probas_next = model.predict([X, X_decoder])[:, index:index+1]\n",
        "        Y_pred_next = tf.argmax(Y_probas_next, axis=-1, output_type=tf.int32)\n",
        "        Y_pred = tf.concat([Y_pred, Y_pred_next], axis=1)\n",
        "    return ids_to_date_strs(Y_pred[:, 1:])"
      ],
      "execution_count": 21,
      "outputs": []
    },
    {
      "cell_type": "code",
      "metadata": {
        "id": "eGrSm5bqiPvf",
        "outputId": "70f1bb5d-972f-42c2-e96b-309fe6442221",
        "colab": {
          "base_uri": "https://localhost:8080/"
        }
      },
      "source": [
        "predict_date_strs([\"July 14, 1789\", \"May 01, 2020\"])"
      ],
      "execution_count": 22,
      "outputs": [
        {
          "output_type": "execute_result",
          "data": {
            "text/plain": [
              "['1789-07-14', '2020-05-01']"
            ]
          },
          "metadata": {
            "tags": []
          },
          "execution_count": 22
        }
      ]
    },
    {
      "cell_type": "markdown",
      "metadata": {
        "id": "JoYAXa36kSJO"
      },
      "source": [
        "### Third version: using TF-Addons's seq2seq implementation\n",
        "\n"
      ]
    },
    {
      "cell_type": "code",
      "metadata": {
        "id": "u9PHy3L0mFUH",
        "outputId": "5a0025d0-d036-42c7-c142-a7ae59799f6e",
        "colab": {
          "base_uri": "https://localhost:8080/"
        }
      },
      "source": [
        "import tensorflow_addons as tfa\n",
        "\n",
        "np.random.seed(42)\n",
        "tf.random.set_seed(42)\n",
        "\n",
        "encoder_embedding_size = 32\n",
        "decoder_embedding_size = 32\n",
        "\n",
        "units = 128\n",
        "\n",
        "encoder_inputs = keras.layers.Input(shape=[None], dtype=np.int32)\n",
        "decoder_inputs = keras.layers.Input(shape=[None], dtype=np.int32)\n",
        "sequence_lengths = keras.layers.Input(shape=[], dtype=np.int32)\n",
        "\n",
        "encoder_embeddings = keras.layers.Embedding(\n",
        "    len(INPUT_CHARS) + 1, encoder_embedding_size\n",
        ")(encoder_inputs)\n",
        "\n",
        "decoder_embedding_layer = keras.layers.Embedding(\n",
        "    len(OUTPUT_CHARS) + 2, decoder_embedding_size\n",
        ")\n",
        "\n",
        "decoder_embeddings = decoder_embedding_layer(decoder_inputs)\n",
        "\n",
        "encoder = keras.layers.LSTM(units, return_state=True)\n",
        "encoder_outputs, state_h, state_c = encoder(encoder_embeddings)\n",
        "encoder_state = [state_h, state_c]\n",
        "\n",
        "sampler = tfa.seq2seq.sampler.TrainingSampler()\n",
        "\n",
        "decoder_cell = keras.layers.LSTMCell(units)\n",
        "output_layer = keras.layers.Dense(len(OUTPUT_CHARS) + 1)\n",
        "\n",
        "decoder = tfa.seq2seq.basic_decoder.BasicDecoder(decoder_cell,\n",
        "                                                 sampler,\n",
        "                                                 output_layer=output_layer)\n",
        "\n",
        "final_outputs, final_sate, final_sequence_lengths = decoder(\n",
        "    decoder_embeddings,\n",
        "    initial_state=encoder_state\n",
        ")\n",
        "Y_proba = keras.layers.Activation(\"softmax\")(final_outputs.rnn_output)\n",
        "\n",
        "model = keras.models.Model(inputs=[encoder_inputs, decoder_inputs],\n",
        "                           outputs = [Y_proba])\n",
        "\n",
        "optimizer = keras.optimizers.Nadam()\n",
        "model.compile(loss=\"sparse_categorical_crossentropy\", optimizer= optimizer,\n",
        "              metrics=[\"accuracy\"])\n",
        "history = model.fit([X_train, X_train_decoder], Y_train, epochs=15,\n",
        "                    validation_data=([X_valid, X_valid_decoder], Y_valid))"
      ],
      "execution_count": 28,
      "outputs": [
        {
          "output_type": "stream",
          "text": [
            "Epoch 1/15\n",
            "313/313 [==============================] - 12s 39ms/step - loss: 1.6774 - accuracy: 0.3673 - val_loss: 1.5041 - val_accuracy: 0.3938\n",
            "Epoch 2/15\n",
            "313/313 [==============================] - 11s 37ms/step - loss: 1.3724 - accuracy: 0.4712 - val_loss: 1.2208 - val_accuracy: 0.5393\n",
            "Epoch 3/15\n",
            "313/313 [==============================] - 12s 37ms/step - loss: 0.9477 - accuracy: 0.6564 - val_loss: 0.6660 - val_accuracy: 0.7654\n",
            "Epoch 4/15\n",
            "313/313 [==============================] - 12s 38ms/step - loss: 0.4154 - accuracy: 0.8685 - val_loss: 0.1874 - val_accuracy: 0.9656\n",
            "Epoch 5/15\n",
            "313/313 [==============================] - 12s 37ms/step - loss: 0.1298 - accuracy: 0.9805 - val_loss: 0.4355 - val_accuracy: 0.8551\n",
            "Epoch 6/15\n",
            "313/313 [==============================] - 12s 37ms/step - loss: 0.0485 - accuracy: 0.9969 - val_loss: 0.0322 - val_accuracy: 0.9994\n",
            "Epoch 7/15\n",
            "313/313 [==============================] - 12s 37ms/step - loss: 0.0217 - accuracy: 0.9997 - val_loss: 0.0167 - val_accuracy: 0.9999\n",
            "Epoch 8/15\n",
            "313/313 [==============================] - 11s 37ms/step - loss: 0.0546 - accuracy: 0.9901 - val_loss: 0.0216 - val_accuracy: 0.9997\n",
            "Epoch 9/15\n",
            "313/313 [==============================] - 11s 37ms/step - loss: 0.0123 - accuracy: 1.0000 - val_loss: 0.0092 - val_accuracy: 1.0000\n",
            "Epoch 10/15\n",
            "313/313 [==============================] - 12s 37ms/step - loss: 0.0070 - accuracy: 1.0000 - val_loss: 0.0063 - val_accuracy: 1.0000\n",
            "Epoch 11/15\n",
            "313/313 [==============================] - 12s 37ms/step - loss: 0.0050 - accuracy: 1.0000 - val_loss: 0.0047 - val_accuracy: 1.0000\n",
            "Epoch 12/15\n",
            "313/313 [==============================] - 12s 37ms/step - loss: 0.0038 - accuracy: 1.0000 - val_loss: 0.0036 - val_accuracy: 1.0000\n",
            "Epoch 13/15\n",
            "313/313 [==============================] - 12s 37ms/step - loss: 0.0029 - accuracy: 1.0000 - val_loss: 0.0028 - val_accuracy: 1.0000\n",
            "Epoch 14/15\n",
            "313/313 [==============================] - 12s 37ms/step - loss: 0.0023 - accuracy: 1.0000 - val_loss: 0.0022 - val_accuracy: 1.0000\n",
            "Epoch 15/15\n",
            "313/313 [==============================] - 12s 37ms/step - loss: 0.0018 - accuracy: 1.0000 - val_loss: 0.0018 - val_accuracy: 1.0000\n"
          ],
          "name": "stdout"
        }
      ]
    },
    {
      "cell_type": "code",
      "metadata": {
        "id": "cootdruS1sbp",
        "outputId": "273c3436-12ec-45ed-c698-d32ad39efec8",
        "colab": {
          "base_uri": "https://localhost:8080/"
        }
      },
      "source": [
        "predict_date_strs([\"July 14, 1789\", \"May 01, 2020\"])"
      ],
      "execution_count": 29,
      "outputs": [
        {
          "output_type": "execute_result",
          "data": {
            "text/plain": [
              "['1789-07-14', '2020-05-01']"
            ]
          },
          "metadata": {
            "tags": []
          },
          "execution_count": 29
        }
      ]
    },
    {
      "cell_type": "markdown",
      "metadata": {
        "id": "5fqvuT927KQ4"
      },
      "source": [
        "During inference, we've run the model once fro each new character. Instead, we can create a new decoder, based on the previously trained layers, but using a ```GreedyEmbeddingSampler``` instead of a ```TrainingSampler```.\n",
        "\n",
        "At each time step, the ```GreedyEmbeddingSampler``` will compute the argmax of the decoder's outputs, and run the resulting token IDs through the deocder's embedding layer. Then it will feed the resultging embeddings to the decoder's LSTM cell at the next time step. This way, we only need to run the decoder once to get the full prediction."
      ]
    },
    {
      "cell_type": "code",
      "metadata": {
        "id": "1DmgjPfQ2o-e"
      },
      "source": [
        "inference_sampler = tfa.seq2seq.sampler.GreedyEmbeddingSampler(\n",
        "    embedding_fn = decoder_embedding_layer\n",
        ")\n",
        "inference_decoder = tfa.seq2seq.basic_decoder.BasicDecoder(\n",
        "    decoder_cell, inference_sampler, output_layer=output_layer,\n",
        "    maximum_iterations=max_output_length\n",
        ")\n",
        "batch_size = tf.shape(encoder_inputs)[:1]\n",
        "start_tokens = tf.fill(dims=batch_size, value = sos_id)\n",
        "final_outputs, final_state, final_sequence_lengths=inference_decoder(\n",
        "    start_tokens,\n",
        "    initial_state=encoder_state,\n",
        "    start_tokens=start_tokens,\n",
        "    end_token=0\n",
        ")\n",
        "\n",
        "inference_model = keras.models.Model(inputs=[encoder_inputs],\n",
        "                                     outputs=[final_outputs.sample_id])"
      ],
      "execution_count": 30,
      "outputs": []
    },
    {
      "cell_type": "markdown",
      "metadata": {
        "id": "Is4KfA3yNXKw"
      },
      "source": [
        "A few notes:\n",
        "* The `GreedyEmbeddingSampler` needs the `start_tokens` (a vector containing the start-of-sequence ID for each decoder sequence), and the `end_token` (the decoder will stop decoding a sequence once the model outputs this token\n",
        "* We must set `maximum_iterations` when creating the `BasicDecoder`, or else it may run into an infinite loop (if the model never outputs the end token for at least one of the sequences). This would force you would to restart the Jupyter Kernel.\n",
        "* The decoder inputs are not needed anymore, since all the decoder inputs are generated dynamically based on the outputs from previous time step.\n",
        "* The model's outputs are `final_outputs.sample_id` instead of the softmax of `final_outputs.rnn_outputs`. This allows us to directly get the argmax of the model's outputs. If you prefer to have access to the logits, you can replace `final_outputs.sample_id` with `final_outputs.rnn_outputs`.\n",
        "\n",
        "Now we can write a simple function that uses the model to perform the date format conversion:"
      ]
    },
    {
      "cell_type": "code",
      "metadata": {
        "id": "BaSdWaAAEtLA"
      },
      "source": [
        "def fast_predict_date_strs(date_strs):\n",
        "  X = prepare_date_strs_padded(date_strs)\n",
        "  Y_pred = inference_model.predict(X)\n",
        "  return ids_to_date_strs(Y_pred)"
      ],
      "execution_count": 31,
      "outputs": []
    },
    {
      "cell_type": "code",
      "metadata": {
        "id": "A1Y6yPkmTOFR",
        "outputId": "8af93caa-7482-47b2-f3b1-24d15e571f9b",
        "colab": {
          "base_uri": "https://localhost:8080/"
        }
      },
      "source": [
        "fast_predict_date_strs([\"July 14, 1789\", \"May 01, 2020\"])"
      ],
      "execution_count": 32,
      "outputs": [
        {
          "output_type": "execute_result",
          "data": {
            "text/plain": [
              "['1789-07-14', '2020-05-01']"
            ]
          },
          "metadata": {
            "tags": []
          },
          "execution_count": 32
        }
      ]
    },
    {
      "cell_type": "code",
      "metadata": {
        "id": "_u9NfVRCTPfn",
        "outputId": "88a6a263-89a5-46c8-ad5b-9f1a2626f0c4",
        "colab": {
          "base_uri": "https://localhost:8080/"
        }
      },
      "source": [
        "%timeit predict_date_strs([\"July 14, 1789\", \"May 01, 2020\"])"
      ],
      "execution_count": 33,
      "outputs": [
        {
          "output_type": "stream",
          "text": [
            "1 loop, best of 3: 426 ms per loop\n"
          ],
          "name": "stdout"
        }
      ]
    },
    {
      "cell_type": "code",
      "metadata": {
        "id": "nRl9VNA3TSQW",
        "outputId": "d3701648-dae9-4695-86b5-6306dae39a9e",
        "colab": {
          "base_uri": "https://localhost:8080/"
        }
      },
      "source": [
        "%timeit fast_predict_date_strs([\"July 14, 1789\", \"May 01, 2020\"])"
      ],
      "execution_count": 34,
      "outputs": [
        {
          "output_type": "stream",
          "text": [
            "10 loops, best of 3: 41 ms per loop\n"
          ],
          "name": "stdout"
        }
      ]
    },
    {
      "cell_type": "markdown",
      "metadata": {
        "id": "mcHGjWcfTX4_"
      },
      "source": [
        "### Fourth version: using TF-Addons's seq2seq implementation with a scheduled sampler\n",
        "\n",
        "only work on TensorFlower 2.2\n",
        "\n",
        "when we trained the previous model, at each time step t we gave the model the target token for time step t-1. However, at inference time, the model did not get the previous target at each time step. Instead, it got the previous prediction. So there is a discrepancy between training and inference, which may lead to disappointing performance. To alleviate this, we can gradually replace the targets with predictions, during training. For this, we just need to replace the `TrainingSampler` with a `ScheduledEmbeddingTrainingSampler`, and use a keras. callback to gradually increase the `sampling_probability` (i.e., the probability that the decoder will use the prediction from the previous time step rather than the target for the previous time stpe)."
      ]
    },
    {
      "cell_type": "code",
      "metadata": {
        "id": "9f5Isq3UTUAe",
        "outputId": "d1a2d82a-81bd-48bd-d17e-b9df33f5587f",
        "colab": {
          "base_uri": "https://localhost:8080/",
          "height": 35
        }
      },
      "source": [
        "tf.__version__"
      ],
      "execution_count": 35,
      "outputs": [
        {
          "output_type": "execute_result",
          "data": {
            "application/vnd.google.colaboratory.intrinsic+json": {
              "type": "string"
            },
            "text/plain": [
              "'2.3.0'"
            ]
          },
          "metadata": {
            "tags": []
          },
          "execution_count": 35
        }
      ]
    },
    {
      "cell_type": "code",
      "metadata": {
        "id": "HsN7SxMiXXLS",
        "outputId": "d7d53d00-c95c-4090-8df7-f0bb120c066e",
        "colab": {
          "base_uri": "https://localhost:8080/"
        }
      },
      "source": [
        "import tensorflow_addons as tfa\n",
        "\n",
        "np.random.seed(42)\n",
        "tf.random.set_seed(42)\n",
        "\n",
        "n_epochs = 20\n",
        "encoder_embedding_size = 32\n",
        "decoder_embedding_size = 32\n",
        "units = 128\n",
        "\n",
        "encoder_inputs = keras.layers.Input(shape=[None], dtype=np.int32)\n",
        "decoder_inputs = keras.layers.Input(shape=[None], dtype=np.int32)\n",
        "sequence_lengths = keras.layers.Input(shape=[], dtype=np.int32)\n",
        "\n",
        "encoder_embeddings = keras.layers.Embedding(\n",
        "    len(INPUT_CHARS) + 1, encoder_embedding_size)(encoder_inputs)\n",
        "\n",
        "decoder_embedding_layer = keras.layers.Embedding(\n",
        "    len(OUTPUT_CHARS) + 2, decoder_embedding_size)\n",
        "decoder_embeddings = decoder_embedding_layer(decoder_inputs)\n",
        "\n",
        "encoder = keras.layers.LSTM(units, return_state=True)\n",
        "encoder_outputs, state_h, state_c = encoder(encoder_embeddings)\n",
        "encoder_state = [state_h, state_c]\n",
        "\n",
        "sampler = tfa.seq2seq.sampler.ScheduledEmbeddingTrainingSampler(\n",
        "    sampling_probability=0.,\n",
        "    embedding_fn=decoder_embedding_layer)\n",
        "# we must set the sampling_probability after creating the sampler\n",
        "# (see https://github.com/tensorflow/addons/pull/1714)\n",
        "sampler.sampling_probability = tf.Variable(0.)\n",
        "\n",
        "decoder_cell = keras.layers.LSTMCell(units)\n",
        "output_layer = keras.layers.Dense(len(OUTPUT_CHARS) + 1)\n",
        "\n",
        "decoder = tfa.seq2seq.basic_decoder.BasicDecoder(decoder_cell,\n",
        "                                                 sampler,\n",
        "                                                 output_layer=output_layer)\n",
        "final_outputs, final_state, final_sequence_lengths = decoder(\n",
        "    decoder_embeddings,\n",
        "    initial_state=encoder_state)\n",
        "Y_proba = keras.layers.Activation(\"softmax\")(final_outputs.rnn_output)\n",
        "\n",
        "model = keras.models.Model(inputs=[encoder_inputs, decoder_inputs],\n",
        "                           outputs=[Y_proba])\n",
        "optimizer = keras.optimizers.Nadam()\n",
        "model.compile(loss=\"sparse_categorical_crossentropy\", optimizer=optimizer,\n",
        "              metrics=[\"accuracy\"])\n",
        "\n",
        "def update_sampling_probability(epoch, logs):\n",
        "    proba = min(1.0, epoch / (n_epochs - 10))\n",
        "    sampler.sampling_probability.assign(proba)\n",
        "\n",
        "sampling_probability_cb = keras.callbacks.LambdaCallback(\n",
        "    on_epoch_begin=update_sampling_probability)\n",
        "history = model.fit([X_train, X_train_decoder], Y_train, epochs=n_epochs,\n",
        "                    validation_data=([X_valid, X_valid_decoder], Y_valid),\n",
        "                    callbacks=[sampling_probability_cb])"
      ],
      "execution_count": 36,
      "outputs": [
        {
          "output_type": "stream",
          "text": [
            "Epoch 1/20\n"
          ],
          "name": "stdout"
        },
        {
          "output_type": "stream",
          "text": [
            "/usr/local/lib/python3.6/dist-packages/tensorflow/python/framework/indexed_slices.py:432: UserWarning: Converting sparse IndexedSlices to a dense Tensor of unknown shape. This may consume a large amount of memory.\n",
            "  \"Converting sparse IndexedSlices to a dense Tensor of unknown shape. \"\n"
          ],
          "name": "stderr"
        },
        {
          "output_type": "stream",
          "text": [
            "313/313 [==============================] - 13s 42ms/step - loss: 1.6773 - accuracy: 0.3673 - val_loss: 1.5088 - val_accuracy: 0.3905\n",
            "Epoch 2/20\n",
            "313/313 [==============================] - 12s 39ms/step - loss: 1.3917 - accuracy: 0.4608 - val_loss: 1.2728 - val_accuracy: 0.5129\n",
            "Epoch 3/20\n",
            "313/313 [==============================] - 12s 40ms/step - loss: 1.0011 - accuracy: 0.6296 - val_loss: 0.7776 - val_accuracy: 0.7161\n",
            "Epoch 4/20\n",
            "313/313 [==============================] - 12s 39ms/step - loss: 0.6151 - accuracy: 0.7739 - val_loss: 0.4298 - val_accuracy: 0.8450\n",
            "Epoch 5/20\n",
            "313/313 [==============================] - 12s 39ms/step - loss: 0.3386 - accuracy: 0.8857 - val_loss: 0.2534 - val_accuracy: 0.9234\n",
            "Epoch 6/20\n",
            "313/313 [==============================] - 12s 39ms/step - loss: 0.1975 - accuracy: 0.9437 - val_loss: 0.1463 - val_accuracy: 0.9613\n",
            "Epoch 7/20\n",
            "313/313 [==============================] - 13s 40ms/step - loss: 0.1690 - accuracy: 0.9584 - val_loss: 0.1089 - val_accuracy: 0.9744\n",
            "Epoch 8/20\n",
            "313/313 [==============================] - 12s 39ms/step - loss: 0.0827 - accuracy: 0.9818 - val_loss: 0.0700 - val_accuracy: 0.9867\n",
            "Epoch 9/20\n",
            "313/313 [==============================] - 12s 40ms/step - loss: 0.0472 - accuracy: 0.9914 - val_loss: 0.0389 - val_accuracy: 0.9924\n",
            "Epoch 10/20\n",
            "313/313 [==============================] - 12s 40ms/step - loss: 0.0284 - accuracy: 0.9954 - val_loss: 0.0250 - val_accuracy: 0.9959\n",
            "Epoch 11/20\n",
            "313/313 [==============================] - 12s 39ms/step - loss: 0.1714 - accuracy: 0.9567 - val_loss: 0.2511 - val_accuracy: 0.9410\n",
            "Epoch 12/20\n",
            "313/313 [==============================] - 13s 40ms/step - loss: 0.0732 - accuracy: 0.9880 - val_loss: 0.0348 - val_accuracy: 0.9945\n",
            "Epoch 13/20\n",
            "313/313 [==============================] - 12s 39ms/step - loss: 0.0223 - accuracy: 0.9976 - val_loss: 0.0181 - val_accuracy: 0.9972\n",
            "Epoch 14/20\n",
            "313/313 [==============================] - 12s 39ms/step - loss: 0.0141 - accuracy: 0.9983 - val_loss: 0.0120 - val_accuracy: 0.9987\n",
            "Epoch 15/20\n",
            "313/313 [==============================] - 12s 39ms/step - loss: 0.0089 - accuracy: 0.9991 - val_loss: 0.0083 - val_accuracy: 0.9990\n",
            "Epoch 16/20\n",
            "313/313 [==============================] - 15s 47ms/step - loss: 0.0060 - accuracy: 0.9995 - val_loss: 0.0068 - val_accuracy: 0.9994\n",
            "Epoch 17/20\n",
            "313/313 [==============================] - 12s 39ms/step - loss: 0.0554 - accuracy: 0.9882 - val_loss: 0.0189 - val_accuracy: 0.9984\n",
            "Epoch 18/20\n",
            "313/313 [==============================] - 12s 39ms/step - loss: 0.0076 - accuracy: 0.9995 - val_loss: 0.0053 - val_accuracy: 0.9995\n",
            "Epoch 19/20\n",
            "313/313 [==============================] - 12s 39ms/step - loss: 0.0038 - accuracy: 0.9998 - val_loss: 0.0048 - val_accuracy: 0.9993\n",
            "Epoch 20/20\n",
            "313/313 [==============================] - 13s 41ms/step - loss: 0.0030 - accuracy: 0.9998 - val_loss: 0.0030 - val_accuracy: 0.9997\n"
          ],
          "name": "stdout"
        }
      ]
    },
    {
      "cell_type": "markdown",
      "metadata": {
        "id": "_EkGy9q2cgeN"
      },
      "source": [
        "`softmax_temperature` argument servers the same purpose as when we generated Shakespeare-like text (the higher this argument, the more random the generated text will be)."
      ]
    },
    {
      "cell_type": "code",
      "metadata": {
        "id": "1yV4LkjlZraA"
      },
      "source": [
        "softmax_temperature = tf.Variable(1.)\n",
        "\n",
        "inference_sampler = tfa.seq2seq.sampler.SampleEmbeddingSampler(\n",
        "    embedding_fn=decoder_embedding_layer,\n",
        "    softmax_temperature=softmax_temperature)\n",
        "inference_decoder = tfa.seq2seq.basic_decoder.BasicDecoder(\n",
        "    decoder_cell, inference_sampler, output_layer=output_layer,\n",
        "    maximum_iterations=max_output_length)\n",
        "batch_size = tf.shape(encoder_inputs)[:1]\n",
        "start_tokens = tf.fill(dims=batch_size, value=sos_id)\n",
        "final_outputs, final_state, final_sequence_lengths = inference_decoder(\n",
        "    start_tokens,\n",
        "    initial_state=encoder_state,\n",
        "    start_tokens=start_tokens,\n",
        "    end_token=0)\n",
        "\n",
        "inference_model = keras.models.Model(inputs=[encoder_inputs],\n",
        "                                     outputs=[final_outputs.sample_id])"
      ],
      "execution_count": 37,
      "outputs": []
    },
    {
      "cell_type": "code",
      "metadata": {
        "id": "RZmQJ0yFcbtc"
      },
      "source": [
        "def creative_predict_date_strs(date_strs, temperature=1.0):\n",
        "  softmax_temperature.assign(temperature)\n",
        "  X = prepare_date_strs_padded(date_strs)\n",
        "  Y_pred = inference_model.predict(X)\n",
        "  return ids_to_date_strs(Y_pred)"
      ],
      "execution_count": 38,
      "outputs": []
    },
    {
      "cell_type": "code",
      "metadata": {
        "id": "a3H_QHgCdLaU",
        "outputId": "91d9fcdf-9e03-41bb-da4e-d1cadf52ef22",
        "colab": {
          "base_uri": "https://localhost:8080/"
        }
      },
      "source": [
        "tf.random.set_seed(42)\n",
        "\n",
        "creative_predict_date_strs([\"July 14, 1789\", \"May 01, 2020\"])"
      ],
      "execution_count": 39,
      "outputs": [
        {
          "output_type": "execute_result",
          "data": {
            "text/plain": [
              "['1789-07-14', '2020-05-01']"
            ]
          },
          "metadata": {
            "tags": []
          },
          "execution_count": 39
        }
      ]
    },
    {
      "cell_type": "code",
      "metadata": {
        "id": "uLpR7AGjdRLS",
        "outputId": "b3dda8e0-f55a-4d4d-e592-b882b12ad367",
        "colab": {
          "base_uri": "https://localhost:8080/"
        }
      },
      "source": [
        "tf.random.set_seed(42)\n",
        "\n",
        "creative_predict_date_strs([\"July 14, 1789\", \"May 01, 2020\"],\n",
        "                           temperature=5.)"
      ],
      "execution_count": 40,
      "outputs": [
        {
          "output_type": "execute_result",
          "data": {
            "text/plain": [
              "['3489507-12', '8282-21-01']"
            ]
          },
          "metadata": {
            "tags": []
          },
          "execution_count": 40
        }
      ]
    },
    {
      "cell_type": "markdown",
      "metadata": {
        "id": "DiE-qDj7dWvy"
      },
      "source": [
        "### Fifth version: using TFA seq2seq, the keras subclassing API and attention mechanisms\n",
        "\n",
        "The sequences in this problem are pretty short, but if we wanted to tackle longer sequences, we would probably have to use attention mechanisms. While it's possible to code our own implementation, it's simpler and more efficient to use TF-Addibs's implementation instead. Let's do that now, this time using keras' subclassing API.\n",
        "\n",
        "In this implementation, we've reverted back to using the `TrainingSampler`, for simplicity (but you can easily tweak it to use a `ScheduledEmbeddingTrainingSampler` instead). We also use a `GreedyEmbeddingSampler` during inference, so this class is pretty easy to use:"
      ]
    },
    {
      "cell_type": "code",
      "metadata": {
        "id": "UUrfbHCZdUIS"
      },
      "source": [
        "class DateTranslation(keras.models.Model):\n",
        "  def __init__(self, units=128, encoder_embedding_size=32,\n",
        "               decoder_embedding_size=32, **kwargs):\n",
        "    super().__init__(**kwargs)\n",
        "    self.encoder_embedding = keras.layers.Embedding(\n",
        "        input_dim=len(INPUT_CHARS)+1,\n",
        "        output_dim=encoder_embedding_size\n",
        "    )\n",
        "    self.encoder = keras.layers.LSTM(units,\n",
        "                                     return_sequences=True,\n",
        "                                     return_state=True)\n",
        "    self.decoder_embedding = keras.layers.Embedding(\n",
        "        input_dim=len(OUTPUT_CHARS)+2,\n",
        "        output_dim=decoder_embedding_size\n",
        "    )\n",
        "    self.attention = tfa.seq2seq.LuongAttention(units)\n",
        "    decoder_inner_cell = keras.layers.LSTMCell(units)\n",
        "    self.decoder_cell = tfa.seq2seq.AttentionWrapper(\n",
        "        cell=decoder_inner_cell,\n",
        "        attention_mechanism=self.attention\n",
        "    )\n",
        "    output_layer = keras.layers.Dense(len(OUTPUT_CHARS)+1)\n",
        "    self.decoder = tfa.seq2seq.BasicDecoder(\n",
        "        cell=self.decoder_cell,\n",
        "        sampler=tfa.seq2seq.sampler.TrainingSampler(),\n",
        "        output_layer=output_layer\n",
        "    )\n",
        "    self.inference_decoder = tfa.seq2seq.BasicDecoder(\n",
        "        cell=self.decoder_cell,\n",
        "        sampler=tfa.seq2seq.sampler.GreedyEmbeddingSampler(\n",
        "            embedding_fn=self.decoder_embedding\n",
        "        ),\n",
        "        output_layer=output_layer,\n",
        "        maximum_iterations=max_output_length\n",
        "    )\n",
        "  def call(self, inputs, training=None):\n",
        "    encoder_input, decoder_input = inputs\n",
        "    encoder_embeddings = self.encoder_embedding(encoder_input)\n",
        "    encoder_outputs, encoder_state_h, encoder_state_c = self.encoder(\n",
        "        encoder_embeddings,\n",
        "        training=training\n",
        "    )\n",
        "    encoder_state = [encoder_state_h, encoder_state_c]\n",
        "\n",
        "    self.attention(encoder_outputs,\n",
        "                   setup_memory=True)\n",
        "    \n",
        "    decoder_embeddings = self.decoder_embedding(decoder_input)\n",
        "\n",
        "    decoder_initial_state = self.decoder_cell.get_initial_state(\n",
        "        decoder_embeddings\n",
        "    )\n",
        "    decoder_initial_state = decoder_initial_state.clone(\n",
        "        cell_state=encoder_state\n",
        "    )\n",
        "\n",
        "    if training:\n",
        "      decoder_outputs, _, _ = self.decoder(\n",
        "          decoder_embeddings,\n",
        "          initial_state=decoder_initial_state,\n",
        "          training=training\n",
        "      )\n",
        "    else:\n",
        "      start_tokens = tf.zeros_like(encoder_input[:, 0]) + sos_id\n",
        "      decoder_outputs, _, _ = self.inference_decoder(\n",
        "          decoder_embeddings,\n",
        "          initial_state=decoder_initial_state,\n",
        "          start_tokens=start_tokens,\n",
        "          end_token=0\n",
        "      )\n",
        "    return tf.nn.softmax(decoder_outputs.rnn_output)"
      ],
      "execution_count": 49,
      "outputs": []
    },
    {
      "cell_type": "code",
      "metadata": {
        "id": "MzdgWYSri902",
        "outputId": "06335769-0771-4338-d74b-960a467b3af3",
        "colab": {
          "base_uri": "https://localhost:8080/"
        }
      },
      "source": [
        "np.random.seed(42)\n",
        "tf.random.set_seed(42)\n",
        "\n",
        "model = DateTranslation()\n",
        "optimizer = keras.optimizers.Nadam()\n",
        "model.compile(loss=\"sparse_categorical_crossentropy\", optimizer=optimizer,\n",
        "              metrics=[\"accuracy\"])\n",
        "history = model.fit([X_train, X_train_decoder], Y_train, epochs=25,\n",
        "                    validation_data=([X_valid, X_valid_decoder], Y_valid))"
      ],
      "execution_count": 50,
      "outputs": [
        {
          "output_type": "stream",
          "text": [
            "Epoch 1/25\n",
            "313/313 [==============================] - 17s 54ms/step - loss: 2.1427 - accuracy: 0.2296 - val_loss: 2.0216 - val_accuracy: 0.2663\n",
            "Epoch 2/25\n",
            "313/313 [==============================] - 16s 51ms/step - loss: 1.9566 - accuracy: 0.2904 - val_loss: 1.6023 - val_accuracy: 0.4058\n",
            "Epoch 3/25\n",
            "313/313 [==============================] - 16s 51ms/step - loss: 1.6510 - accuracy: 0.3917 - val_loss: 1.3964 - val_accuracy: 0.5153\n",
            "Epoch 4/25\n",
            "313/313 [==============================] - 16s 51ms/step - loss: 1.4313 - accuracy: 0.4818 - val_loss: 1.3057 - val_accuracy: 0.5256\n",
            "Epoch 5/25\n",
            "313/313 [==============================] - 16s 51ms/step - loss: 1.2540 - accuracy: 0.5387 - val_loss: 1.1966 - val_accuracy: 0.5411\n",
            "Epoch 6/25\n",
            "313/313 [==============================] - 17s 56ms/step - loss: 1.2809 - accuracy: 0.5210 - val_loss: 1.1848 - val_accuracy: 0.5456\n",
            "Epoch 7/25\n",
            "313/313 [==============================] - 16s 52ms/step - loss: 1.1665 - accuracy: 0.5518 - val_loss: 1.1597 - val_accuracy: 0.5530\n",
            "Epoch 8/25\n",
            "313/313 [==============================] - 16s 51ms/step - loss: 1.1633 - accuracy: 0.5511 - val_loss: 1.5366 - val_accuracy: 0.4766\n",
            "Epoch 9/25\n",
            "313/313 [==============================] - 16s 51ms/step - loss: 1.1608 - accuracy: 0.5510 - val_loss: 1.1503 - val_accuracy: 0.5536\n",
            "Epoch 10/25\n",
            "313/313 [==============================] - 16s 52ms/step - loss: 1.2317 - accuracy: 0.5340 - val_loss: 4.3540 - val_accuracy: 0.1427\n",
            "Epoch 11/25\n",
            "313/313 [==============================] - 16s 52ms/step - loss: 1.1915 - accuracy: 0.5523 - val_loss: 1.1169 - val_accuracy: 0.5717\n",
            "Epoch 12/25\n",
            "313/313 [==============================] - 16s 51ms/step - loss: 1.0541 - accuracy: 0.5935 - val_loss: 1.0972 - val_accuracy: 0.5883\n",
            "Epoch 13/25\n",
            "313/313 [==============================] - 16s 52ms/step - loss: 0.8625 - accuracy: 0.6431 - val_loss: 0.9184 - val_accuracy: 0.6472\n",
            "Epoch 14/25\n",
            "313/313 [==============================] - 17s 55ms/step - loss: 0.6353 - accuracy: 0.7264 - val_loss: 0.6734 - val_accuracy: 0.7556\n",
            "Epoch 15/25\n",
            "313/313 [==============================] - 16s 53ms/step - loss: 0.4362 - accuracy: 0.8273 - val_loss: 0.4280 - val_accuracy: 0.8488\n",
            "Epoch 16/25\n",
            "313/313 [==============================] - 16s 52ms/step - loss: 0.2936 - accuracy: 0.9085 - val_loss: 0.2754 - val_accuracy: 0.9166\n",
            "Epoch 17/25\n",
            "313/313 [==============================] - 16s 52ms/step - loss: 0.1999 - accuracy: 0.9496 - val_loss: 0.1941 - val_accuracy: 0.9485\n",
            "Epoch 18/25\n",
            "313/313 [==============================] - 16s 52ms/step - loss: 0.1249 - accuracy: 0.9757 - val_loss: 0.1228 - val_accuracy: 0.9725\n",
            "Epoch 19/25\n",
            "313/313 [==============================] - 16s 52ms/step - loss: 0.0931 - accuracy: 0.9808 - val_loss: 0.0740 - val_accuracy: 0.9869\n",
            "Epoch 20/25\n",
            "313/313 [==============================] - 16s 53ms/step - loss: 0.0693 - accuracy: 0.9879 - val_loss: 0.0508 - val_accuracy: 0.9898\n",
            "Epoch 21/25\n",
            "313/313 [==============================] - 16s 52ms/step - loss: 0.0385 - accuracy: 0.9946 - val_loss: 0.0313 - val_accuracy: 0.9976\n",
            "Epoch 22/25\n",
            "313/313 [==============================] - 16s 52ms/step - loss: 0.0563 - accuracy: 0.9889 - val_loss: 0.0305 - val_accuracy: 0.9944\n",
            "Epoch 23/25\n",
            "313/313 [==============================] - 16s 52ms/step - loss: 0.0194 - accuracy: 0.9988 - val_loss: 0.0179 - val_accuracy: 0.9991\n",
            "Epoch 24/25\n",
            "313/313 [==============================] - 16s 50ms/step - loss: 0.0655 - accuracy: 0.9876 - val_loss: 0.0422 - val_accuracy: 0.9912\n",
            "Epoch 25/25\n",
            "313/313 [==============================] - 16s 52ms/step - loss: 0.0169 - accuracy: 0.9992 - val_loss: 0.0137 - val_accuracy: 0.9996\n"
          ],
          "name": "stdout"
        }
      ]
    },
    {
      "cell_type": "markdown",
      "metadata": {
        "id": "bxirHs9Wk0FY"
      },
      "source": [
        "To use the model, we can write yet another little function."
      ]
    },
    {
      "cell_type": "code",
      "metadata": {
        "id": "HGmd4eVTjkVf"
      },
      "source": [
        "def fast_predict_date_strs_v2(date_strs):\n",
        "  X = prepare_date_strs_padded(date_strs)\n",
        "  X_decoder = tf.zeros(shape=(len(X), max_output_length), dtype=tf.int32)\n",
        "  Y_probas = model.predict([X, X_decoder])\n",
        "  Y_pred = tf.argmax(Y_probas, axis=-1)\n",
        "  return ids_to_date_strs(Y_pred)"
      ],
      "execution_count": 53,
      "outputs": []
    },
    {
      "cell_type": "code",
      "metadata": {
        "id": "Vc1rTwAMlWyM",
        "outputId": "d2346856-f44b-4a7b-ded0-1d51117346be",
        "colab": {
          "base_uri": "https://localhost:8080/"
        }
      },
      "source": [
        "fast_predict_date_strs_v2([\"July 14, 1789\", \"May 01, 2020\"])"
      ],
      "execution_count": 54,
      "outputs": [
        {
          "output_type": "execute_result",
          "data": {
            "text/plain": [
              "['1789-07-14', '2020-05-01']"
            ]
          },
          "metadata": {
            "tags": []
          },
          "execution_count": 54
        }
      ]
    },
    {
      "cell_type": "markdown",
      "metadata": {
        "id": "wDH1ruT6l1u2"
      },
      "source": [
        "## 11 Use one of the recent language models to generate more convincing Shakespearean text."
      ]
    },
    {
      "cell_type": "code",
      "metadata": {
        "id": "aDwwglVEpVq_",
        "outputId": "56edf819-f841-4eab-ed63-4b3483b2465d",
        "colab": {
          "base_uri": "https://localhost:8080/"
        }
      },
      "source": [
        "!pip install transformers"
      ],
      "execution_count": 56,
      "outputs": [
        {
          "output_type": "stream",
          "text": [
            "Collecting transformers\n",
            "\u001b[?25l  Downloading https://files.pythonhosted.org/packages/3a/83/e74092e7f24a08d751aa59b37a9fc572b2e4af3918cb66f7766c3affb1b4/transformers-3.5.1-py3-none-any.whl (1.3MB)\n",
            "\u001b[K     |████████████████████████████████| 1.3MB 8.5MB/s \n",
            "\u001b[?25hCollecting tokenizers==0.9.3\n",
            "\u001b[?25l  Downloading https://files.pythonhosted.org/packages/4c/34/b39eb9994bc3c999270b69c9eea40ecc6f0e97991dba28282b9fd32d44ee/tokenizers-0.9.3-cp36-cp36m-manylinux1_x86_64.whl (2.9MB)\n",
            "\u001b[K     |████████████████████████████████| 2.9MB 27.2MB/s \n",
            "\u001b[?25hRequirement already satisfied: packaging in /usr/local/lib/python3.6/dist-packages (from transformers) (20.4)\n",
            "Requirement already satisfied: regex!=2019.12.17 in /usr/local/lib/python3.6/dist-packages (from transformers) (2019.12.20)\n",
            "Collecting sentencepiece==0.1.91\n",
            "\u001b[?25l  Downloading https://files.pythonhosted.org/packages/d4/a4/d0a884c4300004a78cca907a6ff9a5e9fe4f090f5d95ab341c53d28cbc58/sentencepiece-0.1.91-cp36-cp36m-manylinux1_x86_64.whl (1.1MB)\n",
            "\u001b[K     |████████████████████████████████| 1.1MB 40.5MB/s \n",
            "\u001b[?25hCollecting sacremoses\n",
            "\u001b[?25l  Downloading https://files.pythonhosted.org/packages/7d/34/09d19aff26edcc8eb2a01bed8e98f13a1537005d31e95233fd48216eed10/sacremoses-0.0.43.tar.gz (883kB)\n",
            "\u001b[K     |████████████████████████████████| 890kB 40.8MB/s \n",
            "\u001b[?25hRequirement already satisfied: tqdm>=4.27 in /usr/local/lib/python3.6/dist-packages (from transformers) (4.41.1)\n",
            "Requirement already satisfied: filelock in /usr/local/lib/python3.6/dist-packages (from transformers) (3.0.12)\n",
            "Requirement already satisfied: requests in /usr/local/lib/python3.6/dist-packages (from transformers) (2.23.0)\n",
            "Requirement already satisfied: dataclasses; python_version < \"3.7\" in /usr/local/lib/python3.6/dist-packages (from transformers) (0.7)\n",
            "Requirement already satisfied: numpy in /usr/local/lib/python3.6/dist-packages (from transformers) (1.18.5)\n",
            "Requirement already satisfied: protobuf in /usr/local/lib/python3.6/dist-packages (from transformers) (3.12.4)\n",
            "Requirement already satisfied: pyparsing>=2.0.2 in /usr/local/lib/python3.6/dist-packages (from packaging->transformers) (2.4.7)\n",
            "Requirement already satisfied: six in /usr/local/lib/python3.6/dist-packages (from packaging->transformers) (1.15.0)\n",
            "Requirement already satisfied: click in /usr/local/lib/python3.6/dist-packages (from sacremoses->transformers) (7.1.2)\n",
            "Requirement already satisfied: joblib in /usr/local/lib/python3.6/dist-packages (from sacremoses->transformers) (0.17.0)\n",
            "Requirement already satisfied: certifi>=2017.4.17 in /usr/local/lib/python3.6/dist-packages (from requests->transformers) (2020.6.20)\n",
            "Requirement already satisfied: chardet<4,>=3.0.2 in /usr/local/lib/python3.6/dist-packages (from requests->transformers) (3.0.4)\n",
            "Requirement already satisfied: urllib3!=1.25.0,!=1.25.1,<1.26,>=1.21.1 in /usr/local/lib/python3.6/dist-packages (from requests->transformers) (1.24.3)\n",
            "Requirement already satisfied: idna<3,>=2.5 in /usr/local/lib/python3.6/dist-packages (from requests->transformers) (2.10)\n",
            "Requirement already satisfied: setuptools in /usr/local/lib/python3.6/dist-packages (from protobuf->transformers) (50.3.2)\n",
            "Building wheels for collected packages: sacremoses\n",
            "  Building wheel for sacremoses (setup.py) ... \u001b[?25l\u001b[?25hdone\n",
            "  Created wheel for sacremoses: filename=sacremoses-0.0.43-cp36-none-any.whl size=893257 sha256=4b055c6e1d1dc8b58ccebaf569a7a262daac16fd240874b6c5e6555d5542fbe4\n",
            "  Stored in directory: /root/.cache/pip/wheels/29/3c/fd/7ce5c3f0666dab31a50123635e6fb5e19ceb42ce38d4e58f45\n",
            "Successfully built sacremoses\n",
            "Installing collected packages: tokenizers, sentencepiece, sacremoses, transformers\n",
            "Successfully installed sacremoses-0.0.43 sentencepiece-0.1.91 tokenizers-0.9.3 transformers-3.5.1\n"
          ],
          "name": "stdout"
        }
      ]
    },
    {
      "cell_type": "code",
      "metadata": {
        "id": "7-Uxc7-0lYiF",
        "outputId": "fed99ee2-61a7-4823-dbfb-32498dcabed9",
        "colab": {
          "base_uri": "https://localhost:8080/",
          "height": 425
        }
      },
      "source": [
        "from transformers import TFOpenAIGPTLMHeadModel\n",
        "\n",
        "model = TFOpenAIGPTLMHeadModel.from_pretrained(\"openai-gpt\")"
      ],
      "execution_count": 58,
      "outputs": [
        {
          "output_type": "error",
          "ename": "ValueError",
          "evalue": "ignored",
          "traceback": [
            "\u001b[0;31m---------------------------------------------------------------------------\u001b[0m",
            "\u001b[0;31mValueError\u001b[0m                                Traceback (most recent call last)",
            "\u001b[0;32m<ipython-input-58-4b09caae05da>\u001b[0m in \u001b[0;36m<module>\u001b[0;34m()\u001b[0m\n\u001b[1;32m      1\u001b[0m \u001b[0;32mfrom\u001b[0m \u001b[0mtransformers\u001b[0m \u001b[0;32mimport\u001b[0m \u001b[0mTFOpenAIGPTLMHeadModel\u001b[0m\u001b[0;34m\u001b[0m\u001b[0;34m\u001b[0m\u001b[0m\n\u001b[1;32m      2\u001b[0m \u001b[0;34m\u001b[0m\u001b[0m\n\u001b[0;32m----> 3\u001b[0;31m \u001b[0mmodel\u001b[0m \u001b[0;34m=\u001b[0m \u001b[0mTFOpenAIGPTLMHeadModel\u001b[0m\u001b[0;34m.\u001b[0m\u001b[0mfrom_pretrained\u001b[0m\u001b[0;34m(\u001b[0m\u001b[0;34m\"openai-gpt\"\u001b[0m\u001b[0;34m)\u001b[0m\u001b[0;34m\u001b[0m\u001b[0;34m\u001b[0m\u001b[0m\n\u001b[0m",
            "\u001b[0;32m/usr/local/lib/python3.6/dist-packages/transformers/modeling_tf_utils.py\u001b[0m in \u001b[0;36mfrom_pretrained\u001b[0;34m(cls, pretrained_model_name_or_path, *model_args, **kwargs)\u001b[0m\n\u001b[1;32m    634\u001b[0m                 \u001b[0mlocal_files_only\u001b[0m\u001b[0;34m=\u001b[0m\u001b[0mlocal_files_only\u001b[0m\u001b[0;34m,\u001b[0m\u001b[0;34m\u001b[0m\u001b[0;34m\u001b[0m\u001b[0m\n\u001b[1;32m    635\u001b[0m                 \u001b[0mrevision\u001b[0m\u001b[0;34m=\u001b[0m\u001b[0mrevision\u001b[0m\u001b[0;34m,\u001b[0m\u001b[0;34m\u001b[0m\u001b[0;34m\u001b[0m\u001b[0m\n\u001b[0;32m--> 636\u001b[0;31m                 \u001b[0;34m**\u001b[0m\u001b[0mkwargs\u001b[0m\u001b[0;34m,\u001b[0m\u001b[0;34m\u001b[0m\u001b[0;34m\u001b[0m\u001b[0m\n\u001b[0m\u001b[1;32m    637\u001b[0m             )\n\u001b[1;32m    638\u001b[0m         \u001b[0;32melse\u001b[0m\u001b[0;34m:\u001b[0m\u001b[0;34m\u001b[0m\u001b[0;34m\u001b[0m\u001b[0m\n",
            "\u001b[0;32m/usr/local/lib/python3.6/dist-packages/transformers/configuration_utils.py\u001b[0m in \u001b[0;36mfrom_pretrained\u001b[0;34m(cls, pretrained_model_name_or_path, **kwargs)\u001b[0m\n\u001b[1;32m    345\u001b[0m \u001b[0;34m\u001b[0m\u001b[0m\n\u001b[1;32m    346\u001b[0m         \"\"\"\n\u001b[0;32m--> 347\u001b[0;31m         \u001b[0mconfig_dict\u001b[0m\u001b[0;34m,\u001b[0m \u001b[0mkwargs\u001b[0m \u001b[0;34m=\u001b[0m \u001b[0mcls\u001b[0m\u001b[0;34m.\u001b[0m\u001b[0mget_config_dict\u001b[0m\u001b[0;34m(\u001b[0m\u001b[0mpretrained_model_name_or_path\u001b[0m\u001b[0;34m,\u001b[0m \u001b[0;34m**\u001b[0m\u001b[0mkwargs\u001b[0m\u001b[0;34m)\u001b[0m\u001b[0;34m\u001b[0m\u001b[0;34m\u001b[0m\u001b[0m\n\u001b[0m\u001b[1;32m    348\u001b[0m         \u001b[0;32mreturn\u001b[0m \u001b[0mcls\u001b[0m\u001b[0;34m.\u001b[0m\u001b[0mfrom_dict\u001b[0m\u001b[0;34m(\u001b[0m\u001b[0mconfig_dict\u001b[0m\u001b[0;34m,\u001b[0m \u001b[0;34m**\u001b[0m\u001b[0mkwargs\u001b[0m\u001b[0;34m)\u001b[0m\u001b[0;34m\u001b[0m\u001b[0;34m\u001b[0m\u001b[0m\n\u001b[1;32m    349\u001b[0m \u001b[0;34m\u001b[0m\u001b[0m\n",
            "\u001b[0;32m/usr/local/lib/python3.6/dist-packages/transformers/configuration_utils.py\u001b[0m in \u001b[0;36mget_config_dict\u001b[0;34m(cls, pretrained_model_name_or_path, **kwargs)\u001b[0m\n\u001b[1;32m    386\u001b[0m                 \u001b[0mproxies\u001b[0m\u001b[0;34m=\u001b[0m\u001b[0mproxies\u001b[0m\u001b[0;34m,\u001b[0m\u001b[0;34m\u001b[0m\u001b[0;34m\u001b[0m\u001b[0m\n\u001b[1;32m    387\u001b[0m                 \u001b[0mresume_download\u001b[0m\u001b[0;34m=\u001b[0m\u001b[0mresume_download\u001b[0m\u001b[0;34m,\u001b[0m\u001b[0;34m\u001b[0m\u001b[0;34m\u001b[0m\u001b[0m\n\u001b[0;32m--> 388\u001b[0;31m                 \u001b[0mlocal_files_only\u001b[0m\u001b[0;34m=\u001b[0m\u001b[0mlocal_files_only\u001b[0m\u001b[0;34m,\u001b[0m\u001b[0;34m\u001b[0m\u001b[0;34m\u001b[0m\u001b[0m\n\u001b[0m\u001b[1;32m    389\u001b[0m             )\n\u001b[1;32m    390\u001b[0m             \u001b[0;31m# Load config dict\u001b[0m\u001b[0;34m\u001b[0m\u001b[0;34m\u001b[0m\u001b[0;34m\u001b[0m\u001b[0m\n",
            "\u001b[0;32m/usr/local/lib/python3.6/dist-packages/transformers/file_utils.py\u001b[0m in \u001b[0;36mcached_path\u001b[0;34m(url_or_filename, cache_dir, force_download, proxies, resume_download, user_agent, extract_compressed_file, force_extract, local_files_only)\u001b[0m\n\u001b[1;32m    953\u001b[0m             \u001b[0mresume_download\u001b[0m\u001b[0;34m=\u001b[0m\u001b[0mresume_download\u001b[0m\u001b[0;34m,\u001b[0m\u001b[0;34m\u001b[0m\u001b[0;34m\u001b[0m\u001b[0m\n\u001b[1;32m    954\u001b[0m             \u001b[0muser_agent\u001b[0m\u001b[0;34m=\u001b[0m\u001b[0muser_agent\u001b[0m\u001b[0;34m,\u001b[0m\u001b[0;34m\u001b[0m\u001b[0;34m\u001b[0m\u001b[0m\n\u001b[0;32m--> 955\u001b[0;31m             \u001b[0mlocal_files_only\u001b[0m\u001b[0;34m=\u001b[0m\u001b[0mlocal_files_only\u001b[0m\u001b[0;34m,\u001b[0m\u001b[0;34m\u001b[0m\u001b[0;34m\u001b[0m\u001b[0m\n\u001b[0m\u001b[1;32m    956\u001b[0m         )\n\u001b[1;32m    957\u001b[0m     \u001b[0;32melif\u001b[0m \u001b[0mos\u001b[0m\u001b[0;34m.\u001b[0m\u001b[0mpath\u001b[0m\u001b[0;34m.\u001b[0m\u001b[0mexists\u001b[0m\u001b[0;34m(\u001b[0m\u001b[0murl_or_filename\u001b[0m\u001b[0;34m)\u001b[0m\u001b[0;34m:\u001b[0m\u001b[0;34m\u001b[0m\u001b[0;34m\u001b[0m\u001b[0m\n",
            "\u001b[0;32m/usr/local/lib/python3.6/dist-packages/transformers/file_utils.py\u001b[0m in \u001b[0;36mget_from_cache\u001b[0;34m(url, cache_dir, force_download, proxies, etag_timeout, resume_download, user_agent, local_files_only)\u001b[0m\n\u001b[1;32m   1123\u001b[0m                 \u001b[0;32melse\u001b[0m\u001b[0;34m:\u001b[0m\u001b[0;34m\u001b[0m\u001b[0;34m\u001b[0m\u001b[0m\n\u001b[1;32m   1124\u001b[0m                     raise ValueError(\n\u001b[0;32m-> 1125\u001b[0;31m                         \u001b[0;34m\"Connection error, and we cannot find the requested files in the cached path.\"\u001b[0m\u001b[0;34m\u001b[0m\u001b[0;34m\u001b[0m\u001b[0m\n\u001b[0m\u001b[1;32m   1126\u001b[0m                         \u001b[0;34m\" Please try again or make sure your Internet connection is on.\"\u001b[0m\u001b[0;34m\u001b[0m\u001b[0;34m\u001b[0m\u001b[0m\n\u001b[1;32m   1127\u001b[0m                     )\n",
            "\u001b[0;31mValueError\u001b[0m: Connection error, and we cannot find the requested files in the cached path. Please try again or make sure your Internet connection is on."
          ]
        }
      ]
    },
    {
      "cell_type": "code",
      "metadata": {
        "id": "fF4atmMsmCyG",
        "outputId": "ae111b27-fcff-46b5-9291-b1ce6e6800d3",
        "colab": {
          "base_uri": "https://localhost:8080/",
          "height": 425
        }
      },
      "source": [
        "from transformers import OpenAIGPTTokenizer\n",
        "\n",
        "tokenizer = OpenAIGPTTokenizer.from_pretrained(\"openai-gpt\")"
      ],
      "execution_count": 59,
      "outputs": [
        {
          "output_type": "error",
          "ename": "ValueError",
          "evalue": "ignored",
          "traceback": [
            "\u001b[0;31m---------------------------------------------------------------------------\u001b[0m",
            "\u001b[0;31mValueError\u001b[0m                                Traceback (most recent call last)",
            "\u001b[0;32m<ipython-input-59-d9b56a7412a7>\u001b[0m in \u001b[0;36m<module>\u001b[0;34m()\u001b[0m\n\u001b[1;32m      1\u001b[0m \u001b[0;32mfrom\u001b[0m \u001b[0mtransformers\u001b[0m \u001b[0;32mimport\u001b[0m \u001b[0mOpenAIGPTTokenizer\u001b[0m\u001b[0;34m\u001b[0m\u001b[0;34m\u001b[0m\u001b[0m\n\u001b[1;32m      2\u001b[0m \u001b[0;34m\u001b[0m\u001b[0m\n\u001b[0;32m----> 3\u001b[0;31m \u001b[0mtokenizer\u001b[0m \u001b[0;34m=\u001b[0m \u001b[0mOpenAIGPTTokenizer\u001b[0m\u001b[0;34m.\u001b[0m\u001b[0mfrom_pretrained\u001b[0m\u001b[0;34m(\u001b[0m\u001b[0;34m\"openai-gpt\"\u001b[0m\u001b[0;34m)\u001b[0m\u001b[0;34m\u001b[0m\u001b[0;34m\u001b[0m\u001b[0m\n\u001b[0m",
            "\u001b[0;32m/usr/local/lib/python3.6/dist-packages/transformers/tokenization_utils_base.py\u001b[0m in \u001b[0;36mfrom_pretrained\u001b[0;34m(cls, pretrained_model_name_or_path, *init_inputs, **kwargs)\u001b[0m\n\u001b[1;32m   1627\u001b[0m                         \u001b[0mproxies\u001b[0m\u001b[0;34m=\u001b[0m\u001b[0mproxies\u001b[0m\u001b[0;34m,\u001b[0m\u001b[0;34m\u001b[0m\u001b[0;34m\u001b[0m\u001b[0m\n\u001b[1;32m   1628\u001b[0m                         \u001b[0mresume_download\u001b[0m\u001b[0;34m=\u001b[0m\u001b[0mresume_download\u001b[0m\u001b[0;34m,\u001b[0m\u001b[0;34m\u001b[0m\u001b[0;34m\u001b[0m\u001b[0m\n\u001b[0;32m-> 1629\u001b[0;31m                         \u001b[0mlocal_files_only\u001b[0m\u001b[0;34m=\u001b[0m\u001b[0mlocal_files_only\u001b[0m\u001b[0;34m,\u001b[0m\u001b[0;34m\u001b[0m\u001b[0;34m\u001b[0m\u001b[0m\n\u001b[0m\u001b[1;32m   1630\u001b[0m                     )\n\u001b[1;32m   1631\u001b[0m                 \u001b[0;32mexcept\u001b[0m \u001b[0mrequests\u001b[0m\u001b[0;34m.\u001b[0m\u001b[0mexceptions\u001b[0m\u001b[0;34m.\u001b[0m\u001b[0mHTTPError\u001b[0m \u001b[0;32mas\u001b[0m \u001b[0merr\u001b[0m\u001b[0;34m:\u001b[0m\u001b[0;34m\u001b[0m\u001b[0;34m\u001b[0m\u001b[0m\n",
            "\u001b[0;32m/usr/local/lib/python3.6/dist-packages/transformers/file_utils.py\u001b[0m in \u001b[0;36mcached_path\u001b[0;34m(url_or_filename, cache_dir, force_download, proxies, resume_download, user_agent, extract_compressed_file, force_extract, local_files_only)\u001b[0m\n\u001b[1;32m    953\u001b[0m             \u001b[0mresume_download\u001b[0m\u001b[0;34m=\u001b[0m\u001b[0mresume_download\u001b[0m\u001b[0;34m,\u001b[0m\u001b[0;34m\u001b[0m\u001b[0;34m\u001b[0m\u001b[0m\n\u001b[1;32m    954\u001b[0m             \u001b[0muser_agent\u001b[0m\u001b[0;34m=\u001b[0m\u001b[0muser_agent\u001b[0m\u001b[0;34m,\u001b[0m\u001b[0;34m\u001b[0m\u001b[0;34m\u001b[0m\u001b[0m\n\u001b[0;32m--> 955\u001b[0;31m             \u001b[0mlocal_files_only\u001b[0m\u001b[0;34m=\u001b[0m\u001b[0mlocal_files_only\u001b[0m\u001b[0;34m,\u001b[0m\u001b[0;34m\u001b[0m\u001b[0;34m\u001b[0m\u001b[0m\n\u001b[0m\u001b[1;32m    956\u001b[0m         )\n\u001b[1;32m    957\u001b[0m     \u001b[0;32melif\u001b[0m \u001b[0mos\u001b[0m\u001b[0;34m.\u001b[0m\u001b[0mpath\u001b[0m\u001b[0;34m.\u001b[0m\u001b[0mexists\u001b[0m\u001b[0;34m(\u001b[0m\u001b[0murl_or_filename\u001b[0m\u001b[0;34m)\u001b[0m\u001b[0;34m:\u001b[0m\u001b[0;34m\u001b[0m\u001b[0;34m\u001b[0m\u001b[0m\n",
            "\u001b[0;32m/usr/local/lib/python3.6/dist-packages/transformers/file_utils.py\u001b[0m in \u001b[0;36mget_from_cache\u001b[0;34m(url, cache_dir, force_download, proxies, etag_timeout, resume_download, user_agent, local_files_only)\u001b[0m\n\u001b[1;32m   1123\u001b[0m                 \u001b[0;32melse\u001b[0m\u001b[0;34m:\u001b[0m\u001b[0;34m\u001b[0m\u001b[0;34m\u001b[0m\u001b[0m\n\u001b[1;32m   1124\u001b[0m                     raise ValueError(\n\u001b[0;32m-> 1125\u001b[0;31m                         \u001b[0;34m\"Connection error, and we cannot find the requested files in the cached path.\"\u001b[0m\u001b[0;34m\u001b[0m\u001b[0;34m\u001b[0m\u001b[0m\n\u001b[0m\u001b[1;32m   1126\u001b[0m                         \u001b[0;34m\" Please try again or make sure your Internet connection is on.\"\u001b[0m\u001b[0;34m\u001b[0m\u001b[0;34m\u001b[0m\u001b[0m\n\u001b[1;32m   1127\u001b[0m                     )\n",
            "\u001b[0;31mValueError\u001b[0m: Connection error, and we cannot find the requested files in the cached path. Please try again or make sure your Internet connection is on."
          ]
        }
      ]
    },
    {
      "cell_type": "code",
      "metadata": {
        "id": "uM4nNwcxmGz1"
      },
      "source": [
        "prompt_text = \"This royal throne of kings, this sceptred isle\"\n",
        "encoded_prompt = tokenizer.encode(prompt_text,\n",
        "                                  add_special_tokens=False,\n",
        "                                  return_tensors=\"tf\")\n",
        "encoded_prompt"
      ],
      "execution_count": null,
      "outputs": []
    }
  ]
}