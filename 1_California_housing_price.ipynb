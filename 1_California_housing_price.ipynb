{
  "nbformat": 4,
  "nbformat_minor": 0,
  "metadata": {
    "colab": {
      "name": "1_California_housing_price.ipynb",
      "provenance": [],
      "collapsed_sections": [
        "SJK6nIAXLZDH",
        "xLCeaNAWLn8X",
        "XbdudrgwcDYE"
      ],
      "authorship_tag": "ABX9TyO3up6CgmWj4ra/3rS299OQ",
      "include_colab_link": true
    },
    "kernelspec": {
      "name": "python3",
      "display_name": "Python 3"
    }
  },
  "cells": [
    {
      "cell_type": "markdown",
      "metadata": {
        "id": "view-in-github",
        "colab_type": "text"
      },
      "source": [
        "<a href=\"https://colab.research.google.com/github/Jun-Liu-291/Hands-On-Machine-Learning-with-Scikit-Learn-Keras-and-TensorFlow/blob/master/1_California_housing_price.ipynb\" target=\"_parent\"><img src=\"https://colab.research.google.com/assets/colab-badge.svg\" alt=\"Open In Colab\"/></a>"
      ]
    },
    {
      "cell_type": "code",
      "metadata": {
        "id": "JWJUy8Zi7S9r",
        "colab_type": "code",
        "colab": {}
      },
      "source": [
        "import os\n",
        "import tarfile\n",
        "import urllib.request"
      ],
      "execution_count": 1,
      "outputs": []
    },
    {
      "cell_type": "code",
      "metadata": {
        "id": "gw541E619Opb",
        "colab_type": "code",
        "colab": {}
      },
      "source": [
        "DOWNLOAD_ROOT = \"https://raw.githubusercontent.com/ageron/handson-ml2/master/\"\n",
        "HOUSING_PATH = os.path.join(\"datasets\",\"housing\")\n",
        "HOUSING_URL = DOWNLOAD_ROOT + \"datasets/housing/housing.tgz\"\n",
        "\n",
        "def fetch_housing_data(housing_url=HOUSING_URL, housing_path=HOUSING_PATH):\n",
        "  os.makedirs(housing_path, exist_ok=True)\n",
        "  tgz_path = os.path.join(housing_path, \"housing.tgz\")\n",
        "  urllib.request.urlretrieve(housing_url, tgz_path)\n",
        "  housing_tgz = tarfile.open(tgz_path)\n",
        "  housing_tgz.extractall(path=housing_path)\n",
        "  housing_tgz.close()"
      ],
      "execution_count": 2,
      "outputs": []
    },
    {
      "cell_type": "code",
      "metadata": {
        "id": "G5yFEXFO-Nva",
        "colab_type": "code",
        "colab": {}
      },
      "source": [
        "fetch_housing_data()"
      ],
      "execution_count": 3,
      "outputs": []
    },
    {
      "cell_type": "code",
      "metadata": {
        "id": "XgFOLeP--l4E",
        "colab_type": "code",
        "colab": {}
      },
      "source": [
        "import pandas as pd\n",
        "\n",
        "def load_housing_data(housing_path=HOUSING_PATH):\n",
        "  csv_path = os.path.join(housing_path,\"housing.csv\")\n",
        "  return pd.read_csv(csv_path)"
      ],
      "execution_count": 4,
      "outputs": []
    },
    {
      "cell_type": "markdown",
      "metadata": {
        "id": "SJK6nIAXLZDH",
        "colab_type": "text"
      },
      "source": [
        "# Take a quick look at the data structure"
      ]
    },
    {
      "cell_type": "code",
      "metadata": {
        "id": "bnHqE_KvAQXz",
        "colab_type": "code",
        "colab": {
          "base_uri": "https://localhost:8080/",
          "height": 0
        },
        "outputId": "75b4bbad-ab3d-45f3-9103-c42cdd4a34c7"
      },
      "source": [
        "housing = load_housing_data()\n",
        "housing.head() # look a top five rows"
      ],
      "execution_count": 5,
      "outputs": [
        {
          "output_type": "execute_result",
          "data": {
            "text/html": [
              "<div>\n",
              "<style scoped>\n",
              "    .dataframe tbody tr th:only-of-type {\n",
              "        vertical-align: middle;\n",
              "    }\n",
              "\n",
              "    .dataframe tbody tr th {\n",
              "        vertical-align: top;\n",
              "    }\n",
              "\n",
              "    .dataframe thead th {\n",
              "        text-align: right;\n",
              "    }\n",
              "</style>\n",
              "<table border=\"1\" class=\"dataframe\">\n",
              "  <thead>\n",
              "    <tr style=\"text-align: right;\">\n",
              "      <th></th>\n",
              "      <th>longitude</th>\n",
              "      <th>latitude</th>\n",
              "      <th>housing_median_age</th>\n",
              "      <th>total_rooms</th>\n",
              "      <th>total_bedrooms</th>\n",
              "      <th>population</th>\n",
              "      <th>households</th>\n",
              "      <th>median_income</th>\n",
              "      <th>median_house_value</th>\n",
              "      <th>ocean_proximity</th>\n",
              "    </tr>\n",
              "  </thead>\n",
              "  <tbody>\n",
              "    <tr>\n",
              "      <th>0</th>\n",
              "      <td>-122.23</td>\n",
              "      <td>37.88</td>\n",
              "      <td>41.0</td>\n",
              "      <td>880.0</td>\n",
              "      <td>129.0</td>\n",
              "      <td>322.0</td>\n",
              "      <td>126.0</td>\n",
              "      <td>8.3252</td>\n",
              "      <td>452600.0</td>\n",
              "      <td>NEAR BAY</td>\n",
              "    </tr>\n",
              "    <tr>\n",
              "      <th>1</th>\n",
              "      <td>-122.22</td>\n",
              "      <td>37.86</td>\n",
              "      <td>21.0</td>\n",
              "      <td>7099.0</td>\n",
              "      <td>1106.0</td>\n",
              "      <td>2401.0</td>\n",
              "      <td>1138.0</td>\n",
              "      <td>8.3014</td>\n",
              "      <td>358500.0</td>\n",
              "      <td>NEAR BAY</td>\n",
              "    </tr>\n",
              "    <tr>\n",
              "      <th>2</th>\n",
              "      <td>-122.24</td>\n",
              "      <td>37.85</td>\n",
              "      <td>52.0</td>\n",
              "      <td>1467.0</td>\n",
              "      <td>190.0</td>\n",
              "      <td>496.0</td>\n",
              "      <td>177.0</td>\n",
              "      <td>7.2574</td>\n",
              "      <td>352100.0</td>\n",
              "      <td>NEAR BAY</td>\n",
              "    </tr>\n",
              "    <tr>\n",
              "      <th>3</th>\n",
              "      <td>-122.25</td>\n",
              "      <td>37.85</td>\n",
              "      <td>52.0</td>\n",
              "      <td>1274.0</td>\n",
              "      <td>235.0</td>\n",
              "      <td>558.0</td>\n",
              "      <td>219.0</td>\n",
              "      <td>5.6431</td>\n",
              "      <td>341300.0</td>\n",
              "      <td>NEAR BAY</td>\n",
              "    </tr>\n",
              "    <tr>\n",
              "      <th>4</th>\n",
              "      <td>-122.25</td>\n",
              "      <td>37.85</td>\n",
              "      <td>52.0</td>\n",
              "      <td>1627.0</td>\n",
              "      <td>280.0</td>\n",
              "      <td>565.0</td>\n",
              "      <td>259.0</td>\n",
              "      <td>3.8462</td>\n",
              "      <td>342200.0</td>\n",
              "      <td>NEAR BAY</td>\n",
              "    </tr>\n",
              "  </tbody>\n",
              "</table>\n",
              "</div>"
            ],
            "text/plain": [
              "   longitude  latitude  ...  median_house_value  ocean_proximity\n",
              "0    -122.23     37.88  ...            452600.0         NEAR BAY\n",
              "1    -122.22     37.86  ...            358500.0         NEAR BAY\n",
              "2    -122.24     37.85  ...            352100.0         NEAR BAY\n",
              "3    -122.25     37.85  ...            341300.0         NEAR BAY\n",
              "4    -122.25     37.85  ...            342200.0         NEAR BAY\n",
              "\n",
              "[5 rows x 10 columns]"
            ]
          },
          "metadata": {
            "tags": []
          },
          "execution_count": 5
        }
      ]
    },
    {
      "cell_type": "code",
      "metadata": {
        "id": "CTDgDZbMAbGE",
        "colab_type": "code",
        "colab": {
          "base_uri": "https://localhost:8080/",
          "height": 0
        },
        "outputId": "f7f39fec-f5dd-4f8d-b133-4fe44c783821"
      },
      "source": [
        "# info() get quick description of the data\n",
        "# inparticular the total number of rows, each attribute's type, and number of nonnull values\n",
        "housing.info()"
      ],
      "execution_count": 6,
      "outputs": [
        {
          "output_type": "stream",
          "text": [
            "<class 'pandas.core.frame.DataFrame'>\n",
            "RangeIndex: 20640 entries, 0 to 20639\n",
            "Data columns (total 10 columns):\n",
            " #   Column              Non-Null Count  Dtype  \n",
            "---  ------              --------------  -----  \n",
            " 0   longitude           20640 non-null  float64\n",
            " 1   latitude            20640 non-null  float64\n",
            " 2   housing_median_age  20640 non-null  float64\n",
            " 3   total_rooms         20640 non-null  float64\n",
            " 4   total_bedrooms      20433 non-null  float64\n",
            " 5   population          20640 non-null  float64\n",
            " 6   households          20640 non-null  float64\n",
            " 7   median_income       20640 non-null  float64\n",
            " 8   median_house_value  20640 non-null  float64\n",
            " 9   ocean_proximity     20640 non-null  object \n",
            "dtypes: float64(9), object(1)\n",
            "memory usage: 1.6+ MB\n"
          ],
          "name": "stdout"
        }
      ]
    },
    {
      "cell_type": "markdown",
      "metadata": {
        "id": "oSz0K9hoBbaG",
        "colab_type": "text"
      },
      "source": [
        "Note total bedrooms has 20433 non-null data, which means that 207 districts are missing this feature."
      ]
    },
    {
      "cell_type": "code",
      "metadata": {
        "id": "NajJN6CMBLPT",
        "colab_type": "code",
        "colab": {
          "base_uri": "https://localhost:8080/",
          "height": 0
        },
        "outputId": "6fa32d01-dee8-4bc8-cd42-0bee7e5bb65a"
      },
      "source": [
        "# value_counts() return the number for different values\n",
        "housing[\"ocean_proximity\"].value_counts()"
      ],
      "execution_count": 7,
      "outputs": [
        {
          "output_type": "execute_result",
          "data": {
            "text/plain": [
              "<1H OCEAN     9136\n",
              "INLAND        6551\n",
              "NEAR OCEAN    2658\n",
              "NEAR BAY      2290\n",
              "ISLAND           5\n",
              "Name: ocean_proximity, dtype: int64"
            ]
          },
          "metadata": {
            "tags": []
          },
          "execution_count": 7
        }
      ]
    },
    {
      "cell_type": "code",
      "metadata": {
        "id": "9qHbRKEZCXYI",
        "colab_type": "code",
        "colab": {
          "base_uri": "https://localhost:8080/",
          "height": 0
        },
        "outputId": "1b7069c8-9ed4-4f5a-fdf9-833fa8d04d94"
      },
      "source": [
        "# describe() shows a summary of the numerical attributes\n",
        "housing.describe()"
      ],
      "execution_count": 8,
      "outputs": [
        {
          "output_type": "execute_result",
          "data": {
            "text/html": [
              "<div>\n",
              "<style scoped>\n",
              "    .dataframe tbody tr th:only-of-type {\n",
              "        vertical-align: middle;\n",
              "    }\n",
              "\n",
              "    .dataframe tbody tr th {\n",
              "        vertical-align: top;\n",
              "    }\n",
              "\n",
              "    .dataframe thead th {\n",
              "        text-align: right;\n",
              "    }\n",
              "</style>\n",
              "<table border=\"1\" class=\"dataframe\">\n",
              "  <thead>\n",
              "    <tr style=\"text-align: right;\">\n",
              "      <th></th>\n",
              "      <th>longitude</th>\n",
              "      <th>latitude</th>\n",
              "      <th>housing_median_age</th>\n",
              "      <th>total_rooms</th>\n",
              "      <th>total_bedrooms</th>\n",
              "      <th>population</th>\n",
              "      <th>households</th>\n",
              "      <th>median_income</th>\n",
              "      <th>median_house_value</th>\n",
              "    </tr>\n",
              "  </thead>\n",
              "  <tbody>\n",
              "    <tr>\n",
              "      <th>count</th>\n",
              "      <td>20640.000000</td>\n",
              "      <td>20640.000000</td>\n",
              "      <td>20640.000000</td>\n",
              "      <td>20640.000000</td>\n",
              "      <td>20433.000000</td>\n",
              "      <td>20640.000000</td>\n",
              "      <td>20640.000000</td>\n",
              "      <td>20640.000000</td>\n",
              "      <td>20640.000000</td>\n",
              "    </tr>\n",
              "    <tr>\n",
              "      <th>mean</th>\n",
              "      <td>-119.569704</td>\n",
              "      <td>35.631861</td>\n",
              "      <td>28.639486</td>\n",
              "      <td>2635.763081</td>\n",
              "      <td>537.870553</td>\n",
              "      <td>1425.476744</td>\n",
              "      <td>499.539680</td>\n",
              "      <td>3.870671</td>\n",
              "      <td>206855.816909</td>\n",
              "    </tr>\n",
              "    <tr>\n",
              "      <th>std</th>\n",
              "      <td>2.003532</td>\n",
              "      <td>2.135952</td>\n",
              "      <td>12.585558</td>\n",
              "      <td>2181.615252</td>\n",
              "      <td>421.385070</td>\n",
              "      <td>1132.462122</td>\n",
              "      <td>382.329753</td>\n",
              "      <td>1.899822</td>\n",
              "      <td>115395.615874</td>\n",
              "    </tr>\n",
              "    <tr>\n",
              "      <th>min</th>\n",
              "      <td>-124.350000</td>\n",
              "      <td>32.540000</td>\n",
              "      <td>1.000000</td>\n",
              "      <td>2.000000</td>\n",
              "      <td>1.000000</td>\n",
              "      <td>3.000000</td>\n",
              "      <td>1.000000</td>\n",
              "      <td>0.499900</td>\n",
              "      <td>14999.000000</td>\n",
              "    </tr>\n",
              "    <tr>\n",
              "      <th>25%</th>\n",
              "      <td>-121.800000</td>\n",
              "      <td>33.930000</td>\n",
              "      <td>18.000000</td>\n",
              "      <td>1447.750000</td>\n",
              "      <td>296.000000</td>\n",
              "      <td>787.000000</td>\n",
              "      <td>280.000000</td>\n",
              "      <td>2.563400</td>\n",
              "      <td>119600.000000</td>\n",
              "    </tr>\n",
              "    <tr>\n",
              "      <th>50%</th>\n",
              "      <td>-118.490000</td>\n",
              "      <td>34.260000</td>\n",
              "      <td>29.000000</td>\n",
              "      <td>2127.000000</td>\n",
              "      <td>435.000000</td>\n",
              "      <td>1166.000000</td>\n",
              "      <td>409.000000</td>\n",
              "      <td>3.534800</td>\n",
              "      <td>179700.000000</td>\n",
              "    </tr>\n",
              "    <tr>\n",
              "      <th>75%</th>\n",
              "      <td>-118.010000</td>\n",
              "      <td>37.710000</td>\n",
              "      <td>37.000000</td>\n",
              "      <td>3148.000000</td>\n",
              "      <td>647.000000</td>\n",
              "      <td>1725.000000</td>\n",
              "      <td>605.000000</td>\n",
              "      <td>4.743250</td>\n",
              "      <td>264725.000000</td>\n",
              "    </tr>\n",
              "    <tr>\n",
              "      <th>max</th>\n",
              "      <td>-114.310000</td>\n",
              "      <td>41.950000</td>\n",
              "      <td>52.000000</td>\n",
              "      <td>39320.000000</td>\n",
              "      <td>6445.000000</td>\n",
              "      <td>35682.000000</td>\n",
              "      <td>6082.000000</td>\n",
              "      <td>15.000100</td>\n",
              "      <td>500001.000000</td>\n",
              "    </tr>\n",
              "  </tbody>\n",
              "</table>\n",
              "</div>"
            ],
            "text/plain": [
              "          longitude      latitude  ...  median_income  median_house_value\n",
              "count  20640.000000  20640.000000  ...   20640.000000        20640.000000\n",
              "mean    -119.569704     35.631861  ...       3.870671       206855.816909\n",
              "std        2.003532      2.135952  ...       1.899822       115395.615874\n",
              "min     -124.350000     32.540000  ...       0.499900        14999.000000\n",
              "25%     -121.800000     33.930000  ...       2.563400       119600.000000\n",
              "50%     -118.490000     34.260000  ...       3.534800       179700.000000\n",
              "75%     -118.010000     37.710000  ...       4.743250       264725.000000\n",
              "max     -114.310000     41.950000  ...      15.000100       500001.000000\n",
              "\n",
              "[8 rows x 9 columns]"
            ]
          },
          "metadata": {
            "tags": []
          },
          "execution_count": 8
        }
      ]
    },
    {
      "cell_type": "code",
      "metadata": {
        "id": "hKcbzUskCyWA",
        "colab_type": "code",
        "colab": {
          "base_uri": "https://localhost:8080/",
          "height": 0
        },
        "outputId": "18cb2e8c-ed7c-4776-90b5-a1e0a6d39609"
      },
      "source": [
        "%matplotlib inline\n",
        "import matplotlib.pyplot as plt\n",
        "housing.hist(bins=50, figsize=(20,15))\n",
        "plt.show()"
      ],
      "execution_count": 9,
      "outputs": [
        {
          "output_type": "display_data",
          "data": {
            "image/png": "[encoded data removed]",
            "text/plain": [
              "<Figure size 1440x1080 with 9 Axes>"
            ]
          },
          "metadata": {
            "tags": [],
            "needs_background": "light"
          }
        }
      ]
    },
    {
      "cell_type": "markdown",
      "metadata": {
        "id": "5ZPt2D-RIy_A",
        "colab_type": "text"
      },
      "source": [
        "1. median income attributes has been scaled and capped at 15 for higher incomes and at 0.5 for lower median incomes. and should times 10000 than we can get the actual median incomes(eg. 4 actually means about $40,000)\n",
        "\n",
        "2. housing median age and the medain house value were also capped. In this case, median house value is our label, in the training set we will never get predictions beyond $500,000, than we have two options.<br>\n",
        "\n",
        "  a. collect proper labels for the districts whose labels were capped.<br>\n",
        "  b. remove those districts from the training set(and also from the test set, since your system should not be evaluated poorly if it predicts values beyond $500,000).<br>\n",
        "\n",
        "3. these attributes have very different scales.\n",
        "\n",
        "4. many histograms are tail-heavy."
      ]
    },
    {
      "cell_type": "markdown",
      "metadata": {
        "id": "xLCeaNAWLn8X",
        "colab_type": "text"
      },
      "source": [
        "# Create a Test Set\n",
        "\n",
        "Why? Since when we check the data, we might find some intereting pattern, which will make us choose a special algorithms. In this case, when we estimate the generalization erro using the test set, our estimate will not be too optimistic, and we will lauch a system that will not perform as well as expected. This is called*** data snooping bias***"
      ]
    },
    {
      "cell_type": "markdown",
      "metadata": {
        "id": "vJ_Wa8tXN9BO",
        "colab_type": "text"
      },
      "source": [
        "## shuffle the data and split by ratio"
      ]
    },
    {
      "cell_type": "code",
      "metadata": {
        "id": "gQfxD5xuHTWC",
        "colab_type": "code",
        "colab": {}
      },
      "source": [
        "import numpy as np\n",
        "\n",
        "def split_train_test(data, test_ratio):\n",
        "  shuffled_indices = np.random.permutation(len(data))\n",
        "  test_set_size = int(len(data)*test_ratio)\n",
        "  test_indices= shuffled_indices[:test_set_size]\n",
        "  train_indices = shuffled_indices[test_set_size:]\n",
        "  return data.iloc[train_indices], data.iloc[test_indices]"
      ],
      "execution_count": 10,
      "outputs": []
    },
    {
      "cell_type": "code",
      "metadata": {
        "id": "MQRO5QLtNm0d",
        "colab_type": "code",
        "colab": {
          "base_uri": "https://localhost:8080/",
          "height": 0
        },
        "outputId": "ee54236a-4074-4cec-981a-0b8231283b23"
      },
      "source": [
        "train_set, test_set = split_train_test(housing, 0.2)\n",
        "\n",
        "print(\"The length of train set is \", len(train_set))\n",
        "print(\"The length of test set is  \", len(test_set))"
      ],
      "execution_count": 11,
      "outputs": [
        {
          "output_type": "stream",
          "text": [
            "The length of train set is  16512\n",
            "The length of test set is   4128\n"
          ],
          "name": "stdout"
        }
      ]
    },
    {
      "cell_type": "markdown",
      "metadata": {
        "id": "IJAxxswkN4v5",
        "colab_type": "text"
      },
      "source": [
        "This works but not perfect, since when we run the program again, it will generate a different test set.\n",
        "\n",
        "one solution for this problem is th se random seed with *np.random.seed(42)* before calling *np.random.permutation()*.\n",
        "\n",
        "But this will generate a new problem, which is when we have an updated dataset.\n",
        "\n",
        "## split test set with Cyclic Redundancy Check\n",
        "\n",
        "compute the has of each instance's identifier, if the hash is lower than or equal to 20%, then put it into test set"
      ]
    },
    {
      "cell_type": "code",
      "metadata": {
        "id": "-Wj6a756N3ER",
        "colab_type": "code",
        "colab": {}
      },
      "source": [
        "from zlib import crc32\n",
        "\n",
        "def test_set_check(identifier, test_ratio):\n",
        "  return crc32(np.int64(identifier)) & 0xffffffff < test_ratio * 2**32\n",
        "\n",
        "def split_train_test_by_id(data, test_ratio, id_column):\n",
        "  ids = data[id_column]\n",
        "  in_test_set = ids.apply(lambda id_: test_set_check(id_, test_ratio))\n",
        "  return data.loc[~in_test_set], data.loc[in_test_set]"
      ],
      "execution_count": 12,
      "outputs": []
    },
    {
      "cell_type": "code",
      "metadata": {
        "id": "6r3ioBloSVRs",
        "colab_type": "code",
        "colab": {
          "base_uri": "https://localhost:8080/",
          "height": 0
        },
        "outputId": "e1ee66bb-631d-4e96-ffa9-383e4fd2a0f8"
      },
      "source": [
        "housing_with_id = housing.reset_index() # adds an 'index' column\n",
        "train_set, test_set = split_train_test_by_id(housing_with_id, 0.2, \"index\")\n",
        "\n",
        "print(\"The length of train set is \", len(train_set))\n",
        "print(\"The length of test set is  \", len(test_set))"
      ],
      "execution_count": 13,
      "outputs": [
        {
          "output_type": "stream",
          "text": [
            "The length of train set is  16512\n",
            "The length of test set is   4128\n"
          ],
          "name": "stdout"
        }
      ]
    },
    {
      "cell_type": "markdown",
      "metadata": {
        "id": "0_oYPyGlSzJ5",
        "colab_type": "text"
      },
      "source": [
        "another thing we need to make sure, is that new data gets appended to the end of the dataset and that no row ever gets deleted.\n",
        "\n",
        "If it is not possible, then we can try to use the most stable features to build a unique identifier."
      ]
    },
    {
      "cell_type": "code",
      "metadata": {
        "id": "Q5_I0uB9Sqs9",
        "colab_type": "code",
        "colab": {}
      },
      "source": [
        "# in this case, we can use latitude and longitude\n",
        "housing_with_id[\"id\"] = housing[\"longitude\"] * 1000 + housing[\"latitude\"]\n",
        "train_set, test_set = split_train_test_by_id(housing_with_id, 0.2, \"id\")"
      ],
      "execution_count": 14,
      "outputs": []
    },
    {
      "cell_type": "markdown",
      "metadata": {
        "id": "DBC9bRRGT_fV",
        "colab_type": "text"
      },
      "source": [
        "## Scikit-learn function to split test set"
      ]
    },
    {
      "cell_type": "code",
      "metadata": {
        "id": "LOuLaKJqT9pH",
        "colab_type": "code",
        "colab": {}
      },
      "source": [
        "from sklearn.model_selection import train_test_split\n",
        "\n",
        "train_set, test_set = train_test_split(housing, test_size = 0.2, random_state=42)"
      ],
      "execution_count": 15,
      "outputs": []
    },
    {
      "cell_type": "markdown",
      "metadata": {
        "id": "A9bQqOKJVM4T",
        "colab_type": "text"
      },
      "source": [
        "So far all the methods above to split test set in the condition that our dataset is large enough. But if it is not, we might run the risk of introducing a significant ***sampling bias***.\n",
        "\n",
        "***stratified sampling***: the data is divided into homogeneous subgroups called *strata*.\n",
        "\n",
        "Suppose that the median income is a very important attribute to predict median housing prices. we need to ensure that the test set is representative of the various categories of incomes in the whole dataset. most median income is around 1.5 to 6, but some median incomes go far beyond 6. It is important to have a sufficient number of instances in our dataset for each stratum, or else the estimate of a stratum's importance may be biased, which also means that you should not have too many strata, and each stratum should be large enough.\n",
        "\n",
        "## split test set with pd.cut()"
      ]
    },
    {
      "cell_type": "code",
      "metadata": {
        "id": "ae4nl6YBUbcg",
        "colab_type": "code",
        "colab": {
          "base_uri": "https://localhost:8080/",
          "height": 0
        },
        "outputId": "2efa32b8-dfad-4eca-ec46-5545e76ee75e"
      },
      "source": [
        "housing[\"income_cut\"] = pd.cut(housing[\"median_income\"],\n",
        "                               bins=[0., 1.5, 3.0, 4.6, 6., np.inf],  # np.inf positive infinity\n",
        "                               labels=[1, 2, 3, 4, 5])\n",
        "\n",
        "housing[\"income_cut\"].hist()"
      ],
      "execution_count": 16,
      "outputs": [
        {
          "output_type": "execute_result",
          "data": {
            "text/plain": [
              "<matplotlib.axes._subplots.AxesSubplot at 0x7fdda77cdda0>"
            ]
          },
          "metadata": {
            "tags": []
          },
          "execution_count": 16
        },
        {
          "output_type": "display_data",
          "data": {
            "image/png": "[encoded data removed]",
            "text/plain": [
              "<Figure size 432x288 with 1 Axes>"
            ]
          },
          "metadata": {
            "tags": [],
            "needs_background": "light"
          }
        }
      ]
    },
    {
      "cell_type": "markdown",
      "metadata": {
        "id": "6qynHohgYz83",
        "colab_type": "text"
      },
      "source": [
        "Now you are ready to do stratified sampling based on the income category"
      ]
    },
    {
      "cell_type": "code",
      "metadata": {
        "id": "fbvCTkN5YnGD",
        "colab_type": "code",
        "colab": {}
      },
      "source": [
        "# scikit-learn's StratigiedShuffleSplit\n",
        "from sklearn.model_selection import StratifiedShuffleSplit\n",
        "\n",
        "split = StratifiedShuffleSplit(n_splits=1, test_size=0.2, random_state=42)\n",
        "for train_index, test_index in split.split(housing, housing[\"income_cut\"]):\n",
        "  strat_train_set = housing.loc[train_index]\n",
        "  strat_test_set = housing.loc[test_index]"
      ],
      "execution_count": 17,
      "outputs": []
    },
    {
      "cell_type": "code",
      "metadata": {
        "id": "weKO7A8JZpvk",
        "colab_type": "code",
        "colab": {
          "base_uri": "https://localhost:8080/",
          "height": 0
        },
        "outputId": "49c307be-2336-4652-aaf3-3958f5488c2b"
      },
      "source": [
        "strat_test_set[\"income_cut\"].value_counts() / len(strat_test_set)"
      ],
      "execution_count": 18,
      "outputs": [
        {
          "output_type": "execute_result",
          "data": {
            "text/plain": [
              "3    0.367490\n",
              "2    0.318798\n",
              "4    0.159399\n",
              "5    0.114583\n",
              "1    0.039729\n",
              "Name: income_cut, dtype: float64"
            ]
          },
          "metadata": {
            "tags": []
          },
          "execution_count": 18
        }
      ]
    },
    {
      "cell_type": "code",
      "metadata": {
        "id": "L3aqI6QUZyeM",
        "colab_type": "code",
        "colab": {}
      },
      "source": [
        "# now remove the income_cut attribute so that the data is back to its original state:\n",
        "\n",
        "for set_ in (strat_train_set, strat_test_set):\n",
        "  set_.drop(\"income_cut\", axis = 1, inplace=True)"
      ],
      "execution_count": 19,
      "outputs": []
    },
    {
      "cell_type": "markdown",
      "metadata": {
        "id": "XbdudrgwcDYE",
        "colab_type": "text"
      },
      "source": [
        "# Discover and Visualize the Data to Gain Insights\n",
        "\n",
        "First make sure the test set is put aside and only exploring the training set."
      ]
    },
    {
      "cell_type": "code",
      "metadata": {
        "id": "1-VMyvapcBVH",
        "colab_type": "code",
        "colab": {}
      },
      "source": [
        "housing = strat_train_set.copy()"
      ],
      "execution_count": 20,
      "outputs": []
    },
    {
      "cell_type": "markdown",
      "metadata": {
        "id": "KOXXrJ31cqKN",
        "colab_type": "text"
      },
      "source": [
        "## Visualizing Geographical Data"
      ]
    },
    {
      "cell_type": "code",
      "metadata": {
        "id": "E4cmMwj0cpel",
        "colab_type": "code",
        "colab": {
          "base_uri": "https://localhost:8080/",
          "height": 0
        },
        "outputId": "c6cc4c9c-69f8-4e5f-cb65-494046974462"
      },
      "source": [
        "housing.plot(kind=\"scatter\", x=\"longitude\", y=\"latitude\")"
      ],
      "execution_count": 21,
      "outputs": [
        {
          "output_type": "execute_result",
          "data": {
            "text/plain": [
              "<matplotlib.axes._subplots.AxesSubplot at 0x7fdda78340f0>"
            ]
          },
          "metadata": {
            "tags": []
          },
          "execution_count": 21
        },
        {
          "output_type": "display_data",
          "data": {
            "image/png": "[encoded data removed]",
            "text/plain": [
              "<Figure size 432x288 with 1 Axes>"
            ]
          },
          "metadata": {
            "tags": [],
            "needs_background": "light"
          }
        }
      ]
    },
    {
      "cell_type": "code",
      "metadata": {
        "id": "nPe63RTRdZvT",
        "colab_type": "code",
        "colab": {
          "base_uri": "https://localhost:8080/",
          "height": 0
        },
        "outputId": "ae22838f-dbe5-4b35-d1c0-e74f3981bdc6"
      },
      "source": [
        "housing.plot(kind=\"scatter\", x=\"longitude\", y=\"latitude\", alpha=0.1)"
      ],
      "execution_count": 22,
      "outputs": [
        {
          "output_type": "execute_result",
          "data": {
            "text/plain": [
              "<matplotlib.axes._subplots.AxesSubplot at 0x7fdda78240f0>"
            ]
          },
          "metadata": {
            "tags": []
          },
          "execution_count": 22
        },
        {
          "output_type": "display_data",
          "data": {
            "image/png": "[encoded data removed]",
            "text/plain": [
              "<Figure size 432x288 with 1 Axes>"
            ]
          },
          "metadata": {
            "tags": [],
            "needs_background": "light"
          }
        }
      ]
    },
    {
      "cell_type": "code",
      "metadata": {
        "id": "n69csI1Hdpt6",
        "colab_type": "code",
        "colab": {
          "base_uri": "https://localhost:8080/",
          "height": 0
        },
        "outputId": "1575f5c2-8d74-4c37-f315-8fb845d67332"
      },
      "source": [
        "housing.plot(kind=\"scatter\", x=\"longitude\", y=\"latitude\", alpha=0.4,\n",
        "             s=housing[\"population\"]/100, label=\"population\", figsize=(10, 7),\n",
        "             c=\"median_house_value\", cmap=plt.get_cmap(\"jet\"),colorbar=True)\n",
        "plt.legend()"
      ],
      "execution_count": 23,
      "outputs": [
        {
          "output_type": "execute_result",
          "data": {
            "text/plain": [
              "<matplotlib.legend.Legend at 0x7fdda78a17b8>"
            ]
          },
          "metadata": {
            "tags": []
          },
          "execution_count": 23
        },
        {
          "output_type": "display_data",
          "data": {
            "image/png": "[encoded data removed]",
            "text/plain": [
              "<Figure size 720x504 with 2 Axes>"
            ]
          },
          "metadata": {
            "tags": [],
            "needs_background": "light"
          }
        }
      ]
    },
    {
      "cell_type": "markdown",
      "metadata": {
        "id": "2eL2OuSgoitY",
        "colab_type": "text"
      },
      "source": [
        "## Looking for Correlations"
      ]
    },
    {
      "cell_type": "code",
      "metadata": {
        "id": "w3uX_RpOfVoE",
        "colab_type": "code",
        "colab": {}
      },
      "source": [
        "# compute the standard correlation coefficient\n",
        "corr_matrix=housing.corr()"
      ],
      "execution_count": 24,
      "outputs": []
    },
    {
      "cell_type": "code",
      "metadata": {
        "id": "cttjSX94pcJb",
        "colab_type": "code",
        "colab": {
          "base_uri": "https://localhost:8080/",
          "height": 0
        },
        "outputId": "1bbcdf41-95b4-4e4d-e17f-158d0e65bd94"
      },
      "source": [
        "corr_matrix[\"median_house_value\"].sort_values(ascending=False)"
      ],
      "execution_count": 25,
      "outputs": [
        {
          "output_type": "execute_result",
          "data": {
            "text/plain": [
              "median_house_value    1.000000\n",
              "median_income         0.690931\n",
              "total_rooms           0.131721\n",
              "housing_median_age    0.109157\n",
              "households            0.062866\n",
              "total_bedrooms        0.046003\n",
              "population           -0.026658\n",
              "longitude            -0.053456\n",
              "latitude             -0.136914\n",
              "Name: median_house_value, dtype: float64"
            ]
          },
          "metadata": {
            "tags": []
          },
          "execution_count": 25
        }
      ]
    },
    {
      "cell_type": "code",
      "metadata": {
        "id": "SXgW7NBeplP4",
        "colab_type": "code",
        "colab": {
          "base_uri": "https://localhost:8080/",
          "height": 0
        },
        "outputId": "242b4979-5143-4dcd-cf50-9f0dc8be4d72"
      },
      "source": [
        "from pandas.plotting import scatter_matrix\n",
        "\n",
        "attributes = [\"median_house_value\", \"median_income\", \"total_rooms\", \"housing_median_age\"]\n",
        "scatter_matrix(housing[attributes], figsize=(12, 8))"
      ],
      "execution_count": 26,
      "outputs": [
        {
          "output_type": "execute_result",
          "data": {
            "text/plain": [
              "array([[<matplotlib.axes._subplots.AxesSubplot object at 0x7fdda7911048>,\n",
              "        <matplotlib.axes._subplots.AxesSubplot object at 0x7fdd9aa80860>,\n",
              "        <matplotlib.axes._subplots.AxesSubplot object at 0x7fdd9ab6aac8>,\n",
              "        <matplotlib.axes._subplots.AxesSubplot object at 0x7fdd9ab92d30>],\n",
              "       [<matplotlib.axes._subplots.AxesSubplot object at 0x7fdd9ab45f98>,\n",
              "        <matplotlib.axes._subplots.AxesSubplot object at 0x7fdd9ab04240>,\n",
              "        <matplotlib.axes._subplots.AxesSubplot object at 0x7fdd9aab84a8>,\n",
              "        <matplotlib.axes._subplots.AxesSubplot object at 0x7fdd992286d8>],\n",
              "       [<matplotlib.axes._subplots.AxesSubplot object at 0x7fdd99228748>,\n",
              "        <matplotlib.axes._subplots.AxesSubplot object at 0x7fdd99210be0>,\n",
              "        <matplotlib.axes._subplots.AxesSubplot object at 0x7fdd991c4e48>,\n",
              "        <matplotlib.axes._subplots.AxesSubplot object at 0x7fdda84a3470>],\n",
              "       [<matplotlib.axes._subplots.AxesSubplot object at 0x7fdda78f06a0>,\n",
              "        <matplotlib.axes._subplots.AxesSubplot object at 0x7fdd9ab75eb8>,\n",
              "        <matplotlib.axes._subplots.AxesSubplot object at 0x7fdd991ee4e0>,\n",
              "        <matplotlib.axes._subplots.AxesSubplot object at 0x7fdd990c3208>]],\n",
              "      dtype=object)"
            ]
          },
          "metadata": {
            "tags": []
          },
          "execution_count": 26
        },
        {
          "output_type": "display_data",
          "data": {
            "image/png": "[encoded data removed]",
            "text/plain": [
              "<Figure size 864x576 with 16 Axes>"
            ]
          },
          "metadata": {
            "tags": [],
            "needs_background": "light"
          }
        }
      ]
    },
    {
      "cell_type": "code",
      "metadata": {
        "id": "eTbg4kHcqmii",
        "colab_type": "code",
        "colab": {
          "base_uri": "https://localhost:8080/",
          "height": 0
        },
        "outputId": "e5706a6f-af31-422e-c0de-0d11f412261e"
      },
      "source": [
        "housing.plot(kind=\"scatter\",x=\"median_income\",y=\"median_house_value\",alpha=0.1)"
      ],
      "execution_count": 27,
      "outputs": [
        {
          "output_type": "execute_result",
          "data": {
            "text/plain": [
              "<matplotlib.axes._subplots.AxesSubplot at 0x7fdd98ede748>"
            ]
          },
          "metadata": {
            "tags": []
          },
          "execution_count": 27
        },
        {
          "output_type": "display_data",
          "data": {
            "image/png": "[encoded data removed]",
            "text/plain": [
              "<Figure size 432x288 with 1 Axes>"
            ]
          },
          "metadata": {
            "tags": [],
            "needs_background": "light"
          }
        }
      ]
    },
    {
      "cell_type": "markdown",
      "metadata": {
        "id": "s9Stg88Fs14w",
        "colab_type": "text"
      },
      "source": [
        "In the above plot, we can see the upward trend and the points are not too dispersed. And we can notice that there are visible hrizontal line at $500,000, $450,000 and another around $350,000, perhaps one around $280,000. We need to remove the corresponding districts to prevent our algorithms from learning to reproduce these data quirks.\n",
        "\n",
        "## Experimenting with Attribute Combinations\n",
        "\n",
        "one last thing you may want to do before preparing the data for Machine Learning algorithms is to try out various attribute combinations."
      ]
    },
    {
      "cell_type": "code",
      "metadata": {
        "id": "-Y7caNHrsEU6",
        "colab_type": "code",
        "colab": {}
      },
      "source": [
        "# The total number of room in a district is not very useful \n",
        "# if we don't know how many households there are. \n",
        "# Similarly, the total number of bedrooms by itself is not very useful\n",
        "# we need to compare it to the number of rooms\n",
        "\n",
        "housing[\"rooms_per_household\"]=housing[\"total_rooms\"]/housing[\"households\"]\n",
        "housing[\"bedrooms_per_room\"] = housing[\"total_bedrooms\"]/housing[\"total_rooms\"]\n",
        "housing[\"population_per_household\"]=housing[\"population\"]/housing[\"households\"]"
      ],
      "execution_count": 28,
      "outputs": []
    },
    {
      "cell_type": "code",
      "metadata": {
        "id": "IyZJdsKOv0rj",
        "colab_type": "code",
        "colab": {
          "base_uri": "https://localhost:8080/",
          "height": 0
        },
        "outputId": "bf9a7005-e5b0-4ca4-e90d-b4ed5cdaabe5"
      },
      "source": [
        "corr_matrix=housing.corr()\n",
        "corr_matrix[\"median_house_value\"].sort_values(ascending=False)"
      ],
      "execution_count": 29,
      "outputs": [
        {
          "output_type": "execute_result",
          "data": {
            "text/plain": [
              "median_house_value          1.000000\n",
              "median_income               0.690931\n",
              "rooms_per_household         0.146786\n",
              "total_rooms                 0.131721\n",
              "housing_median_age          0.109157\n",
              "households                  0.062866\n",
              "total_bedrooms              0.046003\n",
              "population_per_household   -0.022046\n",
              "population                 -0.026658\n",
              "longitude                  -0.053456\n",
              "latitude                   -0.136914\n",
              "bedrooms_per_room          -0.265794\n",
              "Name: median_house_value, dtype: float64"
            ]
          },
          "metadata": {
            "tags": []
          },
          "execution_count": 29
        }
      ]
    },
    {
      "cell_type": "markdown",
      "metadata": {
        "id": "W7-y8Fv6xyum",
        "colab_type": "text"
      },
      "source": [
        "bedrooms_per_room attribute is much more correlated with the median house value than the total number of room or bedrooms.<br>\n",
        "the number of room per household is also more informative than the total number of rooms in a district.<br>\n",
        "\n",
        "This round of exploration does not have to be absolutely thorough; the point is to start off on the right foot and quickly gain insights that will help you get a first reasonably good prototype. But this is an iterative process: once we got a prototype up and running, you can analyze its output to gain more insights and come back to this exploration step\n",
        "\n",
        "# Prepare the Data for Machine Learning Algorithms"
      ]
    },
    {
      "cell_type": "code",
      "metadata": {
        "id": "BvGFYndcwBL4",
        "colab_type": "code",
        "colab": {}
      },
      "source": [
        "# revert to a clean training set\n",
        "housing = strat_train_set.drop(\"median_house_value\", axis=1)\n",
        "housing_labels = strat_train_set[\"median_house_value\"].copy()"
      ],
      "execution_count": 30,
      "outputs": []
    },
    {
      "cell_type": "code",
      "metadata": {
        "id": "Q0XUdwV008TE",
        "colab_type": "code",
        "colab": {
          "base_uri": "https://localhost:8080/",
          "height": 289
        },
        "outputId": "8b656838-799e-4074-b89c-17e4936edb78"
      },
      "source": [
        "housing.info()"
      ],
      "execution_count": 31,
      "outputs": [
        {
          "output_type": "stream",
          "text": [
            "<class 'pandas.core.frame.DataFrame'>\n",
            "Int64Index: 16512 entries, 20449 to 15661\n",
            "Data columns (total 9 columns):\n",
            " #   Column              Non-Null Count  Dtype  \n",
            "---  ------              --------------  -----  \n",
            " 0   longitude           16512 non-null  float64\n",
            " 1   latitude            16512 non-null  float64\n",
            " 2   housing_median_age  16512 non-null  float64\n",
            " 3   total_rooms         16512 non-null  float64\n",
            " 4   total_bedrooms      16343 non-null  float64\n",
            " 5   population          16512 non-null  float64\n",
            " 6   households          16512 non-null  float64\n",
            " 7   median_income       16512 non-null  float64\n",
            " 8   ocean_proximity     16512 non-null  object \n",
            "dtypes: float64(8), object(1)\n",
            "memory usage: 1.3+ MB\n"
          ],
          "name": "stdout"
        }
      ]
    },
    {
      "cell_type": "markdown",
      "metadata": {
        "id": "aWOadOus0Nkk",
        "colab_type": "text"
      },
      "source": [
        "## Data Cleaning\n",
        "\n",
        "algorithms connot work with missing features. The total_bedrooms attribute has some missing values. Three options to solve this problem:<br>\n",
        "  1. Get rid of the corresponding districts.<br>\n",
        "  2. Get rid of the whole attribute.<br>\n",
        "  3. Set the values to some value.<br>"
      ]
    },
    {
      "cell_type": "code",
      "metadata": {
        "id": "IwhH9lGX0MZJ",
        "colab_type": "code",
        "colab": {}
      },
      "source": [
        "housing.dropna(subset=[\"total_bedrooms\"])                 # option 1\n",
        "housing.drop(\"total_bedrooms\", axis=1)                    # option 2\n",
        "median = housing[\"total_bedrooms\"].median()               # option 3\n",
        "housing[\"total_bedrooms\"].fillna(median, inplace=True)"
      ],
      "execution_count": 32,
      "outputs": []
    },
    {
      "cell_type": "markdown",
      "metadata": {
        "id": "oNTWtaLu1oSa",
        "colab_type": "text"
      },
      "source": [
        "Scikit-Learn provide a handy class to take care of missing values: SimpleImputer."
      ]
    },
    {
      "cell_type": "code",
      "metadata": {
        "id": "upFmwK9p1wX7",
        "colab_type": "code",
        "colab": {}
      },
      "source": [
        "from sklearn.impute import SimpleImputer\n",
        "\n",
        "# imputer has simply computed the median of the attribute and stored the results\n",
        "imputer = SimpleImputer(strategy=\"median\")"
      ],
      "execution_count": 33,
      "outputs": []
    },
    {
      "cell_type": "code",
      "metadata": {
        "id": "GGa0C6CL16IT",
        "colab_type": "code",
        "colab": {
          "base_uri": "https://localhost:8080/",
          "height": 51
        },
        "outputId": "50b1fc7b-8708-4da4-ec24-a6be173ba3c7"
      },
      "source": [
        "housing_num = housing.drop(\"ocean_proximity\", axis=1) # since SimpleImputer can only computed on numerical attributes\n",
        "\n",
        "imputer.fit(housing_num)"
      ],
      "execution_count": 34,
      "outputs": [
        {
          "output_type": "execute_result",
          "data": {
            "text/plain": [
              "SimpleImputer(add_indicator=False, copy=True, fill_value=None,\n",
              "              missing_values=nan, strategy='median', verbose=0)"
            ]
          },
          "metadata": {
            "tags": []
          },
          "execution_count": 34
        }
      ]
    },
    {
      "cell_type": "code",
      "metadata": {
        "id": "_GkfbtTj2NPZ",
        "colab_type": "code",
        "colab": {
          "base_uri": "https://localhost:8080/",
          "height": 51
        },
        "outputId": "e050cecd-a762-4e20-9154-686710270700"
      },
      "source": [
        "imputer.statistics_"
      ],
      "execution_count": 35,
      "outputs": [
        {
          "output_type": "execute_result",
          "data": {
            "text/plain": [
              "array([-118.5   ,   34.26  ,   29.    , 2124.    ,  433.    , 1167.    ,\n",
              "        409.    ,    3.5341])"
            ]
          },
          "metadata": {
            "tags": []
          },
          "execution_count": 35
        }
      ]
    },
    {
      "cell_type": "code",
      "metadata": {
        "id": "Oa6EpYcD2QJN",
        "colab_type": "code",
        "colab": {
          "base_uri": "https://localhost:8080/",
          "height": 51
        },
        "outputId": "47c1790b-f072-49a7-f181-a9bec576f6db"
      },
      "source": [
        "housing_num.median().values"
      ],
      "execution_count": 36,
      "outputs": [
        {
          "output_type": "execute_result",
          "data": {
            "text/plain": [
              "array([-118.5   ,   34.26  ,   29.    , 2124.    ,  433.    , 1167.    ,\n",
              "        409.    ,    3.5341])"
            ]
          },
          "metadata": {
            "tags": []
          },
          "execution_count": 36
        }
      ]
    },
    {
      "cell_type": "code",
      "metadata": {
        "id": "QiNfhKVO2Vas",
        "colab_type": "code",
        "colab": {}
      },
      "source": [
        "X = imputer.transform(housing_num) "
      ],
      "execution_count": 37,
      "outputs": []
    },
    {
      "cell_type": "code",
      "metadata": {
        "id": "rgIEMeEQ28t0",
        "colab_type": "code",
        "colab": {}
      },
      "source": [
        "# X is numpy array than we need to transform it back into pandas dataframe\n",
        "hoursing_tr = pd.DataFrame(X, columns=housing_num.columns, index=housing_num.index)"
      ],
      "execution_count": 38,
      "outputs": []
    },
    {
      "cell_type": "markdown",
      "metadata": {
        "id": "uZgOcXDmBw6p",
        "colab_type": "text"
      },
      "source": [
        "## Handling Text and Categorical Attribute"
      ]
    },
    {
      "cell_type": "code",
      "metadata": {
        "id": "xjm6FjIU3XRs",
        "colab_type": "code",
        "colab": {}
      },
      "source": [
        "housing_cat = housing[[\"ocean_proximity\"]]"
      ],
      "execution_count": 39,
      "outputs": []
    },
    {
      "cell_type": "code",
      "metadata": {
        "id": "SsMOVWgiCE-H",
        "colab_type": "code",
        "colab": {
          "base_uri": "https://localhost:8080/",
          "height": 359
        },
        "outputId": "b72b356e-c7a4-41a3-af57-0cd83c60ad9e"
      },
      "source": [
        "housing_cat.head(10)"
      ],
      "execution_count": 40,
      "outputs": [
        {
          "output_type": "execute_result",
          "data": {
            "text/html": [
              "<div>\n",
              "<style scoped>\n",
              "    .dataframe tbody tr th:only-of-type {\n",
              "        vertical-align: middle;\n",
              "    }\n",
              "\n",
              "    .dataframe tbody tr th {\n",
              "        vertical-align: top;\n",
              "    }\n",
              "\n",
              "    .dataframe thead th {\n",
              "        text-align: right;\n",
              "    }\n",
              "</style>\n",
              "<table border=\"1\" class=\"dataframe\">\n",
              "  <thead>\n",
              "    <tr style=\"text-align: right;\">\n",
              "      <th></th>\n",
              "      <th>ocean_proximity</th>\n",
              "    </tr>\n",
              "  </thead>\n",
              "  <tbody>\n",
              "    <tr>\n",
              "      <th>20449</th>\n",
              "      <td>&lt;1H OCEAN</td>\n",
              "    </tr>\n",
              "    <tr>\n",
              "      <th>11274</th>\n",
              "      <td>&lt;1H OCEAN</td>\n",
              "    </tr>\n",
              "    <tr>\n",
              "      <th>16581</th>\n",
              "      <td>INLAND</td>\n",
              "    </tr>\n",
              "    <tr>\n",
              "      <th>2659</th>\n",
              "      <td>&lt;1H OCEAN</td>\n",
              "    </tr>\n",
              "    <tr>\n",
              "      <th>11053</th>\n",
              "      <td>&lt;1H OCEAN</td>\n",
              "    </tr>\n",
              "    <tr>\n",
              "      <th>7183</th>\n",
              "      <td>&lt;1H OCEAN</td>\n",
              "    </tr>\n",
              "    <tr>\n",
              "      <th>13346</th>\n",
              "      <td>INLAND</td>\n",
              "    </tr>\n",
              "    <tr>\n",
              "      <th>9207</th>\n",
              "      <td>INLAND</td>\n",
              "    </tr>\n",
              "    <tr>\n",
              "      <th>19422</th>\n",
              "      <td>INLAND</td>\n",
              "    </tr>\n",
              "    <tr>\n",
              "      <th>2984</th>\n",
              "      <td>INLAND</td>\n",
              "    </tr>\n",
              "  </tbody>\n",
              "</table>\n",
              "</div>"
            ],
            "text/plain": [
              "      ocean_proximity\n",
              "20449       <1H OCEAN\n",
              "11274       <1H OCEAN\n",
              "16581          INLAND\n",
              "2659        <1H OCEAN\n",
              "11053       <1H OCEAN\n",
              "7183        <1H OCEAN\n",
              "13346          INLAND\n",
              "9207           INLAND\n",
              "19422          INLAND\n",
              "2984           INLAND"
            ]
          },
          "metadata": {
            "tags": []
          },
          "execution_count": 40
        }
      ]
    },
    {
      "cell_type": "markdown",
      "metadata": {
        "id": "za4t7TlZDkkW",
        "colab_type": "text"
      },
      "source": [
        "convert text to numbers with Scikit-learn's *OrdinalEncoder*"
      ]
    },
    {
      "cell_type": "code",
      "metadata": {
        "id": "ZLWE_8cxCHju",
        "colab_type": "code",
        "colab": {}
      },
      "source": [
        "from sklearn.preprocessing import OrdinalEncoder\n",
        "ordinal_encoder = OrdinalEncoder()\n",
        "housing_cat_encoded = ordinal_encoder.fit_transform(housing_cat)\n"
      ],
      "execution_count": 41,
      "outputs": []
    },
    {
      "cell_type": "code",
      "metadata": {
        "id": "V9-uX0dqD6o3",
        "colab_type": "code",
        "colab": {
          "base_uri": "https://localhost:8080/",
          "height": 187
        },
        "outputId": "a1e5e3d3-482f-4d18-99f7-015cb94b2989"
      },
      "source": [
        "housing_cat_encoded[:10]"
      ],
      "execution_count": 42,
      "outputs": [
        {
          "output_type": "execute_result",
          "data": {
            "text/plain": [
              "array([[0.],\n",
              "       [0.],\n",
              "       [1.],\n",
              "       [0.],\n",
              "       [0.],\n",
              "       [0.],\n",
              "       [1.],\n",
              "       [1.],\n",
              "       [1.],\n",
              "       [1.]])"
            ]
          },
          "metadata": {
            "tags": []
          },
          "execution_count": 42
        }
      ]
    },
    {
      "cell_type": "code",
      "metadata": {
        "id": "aDGTmH9VEEPx",
        "colab_type": "code",
        "colab": {
          "base_uri": "https://localhost:8080/",
          "height": 51
        },
        "outputId": "11a2b247-b491-48f9-f938-7e62c6293244"
      },
      "source": [
        "ordinal_encoder.categories_"
      ],
      "execution_count": 43,
      "outputs": [
        {
          "output_type": "execute_result",
          "data": {
            "text/plain": [
              "[array(['<1H OCEAN', 'INLAND', 'ISLAND', 'NEAR BAY', 'NEAR OCEAN'],\n",
              "       dtype=object)]"
            ]
          },
          "metadata": {
            "tags": []
          },
          "execution_count": 43
        }
      ]
    },
    {
      "cell_type": "markdown",
      "metadata": {
        "id": "-JyCF-SjE2AK",
        "colab_type": "text"
      },
      "source": [
        "In ML, we prefer the numbers close to each other are more similar than than two distant values.\n",
        "catogories 0 and 4 are more simiilar than categories 0 and 1.\n",
        "to sovle this problem we can use onehot encode"
      ]
    },
    {
      "cell_type": "code",
      "metadata": {
        "id": "yTltAEmsEbQB",
        "colab_type": "code",
        "colab": {}
      },
      "source": [
        "from sklearn.preprocessing import OneHotEncoder\n",
        "\n",
        "cat_encoder = OneHotEncoder()"
      ],
      "execution_count": 44,
      "outputs": []
    },
    {
      "cell_type": "code",
      "metadata": {
        "id": "T8Su0qr-F-pV",
        "colab_type": "code",
        "colab": {
          "base_uri": "https://localhost:8080/",
          "height": 51
        },
        "outputId": "4fb52976-733d-49d9-bb10-ceab24728351"
      },
      "source": [
        "housing_cat_1hot = cat_encoder.fit_transform(housing_cat)\n",
        "housing_cat_1hot"
      ],
      "execution_count": 45,
      "outputs": [
        {
          "output_type": "execute_result",
          "data": {
            "text/plain": [
              "<16512x5 sparse matrix of type '<class 'numpy.float64'>'\n",
              "\twith 16512 stored elements in Compressed Sparse Row format>"
            ]
          },
          "metadata": {
            "tags": []
          },
          "execution_count": 45
        }
      ]
    },
    {
      "cell_type": "code",
      "metadata": {
        "id": "61OnHNSIGKSX",
        "colab_type": "code",
        "colab": {
          "base_uri": "https://localhost:8080/",
          "height": 136
        },
        "outputId": "5160773f-740a-4c98-9c69-6aa7c650a6d9"
      },
      "source": [
        "housing_cat_1hot.toarray()"
      ],
      "execution_count": 46,
      "outputs": [
        {
          "output_type": "execute_result",
          "data": {
            "text/plain": [
              "array([[1., 0., 0., 0., 0.],\n",
              "       [1., 0., 0., 0., 0.],\n",
              "       [0., 1., 0., 0., 0.],\n",
              "       ...,\n",
              "       [0., 1., 0., 0., 0.],\n",
              "       [0., 0., 0., 0., 1.],\n",
              "       [0., 0., 0., 1., 0.]])"
            ]
          },
          "metadata": {
            "tags": []
          },
          "execution_count": 46
        }
      ]
    },
    {
      "cell_type": "code",
      "metadata": {
        "id": "ani7dlvnGYTv",
        "colab_type": "code",
        "colab": {
          "base_uri": "https://localhost:8080/",
          "height": 51
        },
        "outputId": "b3bdc524-574e-4be8-9287-58e78aba2b3b"
      },
      "source": [
        "cat_encoder.categories_"
      ],
      "execution_count": 47,
      "outputs": [
        {
          "output_type": "execute_result",
          "data": {
            "text/plain": [
              "[array(['<1H OCEAN', 'INLAND', 'ISLAND', 'NEAR BAY', 'NEAR OCEAN'],\n",
              "       dtype=object)]"
            ]
          },
          "metadata": {
            "tags": []
          },
          "execution_count": 47
        }
      ]
    },
    {
      "cell_type": "markdown",
      "metadata": {
        "id": "xU2vcNFUHjro",
        "colab_type": "text"
      },
      "source": [
        "## Custom Transformers\n",
        "\n"
      ]
    },
    {
      "cell_type": "code",
      "metadata": {
        "id": "mXBUnPsOGdwg",
        "colab_type": "code",
        "colab": {}
      },
      "source": [
        "from sklearn.base import BaseEstimator, TransformerMixin\n",
        "\n",
        "rooms_ix, bedrooms_ix, population_ix, households_ix = 3, 4, 5, 6\n",
        "\n",
        "class CombinedAttributesAdder(BaseEstimator, TransformerMixin):\n",
        "  def __init__(self, add_bedrooms_per_room=True): #no *args or **kargs\n",
        "    self.add_bedrooms_per_room = add_bedrooms_per_room\n",
        "  def fit(self, X, y=None):\n",
        "    return self # nothing else to do\n",
        "  def transform(self, X):\n",
        "    rooms_per_household=X[:,rooms_ix]/X[:,households_ix]\n",
        "    population_per_household = X[:, population_ix] / X[:, households_ix]\n",
        "    if self.add_bedrooms_per_room:\n",
        "      bedrooms_per_room=X[:, bedrooms_ix] / X[:, rooms_ix]\n",
        "      return np.c_[X, rooms_per_household, population_per_household, bedrooms_per_room]\n",
        "    else:\n",
        "      return np.c_[X, rooms_per_household, population_per_household]\n",
        "\n",
        "attr_adder = CombinedAttributesAdder(add_bedrooms_per_room=False)\n",
        "housing_extra_attribs = attr_adder.transform(housing.values)"
      ],
      "execution_count": 48,
      "outputs": []
    },
    {
      "cell_type": "code",
      "metadata": {
        "id": "cRPgsROnMaam",
        "colab_type": "code",
        "colab": {
          "base_uri": "https://localhost:8080/",
          "height": 34
        },
        "outputId": "0e332fc5-f2c8-4020-c461-6e5bef9d2a19"
      },
      "source": [
        "housing.shape"
      ],
      "execution_count": 49,
      "outputs": [
        {
          "output_type": "execute_result",
          "data": {
            "text/plain": [
              "(16512, 9)"
            ]
          },
          "metadata": {
            "tags": []
          },
          "execution_count": 49
        }
      ]
    },
    {
      "cell_type": "markdown",
      "metadata": {
        "id": "zWxCMzsyKVvI",
        "colab_type": "text"
      },
      "source": [
        "## Feature Scaling\n",
        "\n",
        "1. min-max scalling: **sklearn.MinMaxScaler**, tune feature_range to change the range.\n",
        "2. standardization: **sklearn.StandardScaler**\n",
        "\n",
        "## Transformation Piplines\n",
        "\n",
        "There are many data transformation steps that need to be executed in the right order. Scikit-Learn provides Pipline class to help with such sequences of transformations."
      ]
    },
    {
      "cell_type": "code",
      "metadata": {
        "id": "_BbwJ710QEfZ",
        "colab_type": "code",
        "colab": {}
      },
      "source": [
        "from sklearn.pipeline import Pipeline\n",
        "from sklearn.preprocessing import StandardScaler\n",
        "\n",
        "num_pipeline = Pipeline([\n",
        "                         ('imputer', SimpleImputer(strategy=\"median\")),\n",
        "                         ('attribs_adder', CombinedAttributesAdder()),\n",
        "                         ('std_scaler', StandardScaler()),\n",
        "])\n",
        "\n",
        "housing_num_tr = num_pipeline.fit_transform(housing_num)"
      ],
      "execution_count": 50,
      "outputs": []
    },
    {
      "cell_type": "markdown",
      "metadata": {
        "id": "6B2BnM61Y2eC",
        "colab_type": "text"
      },
      "source": [
        "We used to handled the categorical columns and numerical comlumns separately. In version 0.20, Scikit-Learn introduced the ColumnTransformer"
      ]
    },
    {
      "cell_type": "code",
      "metadata": {
        "id": "anQ2zjA6UjTK",
        "colab_type": "code",
        "colab": {}
      },
      "source": [
        "from sklearn.compose import ColumnTransformer\n",
        "\n",
        "num_attribs = list(housing_num)\n",
        "cat_attribs = [\"ocean_proximity\"]\n",
        "\n",
        "full_pipeline = ColumnTransformer([\n",
        "                                   (\"num\", num_pipeline, num_attribs),\n",
        "                                   (\"cat\", OneHotEncoder(), cat_attribs),\n",
        "])\n",
        "\n",
        "housing_prepared = full_pipeline.fit_transform(housing)"
      ],
      "execution_count": 51,
      "outputs": []
    },
    {
      "cell_type": "code",
      "metadata": {
        "id": "YGe0kTXsbiZ1",
        "colab_type": "code",
        "colab": {
          "base_uri": "https://localhost:8080/",
          "height": 136
        },
        "outputId": "a47fc010-5070-42a6-9d64-896aa896b644"
      },
      "source": [
        "housing_prepared[:,-5:]"
      ],
      "execution_count": 52,
      "outputs": [
        {
          "output_type": "execute_result",
          "data": {
            "text/plain": [
              "array([[1., 0., 0., 0., 0.],\n",
              "       [1., 0., 0., 0., 0.],\n",
              "       [0., 1., 0., 0., 0.],\n",
              "       ...,\n",
              "       [0., 1., 0., 0., 0.],\n",
              "       [0., 0., 0., 0., 1.],\n",
              "       [0., 0., 0., 1., 0.]])"
            ]
          },
          "metadata": {
            "tags": []
          },
          "execution_count": 52
        }
      ]
    },
    {
      "cell_type": "markdown",
      "metadata": {
        "id": "XpZ-jZ4SbFJj",
        "colab_type": "text"
      },
      "source": [
        "Note that the OneHotEncoder returns a sparse matrix, while other returns a dense matrix. ColumnTransformer estimates the density of the final matrix (ie. the ratio of nonzeor cells), and it returns a sparse matrix if the density is lower than a given threshold. In this case, density is 0.2 lower than default value 0.3, then it returns a dens matrix.\n",
        "\n",
        "# Select and Train a Model"
      ]
    },
    {
      "cell_type": "markdown",
      "metadata": {
        "id": "q1sc7TKQc13R",
        "colab_type": "text"
      },
      "source": [
        "## Training and Evaluation on the Trainin Set\n",
        "\n",
        "### Train a linear regression"
      ]
    },
    {
      "cell_type": "code",
      "metadata": {
        "id": "dZ5ogHCRZ0bJ",
        "colab_type": "code",
        "colab": {
          "base_uri": "https://localhost:8080/",
          "height": 34
        },
        "outputId": "6c0fbfd6-e09d-47b9-e16b-57b17fb482ea"
      },
      "source": [
        "from sklearn.linear_model import LinearRegression\n",
        "\n",
        "lin_reg = LinearRegression()\n",
        "lin_reg.fit(housing_prepared, housing_labels)"
      ],
      "execution_count": 53,
      "outputs": [
        {
          "output_type": "execute_result",
          "data": {
            "text/plain": [
              "LinearRegression(copy_X=True, fit_intercept=True, n_jobs=None, normalize=False)"
            ]
          },
          "metadata": {
            "tags": []
          },
          "execution_count": 53
        }
      ]
    },
    {
      "cell_type": "code",
      "metadata": {
        "id": "WYh1SLQ6dJXL",
        "colab_type": "code",
        "colab": {
          "base_uri": "https://localhost:8080/",
          "height": 51
        },
        "outputId": "24de1347-2cf1-4af6-c641-d7edf3080cae"
      },
      "source": [
        "some_data = housing.iloc[:5]\n",
        "some_labels = housing_labels.iloc[:5]\n",
        "some_data_prepared = full_pipeline.transform(some_data)\n",
        "\n",
        "print(\"Predictions: \", lin_reg.predict(some_data_prepared))"
      ],
      "execution_count": 54,
      "outputs": [
        {
          "output_type": "stream",
          "text": [
            "Predictions:  [210545.63580954 243156.44199124 144965.80301413 153440.224189\n",
            " 224252.90011288]\n"
          ],
          "name": "stdout"
        }
      ]
    },
    {
      "cell_type": "code",
      "metadata": {
        "id": "mEiUm36fdj9v",
        "colab_type": "code",
        "colab": {
          "base_uri": "https://localhost:8080/",
          "height": 34
        },
        "outputId": "8edc323e-8619-4145-eba0-7a4c11add71a"
      },
      "source": [
        "print(\"labels: \", list(some_labels))"
      ],
      "execution_count": 55,
      "outputs": [
        {
          "output_type": "stream",
          "text": [
            "labels:  [182100.0, 173900.0, 147600.0, 74000.0, 212100.0]\n"
          ],
          "name": "stdout"
        }
      ]
    },
    {
      "cell_type": "markdown",
      "metadata": {
        "id": "zxmIMalU9Mn0",
        "colab_type": "text"
      },
      "source": [
        "It works, although the predictions are not exactly accurate.\n",
        "measure this regression model's RMSE on the whole training set using Scikit-Learn's mean_squared_error() function:"
      ]
    },
    {
      "cell_type": "code",
      "metadata": {
        "id": "8lTMvij_dvl_",
        "colab_type": "code",
        "colab": {
          "base_uri": "https://localhost:8080/",
          "height": 34
        },
        "outputId": "09e634cf-342a-42cd-d09e-4e08111cdf4c"
      },
      "source": [
        "from sklearn.metrics import mean_squared_error\n",
        "\n",
        "housing_predictions = lin_reg.predict(housing_prepared)\n",
        "lin_mse = mean_squared_error(housing_labels, housing_predictions)\n",
        "lin_rmse = np.sqrt(lin_mse)\n",
        "\n",
        "lin_rmse"
      ],
      "execution_count": 56,
      "outputs": [
        {
          "output_type": "execute_result",
          "data": {
            "text/plain": [
              "68175.5172112703"
            ]
          },
          "metadata": {
            "tags": []
          },
          "execution_count": 56
        }
      ]
    },
    {
      "cell_type": "markdown",
      "metadata": {
        "id": "9pyjGxbf_taL",
        "colab_type": "text"
      },
      "source": [
        "The most districts' *median_housing_values* range between $120,000 and $265,000, so a typical prediction error of $68,175 is not very satisfying.\n",
        "\n",
        "This is underfitting problem. The main ways to fix this problem are to select a more powerful model, to feed the training algorithm with better features, or reduce the constraints on the model.\n",
        "\n",
        "### Train a DecisionTreeRegressor"
      ]
    },
    {
      "cell_type": "code",
      "metadata": {
        "id": "YMzuYRM8_s8S",
        "colab_type": "code",
        "colab": {
          "base_uri": "https://localhost:8080/",
          "height": 119
        },
        "outputId": "da29ed52-b4d7-4c84-9d87-13bea4fefc98"
      },
      "source": [
        "from sklearn.tree import DecisionTreeRegressor\n",
        "\n",
        "tree_reg = DecisionTreeRegressor()\n",
        "tree_reg.fit(housing_prepared, housing_labels)"
      ],
      "execution_count": 57,
      "outputs": [
        {
          "output_type": "execute_result",
          "data": {
            "text/plain": [
              "DecisionTreeRegressor(ccp_alpha=0.0, criterion='mse', max_depth=None,\n",
              "                      max_features=None, max_leaf_nodes=None,\n",
              "                      min_impurity_decrease=0.0, min_impurity_split=None,\n",
              "                      min_samples_leaf=1, min_samples_split=2,\n",
              "                      min_weight_fraction_leaf=0.0, presort='deprecated',\n",
              "                      random_state=None, splitter='best')"
            ]
          },
          "metadata": {
            "tags": []
          },
          "execution_count": 57
        }
      ]
    },
    {
      "cell_type": "code",
      "metadata": {
        "id": "5_WN4Sv9-BgJ",
        "colab_type": "code",
        "colab": {
          "base_uri": "https://localhost:8080/",
          "height": 34
        },
        "outputId": "7c5d5542-7205-4304-802b-cf1ba02dce54"
      },
      "source": [
        "housing_predictions = tree_reg.predict(housing_prepared)\n",
        "tree_mse = mean_squared_error(housing_labels, housing_predictions)\n",
        "tree_rmse = np.sqrt(tree_mse)\n",
        "\n",
        "tree_rmse"
      ],
      "execution_count": 58,
      "outputs": [
        {
          "output_type": "execute_result",
          "data": {
            "text/plain": [
              "0.0"
            ]
          },
          "metadata": {
            "tags": []
          },
          "execution_count": 58
        }
      ]
    },
    {
      "cell_type": "markdown",
      "metadata": {
        "id": "VDuka327B-cD",
        "colab_type": "text"
      },
      "source": [
        "## Better Evaluation Using Cross-Validation\n",
        "\n",
        "Use the train_test_split() function to split the training set into a smaller training set into smaller training set and a validation set.\n",
        "\n",
        "### Scikit-Learn's K-fold corss-validation feature"
      ]
    },
    {
      "cell_type": "code",
      "metadata": {
        "id": "UlR7mHoABrek",
        "colab_type": "code",
        "colab": {}
      },
      "source": [
        "# randomly splits the training set into 10 distinct subsets called folds\n",
        "# then it trains and evaluates the Decision Tree model 10 times,\n",
        "# picking a different fold for evaluation every time and training on the other 9 folds.\n",
        "\n",
        "from sklearn.model_selection import cross_val_score\n",
        "\n",
        "scores = cross_val_score(tree_reg, housing_prepared, housing_labels,\n",
        "                         scoring=\"neg_mean_squared_error\", cv=10)\n",
        "tree_rmse_scores = np.sqrt(-scores)"
      ],
      "execution_count": 59,
      "outputs": []
    },
    {
      "cell_type": "code",
      "metadata": {
        "id": "2k6H7UKbDeKf",
        "colab_type": "code",
        "colab": {
          "base_uri": "https://localhost:8080/",
          "height": 102
        },
        "outputId": "9dcabf3e-7467-4846-e4bb-8ea0df27fae4"
      },
      "source": [
        "def display_scores(scores):\n",
        "  print(\"Scores: \", scores)\n",
        "  print(\"Mean: \", scores.mean())\n",
        "  print(\"Standard deviation: \", scores.std())\n",
        "\n",
        "display_scores(tree_rmse_scores)"
      ],
      "execution_count": 60,
      "outputs": [
        {
          "output_type": "stream",
          "text": [
            "Scores:  [68320.1156777  70166.9364756  67669.35010738 68866.98700044\n",
            " 71164.17493361 70187.11094029 71004.96644861 72909.99318614\n",
            " 71037.37205611 68997.42392278]\n",
            "Mean:  70032.44307486693\n",
            "Standard deviation:  1500.154399750347\n"
          ],
          "name": "stdout"
        }
      ]
    },
    {
      "cell_type": "code",
      "metadata": {
        "id": "3d_g9uxAFz30",
        "colab_type": "code",
        "colab": {
          "base_uri": "https://localhost:8080/",
          "height": 102
        },
        "outputId": "330fc83a-6cd8-4815-d089-7629e517f9c9"
      },
      "source": [
        "lin_scores = cross_val_score(lin_reg, housing_prepared, housing_labels,\n",
        "                             scoring=\"neg_mean_squared_error\", cv=10)\n",
        "\n",
        "lin_rmse_scores = np.sqrt(-lin_scores)\n",
        "display_scores(lin_rmse_scores)"
      ],
      "execution_count": 61,
      "outputs": [
        {
          "output_type": "stream",
          "text": [
            "Scores:  [68998.49548363 65233.23866446 65128.90124108 70546.67540566\n",
            " 67457.64244344 71523.7626357  72446.5190945  69320.74271623\n",
            " 67993.19243495 68021.62290798]\n",
            "Mean:  68667.07930276233\n",
            "Standard deviation:  2305.6070646879034\n"
          ],
          "name": "stdout"
        }
      ]
    },
    {
      "cell_type": "markdown",
      "metadata": {
        "id": "mH_ca4lsHcw7",
        "colab_type": "text"
      },
      "source": [
        "### RandomForestRegressor"
      ]
    },
    {
      "cell_type": "code",
      "metadata": {
        "id": "-nQzjhGDHOtn",
        "colab_type": "code",
        "colab": {
          "base_uri": "https://localhost:8080/",
          "height": 34
        },
        "outputId": "a68f1ca2-ef20-4863-a487-d36b1ff9619f"
      },
      "source": [
        "from sklearn.ensemble import RandomForestRegressor\n",
        "\n",
        "forest_reg = RandomForestRegressor()\n",
        "forest_reg.fit(housing_prepared, housing_labels)\n",
        "\n",
        "housing_predictions = forest_reg.predict(housing_prepared)\n",
        "forest_mse = mean_squared_error(housing_labels, housing_predictions)\n",
        "forest_rmse = np.sqrt(forest_mse)\n",
        "\n",
        "forest_rmse"
      ],
      "execution_count": 62,
      "outputs": [
        {
          "output_type": "execute_result",
          "data": {
            "text/plain": [
              "18323.678866409675"
            ]
          },
          "metadata": {
            "tags": []
          },
          "execution_count": 62
        }
      ]
    },
    {
      "cell_type": "code",
      "metadata": {
        "id": "q4l_v56iI0VO",
        "colab_type": "code",
        "colab": {
          "base_uri": "https://localhost:8080/",
          "height": 102
        },
        "outputId": "64320b9a-0965-4622-fc4c-adcc8c28bcb5"
      },
      "source": [
        "forest_scores = cross_val_score(forest_reg, housing_prepared, housing_labels,\n",
        "                                scoring=\"neg_mean_squared_error\", cv=10)\n",
        "forest_rmse_scores = np.sqrt(-forest_scores)\n",
        "display_scores(forest_rmse_scores)"
      ],
      "execution_count": 63,
      "outputs": [
        {
          "output_type": "stream",
          "text": [
            "Scores:  [47922.96562189 47809.27137334 47663.87597674 49275.12916375\n",
            " 48653.87374253 53134.01095608 49027.65749715 50618.91678171\n",
            " 50263.05037615 49401.31514517]\n",
            "Mean:  49377.00666345088\n",
            "Standard deviation:  1568.6069452278564\n"
          ],
          "name": "stdout"
        }
      ]
    },
    {
      "cell_type": "markdown",
      "metadata": {
        "id": "gz52QORhJ7zD",
        "colab_type": "text"
      },
      "source": [
        "This is much better. but it is still overfitting.\n",
        "\n",
        "## Fine-Tune Your Model\n",
        "\n",
        "### Grid Search\n",
        "  Using Scikit-Learn's ***GridSearchCV*** to search "
      ]
    },
    {
      "cell_type": "code",
      "metadata": {
        "id": "mHXRarg5JUkV",
        "colab_type": "code",
        "colab": {
          "base_uri": "https://localhost:8080/",
          "height": 374
        },
        "outputId": "d7eb5cd1-2eef-4b88-8296-3a5fc07fe5e1"
      },
      "source": [
        "from sklearn.model_selection import GridSearchCV\n",
        "\n",
        "param_grid = [\n",
        "              {'n_estimators': [3, 10, 30], 'max_features': [2, 4, 6, 8]},\n",
        "              {'bootstrap': [False], 'n_estimators': [3, 10], 'max_features': [2, 3, 4]},\n",
        "]\n",
        "\n",
        "forest_reg = RandomForestRegressor()\n",
        "\n",
        "grid_search = GridSearchCV(forest_reg, param_grid, cv=5,\n",
        "                           scoring = 'neg_mean_squared_error',\n",
        "                           return_train_score=True)\n",
        "\n",
        "grid_search.fit(housing_prepared, housing_labels)"
      ],
      "execution_count": 64,
      "outputs": [
        {
          "output_type": "execute_result",
          "data": {
            "text/plain": [
              "GridSearchCV(cv=5, error_score=nan,\n",
              "             estimator=RandomForestRegressor(bootstrap=True, ccp_alpha=0.0,\n",
              "                                             criterion='mse', max_depth=None,\n",
              "                                             max_features='auto',\n",
              "                                             max_leaf_nodes=None,\n",
              "                                             max_samples=None,\n",
              "                                             min_impurity_decrease=0.0,\n",
              "                                             min_impurity_split=None,\n",
              "                                             min_samples_leaf=1,\n",
              "                                             min_samples_split=2,\n",
              "                                             min_weight_fraction_leaf=0.0,\n",
              "                                             n_estimators=100, n_jobs=None,\n",
              "                                             oob_score=False, random_state=None,\n",
              "                                             verbose=0, warm_start=False),\n",
              "             iid='deprecated', n_jobs=None,\n",
              "             param_grid=[{'max_features': [2, 4, 6, 8],\n",
              "                          'n_estimators': [3, 10, 30]},\n",
              "                         {'bootstrap': [False], 'max_features': [2, 3, 4],\n",
              "                          'n_estimators': [3, 10]}],\n",
              "             pre_dispatch='2*n_jobs', refit=True, return_train_score=True,\n",
              "             scoring='neg_mean_squared_error', verbose=0)"
            ]
          },
          "metadata": {
            "tags": []
          },
          "execution_count": 64
        }
      ]
    },
    {
      "cell_type": "code",
      "metadata": {
        "id": "zbZ9SAIbXOwL",
        "colab_type": "code",
        "colab": {
          "base_uri": "https://localhost:8080/",
          "height": 34
        },
        "outputId": "ab4d5d10-5423-456c-8ece-b1a83d2be82f"
      },
      "source": [
        "grid_search.best_params_"
      ],
      "execution_count": 65,
      "outputs": [
        {
          "output_type": "execute_result",
          "data": {
            "text/plain": [
              "{'max_features': 6, 'n_estimators': 30}"
            ]
          },
          "metadata": {
            "tags": []
          },
          "execution_count": 65
        }
      ]
    },
    {
      "cell_type": "code",
      "metadata": {
        "id": "o-r7ef_dg3dg",
        "colab_type": "code",
        "colab": {
          "base_uri": "https://localhost:8080/",
          "height": 136
        },
        "outputId": "b2a4f442-d5fe-4a08-a398-0e16070b9909"
      },
      "source": [
        "grid_search.best_estimator_"
      ],
      "execution_count": 66,
      "outputs": [
        {
          "output_type": "execute_result",
          "data": {
            "text/plain": [
              "RandomForestRegressor(bootstrap=True, ccp_alpha=0.0, criterion='mse',\n",
              "                      max_depth=None, max_features=6, max_leaf_nodes=None,\n",
              "                      max_samples=None, min_impurity_decrease=0.0,\n",
              "                      min_impurity_split=None, min_samples_leaf=1,\n",
              "                      min_samples_split=2, min_weight_fraction_leaf=0.0,\n",
              "                      n_estimators=30, n_jobs=None, oob_score=False,\n",
              "                      random_state=None, verbose=0, warm_start=False)"
            ]
          },
          "metadata": {
            "tags": []
          },
          "execution_count": 66
        }
      ]
    },
    {
      "cell_type": "code",
      "metadata": {
        "id": "ZX3U5EFmhEw0",
        "colab_type": "code",
        "colab": {
          "base_uri": "https://localhost:8080/",
          "height": 323
        },
        "outputId": "45a5356f-5fcb-465b-80c7-873b4a0dea53"
      },
      "source": [
        "cvres = grid_search.cv_results_\n",
        "\n",
        "for mean_score, params in zip(cvres[\"mean_test_score\"], cvres[\"params\"]):\n",
        "  print(np.sqrt(-mean_score), params)"
      ],
      "execution_count": 67,
      "outputs": [
        {
          "output_type": "stream",
          "text": [
            "63414.383318751105 {'max_features': 2, 'n_estimators': 3}\n",
            "55078.85617683716 {'max_features': 2, 'n_estimators': 10}\n",
            "52348.54423792797 {'max_features': 2, 'n_estimators': 30}\n",
            "59221.56533838806 {'max_features': 4, 'n_estimators': 3}\n",
            "52557.93681956566 {'max_features': 4, 'n_estimators': 10}\n",
            "50208.39068993535 {'max_features': 4, 'n_estimators': 30}\n",
            "58773.54355921808 {'max_features': 6, 'n_estimators': 3}\n",
            "52185.023632120225 {'max_features': 6, 'n_estimators': 10}\n",
            "49189.1298795087 {'max_features': 6, 'n_estimators': 30}\n",
            "58070.93731372879 {'max_features': 8, 'n_estimators': 3}\n",
            "52152.8927250748 {'max_features': 8, 'n_estimators': 10}\n",
            "49580.12772661216 {'max_features': 8, 'n_estimators': 30}\n",
            "63118.33916417685 {'bootstrap': False, 'max_features': 2, 'n_estimators': 3}\n",
            "54048.86951058596 {'bootstrap': False, 'max_features': 2, 'n_estimators': 10}\n",
            "60015.337234529215 {'bootstrap': False, 'max_features': 3, 'n_estimators': 3}\n",
            "51448.47484768699 {'bootstrap': False, 'max_features': 3, 'n_estimators': 10}\n",
            "56999.25106665052 {'bootstrap': False, 'max_features': 4, 'n_estimators': 3}\n",
            "50863.41099162805 {'bootstrap': False, 'max_features': 4, 'n_estimators': 10}\n"
          ],
          "name": "stdout"
        }
      ]
    },
    {
      "cell_type": "markdown",
      "metadata": {
        "id": "1KKEg7ejkdTY",
        "colab_type": "text"
      },
      "source": [
        "## Randomized Search\n",
        "\n",
        "if there are a lot combinations, it is often preferable to use RandomizedSearchCV instead. Benifits:<br>\n",
        "  1. we can set whatever the number of iterations as we want. instead of just a few values per hyperparameter with the grid search approach.<br>\n",
        "  2. we can control over the computing budget you want to allocate to hyperparameter search\n",
        "\n",
        "## Ensemble Methods\n",
        "\n",
        "Try to combine the models that perform best. The group (or \"ensemble\") will often perform better than the best individual model\n",
        "\n",
        "## Analyze the Best Models and Their Errors\n",
        "\n"
      ]
    },
    {
      "cell_type": "code",
      "metadata": {
        "id": "CVUTbVFthr0b",
        "colab_type": "code",
        "colab": {
          "base_uri": "https://localhost:8080/",
          "height": 85
        },
        "outputId": "4e7756bc-896d-4361-9b19-20f4fba373b8"
      },
      "source": [
        "# indicate the relative importance of each attribute for making accurate predictions:\n",
        "feature_importances = grid_search.best_estimator_.feature_importances_\n",
        "\n",
        "feature_importances"
      ],
      "execution_count": 68,
      "outputs": [
        {
          "output_type": "execute_result",
          "data": {
            "text/plain": [
              "array([7.48189685e-02, 6.87228039e-02, 4.33847120e-02, 1.72147035e-02,\n",
              "       1.66053777e-02, 1.70598329e-02, 1.60806971e-02, 3.21415399e-01,\n",
              "       7.30511949e-02, 1.08469177e-01, 7.37071413e-02, 7.81443452e-03,\n",
              "       1.53698183e-01, 4.67051724e-05, 3.18397916e-03, 4.72669013e-03])"
            ]
          },
          "metadata": {
            "tags": []
          },
          "execution_count": 68
        }
      ]
    },
    {
      "cell_type": "code",
      "metadata": {
        "id": "Ywzu4mFHmb7f",
        "colab_type": "code",
        "colab": {
          "base_uri": "https://localhost:8080/",
          "height": 289
        },
        "outputId": "f10d0f8c-9488-4e38-8153-f0e15734b395"
      },
      "source": [
        "# display these importance scores next to their corresponding attribute names:\n",
        "extra_attribs = [\"rooms_per_hhold\", \"pop_per_hhold\", \"bedrooms_per_room\"]\n",
        "cat_encoder = full_pipeline.named_transformers_[\"cat\"]\n",
        "cat_one_hot_attribs = list(cat_encoder.categories_[0])\n",
        "attributes =num_attribs + extra_attribs + cat_one_hot_attribs\n",
        "sorted(zip(feature_importances, attributes), reverse=True)"
      ],
      "execution_count": 69,
      "outputs": [
        {
          "output_type": "execute_result",
          "data": {
            "text/plain": [
              "[(0.32141539877162084, 'median_income'),\n",
              " (0.15369818349156972, 'INLAND'),\n",
              " (0.10846917692519935, 'pop_per_hhold'),\n",
              " (0.0748189684688924, 'longitude'),\n",
              " (0.07370714131025441, 'bedrooms_per_room'),\n",
              " (0.07305119493999769, 'rooms_per_hhold'),\n",
              " (0.0687228039356348, 'latitude'),\n",
              " (0.043384711979884784, 'housing_median_age'),\n",
              " (0.017214703518088886, 'total_rooms'),\n",
              " (0.017059832882795837, 'population'),\n",
              " (0.01660537769208071, 'total_bedrooms'),\n",
              " (0.016080697097188887, 'households'),\n",
              " (0.007814434520351583, '<1H OCEAN'),\n",
              " (0.004726690130663545, 'NEAR OCEAN'),\n",
              " (0.0031839791633442994, 'NEAR BAY'),\n",
              " (4.670517243227178e-05, 'ISLAND')]"
            ]
          },
          "metadata": {
            "tags": []
          },
          "execution_count": 69
        }
      ]
    },
    {
      "cell_type": "markdown",
      "metadata": {
        "id": "lie2yXWYoTlq",
        "colab_type": "text"
      },
      "source": [
        "with this information, we want to try dropping some of the less useful features. for instance, ocean_proximity category\n",
        "\n",
        "And also we should look at the specific errors that your system makes, then try to understand why ti makes them and what could fix the problem.(adding extra features or getting rid of uninformative ones, cleaning up outliers, etc.)\n",
        "\n",
        "## Evaluate Your System on the Test Set.\n",
        "\n",
        "get the predictors and the labels from test set, run full_pipeline to transform the data"
      ]
    },
    {
      "cell_type": "code",
      "metadata": {
        "id": "ebnk6FBSn349",
        "colab_type": "code",
        "colab": {
          "base_uri": "https://localhost:8080/",
          "height": 34
        },
        "outputId": "8af64dc7-a293-4140-f897-3454e0f2bc5a"
      },
      "source": [
        "final_model = grid_search.best_estimator_\n",
        "\n",
        "x_test = strat_test_set.drop(\"median_house_value\", axis = 1)\n",
        "y_test = strat_test_set[\"median_house_value\"].copy()\n",
        "\n",
        "x_test_prepared = full_pipeline.transform(x_test)\n",
        "\n",
        "final_predictions = final_model.predict(x_test_prepared)\n",
        "\n",
        "final_mse = mean_squared_error(y_test, final_predictions)\n",
        "final_rmse = np.sqrt(final_mse)\n",
        "\n",
        "final_rmse"
      ],
      "execution_count": 70,
      "outputs": [
        {
          "output_type": "execute_result",
          "data": {
            "text/plain": [
              "50086.23663962084"
            ]
          },
          "metadata": {
            "tags": []
          },
          "execution_count": 70
        }
      ]
    },
    {
      "cell_type": "code",
      "metadata": {
        "id": "QSylmFbap9lv",
        "colab_type": "code",
        "colab": {
          "base_uri": "https://localhost:8080/",
          "height": 34
        },
        "outputId": "93cb169e-efdb-4e1c-9390-34ee23c0b242"
      },
      "source": [
        "from scipy import stats\n",
        "\n",
        "confidence = 0.95\n",
        "squared_errors = (final_predictions - y_test) ** 2\n",
        "np.sqrt(stats.t.interval(confidence, len(squared_errors) - 1, loc=squared_errors.mean(), scale=stats.sem(squared_errors)))"
      ],
      "execution_count": 71,
      "outputs": [
        {
          "output_type": "execute_result",
          "data": {
            "text/plain": [
              "array([47933.6520933 , 52150.04504733])"
            ]
          },
          "metadata": {
            "tags": []
          },
          "execution_count": 71
        }
      ]
    },
    {
      "cell_type": "markdown",
      "metadata": {
        "id": "XWtl58E0yk3d",
        "colab_type": "text"
      },
      "source": [
        "# Launch, Monitor, and Maintain Your system\n",
        "\n",
        "P80"
      ]
    },
    {
      "cell_type": "markdown",
      "metadata": {
        "id": "YbeRLYOD1DHW",
        "colab_type": "text"
      },
      "source": [
        "# Exrcises"
      ]
    },
    {
      "cell_type": "markdown",
      "metadata": {
        "id": "GRAD-cLT1Gj8",
        "colab_type": "text"
      },
      "source": [
        "## Try SVM regressor"
      ]
    },
    {
      "cell_type": "code",
      "metadata": {
        "id": "KvtozBZJ1GIo",
        "colab_type": "code",
        "colab": {
          "base_uri": "https://localhost:8080/",
          "height": 1000
        },
        "outputId": "31a962db-b7a2-46e6-bb9d-c385cd55d526"
      },
      "source": [
        "from sklearn.svm import SVR\n",
        "\n",
        "param_grid =[\n",
        "             {'kernel': ['linear'], 'C': [10., 30., 60., 100., 300., 1000.0]},\n",
        "             {'kernel': ['rbf'], 'C': [1.0, 3.0, 30., 100., 300., 1000.0], 'gamma': [0.01, 0.03, 0.1, 0.3, 1.0, 3.0]},\n",
        "]\n",
        "\n",
        "svm_reg = SVR()\n",
        "grid_search = GridSearchCV(svm_reg, param_grid, cv=5, scoring='neg_mean_squared_error', verbose=2)\n",
        "grid_search.fit(housing_prepared, housing_labels)"
      ],
      "execution_count": 72,
      "outputs": [
        {
          "output_type": "stream",
          "text": [
            "Fitting 5 folds for each of 42 candidates, totalling 210 fits\n",
            "[CV] C=10.0, kernel=linear ...........................................\n"
          ],
          "name": "stdout"
        },
        {
          "output_type": "stream",
          "text": [
            "[Parallel(n_jobs=1)]: Using backend SequentialBackend with 1 concurrent workers.\n"
          ],
          "name": "stderr"
        },
        {
          "output_type": "stream",
          "text": [
            "[CV] ............................ C=10.0, kernel=linear, total=   9.9s\n",
            "[CV] C=10.0, kernel=linear ...........................................\n"
          ],
          "name": "stdout"
        },
        {
          "output_type": "stream",
          "text": [
            "[Parallel(n_jobs=1)]: Done   1 out of   1 | elapsed:    9.9s remaining:    0.0s\n"
          ],
          "name": "stderr"
        },
        {
          "output_type": "stream",
          "text": [
            "[CV] ............................ C=10.0, kernel=linear, total=   9.9s\n",
            "[CV] C=10.0, kernel=linear ...........................................\n",
            "[CV] ............................ C=10.0, kernel=linear, total=   9.9s\n",
            "[CV] C=10.0, kernel=linear ...........................................\n",
            "[CV] ............................ C=10.0, kernel=linear, total=   9.8s\n",
            "[CV] C=10.0, kernel=linear ...........................................\n",
            "[CV] ............................ C=10.0, kernel=linear, total=   9.9s\n",
            "[CV] C=30.0, kernel=linear ...........................................\n",
            "[CV] ............................ C=30.0, kernel=linear, total=   9.8s\n",
            "[CV] C=30.0, kernel=linear ...........................................\n",
            "[CV] ............................ C=30.0, kernel=linear, total=   9.7s\n",
            "[CV] C=30.0, kernel=linear ...........................................\n",
            "[CV] ............................ C=30.0, kernel=linear, total=   9.8s\n",
            "[CV] C=30.0, kernel=linear ...........................................\n",
            "[CV] ............................ C=30.0, kernel=linear, total=   9.7s\n",
            "[CV] C=30.0, kernel=linear ...........................................\n",
            "[CV] ............................ C=30.0, kernel=linear, total=   9.7s\n",
            "[CV] C=60.0, kernel=linear ...........................................\n",
            "[CV] ............................ C=60.0, kernel=linear, total=   9.9s\n",
            "[CV] C=60.0, kernel=linear ...........................................\n",
            "[CV] ............................ C=60.0, kernel=linear, total=   9.9s\n",
            "[CV] C=60.0, kernel=linear ...........................................\n",
            "[CV] ............................ C=60.0, kernel=linear, total=   9.6s\n",
            "[CV] C=60.0, kernel=linear ...........................................\n",
            "[CV] ............................ C=60.0, kernel=linear, total=   9.5s\n",
            "[CV] C=60.0, kernel=linear ...........................................\n",
            "[CV] ............................ C=60.0, kernel=linear, total=   9.5s\n",
            "[CV] C=100.0, kernel=linear ..........................................\n",
            "[CV] ........................... C=100.0, kernel=linear, total=   9.8s\n",
            "[CV] C=100.0, kernel=linear ..........................................\n",
            "[CV] ........................... C=100.0, kernel=linear, total=   9.6s\n",
            "[CV] C=100.0, kernel=linear ..........................................\n",
            "[CV] ........................... C=100.0, kernel=linear, total=   9.8s\n",
            "[CV] C=100.0, kernel=linear ..........................................\n",
            "[CV] ........................... C=100.0, kernel=linear, total=   9.5s\n",
            "[CV] C=100.0, kernel=linear ..........................................\n",
            "[CV] ........................... C=100.0, kernel=linear, total=   9.5s\n",
            "[CV] C=300.0, kernel=linear ..........................................\n",
            "[CV] ........................... C=300.0, kernel=linear, total=   9.9s\n",
            "[CV] C=300.0, kernel=linear ..........................................\n",
            "[CV] ........................... C=300.0, kernel=linear, total=   9.8s\n",
            "[CV] C=300.0, kernel=linear ..........................................\n",
            "[CV] ........................... C=300.0, kernel=linear, total=   9.8s\n",
            "[CV] C=300.0, kernel=linear ..........................................\n",
            "[CV] ........................... C=300.0, kernel=linear, total=   9.6s\n",
            "[CV] C=300.0, kernel=linear ..........................................\n",
            "[CV] ........................... C=300.0, kernel=linear, total=   9.7s\n",
            "[CV] C=1000.0, kernel=linear .........................................\n",
            "[CV] .......................... C=1000.0, kernel=linear, total=  10.2s\n",
            "[CV] C=1000.0, kernel=linear .........................................\n",
            "[CV] .......................... C=1000.0, kernel=linear, total=   9.9s\n",
            "[CV] C=1000.0, kernel=linear .........................................\n",
            "[CV] .......................... C=1000.0, kernel=linear, total=  10.2s\n",
            "[CV] C=1000.0, kernel=linear .........................................\n",
            "[CV] .......................... C=1000.0, kernel=linear, total=  10.2s\n",
            "[CV] C=1000.0, kernel=linear .........................................\n",
            "[CV] .......................... C=1000.0, kernel=linear, total=  10.1s\n",
            "[CV] C=1.0, gamma=0.01, kernel=rbf ...................................\n",
            "[CV] .................... C=1.0, gamma=0.01, kernel=rbf, total=  17.3s\n",
            "[CV] C=1.0, gamma=0.01, kernel=rbf ...................................\n",
            "[CV] .................... C=1.0, gamma=0.01, kernel=rbf, total=  17.2s\n",
            "[CV] C=1.0, gamma=0.01, kernel=rbf ...................................\n",
            "[CV] .................... C=1.0, gamma=0.01, kernel=rbf, total=  17.1s\n",
            "[CV] C=1.0, gamma=0.01, kernel=rbf ...................................\n",
            "[CV] .................... C=1.0, gamma=0.01, kernel=rbf, total=  17.4s\n",
            "[CV] C=1.0, gamma=0.01, kernel=rbf ...................................\n",
            "[CV] .................... C=1.0, gamma=0.01, kernel=rbf, total=  17.3s\n",
            "[CV] C=1.0, gamma=0.03, kernel=rbf ...................................\n",
            "[CV] .................... C=1.0, gamma=0.03, kernel=rbf, total=  17.1s\n",
            "[CV] C=1.0, gamma=0.03, kernel=rbf ...................................\n",
            "[CV] .................... C=1.0, gamma=0.03, kernel=rbf, total=  17.3s\n",
            "[CV] C=1.0, gamma=0.03, kernel=rbf ...................................\n",
            "[CV] .................... C=1.0, gamma=0.03, kernel=rbf, total=  17.3s\n",
            "[CV] C=1.0, gamma=0.03, kernel=rbf ...................................\n",
            "[CV] .................... C=1.0, gamma=0.03, kernel=rbf, total=  17.2s\n",
            "[CV] C=1.0, gamma=0.03, kernel=rbf ...................................\n",
            "[CV] .................... C=1.0, gamma=0.03, kernel=rbf, total=  17.1s\n",
            "[CV] C=1.0, gamma=0.1, kernel=rbf ....................................\n",
            "[CV] ..................... C=1.0, gamma=0.1, kernel=rbf, total=  16.8s\n",
            "[CV] C=1.0, gamma=0.1, kernel=rbf ....................................\n",
            "[CV] ..................... C=1.0, gamma=0.1, kernel=rbf, total=  16.9s\n",
            "[CV] C=1.0, gamma=0.1, kernel=rbf ....................................\n",
            "[CV] ..................... C=1.0, gamma=0.1, kernel=rbf, total=  16.8s\n",
            "[CV] C=1.0, gamma=0.1, kernel=rbf ....................................\n",
            "[CV] ..................... C=1.0, gamma=0.1, kernel=rbf, total=  16.8s\n",
            "[CV] C=1.0, gamma=0.1, kernel=rbf ....................................\n",
            "[CV] ..................... C=1.0, gamma=0.1, kernel=rbf, total=  16.8s\n",
            "[CV] C=1.0, gamma=0.3, kernel=rbf ....................................\n",
            "[CV] ..................... C=1.0, gamma=0.3, kernel=rbf, total=  16.3s\n",
            "[CV] C=1.0, gamma=0.3, kernel=rbf ....................................\n",
            "[CV] ..................... C=1.0, gamma=0.3, kernel=rbf, total=  16.4s\n",
            "[CV] C=1.0, gamma=0.3, kernel=rbf ....................................\n",
            "[CV] ..................... C=1.0, gamma=0.3, kernel=rbf, total=  16.3s\n",
            "[CV] C=1.0, gamma=0.3, kernel=rbf ....................................\n",
            "[CV] ..................... C=1.0, gamma=0.3, kernel=rbf, total=  16.6s\n",
            "[CV] C=1.0, gamma=0.3, kernel=rbf ....................................\n",
            "[CV] ..................... C=1.0, gamma=0.3, kernel=rbf, total=  16.5s\n",
            "[CV] C=1.0, gamma=1.0, kernel=rbf ....................................\n",
            "[CV] ..................... C=1.0, gamma=1.0, kernel=rbf, total=  15.8s\n",
            "[CV] C=1.0, gamma=1.0, kernel=rbf ....................................\n",
            "[CV] ..................... C=1.0, gamma=1.0, kernel=rbf, total=  15.8s\n",
            "[CV] C=1.0, gamma=1.0, kernel=rbf ....................................\n",
            "[CV] ..................... C=1.0, gamma=1.0, kernel=rbf, total=  15.9s\n",
            "[CV] C=1.0, gamma=1.0, kernel=rbf ....................................\n",
            "[CV] ..................... C=1.0, gamma=1.0, kernel=rbf, total=  15.9s\n",
            "[CV] C=1.0, gamma=1.0, kernel=rbf ....................................\n",
            "[CV] ..................... C=1.0, gamma=1.0, kernel=rbf, total=  16.0s\n",
            "[CV] C=1.0, gamma=3.0, kernel=rbf ....................................\n",
            "[CV] ..................... C=1.0, gamma=3.0, kernel=rbf, total=  16.7s\n",
            "[CV] C=1.0, gamma=3.0, kernel=rbf ....................................\n",
            "[CV] ..................... C=1.0, gamma=3.0, kernel=rbf, total=  16.4s\n",
            "[CV] C=1.0, gamma=3.0, kernel=rbf ....................................\n",
            "[CV] ..................... C=1.0, gamma=3.0, kernel=rbf, total=  16.4s\n",
            "[CV] C=1.0, gamma=3.0, kernel=rbf ....................................\n",
            "[CV] ..................... C=1.0, gamma=3.0, kernel=rbf, total=  16.4s\n",
            "[CV] C=1.0, gamma=3.0, kernel=rbf ....................................\n",
            "[CV] ..................... C=1.0, gamma=3.0, kernel=rbf, total=  16.4s\n",
            "[CV] C=3.0, gamma=0.01, kernel=rbf ...................................\n",
            "[CV] .................... C=3.0, gamma=0.01, kernel=rbf, total=  17.2s\n",
            "[CV] C=3.0, gamma=0.01, kernel=rbf ...................................\n",
            "[CV] .................... C=3.0, gamma=0.01, kernel=rbf, total=  17.2s\n",
            "[CV] C=3.0, gamma=0.01, kernel=rbf ...................................\n",
            "[CV] .................... C=3.0, gamma=0.01, kernel=rbf, total=  17.1s\n",
            "[CV] C=3.0, gamma=0.01, kernel=rbf ...................................\n",
            "[CV] .................... C=3.0, gamma=0.01, kernel=rbf, total=  17.2s\n",
            "[CV] C=3.0, gamma=0.01, kernel=rbf ...................................\n",
            "[CV] .................... C=3.0, gamma=0.01, kernel=rbf, total=  17.2s\n",
            "[CV] C=3.0, gamma=0.03, kernel=rbf ...................................\n",
            "[CV] .................... C=3.0, gamma=0.03, kernel=rbf, total=  17.0s\n",
            "[CV] C=3.0, gamma=0.03, kernel=rbf ...................................\n",
            "[CV] .................... C=3.0, gamma=0.03, kernel=rbf, total=  17.2s\n",
            "[CV] C=3.0, gamma=0.03, kernel=rbf ...................................\n",
            "[CV] .................... C=3.0, gamma=0.03, kernel=rbf, total=  17.1s\n",
            "[CV] C=3.0, gamma=0.03, kernel=rbf ...................................\n",
            "[CV] .................... C=3.0, gamma=0.03, kernel=rbf, total=  17.1s\n",
            "[CV] C=3.0, gamma=0.03, kernel=rbf ...................................\n",
            "[CV] .................... C=3.0, gamma=0.03, kernel=rbf, total=  17.2s\n",
            "[CV] C=3.0, gamma=0.1, kernel=rbf ....................................\n",
            "[CV] ..................... C=3.0, gamma=0.1, kernel=rbf, total=  16.9s\n",
            "[CV] C=3.0, gamma=0.1, kernel=rbf ....................................\n",
            "[CV] ..................... C=3.0, gamma=0.1, kernel=rbf, total=  16.8s\n",
            "[CV] C=3.0, gamma=0.1, kernel=rbf ....................................\n",
            "[CV] ..................... C=3.0, gamma=0.1, kernel=rbf, total=  16.9s\n",
            "[CV] C=3.0, gamma=0.1, kernel=rbf ....................................\n",
            "[CV] ..................... C=3.0, gamma=0.1, kernel=rbf, total=  16.9s\n",
            "[CV] C=3.0, gamma=0.1, kernel=rbf ....................................\n",
            "[CV] ..................... C=3.0, gamma=0.1, kernel=rbf, total=  16.9s\n",
            "[CV] C=3.0, gamma=0.3, kernel=rbf ....................................\n",
            "[CV] ..................... C=3.0, gamma=0.3, kernel=rbf, total=  18.3s\n",
            "[CV] C=3.0, gamma=0.3, kernel=rbf ....................................\n",
            "[CV] ..................... C=3.0, gamma=0.3, kernel=rbf, total=  16.9s\n",
            "[CV] C=3.0, gamma=0.3, kernel=rbf ....................................\n",
            "[CV] ..................... C=3.0, gamma=0.3, kernel=rbf, total=  16.3s\n",
            "[CV] C=3.0, gamma=0.3, kernel=rbf ....................................\n",
            "[CV] ..................... C=3.0, gamma=0.3, kernel=rbf, total=  16.3s\n",
            "[CV] C=3.0, gamma=0.3, kernel=rbf ....................................\n",
            "[CV] ..................... C=3.0, gamma=0.3, kernel=rbf, total=  16.3s\n",
            "[CV] C=3.0, gamma=1.0, kernel=rbf ....................................\n",
            "[CV] ..................... C=3.0, gamma=1.0, kernel=rbf, total=  15.7s\n",
            "[CV] C=3.0, gamma=1.0, kernel=rbf ....................................\n",
            "[CV] ..................... C=3.0, gamma=1.0, kernel=rbf, total=  15.8s\n",
            "[CV] C=3.0, gamma=1.0, kernel=rbf ....................................\n",
            "[CV] ..................... C=3.0, gamma=1.0, kernel=rbf, total=  15.7s\n",
            "[CV] C=3.0, gamma=1.0, kernel=rbf ....................................\n",
            "[CV] ..................... C=3.0, gamma=1.0, kernel=rbf, total=  15.7s\n",
            "[CV] C=3.0, gamma=1.0, kernel=rbf ....................................\n",
            "[CV] ..................... C=3.0, gamma=1.0, kernel=rbf, total=  15.7s\n",
            "[CV] C=3.0, gamma=3.0, kernel=rbf ....................................\n",
            "[CV] ..................... C=3.0, gamma=3.0, kernel=rbf, total=  16.3s\n",
            "[CV] C=3.0, gamma=3.0, kernel=rbf ....................................\n",
            "[CV] ..................... C=3.0, gamma=3.0, kernel=rbf, total=  16.4s\n",
            "[CV] C=3.0, gamma=3.0, kernel=rbf ....................................\n",
            "[CV] ..................... C=3.0, gamma=3.0, kernel=rbf, total=  16.4s\n",
            "[CV] C=3.0, gamma=3.0, kernel=rbf ....................................\n",
            "[CV] ..................... C=3.0, gamma=3.0, kernel=rbf, total=  16.4s\n",
            "[CV] C=3.0, gamma=3.0, kernel=rbf ....................................\n",
            "[CV] ..................... C=3.0, gamma=3.0, kernel=rbf, total=  16.4s\n",
            "[CV] C=30.0, gamma=0.01, kernel=rbf ..................................\n",
            "[CV] ................... C=30.0, gamma=0.01, kernel=rbf, total=  17.3s\n",
            "[CV] C=30.0, gamma=0.01, kernel=rbf ..................................\n",
            "[CV] ................... C=30.0, gamma=0.01, kernel=rbf, total=  17.5s\n",
            "[CV] C=30.0, gamma=0.01, kernel=rbf ..................................\n",
            "[CV] ................... C=30.0, gamma=0.01, kernel=rbf, total=  17.8s\n",
            "[CV] C=30.0, gamma=0.01, kernel=rbf ..................................\n",
            "[CV] ................... C=30.0, gamma=0.01, kernel=rbf, total=  17.7s\n",
            "[CV] C=30.0, gamma=0.01, kernel=rbf ..................................\n",
            "[CV] ................... C=30.0, gamma=0.01, kernel=rbf, total=  17.4s\n",
            "[CV] C=30.0, gamma=0.03, kernel=rbf ..................................\n",
            "[CV] ................... C=30.0, gamma=0.03, kernel=rbf, total=  17.1s\n",
            "[CV] C=30.0, gamma=0.03, kernel=rbf ..................................\n",
            "[CV] ................... C=30.0, gamma=0.03, kernel=rbf, total=  17.2s\n",
            "[CV] C=30.0, gamma=0.03, kernel=rbf ..................................\n",
            "[CV] ................... C=30.0, gamma=0.03, kernel=rbf, total=  17.2s\n",
            "[CV] C=30.0, gamma=0.03, kernel=rbf ..................................\n",
            "[CV] ................... C=30.0, gamma=0.03, kernel=rbf, total=  17.4s\n",
            "[CV] C=30.0, gamma=0.03, kernel=rbf ..................................\n",
            "[CV] ................... C=30.0, gamma=0.03, kernel=rbf, total=  17.6s\n",
            "[CV] C=30.0, gamma=0.1, kernel=rbf ...................................\n",
            "[CV] .................... C=30.0, gamma=0.1, kernel=rbf, total=  16.9s\n",
            "[CV] C=30.0, gamma=0.1, kernel=rbf ...................................\n",
            "[CV] .................... C=30.0, gamma=0.1, kernel=rbf, total=  16.9s\n",
            "[CV] C=30.0, gamma=0.1, kernel=rbf ...................................\n",
            "[CV] .................... C=30.0, gamma=0.1, kernel=rbf, total=  16.9s\n",
            "[CV] C=30.0, gamma=0.1, kernel=rbf ...................................\n",
            "[CV] .................... C=30.0, gamma=0.1, kernel=rbf, total=  16.8s\n",
            "[CV] C=30.0, gamma=0.1, kernel=rbf ...................................\n",
            "[CV] .................... C=30.0, gamma=0.1, kernel=rbf, total=  17.0s\n",
            "[CV] C=30.0, gamma=0.3, kernel=rbf ...................................\n",
            "[CV] .................... C=30.0, gamma=0.3, kernel=rbf, total=  16.3s\n",
            "[CV] C=30.0, gamma=0.3, kernel=rbf ...................................\n",
            "[CV] .................... C=30.0, gamma=0.3, kernel=rbf, total=  16.5s\n",
            "[CV] C=30.0, gamma=0.3, kernel=rbf ...................................\n",
            "[CV] .................... C=30.0, gamma=0.3, kernel=rbf, total=  16.4s\n",
            "[CV] C=30.0, gamma=0.3, kernel=rbf ...................................\n",
            "[CV] .................... C=30.0, gamma=0.3, kernel=rbf, total=  16.4s\n",
            "[CV] C=30.0, gamma=0.3, kernel=rbf ...................................\n",
            "[CV] .................... C=30.0, gamma=0.3, kernel=rbf, total=  16.3s\n",
            "[CV] C=30.0, gamma=1.0, kernel=rbf ...................................\n",
            "[CV] .................... C=30.0, gamma=1.0, kernel=rbf, total=  15.7s\n",
            "[CV] C=30.0, gamma=1.0, kernel=rbf ...................................\n",
            "[CV] .................... C=30.0, gamma=1.0, kernel=rbf, total=  16.1s\n",
            "[CV] C=30.0, gamma=1.0, kernel=rbf ...................................\n",
            "[CV] .................... C=30.0, gamma=1.0, kernel=rbf, total=  18.4s\n",
            "[CV] C=30.0, gamma=1.0, kernel=rbf ...................................\n",
            "[CV] .................... C=30.0, gamma=1.0, kernel=rbf, total=  15.8s\n",
            "[CV] C=30.0, gamma=1.0, kernel=rbf ...................................\n",
            "[CV] .................... C=30.0, gamma=1.0, kernel=rbf, total=  15.8s\n",
            "[CV] C=30.0, gamma=3.0, kernel=rbf ...................................\n",
            "[CV] .................... C=30.0, gamma=3.0, kernel=rbf, total=  16.5s\n",
            "[CV] C=30.0, gamma=3.0, kernel=rbf ...................................\n",
            "[CV] .................... C=30.0, gamma=3.0, kernel=rbf, total=  16.4s\n",
            "[CV] C=30.0, gamma=3.0, kernel=rbf ...................................\n",
            "[CV] .................... C=30.0, gamma=3.0, kernel=rbf, total=  16.5s\n",
            "[CV] C=30.0, gamma=3.0, kernel=rbf ...................................\n",
            "[CV] .................... C=30.0, gamma=3.0, kernel=rbf, total=  16.5s\n",
            "[CV] C=30.0, gamma=3.0, kernel=rbf ...................................\n",
            "[CV] .................... C=30.0, gamma=3.0, kernel=rbf, total=  16.4s\n",
            "[CV] C=100.0, gamma=0.01, kernel=rbf .................................\n",
            "[CV] .................. C=100.0, gamma=0.01, kernel=rbf, total=  17.3s\n",
            "[CV] C=100.0, gamma=0.01, kernel=rbf .................................\n",
            "[CV] .................. C=100.0, gamma=0.01, kernel=rbf, total=  17.2s\n",
            "[CV] C=100.0, gamma=0.01, kernel=rbf .................................\n",
            "[CV] .................. C=100.0, gamma=0.01, kernel=rbf, total=  17.1s\n",
            "[CV] C=100.0, gamma=0.01, kernel=rbf .................................\n",
            "[CV] .................. C=100.0, gamma=0.01, kernel=rbf, total=  17.1s\n",
            "[CV] C=100.0, gamma=0.01, kernel=rbf .................................\n",
            "[CV] .................. C=100.0, gamma=0.01, kernel=rbf, total=  17.1s\n",
            "[CV] C=100.0, gamma=0.03, kernel=rbf .................................\n",
            "[CV] .................. C=100.0, gamma=0.03, kernel=rbf, total=  16.9s\n",
            "[CV] C=100.0, gamma=0.03, kernel=rbf .................................\n",
            "[CV] .................. C=100.0, gamma=0.03, kernel=rbf, total=  17.0s\n",
            "[CV] C=100.0, gamma=0.03, kernel=rbf .................................\n",
            "[CV] .................. C=100.0, gamma=0.03, kernel=rbf, total=  16.8s\n",
            "[CV] C=100.0, gamma=0.03, kernel=rbf .................................\n",
            "[CV] .................. C=100.0, gamma=0.03, kernel=rbf, total=  16.9s\n",
            "[CV] C=100.0, gamma=0.03, kernel=rbf .................................\n",
            "[CV] .................. C=100.0, gamma=0.03, kernel=rbf, total=  17.0s\n",
            "[CV] C=100.0, gamma=0.1, kernel=rbf ..................................\n",
            "[CV] ................... C=100.0, gamma=0.1, kernel=rbf, total=  16.8s\n",
            "[CV] C=100.0, gamma=0.1, kernel=rbf ..................................\n",
            "[CV] ................... C=100.0, gamma=0.1, kernel=rbf, total=  16.7s\n",
            "[CV] C=100.0, gamma=0.1, kernel=rbf ..................................\n",
            "[CV] ................... C=100.0, gamma=0.1, kernel=rbf, total=  16.5s\n",
            "[CV] C=100.0, gamma=0.1, kernel=rbf ..................................\n",
            "[CV] ................... C=100.0, gamma=0.1, kernel=rbf, total=  16.5s\n",
            "[CV] C=100.0, gamma=0.1, kernel=rbf ..................................\n",
            "[CV] ................... C=100.0, gamma=0.1, kernel=rbf, total=  16.5s\n",
            "[CV] C=100.0, gamma=0.3, kernel=rbf ..................................\n",
            "[CV] ................... C=100.0, gamma=0.3, kernel=rbf, total=  16.2s\n",
            "[CV] C=100.0, gamma=0.3, kernel=rbf ..................................\n",
            "[CV] ................... C=100.0, gamma=0.3, kernel=rbf, total=  16.2s\n",
            "[CV] C=100.0, gamma=0.3, kernel=rbf ..................................\n",
            "[CV] ................... C=100.0, gamma=0.3, kernel=rbf, total=  16.1s\n",
            "[CV] C=100.0, gamma=0.3, kernel=rbf ..................................\n",
            "[CV] ................... C=100.0, gamma=0.3, kernel=rbf, total=  16.2s\n",
            "[CV] C=100.0, gamma=0.3, kernel=rbf ..................................\n",
            "[CV] ................... C=100.0, gamma=0.3, kernel=rbf, total=  16.2s\n",
            "[CV] C=100.0, gamma=1.0, kernel=rbf ..................................\n",
            "[CV] ................... C=100.0, gamma=1.0, kernel=rbf, total=  15.7s\n",
            "[CV] C=100.0, gamma=1.0, kernel=rbf ..................................\n",
            "[CV] ................... C=100.0, gamma=1.0, kernel=rbf, total=  15.8s\n",
            "[CV] C=100.0, gamma=1.0, kernel=rbf ..................................\n",
            "[CV] ................... C=100.0, gamma=1.0, kernel=rbf, total=  15.7s\n",
            "[CV] C=100.0, gamma=1.0, kernel=rbf ..................................\n",
            "[CV] ................... C=100.0, gamma=1.0, kernel=rbf, total=  15.7s\n",
            "[CV] C=100.0, gamma=1.0, kernel=rbf ..................................\n",
            "[CV] ................... C=100.0, gamma=1.0, kernel=rbf, total=  15.8s\n",
            "[CV] C=100.0, gamma=3.0, kernel=rbf ..................................\n",
            "[CV] ................... C=100.0, gamma=3.0, kernel=rbf, total=  16.4s\n",
            "[CV] C=100.0, gamma=3.0, kernel=rbf ..................................\n",
            "[CV] ................... C=100.0, gamma=3.0, kernel=rbf, total=  16.4s\n",
            "[CV] C=100.0, gamma=3.0, kernel=rbf ..................................\n",
            "[CV] ................... C=100.0, gamma=3.0, kernel=rbf, total=  16.5s\n",
            "[CV] C=100.0, gamma=3.0, kernel=rbf ..................................\n",
            "[CV] ................... C=100.0, gamma=3.0, kernel=rbf, total=  16.4s\n",
            "[CV] C=100.0, gamma=3.0, kernel=rbf ..................................\n",
            "[CV] ................... C=100.0, gamma=3.0, kernel=rbf, total=  19.0s\n",
            "[CV] C=300.0, gamma=0.01, kernel=rbf .................................\n",
            "[CV] .................. C=300.0, gamma=0.01, kernel=rbf, total=  16.9s\n",
            "[CV] C=300.0, gamma=0.01, kernel=rbf .................................\n",
            "[CV] .................. C=300.0, gamma=0.01, kernel=rbf, total=  16.8s\n",
            "[CV] C=300.0, gamma=0.01, kernel=rbf .................................\n",
            "[CV] .................. C=300.0, gamma=0.01, kernel=rbf, total=  16.9s\n",
            "[CV] C=300.0, gamma=0.01, kernel=rbf .................................\n",
            "[CV] .................. C=300.0, gamma=0.01, kernel=rbf, total=  16.8s\n",
            "[CV] C=300.0, gamma=0.01, kernel=rbf .................................\n",
            "[CV] .................. C=300.0, gamma=0.01, kernel=rbf, total=  16.7s\n",
            "[CV] C=300.0, gamma=0.03, kernel=rbf .................................\n",
            "[CV] .................. C=300.0, gamma=0.03, kernel=rbf, total=  16.4s\n",
            "[CV] C=300.0, gamma=0.03, kernel=rbf .................................\n",
            "[CV] .................. C=300.0, gamma=0.03, kernel=rbf, total=  16.4s\n",
            "[CV] C=300.0, gamma=0.03, kernel=rbf .................................\n",
            "[CV] .................. C=300.0, gamma=0.03, kernel=rbf, total=  16.3s\n",
            "[CV] C=300.0, gamma=0.03, kernel=rbf .................................\n",
            "[CV] .................. C=300.0, gamma=0.03, kernel=rbf, total=  16.3s\n",
            "[CV] C=300.0, gamma=0.03, kernel=rbf .................................\n",
            "[CV] .................. C=300.0, gamma=0.03, kernel=rbf, total=  16.3s\n",
            "[CV] C=300.0, gamma=0.1, kernel=rbf ..................................\n",
            "[CV] ................... C=300.0, gamma=0.1, kernel=rbf, total=  16.1s\n",
            "[CV] C=300.0, gamma=0.1, kernel=rbf ..................................\n",
            "[CV] ................... C=300.0, gamma=0.1, kernel=rbf, total=  16.2s\n",
            "[CV] C=300.0, gamma=0.1, kernel=rbf ..................................\n",
            "[CV] ................... C=300.0, gamma=0.1, kernel=rbf, total=  16.1s\n",
            "[CV] C=300.0, gamma=0.1, kernel=rbf ..................................\n",
            "[CV] ................... C=300.0, gamma=0.1, kernel=rbf, total=  16.1s\n",
            "[CV] C=300.0, gamma=0.1, kernel=rbf ..................................\n",
            "[CV] ................... C=300.0, gamma=0.1, kernel=rbf, total=  16.1s\n",
            "[CV] C=300.0, gamma=0.3, kernel=rbf ..................................\n",
            "[CV] ................... C=300.0, gamma=0.3, kernel=rbf, total=  15.8s\n",
            "[CV] C=300.0, gamma=0.3, kernel=rbf ..................................\n",
            "[CV] ................... C=300.0, gamma=0.3, kernel=rbf, total=  16.2s\n",
            "[CV] C=300.0, gamma=0.3, kernel=rbf ..................................\n",
            "[CV] ................... C=300.0, gamma=0.3, kernel=rbf, total=  15.9s\n",
            "[CV] C=300.0, gamma=0.3, kernel=rbf ..................................\n",
            "[CV] ................... C=300.0, gamma=0.3, kernel=rbf, total=  16.1s\n",
            "[CV] C=300.0, gamma=0.3, kernel=rbf ..................................\n",
            "[CV] ................... C=300.0, gamma=0.3, kernel=rbf, total=  15.9s\n",
            "[CV] C=300.0, gamma=1.0, kernel=rbf ..................................\n",
            "[CV] ................... C=300.0, gamma=1.0, kernel=rbf, total=  15.6s\n",
            "[CV] C=300.0, gamma=1.0, kernel=rbf ..................................\n",
            "[CV] ................... C=300.0, gamma=1.0, kernel=rbf, total=  15.7s\n",
            "[CV] C=300.0, gamma=1.0, kernel=rbf ..................................\n",
            "[CV] ................... C=300.0, gamma=1.0, kernel=rbf, total=  15.6s\n",
            "[CV] C=300.0, gamma=1.0, kernel=rbf ..................................\n",
            "[CV] ................... C=300.0, gamma=1.0, kernel=rbf, total=  15.6s\n",
            "[CV] C=300.0, gamma=1.0, kernel=rbf ..................................\n",
            "[CV] ................... C=300.0, gamma=1.0, kernel=rbf, total=  15.6s\n",
            "[CV] C=300.0, gamma=3.0, kernel=rbf ..................................\n",
            "[CV] ................... C=300.0, gamma=3.0, kernel=rbf, total=  16.3s\n",
            "[CV] C=300.0, gamma=3.0, kernel=rbf ..................................\n",
            "[CV] ................... C=300.0, gamma=3.0, kernel=rbf, total=  16.5s\n",
            "[CV] C=300.0, gamma=3.0, kernel=rbf ..................................\n",
            "[CV] ................... C=300.0, gamma=3.0, kernel=rbf, total=  16.4s\n",
            "[CV] C=300.0, gamma=3.0, kernel=rbf ..................................\n",
            "[CV] ................... C=300.0, gamma=3.0, kernel=rbf, total=  16.4s\n",
            "[CV] C=300.0, gamma=3.0, kernel=rbf ..................................\n",
            "[CV] ................... C=300.0, gamma=3.0, kernel=rbf, total=  16.4s\n",
            "[CV] C=1000.0, gamma=0.01, kernel=rbf ................................\n",
            "[CV] ................. C=1000.0, gamma=0.01, kernel=rbf, total=  16.3s\n",
            "[CV] C=1000.0, gamma=0.01, kernel=rbf ................................\n",
            "[CV] ................. C=1000.0, gamma=0.01, kernel=rbf, total=  16.3s\n",
            "[CV] C=1000.0, gamma=0.01, kernel=rbf ................................\n",
            "[CV] ................. C=1000.0, gamma=0.01, kernel=rbf, total=  16.2s\n",
            "[CV] C=1000.0, gamma=0.01, kernel=rbf ................................\n",
            "[CV] ................. C=1000.0, gamma=0.01, kernel=rbf, total=  16.3s\n",
            "[CV] C=1000.0, gamma=0.01, kernel=rbf ................................\n",
            "[CV] ................. C=1000.0, gamma=0.01, kernel=rbf, total=  16.2s\n",
            "[CV] C=1000.0, gamma=0.03, kernel=rbf ................................\n",
            "[CV] ................. C=1000.0, gamma=0.03, kernel=rbf, total=  16.0s\n",
            "[CV] C=1000.0, gamma=0.03, kernel=rbf ................................\n",
            "[CV] ................. C=1000.0, gamma=0.03, kernel=rbf, total=  16.1s\n",
            "[CV] C=1000.0, gamma=0.03, kernel=rbf ................................\n",
            "[CV] ................. C=1000.0, gamma=0.03, kernel=rbf, total=  16.2s\n",
            "[CV] C=1000.0, gamma=0.03, kernel=rbf ................................\n",
            "[CV] ................. C=1000.0, gamma=0.03, kernel=rbf, total=  16.0s\n",
            "[CV] C=1000.0, gamma=0.03, kernel=rbf ................................\n",
            "[CV] ................. C=1000.0, gamma=0.03, kernel=rbf, total=  16.0s\n",
            "[CV] C=1000.0, gamma=0.1, kernel=rbf .................................\n",
            "[CV] .................. C=1000.0, gamma=0.1, kernel=rbf, total=  15.7s\n",
            "[CV] C=1000.0, gamma=0.1, kernel=rbf .................................\n",
            "[CV] .................. C=1000.0, gamma=0.1, kernel=rbf, total=  15.7s\n",
            "[CV] C=1000.0, gamma=0.1, kernel=rbf .................................\n",
            "[CV] .................. C=1000.0, gamma=0.1, kernel=rbf, total=  15.8s\n",
            "[CV] C=1000.0, gamma=0.1, kernel=rbf .................................\n",
            "[CV] .................. C=1000.0, gamma=0.1, kernel=rbf, total=  15.7s\n",
            "[CV] C=1000.0, gamma=0.1, kernel=rbf .................................\n",
            "[CV] .................. C=1000.0, gamma=0.1, kernel=rbf, total=  15.7s\n",
            "[CV] C=1000.0, gamma=0.3, kernel=rbf .................................\n",
            "[CV] .................. C=1000.0, gamma=0.3, kernel=rbf, total=  15.6s\n",
            "[CV] C=1000.0, gamma=0.3, kernel=rbf .................................\n",
            "[CV] .................. C=1000.0, gamma=0.3, kernel=rbf, total=  15.6s\n",
            "[CV] C=1000.0, gamma=0.3, kernel=rbf .................................\n",
            "[CV] .................. C=1000.0, gamma=0.3, kernel=rbf, total=  15.6s\n",
            "[CV] C=1000.0, gamma=0.3, kernel=rbf .................................\n",
            "[CV] .................. C=1000.0, gamma=0.3, kernel=rbf, total=  15.6s\n",
            "[CV] C=1000.0, gamma=0.3, kernel=rbf .................................\n",
            "[CV] .................. C=1000.0, gamma=0.3, kernel=rbf, total=  15.6s\n",
            "[CV] C=1000.0, gamma=1.0, kernel=rbf .................................\n",
            "[CV] .................. C=1000.0, gamma=1.0, kernel=rbf, total=  15.5s\n",
            "[CV] C=1000.0, gamma=1.0, kernel=rbf .................................\n",
            "[CV] .................. C=1000.0, gamma=1.0, kernel=rbf, total=  15.5s\n",
            "[CV] C=1000.0, gamma=1.0, kernel=rbf .................................\n",
            "[CV] .................. C=1000.0, gamma=1.0, kernel=rbf, total=  15.5s\n",
            "[CV] C=1000.0, gamma=1.0, kernel=rbf .................................\n",
            "[CV] .................. C=1000.0, gamma=1.0, kernel=rbf, total=  15.5s\n",
            "[CV] C=1000.0, gamma=1.0, kernel=rbf .................................\n",
            "[CV] .................. C=1000.0, gamma=1.0, kernel=rbf, total=  15.5s\n",
            "[CV] C=1000.0, gamma=3.0, kernel=rbf .................................\n",
            "[CV] .................. C=1000.0, gamma=3.0, kernel=rbf, total=  16.3s\n",
            "[CV] C=1000.0, gamma=3.0, kernel=rbf .................................\n",
            "[CV] .................. C=1000.0, gamma=3.0, kernel=rbf, total=  16.3s\n",
            "[CV] C=1000.0, gamma=3.0, kernel=rbf .................................\n",
            "[CV] .................. C=1000.0, gamma=3.0, kernel=rbf, total=  16.5s\n",
            "[CV] C=1000.0, gamma=3.0, kernel=rbf .................................\n",
            "[CV] .................. C=1000.0, gamma=3.0, kernel=rbf, total=  16.3s\n",
            "[CV] C=1000.0, gamma=3.0, kernel=rbf .................................\n",
            "[CV] .................. C=1000.0, gamma=3.0, kernel=rbf, total=  16.3s\n"
          ],
          "name": "stdout"
        },
        {
          "output_type": "stream",
          "text": [
            "[Parallel(n_jobs=1)]: Done 210 out of 210 | elapsed: 54.4min finished\n"
          ],
          "name": "stderr"
        },
        {
          "output_type": "execute_result",
          "data": {
            "text/plain": [
              "GridSearchCV(cv=5, error_score=nan,\n",
              "             estimator=SVR(C=1.0, cache_size=200, coef0=0.0, degree=3,\n",
              "                           epsilon=0.1, gamma='scale', kernel='rbf',\n",
              "                           max_iter=-1, shrinking=True, tol=0.001,\n",
              "                           verbose=False),\n",
              "             iid='deprecated', n_jobs=None,\n",
              "             param_grid=[{'C': [10.0, 30.0, 60.0, 100.0, 300.0, 1000.0],\n",
              "                          'kernel': ['linear']},\n",
              "                         {'C': [1.0, 3.0, 30.0, 100.0, 300.0, 1000.0],\n",
              "                          'gamma': [0.01, 0.03, 0.1, 0.3, 1.0, 3.0],\n",
              "                          'kernel': ['rbf']}],\n",
              "             pre_dispatch='2*n_jobs', refit=True, return_train_score=False,\n",
              "             scoring='neg_mean_squared_error', verbose=2)"
            ]
          },
          "metadata": {
            "tags": []
          },
          "execution_count": 72
        }
      ]
    },
    {
      "cell_type": "code",
      "metadata": {
        "id": "w2F-cdrXw1X1",
        "colab_type": "code",
        "colab": {
          "base_uri": "https://localhost:8080/",
          "height": 34
        },
        "outputId": "222d586e-8483-4e63-8602-4fbe2c6eed88"
      },
      "source": [
        "negative_mse = grid_search.best_score_\n",
        "rmse = np.sqrt(-negative_mse)\n",
        "rmse"
      ],
      "execution_count": 73,
      "outputs": [
        {
          "output_type": "execute_result",
          "data": {
            "text/plain": [
              "69928.17925789923"
            ]
          },
          "metadata": {
            "tags": []
          },
          "execution_count": 73
        }
      ]
    },
    {
      "cell_type": "code",
      "metadata": {
        "id": "XkPeVAOH4Bnk",
        "colab_type": "code",
        "colab": {
          "base_uri": "https://localhost:8080/",
          "height": 34
        },
        "outputId": "ff9742f8-c60b-43b0-b36e-7972a9e7abc6"
      },
      "source": [
        "grid_search.best_params_"
      ],
      "execution_count": 74,
      "outputs": [
        {
          "output_type": "execute_result",
          "data": {
            "text/plain": [
              "{'C': 1000.0, 'kernel': 'linear'}"
            ]
          },
          "metadata": {
            "tags": []
          },
          "execution_count": 74
        }
      ]
    },
    {
      "cell_type": "markdown",
      "metadata": {
        "id": "c51MvOxJusHc",
        "colab_type": "text"
      },
      "source": [
        "## Try replacing GridSearchCV with RandomizedSearchCV"
      ]
    },
    {
      "cell_type": "code",
      "metadata": {
        "id": "JSk_Q9Lwu1jF",
        "colab_type": "code",
        "colab": {
          "base_uri": "https://localhost:8080/",
          "height": 1000
        },
        "outputId": "400e1cea-bf3f-49c9-cc8b-ebf78d7f4533"
      },
      "source": [
        "from sklearn.model_selection import RandomizedSearchCV\n",
        "from scipy.stats import expon, reciprocal\n",
        "\n",
        "param_distribs = {\n",
        "    'kernel': ['linear', 'rbf'],\n",
        "    'C': reciprocal(20, 200000),\n",
        "    'gamma': expon(scale=1.0),\n",
        "}\n",
        "\n",
        "svm_reg = SVR()\n",
        "rnd_search = RandomizedSearchCV(svm_reg, param_distributions = param_distribs,\n",
        "                                n_iter=50, cv=5, scoring='neg_mean_squared_error',\n",
        "                                verbose=2, random_state=42)\n",
        "\n",
        "rnd_search.fit(housing_prepared, housing_labels)"
      ],
      "execution_count": 76,
      "outputs": [
        {
          "output_type": "stream",
          "text": [
            "Fitting 5 folds for each of 50 candidates, totalling 250 fits\n",
            "[CV] C=629.782329591372, gamma=3.010121430917521, kernel=linear ......\n"
          ],
          "name": "stdout"
        },
        {
          "output_type": "stream",
          "text": [
            "[Parallel(n_jobs=1)]: Using backend SequentialBackend with 1 concurrent workers.\n"
          ],
          "name": "stderr"
        },
        {
          "output_type": "stream",
          "text": [
            "[CV]  C=629.782329591372, gamma=3.010121430917521, kernel=linear, total=  10.0s\n",
            "[CV] C=629.782329591372, gamma=3.010121430917521, kernel=linear ......\n"
          ],
          "name": "stdout"
        },
        {
          "output_type": "stream",
          "text": [
            "[Parallel(n_jobs=1)]: Done   1 out of   1 | elapsed:   10.0s remaining:    0.0s\n"
          ],
          "name": "stderr"
        },
        {
          "output_type": "stream",
          "text": [
            "[CV]  C=629.782329591372, gamma=3.010121430917521, kernel=linear, total=  10.1s\n",
            "[CV] C=629.782329591372, gamma=3.010121430917521, kernel=linear ......\n",
            "[CV]  C=629.782329591372, gamma=3.010121430917521, kernel=linear, total=   9.9s\n",
            "[CV] C=629.782329591372, gamma=3.010121430917521, kernel=linear ......\n",
            "[CV]  C=629.782329591372, gamma=3.010121430917521, kernel=linear, total=  10.1s\n",
            "[CV] C=629.782329591372, gamma=3.010121430917521, kernel=linear ......\n",
            "[CV]  C=629.782329591372, gamma=3.010121430917521, kernel=linear, total=  10.0s\n",
            "[CV] C=26290.206464300216, gamma=0.9084469696321253, kernel=rbf ......\n",
            "[CV]  C=26290.206464300216, gamma=0.9084469696321253, kernel=rbf, total=  19.9s\n",
            "[CV] C=26290.206464300216, gamma=0.9084469696321253, kernel=rbf ......\n",
            "[CV]  C=26290.206464300216, gamma=0.9084469696321253, kernel=rbf, total=  19.5s\n",
            "[CV] C=26290.206464300216, gamma=0.9084469696321253, kernel=rbf ......\n",
            "[CV]  C=26290.206464300216, gamma=0.9084469696321253, kernel=rbf, total=  19.8s\n",
            "[CV] C=26290.206464300216, gamma=0.9084469696321253, kernel=rbf ......\n",
            "[CV]  C=26290.206464300216, gamma=0.9084469696321253, kernel=rbf, total=  20.3s\n",
            "[CV] C=26290.206464300216, gamma=0.9084469696321253, kernel=rbf ......\n",
            "[CV]  C=26290.206464300216, gamma=0.9084469696321253, kernel=rbf, total=  20.6s\n",
            "[CV] C=84.14107900575871, gamma=0.059838768608680676, kernel=rbf .....\n",
            "[CV]  C=84.14107900575871, gamma=0.059838768608680676, kernel=rbf, total=  16.7s\n",
            "[CV] C=84.14107900575871, gamma=0.059838768608680676, kernel=rbf .....\n",
            "[CV]  C=84.14107900575871, gamma=0.059838768608680676, kernel=rbf, total=  17.0s\n",
            "[CV] C=84.14107900575871, gamma=0.059838768608680676, kernel=rbf .....\n",
            "[CV]  C=84.14107900575871, gamma=0.059838768608680676, kernel=rbf, total=  16.8s\n",
            "[CV] C=84.14107900575871, gamma=0.059838768608680676, kernel=rbf .....\n",
            "[CV]  C=84.14107900575871, gamma=0.059838768608680676, kernel=rbf, total=  17.0s\n",
            "[CV] C=84.14107900575871, gamma=0.059838768608680676, kernel=rbf .....\n",
            "[CV]  C=84.14107900575871, gamma=0.059838768608680676, kernel=rbf, total=  16.9s\n",
            "[CV] C=432.37884813148855, gamma=0.15416196746656105, kernel=linear ..\n",
            "[CV]  C=432.37884813148855, gamma=0.15416196746656105, kernel=linear, total=  10.1s\n",
            "[CV] C=432.37884813148855, gamma=0.15416196746656105, kernel=linear ..\n",
            "[CV]  C=432.37884813148855, gamma=0.15416196746656105, kernel=linear, total=  10.1s\n",
            "[CV] C=432.37884813148855, gamma=0.15416196746656105, kernel=linear ..\n",
            "[CV]  C=432.37884813148855, gamma=0.15416196746656105, kernel=linear, total=   9.9s\n",
            "[CV] C=432.37884813148855, gamma=0.15416196746656105, kernel=linear ..\n",
            "[CV]  C=432.37884813148855, gamma=0.15416196746656105, kernel=linear, total=   9.9s\n",
            "[CV] C=432.37884813148855, gamma=0.15416196746656105, kernel=linear ..\n",
            "[CV]  C=432.37884813148855, gamma=0.15416196746656105, kernel=linear, total=  10.2s\n",
            "[CV] C=24.17508294611391, gamma=3.503557475158312, kernel=rbf ........\n",
            "[CV]  C=24.17508294611391, gamma=3.503557475158312, kernel=rbf, total=  17.1s\n",
            "[CV] C=24.17508294611391, gamma=3.503557475158312, kernel=rbf ........\n",
            "[CV]  C=24.17508294611391, gamma=3.503557475158312, kernel=rbf, total=  17.3s\n",
            "[CV] C=24.17508294611391, gamma=3.503557475158312, kernel=rbf ........\n",
            "[CV]  C=24.17508294611391, gamma=3.503557475158312, kernel=rbf, total=  17.4s\n",
            "[CV] C=24.17508294611391, gamma=3.503557475158312, kernel=rbf ........\n",
            "[CV]  C=24.17508294611391, gamma=3.503557475158312, kernel=rbf, total=  17.4s\n",
            "[CV] C=24.17508294611391, gamma=3.503557475158312, kernel=rbf ........\n",
            "[CV]  C=24.17508294611391, gamma=3.503557475158312, kernel=rbf, total=  16.9s\n",
            "[CV] C=113564.03940586245, gamma=0.0007790692366582295, kernel=rbf ...\n",
            "[CV]  C=113564.03940586245, gamma=0.0007790692366582295, kernel=rbf, total=  16.7s\n",
            "[CV] C=113564.03940586245, gamma=0.0007790692366582295, kernel=rbf ...\n",
            "[CV]  C=113564.03940586245, gamma=0.0007790692366582295, kernel=rbf, total=  16.5s\n",
            "[CV] C=113564.03940586245, gamma=0.0007790692366582295, kernel=rbf ...\n",
            "[CV]  C=113564.03940586245, gamma=0.0007790692366582295, kernel=rbf, total=  16.6s\n",
            "[CV] C=113564.03940586245, gamma=0.0007790692366582295, kernel=rbf ...\n",
            "[CV]  C=113564.03940586245, gamma=0.0007790692366582295, kernel=rbf, total=  16.8s\n",
            "[CV] C=113564.03940586245, gamma=0.0007790692366582295, kernel=rbf ...\n",
            "[CV]  C=113564.03940586245, gamma=0.0007790692366582295, kernel=rbf, total=  16.2s\n",
            "[CV] C=108.30488238805073, gamma=0.3627537294604771, kernel=rbf ......\n",
            "[CV]  C=108.30488238805073, gamma=0.3627537294604771, kernel=rbf, total=  15.9s\n",
            "[CV] C=108.30488238805073, gamma=0.3627537294604771, kernel=rbf ......\n",
            "[CV]  C=108.30488238805073, gamma=0.3627537294604771, kernel=rbf, total=  16.3s\n",
            "[CV] C=108.30488238805073, gamma=0.3627537294604771, kernel=rbf ......\n",
            "[CV]  C=108.30488238805073, gamma=0.3627537294604771, kernel=rbf, total=  16.1s\n",
            "[CV] C=108.30488238805073, gamma=0.3627537294604771, kernel=rbf ......\n",
            "[CV]  C=108.30488238805073, gamma=0.3627537294604771, kernel=rbf, total=  16.0s\n",
            "[CV] C=108.30488238805073, gamma=0.3627537294604771, kernel=rbf ......\n",
            "[CV]  C=108.30488238805073, gamma=0.3627537294604771, kernel=rbf, total=  16.2s\n",
            "[CV] C=21.344953672647435, gamma=0.023332523598323388, kernel=linear .\n",
            "[CV]  C=21.344953672647435, gamma=0.023332523598323388, kernel=linear, total=  10.0s\n",
            "[CV] C=21.344953672647435, gamma=0.023332523598323388, kernel=linear .\n",
            "[CV]  C=21.344953672647435, gamma=0.023332523598323388, kernel=linear, total=  10.1s\n",
            "[CV] C=21.344953672647435, gamma=0.023332523598323388, kernel=linear .\n",
            "[CV]  C=21.344953672647435, gamma=0.023332523598323388, kernel=linear, total=  10.0s\n",
            "[CV] C=21.344953672647435, gamma=0.023332523598323388, kernel=linear .\n",
            "[CV]  C=21.344953672647435, gamma=0.023332523598323388, kernel=linear, total=   9.8s\n",
            "[CV] C=21.344953672647435, gamma=0.023332523598323388, kernel=linear .\n",
            "[CV]  C=21.344953672647435, gamma=0.023332523598323388, kernel=linear, total=   9.9s\n",
            "[CV] C=5603.270317432516, gamma=0.15023452872733867, kernel=rbf ......\n",
            "[CV]  C=5603.270317432516, gamma=0.15023452872733867, kernel=rbf, total=  15.8s\n",
            "[CV] C=5603.270317432516, gamma=0.15023452872733867, kernel=rbf ......\n",
            "[CV]  C=5603.270317432516, gamma=0.15023452872733867, kernel=rbf, total=  15.9s\n",
            "[CV] C=5603.270317432516, gamma=0.15023452872733867, kernel=rbf ......\n",
            "[CV]  C=5603.270317432516, gamma=0.15023452872733867, kernel=rbf, total=  16.3s\n",
            "[CV] C=5603.270317432516, gamma=0.15023452872733867, kernel=rbf ......\n",
            "[CV]  C=5603.270317432516, gamma=0.15023452872733867, kernel=rbf, total=  16.0s\n",
            "[CV] C=5603.270317432516, gamma=0.15023452872733867, kernel=rbf ......\n",
            "[CV]  C=5603.270317432516, gamma=0.15023452872733867, kernel=rbf, total=  15.6s\n",
            "[CV] C=157055.10989448498, gamma=0.26497040005002437, kernel=rbf .....\n",
            "[CV]  C=157055.10989448498, gamma=0.26497040005002437, kernel=rbf, total=  41.1s\n",
            "[CV] C=157055.10989448498, gamma=0.26497040005002437, kernel=rbf .....\n",
            "[CV]  C=157055.10989448498, gamma=0.26497040005002437, kernel=rbf, total=  44.3s\n",
            "[CV] C=157055.10989448498, gamma=0.26497040005002437, kernel=rbf .....\n",
            "[CV]  C=157055.10989448498, gamma=0.26497040005002437, kernel=rbf, total=  39.1s\n",
            "[CV] C=157055.10989448498, gamma=0.26497040005002437, kernel=rbf .....\n",
            "[CV]  C=157055.10989448498, gamma=0.26497040005002437, kernel=rbf, total=  44.4s\n",
            "[CV] C=157055.10989448498, gamma=0.26497040005002437, kernel=rbf .....\n",
            "[CV]  C=157055.10989448498, gamma=0.26497040005002437, kernel=rbf, total=  45.2s\n",
            "[CV] C=27652.464358739708, gamma=0.2227358621286903, kernel=linear ...\n",
            "[CV]  C=27652.464358739708, gamma=0.2227358621286903, kernel=linear, total=  26.4s\n",
            "[CV] C=27652.464358739708, gamma=0.2227358621286903, kernel=linear ...\n",
            "[CV]  C=27652.464358739708, gamma=0.2227358621286903, kernel=linear, total=  21.6s\n",
            "[CV] C=27652.464358739708, gamma=0.2227358621286903, kernel=linear ...\n",
            "[CV]  C=27652.464358739708, gamma=0.2227358621286903, kernel=linear, total=  24.7s\n",
            "[CV] C=27652.464358739708, gamma=0.2227358621286903, kernel=linear ...\n",
            "[CV]  C=27652.464358739708, gamma=0.2227358621286903, kernel=linear, total=  21.2s\n",
            "[CV] C=27652.464358739708, gamma=0.2227358621286903, kernel=linear ...\n",
            "[CV]  C=27652.464358739708, gamma=0.2227358621286903, kernel=linear, total=  21.7s\n",
            "[CV] C=171377.39570378003, gamma=0.628789100540856, kernel=linear ....\n",
            "[CV]  C=171377.39570378003, gamma=0.628789100540856, kernel=linear, total= 1.6min\n",
            "[CV] C=171377.39570378003, gamma=0.628789100540856, kernel=linear ....\n",
            "[CV]  C=171377.39570378003, gamma=0.628789100540856, kernel=linear, total= 1.3min\n",
            "[CV] C=171377.39570378003, gamma=0.628789100540856, kernel=linear ....\n",
            "[CV]  C=171377.39570378003, gamma=0.628789100540856, kernel=linear, total= 1.4min\n",
            "[CV] C=171377.39570378003, gamma=0.628789100540856, kernel=linear ....\n",
            "[CV]  C=171377.39570378003, gamma=0.628789100540856, kernel=linear, total= 1.4min\n",
            "[CV] C=171377.39570378003, gamma=0.628789100540856, kernel=linear ....\n",
            "[CV]  C=171377.39570378003, gamma=0.628789100540856, kernel=linear, total= 1.3min\n",
            "[CV] C=5385.293820172355, gamma=0.18696125197741642, kernel=linear ...\n",
            "[CV]  C=5385.293820172355, gamma=0.18696125197741642, kernel=linear, total=  13.0s\n",
            "[CV] C=5385.293820172355, gamma=0.18696125197741642, kernel=linear ...\n",
            "[CV]  C=5385.293820172355, gamma=0.18696125197741642, kernel=linear, total=  12.2s\n",
            "[CV] C=5385.293820172355, gamma=0.18696125197741642, kernel=linear ...\n",
            "[CV]  C=5385.293820172355, gamma=0.18696125197741642, kernel=linear, total=  12.7s\n",
            "[CV] C=5385.293820172355, gamma=0.18696125197741642, kernel=linear ...\n",
            "[CV]  C=5385.293820172355, gamma=0.18696125197741642, kernel=linear, total=  12.9s\n",
            "[CV] C=5385.293820172355, gamma=0.18696125197741642, kernel=linear ...\n",
            "[CV]  C=5385.293820172355, gamma=0.18696125197741642, kernel=linear, total=  12.2s\n",
            "[CV] C=22.59903216621323, gamma=2.850796878935603, kernel=rbf ........\n",
            "[CV]  C=22.59903216621323, gamma=2.850796878935603, kernel=rbf, total=  16.4s\n",
            "[CV] C=22.59903216621323, gamma=2.850796878935603, kernel=rbf ........\n",
            "[CV]  C=22.59903216621323, gamma=2.850796878935603, kernel=rbf, total=  16.2s\n",
            "[CV] C=22.59903216621323, gamma=2.850796878935603, kernel=rbf ........\n",
            "[CV]  C=22.59903216621323, gamma=2.850796878935603, kernel=rbf, total=  16.3s\n",
            "[CV] C=22.59903216621323, gamma=2.850796878935603, kernel=rbf ........\n",
            "[CV]  C=22.59903216621323, gamma=2.850796878935603, kernel=rbf, total=  16.2s\n",
            "[CV] C=22.59903216621323, gamma=2.850796878935603, kernel=rbf ........\n",
            "[CV]  C=22.59903216621323, gamma=2.850796878935603, kernel=rbf, total=  16.5s\n",
            "[CV] C=34246.75194632794, gamma=0.3632878599687583, kernel=linear ....\n",
            "[CV]  C=34246.75194632794, gamma=0.3632878599687583, kernel=linear, total=  27.3s\n",
            "[CV] C=34246.75194632794, gamma=0.3632878599687583, kernel=linear ....\n",
            "[CV]  C=34246.75194632794, gamma=0.3632878599687583, kernel=linear, total=  23.2s\n",
            "[CV] C=34246.75194632794, gamma=0.3632878599687583, kernel=linear ....\n",
            "[CV]  C=34246.75194632794, gamma=0.3632878599687583, kernel=linear, total=  24.6s\n",
            "[CV] C=34246.75194632794, gamma=0.3632878599687583, kernel=linear ....\n",
            "[CV]  C=34246.75194632794, gamma=0.3632878599687583, kernel=linear, total=  25.2s\n",
            "[CV] C=34246.75194632794, gamma=0.3632878599687583, kernel=linear ....\n",
            "[CV]  C=34246.75194632794, gamma=0.3632878599687583, kernel=linear, total=  23.0s\n",
            "[CV] C=167.7278956080511, gamma=0.2757870542258224, kernel=rbf .......\n",
            "[CV]  C=167.7278956080511, gamma=0.2757870542258224, kernel=rbf, total=  15.9s\n",
            "[CV] C=167.7278956080511, gamma=0.2757870542258224, kernel=rbf .......\n",
            "[CV]  C=167.7278956080511, gamma=0.2757870542258224, kernel=rbf, total=  16.1s\n",
            "[CV] C=167.7278956080511, gamma=0.2757870542258224, kernel=rbf .......\n",
            "[CV]  C=167.7278956080511, gamma=0.2757870542258224, kernel=rbf, total=  16.1s\n",
            "[CV] C=167.7278956080511, gamma=0.2757870542258224, kernel=rbf .......\n",
            "[CV]  C=167.7278956080511, gamma=0.2757870542258224, kernel=rbf, total=  18.6s\n",
            "[CV] C=167.7278956080511, gamma=0.2757870542258224, kernel=rbf .......\n",
            "[CV]  C=167.7278956080511, gamma=0.2757870542258224, kernel=rbf, total=  16.0s\n",
            "[CV] C=61.54360542501371, gamma=0.6835472281341501, kernel=linear ....\n",
            "[CV]  C=61.54360542501371, gamma=0.6835472281341501, kernel=linear, total=   9.9s\n",
            "[CV] C=61.54360542501371, gamma=0.6835472281341501, kernel=linear ....\n",
            "[CV]  C=61.54360542501371, gamma=0.6835472281341501, kernel=linear, total=   9.6s\n",
            "[CV] C=61.54360542501371, gamma=0.6835472281341501, kernel=linear ....\n",
            "[CV]  C=61.54360542501371, gamma=0.6835472281341501, kernel=linear, total=  10.0s\n",
            "[CV] C=61.54360542501371, gamma=0.6835472281341501, kernel=linear ....\n",
            "[CV]  C=61.54360542501371, gamma=0.6835472281341501, kernel=linear, total=   9.6s\n",
            "[CV] C=61.54360542501371, gamma=0.6835472281341501, kernel=linear ....\n",
            "[CV]  C=61.54360542501371, gamma=0.6835472281341501, kernel=linear, total=   9.7s\n",
            "[CV] C=98.73897389920914, gamma=0.4960365360493639, kernel=rbf .......\n",
            "[CV]  C=98.73897389920914, gamma=0.4960365360493639, kernel=rbf, total=  16.0s\n",
            "[CV] C=98.73897389920914, gamma=0.4960365360493639, kernel=rbf .......\n",
            "[CV]  C=98.73897389920914, gamma=0.4960365360493639, kernel=rbf, total=  16.1s\n",
            "[CV] C=98.73897389920914, gamma=0.4960365360493639, kernel=rbf .......\n",
            "[CV]  C=98.73897389920914, gamma=0.4960365360493639, kernel=rbf, total=  16.0s\n",
            "[CV] C=98.73897389920914, gamma=0.4960365360493639, kernel=rbf .......\n",
            "[CV]  C=98.73897389920914, gamma=0.4960365360493639, kernel=rbf, total=  16.1s\n",
            "[CV] C=98.73897389920914, gamma=0.4960365360493639, kernel=rbf .......\n",
            "[CV]  C=98.73897389920914, gamma=0.4960365360493639, kernel=rbf, total=  16.0s\n",
            "[CV] C=8935.505635947808, gamma=0.37354658165762367, kernel=rbf ......\n",
            "[CV]  C=8935.505635947808, gamma=0.37354658165762367, kernel=rbf, total=  15.9s\n",
            "[CV] C=8935.505635947808, gamma=0.37354658165762367, kernel=rbf ......\n",
            "[CV]  C=8935.505635947808, gamma=0.37354658165762367, kernel=rbf, total=  15.8s\n",
            "[CV] C=8935.505635947808, gamma=0.37354658165762367, kernel=rbf ......\n",
            "[CV]  C=8935.505635947808, gamma=0.37354658165762367, kernel=rbf, total=  16.1s\n",
            "[CV] C=8935.505635947808, gamma=0.37354658165762367, kernel=rbf ......\n",
            "[CV]  C=8935.505635947808, gamma=0.37354658165762367, kernel=rbf, total=  15.9s\n",
            "[CV] C=8935.505635947808, gamma=0.37354658165762367, kernel=rbf ......\n",
            "[CV]  C=8935.505635947808, gamma=0.37354658165762367, kernel=rbf, total=  15.8s\n",
            "[CV] C=135.76775824842434, gamma=0.838636245624803, kernel=linear ....\n",
            "[CV]  C=135.76775824842434, gamma=0.838636245624803, kernel=linear, total=   9.9s\n",
            "[CV] C=135.76775824842434, gamma=0.838636245624803, kernel=linear ....\n",
            "[CV]  C=135.76775824842434, gamma=0.838636245624803, kernel=linear, total=   9.7s\n",
            "[CV] C=135.76775824842434, gamma=0.838636245624803, kernel=linear ....\n",
            "[CV]  C=135.76775824842434, gamma=0.838636245624803, kernel=linear, total=   9.8s\n",
            "[CV] C=135.76775824842434, gamma=0.838636245624803, kernel=linear ....\n",
            "[CV]  C=135.76775824842434, gamma=0.838636245624803, kernel=linear, total=   9.7s\n",
            "[CV] C=135.76775824842434, gamma=0.838636245624803, kernel=linear ....\n",
            "[CV]  C=135.76775824842434, gamma=0.838636245624803, kernel=linear, total=   9.9s\n",
            "[CV] C=151136.20282548846, gamma=1.4922453771381408, kernel=rbf ......\n",
            "[CV]  C=151136.20282548846, gamma=1.4922453771381408, kernel=rbf, total= 2.8min\n",
            "[CV] C=151136.20282548846, gamma=1.4922453771381408, kernel=rbf ......\n",
            "[CV]  C=151136.20282548846, gamma=1.4922453771381408, kernel=rbf, total= 2.9min\n",
            "[CV] C=151136.20282548846, gamma=1.4922453771381408, kernel=rbf ......\n",
            "[CV]  C=151136.20282548846, gamma=1.4922453771381408, kernel=rbf, total= 2.8min\n",
            "[CV] C=151136.20282548846, gamma=1.4922453771381408, kernel=rbf ......\n",
            "[CV]  C=151136.20282548846, gamma=1.4922453771381408, kernel=rbf, total= 2.9min\n",
            "[CV] C=151136.20282548846, gamma=1.4922453771381408, kernel=rbf ......\n",
            "[CV]  C=151136.20282548846, gamma=1.4922453771381408, kernel=rbf, total= 3.5min\n",
            "[CV] C=761.4316758498783, gamma=2.6126336514161914, kernel=linear ....\n",
            "[CV]  C=761.4316758498783, gamma=2.6126336514161914, kernel=linear, total=  10.0s\n",
            "[CV] C=761.4316758498783, gamma=2.6126336514161914, kernel=linear ....\n",
            "[CV]  C=761.4316758498783, gamma=2.6126336514161914, kernel=linear, total=  10.1s\n",
            "[CV] C=761.4316758498783, gamma=2.6126336514161914, kernel=linear ....\n",
            "[CV]  C=761.4316758498783, gamma=2.6126336514161914, kernel=linear, total=  10.1s\n",
            "[CV] C=761.4316758498783, gamma=2.6126336514161914, kernel=linear ....\n",
            "[CV]  C=761.4316758498783, gamma=2.6126336514161914, kernel=linear, total=  10.3s\n",
            "[CV] C=761.4316758498783, gamma=2.6126336514161914, kernel=linear ....\n",
            "[CV]  C=761.4316758498783, gamma=2.6126336514161914, kernel=linear, total=  11.9s\n",
            "[CV] C=97392.81883041795, gamma=0.09265545895311562, kernel=linear ...\n",
            "[CV]  C=97392.81883041795, gamma=0.09265545895311562, kernel=linear, total=  52.2s\n",
            "[CV] C=97392.81883041795, gamma=0.09265545895311562, kernel=linear ...\n",
            "[CV]  C=97392.81883041795, gamma=0.09265545895311562, kernel=linear, total=  45.9s\n",
            "[CV] C=97392.81883041795, gamma=0.09265545895311562, kernel=linear ...\n",
            "[CV]  C=97392.81883041795, gamma=0.09265545895311562, kernel=linear, total=  56.2s\n",
            "[CV] C=97392.81883041795, gamma=0.09265545895311562, kernel=linear ...\n",
            "[CV]  C=97392.81883041795, gamma=0.09265545895311562, kernel=linear, total=  48.7s\n",
            "[CV] C=97392.81883041795, gamma=0.09265545895311562, kernel=linear ...\n",
            "[CV]  C=97392.81883041795, gamma=0.09265545895311562, kernel=linear, total=  49.8s\n",
            "[CV] C=2423.0759984939164, gamma=3.248614270240346, kernel=linear ....\n",
            "[CV]  C=2423.0759984939164, gamma=3.248614270240346, kernel=linear, total=  11.5s\n",
            "[CV] C=2423.0759984939164, gamma=3.248614270240346, kernel=linear ....\n",
            "[CV]  C=2423.0759984939164, gamma=3.248614270240346, kernel=linear, total=  11.2s\n",
            "[CV] C=2423.0759984939164, gamma=3.248614270240346, kernel=linear ....\n",
            "[CV]  C=2423.0759984939164, gamma=3.248614270240346, kernel=linear, total=  10.9s\n",
            "[CV] C=2423.0759984939164, gamma=3.248614270240346, kernel=linear ....\n",
            "[CV]  C=2423.0759984939164, gamma=3.248614270240346, kernel=linear, total=  11.2s\n",
            "[CV] C=2423.0759984939164, gamma=3.248614270240346, kernel=linear ....\n",
            "[CV]  C=2423.0759984939164, gamma=3.248614270240346, kernel=linear, total=  10.8s\n",
            "[CV] C=717.3632997255095, gamma=0.3165604432088257, kernel=linear ....\n",
            "[CV]  C=717.3632997255095, gamma=0.3165604432088257, kernel=linear, total=  10.3s\n",
            "[CV] C=717.3632997255095, gamma=0.3165604432088257, kernel=linear ....\n",
            "[CV]  C=717.3632997255095, gamma=0.3165604432088257, kernel=linear, total=  10.1s\n",
            "[CV] C=717.3632997255095, gamma=0.3165604432088257, kernel=linear ....\n",
            "[CV]  C=717.3632997255095, gamma=0.3165604432088257, kernel=linear, total=  10.1s\n",
            "[CV] C=717.3632997255095, gamma=0.3165604432088257, kernel=linear ....\n",
            "[CV]  C=717.3632997255095, gamma=0.3165604432088257, kernel=linear, total=  10.1s\n",
            "[CV] C=717.3632997255095, gamma=0.3165604432088257, kernel=linear ....\n",
            "[CV]  C=717.3632997255095, gamma=0.3165604432088257, kernel=linear, total=  10.0s\n",
            "[CV] C=4446.667521184072, gamma=3.3597284456608496, kernel=rbf .......\n",
            "[CV]  C=4446.667521184072, gamma=3.3597284456608496, kernel=rbf, total=  17.2s\n",
            "[CV] C=4446.667521184072, gamma=3.3597284456608496, kernel=rbf .......\n",
            "[CV]  C=4446.667521184072, gamma=3.3597284456608496, kernel=rbf, total=  17.0s\n",
            "[CV] C=4446.667521184072, gamma=3.3597284456608496, kernel=rbf .......\n",
            "[CV]  C=4446.667521184072, gamma=3.3597284456608496, kernel=rbf, total=  17.1s\n",
            "[CV] C=4446.667521184072, gamma=3.3597284456608496, kernel=rbf .......\n",
            "[CV]  C=4446.667521184072, gamma=3.3597284456608496, kernel=rbf, total=  17.3s\n",
            "[CV] C=4446.667521184072, gamma=3.3597284456608496, kernel=rbf .......\n",
            "[CV]  C=4446.667521184072, gamma=3.3597284456608496, kernel=rbf, total=  17.1s\n",
            "[CV] C=2963.564121207815, gamma=0.15189814782062885, kernel=linear ...\n",
            "[CV]  C=2963.564121207815, gamma=0.15189814782062885, kernel=linear, total=  11.7s\n",
            "[CV] C=2963.564121207815, gamma=0.15189814782062885, kernel=linear ...\n",
            "[CV]  C=2963.564121207815, gamma=0.15189814782062885, kernel=linear, total=  11.6s\n",
            "[CV] C=2963.564121207815, gamma=0.15189814782062885, kernel=linear ...\n",
            "[CV]  C=2963.564121207815, gamma=0.15189814782062885, kernel=linear, total=  11.5s\n",
            "[CV] C=2963.564121207815, gamma=0.15189814782062885, kernel=linear ...\n",
            "[CV]  C=2963.564121207815, gamma=0.15189814782062885, kernel=linear, total=  11.3s\n",
            "[CV] C=2963.564121207815, gamma=0.15189814782062885, kernel=linear ...\n",
            "[CV]  C=2963.564121207815, gamma=0.15189814782062885, kernel=linear, total=  11.0s\n",
            "[CV] C=91.64267381686706, gamma=0.01575994483585621, kernel=linear ...\n",
            "[CV]  C=91.64267381686706, gamma=0.01575994483585621, kernel=linear, total=   9.9s\n",
            "[CV] C=91.64267381686706, gamma=0.01575994483585621, kernel=linear ...\n",
            "[CV]  C=91.64267381686706, gamma=0.01575994483585621, kernel=linear, total=   9.8s\n",
            "[CV] C=91.64267381686706, gamma=0.01575994483585621, kernel=linear ...\n",
            "[CV]  C=91.64267381686706, gamma=0.01575994483585621, kernel=linear, total=   9.8s\n",
            "[CV] C=91.64267381686706, gamma=0.01575994483585621, kernel=linear ...\n",
            "[CV]  C=91.64267381686706, gamma=0.01575994483585621, kernel=linear, total=   9.6s\n",
            "[CV] C=91.64267381686706, gamma=0.01575994483585621, kernel=linear ...\n",
            "[CV]  C=91.64267381686706, gamma=0.01575994483585621, kernel=linear, total=  10.0s\n",
            "[CV] C=24547.601975705915, gamma=0.22153944050588595, kernel=rbf .....\n",
            "[CV]  C=24547.601975705915, gamma=0.22153944050588595, kernel=rbf, total=  16.9s\n",
            "[CV] C=24547.601975705915, gamma=0.22153944050588595, kernel=rbf .....\n",
            "[CV]  C=24547.601975705915, gamma=0.22153944050588595, kernel=rbf, total=  16.5s\n",
            "[CV] C=24547.601975705915, gamma=0.22153944050588595, kernel=rbf .....\n",
            "[CV]  C=24547.601975705915, gamma=0.22153944050588595, kernel=rbf, total=  18.9s\n",
            "[CV] C=24547.601975705915, gamma=0.22153944050588595, kernel=rbf .....\n",
            "[CV]  C=24547.601975705915, gamma=0.22153944050588595, kernel=rbf, total=  18.0s\n",
            "[CV] C=24547.601975705915, gamma=0.22153944050588595, kernel=rbf .....\n",
            "[CV]  C=24547.601975705915, gamma=0.22153944050588595, kernel=rbf, total=  17.3s\n",
            "[CV] C=22.76927941060928, gamma=0.22169760231351215, kernel=rbf ......\n",
            "[CV]  C=22.76927941060928, gamma=0.22169760231351215, kernel=rbf, total=  16.6s\n",
            "[CV] C=22.76927941060928, gamma=0.22169760231351215, kernel=rbf ......\n",
            "[CV]  C=22.76927941060928, gamma=0.22169760231351215, kernel=rbf, total=  16.9s\n",
            "[CV] C=22.76927941060928, gamma=0.22169760231351215, kernel=rbf ......\n",
            "[CV]  C=22.76927941060928, gamma=0.22169760231351215, kernel=rbf, total=  16.6s\n",
            "[CV] C=22.76927941060928, gamma=0.22169760231351215, kernel=rbf ......\n",
            "[CV]  C=22.76927941060928, gamma=0.22169760231351215, kernel=rbf, total=  16.6s\n",
            "[CV] C=22.76927941060928, gamma=0.22169760231351215, kernel=rbf ......\n",
            "[CV]  C=22.76927941060928, gamma=0.22169760231351215, kernel=rbf, total=  16.4s\n",
            "[CV] C=16483.850529752886, gamma=1.4752145260435134, kernel=linear ...\n",
            "[CV]  C=16483.850529752886, gamma=1.4752145260435134, kernel=linear, total=  19.6s\n",
            "[CV] C=16483.850529752886, gamma=1.4752145260435134, kernel=linear ...\n",
            "[CV]  C=16483.850529752886, gamma=1.4752145260435134, kernel=linear, total=  16.9s\n",
            "[CV] C=16483.850529752886, gamma=1.4752145260435134, kernel=linear ...\n",
            "[CV]  C=16483.850529752886, gamma=1.4752145260435134, kernel=linear, total=  17.2s\n",
            "[CV] C=16483.850529752886, gamma=1.4752145260435134, kernel=linear ...\n",
            "[CV]  C=16483.850529752886, gamma=1.4752145260435134, kernel=linear, total=  17.1s\n",
            "[CV] C=16483.850529752886, gamma=1.4752145260435134, kernel=linear ...\n",
            "[CV]  C=16483.850529752886, gamma=1.4752145260435134, kernel=linear, total=  17.4s\n",
            "[CV] C=101445.66881340064, gamma=1.052904084582266, kernel=rbf .......\n",
            "[CV]  C=101445.66881340064, gamma=1.052904084582266, kernel=rbf, total= 1.3min\n",
            "[CV] C=101445.66881340064, gamma=1.052904084582266, kernel=rbf .......\n",
            "[CV]  C=101445.66881340064, gamma=1.052904084582266, kernel=rbf, total= 1.3min\n",
            "[CV] C=101445.66881340064, gamma=1.052904084582266, kernel=rbf .......\n",
            "[CV]  C=101445.66881340064, gamma=1.052904084582266, kernel=rbf, total= 1.3min\n",
            "[CV] C=101445.66881340064, gamma=1.052904084582266, kernel=rbf .......\n",
            "[CV]  C=101445.66881340064, gamma=1.052904084582266, kernel=rbf, total= 1.6min\n",
            "[CV] C=101445.66881340064, gamma=1.052904084582266, kernel=rbf .......\n",
            "[CV]  C=101445.66881340064, gamma=1.052904084582266, kernel=rbf, total= 1.5min\n",
            "[CV] C=56681.80859029545, gamma=0.9763011917123741, kernel=rbf .......\n",
            "[CV]  C=56681.80859029545, gamma=0.9763011917123741, kernel=rbf, total=  30.9s\n",
            "[CV] C=56681.80859029545, gamma=0.9763011917123741, kernel=rbf .......\n",
            "[CV]  C=56681.80859029545, gamma=0.9763011917123741, kernel=rbf, total=  31.4s\n",
            "[CV] C=56681.80859029545, gamma=0.9763011917123741, kernel=rbf .......\n",
            "[CV]  C=56681.80859029545, gamma=0.9763011917123741, kernel=rbf, total=  32.5s\n",
            "[CV] C=56681.80859029545, gamma=0.9763011917123741, kernel=rbf .......\n",
            "[CV]  C=56681.80859029545, gamma=0.9763011917123741, kernel=rbf, total=  33.9s\n",
            "[CV] C=56681.80859029545, gamma=0.9763011917123741, kernel=rbf .......\n",
            "[CV]  C=56681.80859029545, gamma=0.9763011917123741, kernel=rbf, total=  38.6s\n",
            "[CV] C=48.15822390928914, gamma=0.4633351167983427, kernel=rbf .......\n",
            "[CV]  C=48.15822390928914, gamma=0.4633351167983427, kernel=rbf, total=  15.8s\n",
            "[CV] C=48.15822390928914, gamma=0.4633351167983427, kernel=rbf .......\n",
            "[CV]  C=48.15822390928914, gamma=0.4633351167983427, kernel=rbf, total=  15.9s\n",
            "[CV] C=48.15822390928914, gamma=0.4633351167983427, kernel=rbf .......\n",
            "[CV]  C=48.15822390928914, gamma=0.4633351167983427, kernel=rbf, total=  16.0s\n",
            "[CV] C=48.15822390928914, gamma=0.4633351167983427, kernel=rbf .......\n",
            "[CV]  C=48.15822390928914, gamma=0.4633351167983427, kernel=rbf, total=  15.8s\n",
            "[CV] C=48.15822390928914, gamma=0.4633351167983427, kernel=rbf .......\n",
            "[CV]  C=48.15822390928914, gamma=0.4633351167983427, kernel=rbf, total=  16.1s\n",
            "[CV] C=399.7268155705774, gamma=1.3078757839577408, kernel=rbf .......\n",
            "[CV]  C=399.7268155705774, gamma=1.3078757839577408, kernel=rbf, total=  15.5s\n",
            "[CV] C=399.7268155705774, gamma=1.3078757839577408, kernel=rbf .......\n",
            "[CV]  C=399.7268155705774, gamma=1.3078757839577408, kernel=rbf, total=  15.4s\n",
            "[CV] C=399.7268155705774, gamma=1.3078757839577408, kernel=rbf .......\n",
            "[CV]  C=399.7268155705774, gamma=1.3078757839577408, kernel=rbf, total=  15.7s\n",
            "[CV] C=399.7268155705774, gamma=1.3078757839577408, kernel=rbf .......\n",
            "[CV]  C=399.7268155705774, gamma=1.3078757839577408, kernel=rbf, total=  15.7s\n",
            "[CV] C=399.7268155705774, gamma=1.3078757839577408, kernel=rbf .......\n",
            "[CV]  C=399.7268155705774, gamma=1.3078757839577408, kernel=rbf, total=  15.5s\n",
            "[CV] C=251.14073886281363, gamma=0.8238105204914145, kernel=linear ...\n",
            "[CV]  C=251.14073886281363, gamma=0.8238105204914145, kernel=linear, total=   9.9s\n",
            "[CV] C=251.14073886281363, gamma=0.8238105204914145, kernel=linear ...\n",
            "[CV]  C=251.14073886281363, gamma=0.8238105204914145, kernel=linear, total=   9.9s\n",
            "[CV] C=251.14073886281363, gamma=0.8238105204914145, kernel=linear ...\n",
            "[CV]  C=251.14073886281363, gamma=0.8238105204914145, kernel=linear, total=   9.9s\n",
            "[CV] C=251.14073886281363, gamma=0.8238105204914145, kernel=linear ...\n",
            "[CV]  C=251.14073886281363, gamma=0.8238105204914145, kernel=linear, total=   9.7s\n",
            "[CV] C=251.14073886281363, gamma=0.8238105204914145, kernel=linear ...\n",
            "[CV]  C=251.14073886281363, gamma=0.8238105204914145, kernel=linear, total=   9.8s\n",
            "[CV] C=60.17373642891687, gamma=1.2491263443165994, kernel=linear ....\n",
            "[CV]  C=60.17373642891687, gamma=1.2491263443165994, kernel=linear, total=   9.9s\n",
            "[CV] C=60.17373642891687, gamma=1.2491263443165994, kernel=linear ....\n",
            "[CV]  C=60.17373642891687, gamma=1.2491263443165994, kernel=linear, total=   9.8s\n",
            "[CV] C=60.17373642891687, gamma=1.2491263443165994, kernel=linear ....\n",
            "[CV]  C=60.17373642891687, gamma=1.2491263443165994, kernel=linear, total=   9.7s\n",
            "[CV] C=60.17373642891687, gamma=1.2491263443165994, kernel=linear ....\n",
            "[CV]  C=60.17373642891687, gamma=1.2491263443165994, kernel=linear, total=   9.6s\n",
            "[CV] C=60.17373642891687, gamma=1.2491263443165994, kernel=linear ....\n",
            "[CV]  C=60.17373642891687, gamma=1.2491263443165994, kernel=linear, total=   9.7s\n",
            "[CV] C=15415.161544891856, gamma=0.2691677514619319, kernel=rbf ......\n",
            "[CV]  C=15415.161544891856, gamma=0.2691677514619319, kernel=rbf, total=  16.2s\n",
            "[CV] C=15415.161544891856, gamma=0.2691677514619319, kernel=rbf ......\n",
            "[CV]  C=15415.161544891856, gamma=0.2691677514619319, kernel=rbf, total=  16.2s\n",
            "[CV] C=15415.161544891856, gamma=0.2691677514619319, kernel=rbf ......\n",
            "[CV]  C=15415.161544891856, gamma=0.2691677514619319, kernel=rbf, total=  16.9s\n",
            "[CV] C=15415.161544891856, gamma=0.2691677514619319, kernel=rbf ......\n",
            "[CV]  C=15415.161544891856, gamma=0.2691677514619319, kernel=rbf, total=  16.3s\n",
            "[CV] C=15415.161544891856, gamma=0.2691677514619319, kernel=rbf ......\n",
            "[CV]  C=15415.161544891856, gamma=0.2691677514619319, kernel=rbf, total=  16.3s\n",
            "[CV] C=1888.9148509967113, gamma=0.739678838777267, kernel=linear ....\n",
            "[CV]  C=1888.9148509967113, gamma=0.739678838777267, kernel=linear, total=  10.5s\n",
            "[CV] C=1888.9148509967113, gamma=0.739678838777267, kernel=linear ....\n",
            "[CV]  C=1888.9148509967113, gamma=0.739678838777267, kernel=linear, total=  10.3s\n",
            "[CV] C=1888.9148509967113, gamma=0.739678838777267, kernel=linear ....\n",
            "[CV]  C=1888.9148509967113, gamma=0.739678838777267, kernel=linear, total=  10.8s\n",
            "[CV] C=1888.9148509967113, gamma=0.739678838777267, kernel=linear ....\n",
            "[CV]  C=1888.9148509967113, gamma=0.739678838777267, kernel=linear, total=  11.0s\n",
            "[CV] C=1888.9148509967113, gamma=0.739678838777267, kernel=linear ....\n",
            "[CV]  C=1888.9148509967113, gamma=0.739678838777267, kernel=linear, total=  10.4s\n",
            "[CV] C=55.53838911232773, gamma=0.578634378499143, kernel=linear .....\n",
            "[CV]  C=55.53838911232773, gamma=0.578634378499143, kernel=linear, total=   9.6s\n",
            "[CV] C=55.53838911232773, gamma=0.578634378499143, kernel=linear .....\n",
            "[CV]  C=55.53838911232773, gamma=0.578634378499143, kernel=linear, total=   9.8s\n",
            "[CV] C=55.53838911232773, gamma=0.578634378499143, kernel=linear .....\n",
            "[CV]  C=55.53838911232773, gamma=0.578634378499143, kernel=linear, total=  10.0s\n",
            "[CV] C=55.53838911232773, gamma=0.578634378499143, kernel=linear .....\n",
            "[CV]  C=55.53838911232773, gamma=0.578634378499143, kernel=linear, total=   9.6s\n",
            "[CV] C=55.53838911232773, gamma=0.578634378499143, kernel=linear .....\n",
            "[CV]  C=55.53838911232773, gamma=0.578634378499143, kernel=linear, total=   9.6s\n",
            "[CV] C=26.714480823948186, gamma=1.0117295509275495, kernel=rbf ......\n",
            "[CV]  C=26.714480823948186, gamma=1.0117295509275495, kernel=rbf, total=  15.9s\n",
            "[CV] C=26.714480823948186, gamma=1.0117295509275495, kernel=rbf ......\n",
            "[CV]  C=26.714480823948186, gamma=1.0117295509275495, kernel=rbf, total=  15.8s\n",
            "[CV] C=26.714480823948186, gamma=1.0117295509275495, kernel=rbf ......\n",
            "[CV]  C=26.714480823948186, gamma=1.0117295509275495, kernel=rbf, total=  15.7s\n",
            "[CV] C=26.714480823948186, gamma=1.0117295509275495, kernel=rbf ......\n",
            "[CV]  C=26.714480823948186, gamma=1.0117295509275495, kernel=rbf, total=  15.9s\n",
            "[CV] C=26.714480823948186, gamma=1.0117295509275495, kernel=rbf ......\n",
            "[CV]  C=26.714480823948186, gamma=1.0117295509275495, kernel=rbf, total=  15.8s\n",
            "[CV] C=3582.0552780489566, gamma=1.1891370222133257, kernel=linear ...\n",
            "[CV]  C=3582.0552780489566, gamma=1.1891370222133257, kernel=linear, total=  11.7s\n",
            "[CV] C=3582.0552780489566, gamma=1.1891370222133257, kernel=linear ...\n",
            "[CV]  C=3582.0552780489566, gamma=1.1891370222133257, kernel=linear, total=  11.6s\n",
            "[CV] C=3582.0552780489566, gamma=1.1891370222133257, kernel=linear ...\n",
            "[CV]  C=3582.0552780489566, gamma=1.1891370222133257, kernel=linear, total=  11.5s\n",
            "[CV] C=3582.0552780489566, gamma=1.1891370222133257, kernel=linear ...\n",
            "[CV]  C=3582.0552780489566, gamma=1.1891370222133257, kernel=linear, total=  11.1s\n",
            "[CV] C=3582.0552780489566, gamma=1.1891370222133257, kernel=linear ...\n",
            "[CV]  C=3582.0552780489566, gamma=1.1891370222133257, kernel=linear, total=  11.2s\n",
            "[CV] C=198.7004781812736, gamma=0.5282819748826726, kernel=linear ....\n",
            "[CV]  C=198.7004781812736, gamma=0.5282819748826726, kernel=linear, total=   9.9s\n",
            "[CV] C=198.7004781812736, gamma=0.5282819748826726, kernel=linear ....\n",
            "[CV]  C=198.7004781812736, gamma=0.5282819748826726, kernel=linear, total=   9.8s\n",
            "[CV] C=198.7004781812736, gamma=0.5282819748826726, kernel=linear ....\n",
            "[CV]  C=198.7004781812736, gamma=0.5282819748826726, kernel=linear, total=  10.8s\n",
            "[CV] C=198.7004781812736, gamma=0.5282819748826726, kernel=linear ....\n",
            "[CV]  C=198.7004781812736, gamma=0.5282819748826726, kernel=linear, total=  10.9s\n",
            "[CV] C=198.7004781812736, gamma=0.5282819748826726, kernel=linear ....\n",
            "[CV]  C=198.7004781812736, gamma=0.5282819748826726, kernel=linear, total=   9.8s\n",
            "[CV] C=129.8000604143307, gamma=2.8621383676481322, kernel=linear ....\n",
            "[CV]  C=129.8000604143307, gamma=2.8621383676481322, kernel=linear, total=  10.1s\n",
            "[CV] C=129.8000604143307, gamma=2.8621383676481322, kernel=linear ....\n",
            "[CV]  C=129.8000604143307, gamma=2.8621383676481322, kernel=linear, total=   9.7s\n",
            "[CV] C=129.8000604143307, gamma=2.8621383676481322, kernel=linear ....\n",
            "[CV]  C=129.8000604143307, gamma=2.8621383676481322, kernel=linear, total=   9.8s\n",
            "[CV] C=129.8000604143307, gamma=2.8621383676481322, kernel=linear ....\n",
            "[CV]  C=129.8000604143307, gamma=2.8621383676481322, kernel=linear, total=   9.6s\n",
            "[CV] C=129.8000604143307, gamma=2.8621383676481322, kernel=linear ....\n",
            "[CV]  C=129.8000604143307, gamma=2.8621383676481322, kernel=linear, total=   9.8s\n",
            "[CV] C=288.4269299593897, gamma=0.17580835850006285, kernel=rbf ......\n",
            "[CV]  C=288.4269299593897, gamma=0.17580835850006285, kernel=rbf, total=  16.1s\n",
            "[CV] C=288.4269299593897, gamma=0.17580835850006285, kernel=rbf ......\n",
            "[CV]  C=288.4269299593897, gamma=0.17580835850006285, kernel=rbf, total=  16.1s\n",
            "[CV] C=288.4269299593897, gamma=0.17580835850006285, kernel=rbf ......\n",
            "[CV]  C=288.4269299593897, gamma=0.17580835850006285, kernel=rbf, total=  16.0s\n",
            "[CV] C=288.4269299593897, gamma=0.17580835850006285, kernel=rbf ......\n",
            "[CV]  C=288.4269299593897, gamma=0.17580835850006285, kernel=rbf, total=  15.9s\n",
            "[CV] C=288.4269299593897, gamma=0.17580835850006285, kernel=rbf ......\n",
            "[CV]  C=288.4269299593897, gamma=0.17580835850006285, kernel=rbf, total=  15.8s\n",
            "[CV] C=6287.039489427172, gamma=0.3504567255332862, kernel=linear ....\n",
            "[CV]  C=6287.039489427172, gamma=0.3504567255332862, kernel=linear, total=  13.3s\n",
            "[CV] C=6287.039489427172, gamma=0.3504567255332862, kernel=linear ....\n",
            "[CV]  C=6287.039489427172, gamma=0.3504567255332862, kernel=linear, total=  12.5s\n",
            "[CV] C=6287.039489427172, gamma=0.3504567255332862, kernel=linear ....\n",
            "[CV]  C=6287.039489427172, gamma=0.3504567255332862, kernel=linear, total=  13.8s\n",
            "[CV] C=6287.039489427172, gamma=0.3504567255332862, kernel=linear ....\n",
            "[CV]  C=6287.039489427172, gamma=0.3504567255332862, kernel=linear, total=  12.6s\n",
            "[CV] C=6287.039489427172, gamma=0.3504567255332862, kernel=linear ....\n",
            "[CV]  C=6287.039489427172, gamma=0.3504567255332862, kernel=linear, total=  12.0s\n",
            "[CV] C=61217.04421344494, gamma=1.6279689407405564, kernel=rbf .......\n",
            "[CV]  C=61217.04421344494, gamma=1.6279689407405564, kernel=rbf, total=  52.9s\n",
            "[CV] C=61217.04421344494, gamma=1.6279689407405564, kernel=rbf .......\n",
            "[CV]  C=61217.04421344494, gamma=1.6279689407405564, kernel=rbf, total=  53.4s\n",
            "[CV] C=61217.04421344494, gamma=1.6279689407405564, kernel=rbf .......\n",
            "[CV]  C=61217.04421344494, gamma=1.6279689407405564, kernel=rbf, total=  50.1s\n",
            "[CV] C=61217.04421344494, gamma=1.6279689407405564, kernel=rbf .......\n",
            "[CV]  C=61217.04421344494, gamma=1.6279689407405564, kernel=rbf, total=  53.4s\n",
            "[CV] C=61217.04421344494, gamma=1.6279689407405564, kernel=rbf .......\n",
            "[CV]  C=61217.04421344494, gamma=1.6279689407405564, kernel=rbf, total=  50.6s\n",
            "[CV] C=926.9787684096649, gamma=2.147979593060577, kernel=rbf ........\n",
            "[CV]  C=926.9787684096649, gamma=2.147979593060577, kernel=rbf, total=  16.3s\n",
            "[CV] C=926.9787684096649, gamma=2.147979593060577, kernel=rbf ........\n",
            "[CV]  C=926.9787684096649, gamma=2.147979593060577, kernel=rbf, total=  16.1s\n",
            "[CV] C=926.9787684096649, gamma=2.147979593060577, kernel=rbf ........\n",
            "[CV]  C=926.9787684096649, gamma=2.147979593060577, kernel=rbf, total=  16.0s\n",
            "[CV] C=926.9787684096649, gamma=2.147979593060577, kernel=rbf ........\n",
            "[CV]  C=926.9787684096649, gamma=2.147979593060577, kernel=rbf, total=  16.1s\n",
            "[CV] C=926.9787684096649, gamma=2.147979593060577, kernel=rbf ........\n",
            "[CV]  C=926.9787684096649, gamma=2.147979593060577, kernel=rbf, total=  15.7s\n",
            "[CV] C=33946.157064934, gamma=2.2642426492862313, kernel=linear ......\n",
            "[CV]  C=33946.157064934, gamma=2.2642426492862313, kernel=linear, total=  25.9s\n",
            "[CV] C=33946.157064934, gamma=2.2642426492862313, kernel=linear ......\n",
            "[CV]  C=33946.157064934, gamma=2.2642426492862313, kernel=linear, total=  24.0s\n",
            "[CV] C=33946.157064934, gamma=2.2642426492862313, kernel=linear ......\n",
            "[CV]  C=33946.157064934, gamma=2.2642426492862313, kernel=linear, total=  28.0s\n",
            "[CV] C=33946.157064934, gamma=2.2642426492862313, kernel=linear ......\n",
            "[CV]  C=33946.157064934, gamma=2.2642426492862313, kernel=linear, total=  23.7s\n",
            "[CV] C=33946.157064934, gamma=2.2642426492862313, kernel=linear ......\n",
            "[CV]  C=33946.157064934, gamma=2.2642426492862313, kernel=linear, total=  23.8s\n",
            "[CV] C=84789.82947739525, gamma=0.3176359085304841, kernel=linear ....\n",
            "[CV]  C=84789.82947739525, gamma=0.3176359085304841, kernel=linear, total=  43.9s\n",
            "[CV] C=84789.82947739525, gamma=0.3176359085304841, kernel=linear ....\n",
            "[CV]  C=84789.82947739525, gamma=0.3176359085304841, kernel=linear, total=  44.9s\n",
            "[CV] C=84789.82947739525, gamma=0.3176359085304841, kernel=linear ....\n",
            "[CV]  C=84789.82947739525, gamma=0.3176359085304841, kernel=linear, total=  51.6s\n",
            "[CV] C=84789.82947739525, gamma=0.3176359085304841, kernel=linear ....\n",
            "[CV]  C=84789.82947739525, gamma=0.3176359085304841, kernel=linear, total=  44.2s\n",
            "[CV] C=84789.82947739525, gamma=0.3176359085304841, kernel=linear ....\n",
            "[CV]  C=84789.82947739525, gamma=0.3176359085304841, kernel=linear, total=  49.1s\n"
          ],
          "name": "stdout"
        },
        {
          "output_type": "stream",
          "text": [
            "[Parallel(n_jobs=1)]: Done 250 out of 250 | elapsed: 98.1min finished\n"
          ],
          "name": "stderr"
        },
        {
          "output_type": "execute_result",
          "data": {
            "text/plain": [
              "RandomizedSearchCV(cv=5, error_score=nan,\n",
              "                   estimator=SVR(C=1.0, cache_size=200, coef0=0.0, degree=3,\n",
              "                                 epsilon=0.1, gamma='scale', kernel='rbf',\n",
              "                                 max_iter=-1, shrinking=True, tol=0.001,\n",
              "                                 verbose=False),\n",
              "                   iid='deprecated', n_iter=50, n_jobs=None,\n",
              "                   param_distributions={'C': <scipy.stats._distn_infrastructure.rv_frozen object at 0x7fdd8b061780>,\n",
              "                                        'gamma': <scipy.stats._distn_infrastructure.rv_frozen object at 0x7fdd8b061908>,\n",
              "                                        'kernel': ['linear', 'rbf']},\n",
              "                   pre_dispatch='2*n_jobs', random_state=42, refit=True,\n",
              "                   return_train_score=False, scoring='neg_mean_squared_error',\n",
              "                   verbose=2)"
            ]
          },
          "metadata": {
            "tags": []
          },
          "execution_count": 76
        }
      ]
    },
    {
      "cell_type": "code",
      "metadata": {
        "id": "yCzOBtCD3oL_",
        "colab_type": "code",
        "colab": {
          "base_uri": "https://localhost:8080/",
          "height": 34
        },
        "outputId": "73b565ad-ff5f-4925-ba08-a3fc7531d38d"
      },
      "source": [
        "negative_mse = rnd_search.best_score_\n",
        "rmse = np.sqrt(-negative_mse)\n",
        "rmse"
      ],
      "execution_count": 77,
      "outputs": [
        {
          "output_type": "execute_result",
          "data": {
            "text/plain": [
              "54241.64747459882"
            ]
          },
          "metadata": {
            "tags": []
          },
          "execution_count": 77
        }
      ]
    },
    {
      "cell_type": "code",
      "metadata": {
        "id": "Tbl0tENd4Rc6",
        "colab_type": "code",
        "colab": {
          "base_uri": "https://localhost:8080/",
          "height": 34
        },
        "outputId": "872a7389-171b-4020-d5e6-5ba22ab6a548"
      },
      "source": [
        "rnd_search.best_params_"
      ],
      "execution_count": 78,
      "outputs": [
        {
          "output_type": "execute_result",
          "data": {
            "text/plain": [
              "{'C': 157055.10989448498, 'gamma': 0.26497040005002437, 'kernel': 'rbf'}"
            ]
          },
          "metadata": {
            "tags": []
          },
          "execution_count": 78
        }
      ]
    },
    {
      "cell_type": "code",
      "metadata": {
        "id": "FfRWpigM4Wpz",
        "colab_type": "code",
        "colab": {
          "base_uri": "https://localhost:8080/",
          "height": 281
        },
        "outputId": "02118300-949d-4f5b-c1e1-8651c97933ab"
      },
      "source": [
        "expon_distrib = expon(scale=1.)\n",
        "samples = expon_distrib.rvs(10000, random_state=42)\n",
        "plt.figure(figsize=(10, 4))\n",
        "plt.subplot(121)\n",
        "plt.title(\"Exponential distribution (scale=1.0)\")\n",
        "plt.hist(samples, bins=50)\n",
        "plt.subplot(122)\n",
        "plt.title(\"Log of this distribution\")\n",
        "plt.hist(np.log(samples), bins=50)\n",
        "plt.show()"
      ],
      "execution_count": 79,
      "outputs": [
        {
          "output_type": "display_data",
          "data": {
            "image/png": "[encoded data removed]",
            "text/plain": [
              "<Figure size 720x288 with 2 Axes>"
            ]
          },
          "metadata": {
            "tags": [],
            "needs_background": "light"
          }
        }
      ]
    },
    {
      "cell_type": "code",
      "metadata": {
        "id": "4HD5HAJtPRys",
        "colab_type": "code",
        "colab": {
          "base_uri": "https://localhost:8080/",
          "height": 281
        },
        "outputId": "39a6844e-685d-4592-9b4e-208c7a4beb82"
      },
      "source": [
        "reciprocal_distrib = reciprocal(20, 200000)\n",
        "samples = reciprocal_distrib.rvs(10000, random_state=42)\n",
        "plt.figure(figsize=(10, 4))\n",
        "plt.subplot(121)\n",
        "plt.title(\"Reciprocal distribution (scale=1.0)\")\n",
        "plt.hist(samples, bins=50)\n",
        "plt.subplot(122)\n",
        "plt.title(\"Log of this distribution\")\n",
        "plt.hist(np.log(samples), bins=50)\n",
        "plt.show()"
      ],
      "execution_count": 80,
      "outputs": [
        {
          "output_type": "display_data",
          "data": {
            "image/png": "[encoded data removed]",
            "text/plain": [
              "<Figure size 720x288 with 2 Axes>"
            ]
          },
          "metadata": {
            "tags": [],
            "needs_background": "light"
          }
        }
      ]
    },
    {
      "cell_type": "markdown",
      "metadata": {
        "id": "3HPDr4NnhT_V",
        "colab_type": "text"
      },
      "source": [
        "## Try adding a transformer in the preparation pipline to select only the most important attibutes"
      ]
    },
    {
      "cell_type": "code",
      "metadata": {
        "id": "VJfc2Ip6PVLC",
        "colab_type": "code",
        "colab": {}
      },
      "source": [
        "from sklearn.base import BaseEstimator, TransformerMixin\n",
        "\n",
        "def indices_of_top_k(arr, k):\n",
        "    return np.sort(np.argpartition(np.array(arr), -k)[-k:])\n",
        "\n",
        "class TopFeatureSelector(BaseEstimator, TransformerMixin):\n",
        "    def __init__(self, feature_importances, k):\n",
        "        self.feature_importances = feature_importances\n",
        "        self.k = k\n",
        "    def fit(self, X, y=None):\n",
        "        self.feature_indices_ = indices_of_top_k(self.feature_importances, self.k)\n",
        "        return self\n",
        "    def transform(self, X):\n",
        "        return X[:, self.feature_indices_]"
      ],
      "execution_count": 82,
      "outputs": []
    },
    {
      "cell_type": "code",
      "metadata": {
        "id": "z8LVvGqoPVwW",
        "colab_type": "code",
        "colab": {
          "base_uri": "https://localhost:8080/",
          "height": 34
        },
        "outputId": "db4a7b8c-78f7-4fa6-a651-dbb4909759ca"
      },
      "source": [
        "k = 5\n",
        "top_k_feature_indices = indices_of_top_k(feature_importances, k)\n",
        "top_k_feature_indices"
      ],
      "execution_count": 83,
      "outputs": [
        {
          "output_type": "execute_result",
          "data": {
            "text/plain": [
              "array([ 0,  7,  9, 10, 12])"
            ]
          },
          "metadata": {
            "tags": []
          },
          "execution_count": 83
        }
      ]
    },
    {
      "cell_type": "code",
      "metadata": {
        "id": "zziGNT46Pdga",
        "colab_type": "code",
        "colab": {
          "base_uri": "https://localhost:8080/",
          "height": 102
        },
        "outputId": "5551385a-f21e-4793-83be-7d0654100d3d"
      },
      "source": [
        "sorted(zip(feature_importances, attributes), reverse=True)[:k]"
      ],
      "execution_count": 84,
      "outputs": [
        {
          "output_type": "execute_result",
          "data": {
            "text/plain": [
              "[(0.32141539877162084, 'median_income'),\n",
              " (0.15369818349156972, 'INLAND'),\n",
              " (0.10846917692519935, 'pop_per_hhold'),\n",
              " (0.0748189684688924, 'longitude'),\n",
              " (0.07370714131025441, 'bedrooms_per_room')]"
            ]
          },
          "metadata": {
            "tags": []
          },
          "execution_count": 84
        }
      ]
    },
    {
      "cell_type": "code",
      "metadata": {
        "id": "BZxiZaGbPfno",
        "colab_type": "code",
        "colab": {}
      },
      "source": [
        "preparation_and_feature_selection_pipeline = Pipeline([\n",
        "    ('preparation', full_pipeline),\n",
        "    ('feature_selection', TopFeatureSelector(feature_importances, k))\n",
        "])"
      ],
      "execution_count": 85,
      "outputs": []
    },
    {
      "cell_type": "code",
      "metadata": {
        "id": "PpimF6ZgPjBW",
        "colab_type": "code",
        "colab": {}
      },
      "source": [
        "housing_prepared_top_k_features = preparation_and_feature_selection_pipeline.fit_transform(housing)"
      ],
      "execution_count": 86,
      "outputs": []
    },
    {
      "cell_type": "code",
      "metadata": {
        "id": "Z9Z0_vTEPlAN",
        "colab_type": "code",
        "colab": {
          "base_uri": "https://localhost:8080/",
          "height": 68
        },
        "outputId": "d6d54c91-210c-4a3a-d2e8-5444b7e613d4"
      },
      "source": [
        "housing_prepared_top_k_features[0:3]"
      ],
      "execution_count": 87,
      "outputs": [
        {
          "output_type": "execute_result",
          "data": {
            "text/plain": [
              "array([[ 0.34656365,  0.09196914,  0.06693505,  0.23189827,  0.        ],\n",
              "       [ 0.79098809, -0.4036929 , -0.0749146 ,  0.241693  ,  0.        ],\n",
              "       [-0.92678727, -0.12691101, -0.01487294,  0.38831736,  1.        ]])"
            ]
          },
          "metadata": {
            "tags": []
          },
          "execution_count": 87
        }
      ]
    },
    {
      "cell_type": "code",
      "metadata": {
        "id": "ro4AZBP_PnOU",
        "colab_type": "code",
        "colab": {
          "base_uri": "https://localhost:8080/",
          "height": 68
        },
        "outputId": "4d045902-4f5d-4791-f717-ac95ff1b8d70"
      },
      "source": [
        "\n",
        "housing_prepared[0:3, top_k_feature_indices]"
      ],
      "execution_count": 88,
      "outputs": [
        {
          "output_type": "execute_result",
          "data": {
            "text/plain": [
              "array([[ 0.34656365,  0.09196914,  0.06693505,  0.23189827,  0.        ],\n",
              "       [ 0.79098809, -0.4036929 , -0.0749146 ,  0.241693  ,  0.        ],\n",
              "       [-0.92678727, -0.12691101, -0.01487294,  0.38831736,  1.        ]])"
            ]
          },
          "metadata": {
            "tags": []
          },
          "execution_count": 88
        }
      ]
    },
    {
      "cell_type": "markdown",
      "metadata": {
        "id": "vfVhVXHBhx5j",
        "colab_type": "text"
      },
      "source": [
        "## Try creating a single pipeline that does the full data preparation plus the final prediction"
      ]
    },
    {
      "cell_type": "code",
      "metadata": {
        "id": "5Bvb0mWzPpAl",
        "colab_type": "code",
        "colab": {}
      },
      "source": [
        "prepare_select_and_predict_pipeline = Pipeline([\n",
        "    ('preparation', full_pipeline),\n",
        "    ('feature_selection', TopFeatureSelector(feature_importances, k)),\n",
        "    ('svm_reg', SVR(**rnd_search.best_params_))\n",
        "])"
      ],
      "execution_count": 89,
      "outputs": []
    },
    {
      "cell_type": "code",
      "metadata": {
        "id": "iVsLvaWJQB_O",
        "colab_type": "code",
        "colab": {
          "base_uri": "https://localhost:8080/",
          "height": 442
        },
        "outputId": "05232430-cb67-46ea-a12f-30d57e33b9ab"
      },
      "source": [
        "prepare_select_and_predict_pipeline.fit(housing, housing_labels)"
      ],
      "execution_count": 90,
      "outputs": [
        {
          "output_type": "execute_result",
          "data": {
            "text/plain": [
              "Pipeline(memory=None,\n",
              "         steps=[('preparation',\n",
              "                 ColumnTransformer(n_jobs=None, remainder='drop',\n",
              "                                   sparse_threshold=0.3,\n",
              "                                   transformer_weights=None,\n",
              "                                   transformers=[('num',\n",
              "                                                  Pipeline(memory=None,\n",
              "                                                           steps=[('imputer',\n",
              "                                                                   SimpleImputer(add_indicator=False,\n",
              "                                                                                 copy=True,\n",
              "                                                                                 fill_value=None,\n",
              "                                                                                 missing_values=nan,\n",
              "                                                                                 strategy='median',\n",
              "                                                                                 verbose=0)),\n",
              "                                                                  ('attribs_adder',\n",
              "                                                                   CombinedAttributesAdder(add_...\n",
              "       1.66053777e-02, 1.70598329e-02, 1.60806971e-02, 3.21415399e-01,\n",
              "       7.30511949e-02, 1.08469177e-01, 7.37071413e-02, 7.81443452e-03,\n",
              "       1.53698183e-01, 4.67051724e-05, 3.18397916e-03, 4.72669013e-03]),\n",
              "                                    k=5)),\n",
              "                ('svm_reg',\n",
              "                 SVR(C=157055.10989448498, cache_size=200, coef0=0.0, degree=3,\n",
              "                     epsilon=0.1, gamma=0.26497040005002437, kernel='rbf',\n",
              "                     max_iter=-1, shrinking=True, tol=0.001, verbose=False))],\n",
              "         verbose=False)"
            ]
          },
          "metadata": {
            "tags": []
          },
          "execution_count": 90
        }
      ]
    },
    {
      "cell_type": "code",
      "metadata": {
        "id": "eXftBXPKQD9U",
        "colab_type": "code",
        "colab": {
          "base_uri": "https://localhost:8080/",
          "height": 51
        },
        "outputId": "c3577872-76dd-43b8-8f62-1882b52cc82d"
      },
      "source": [
        "some_data = housing.iloc[:4]\n",
        "some_labels = housing_labels.iloc[:4]\n",
        "\n",
        "print(\"Predictions:\\t\", prepare_select_and_predict_pipeline.predict(some_data))\n",
        "print(\"Labels:\\t\\t\", list(some_labels))"
      ],
      "execution_count": 91,
      "outputs": [
        {
          "output_type": "stream",
          "text": [
            "Predictions:\t [199762.88922526 215918.90968584 128580.67322183  85874.65115428]\n",
            "Labels:\t\t [182100.0, 173900.0, 147600.0, 74000.0]\n"
          ],
          "name": "stdout"
        }
      ]
    },
    {
      "cell_type": "markdown",
      "metadata": {
        "id": "67RAReoMh_Kk",
        "colab_type": "text"
      },
      "source": [
        "## Automatically explore some preparation options using GridSearchCV"
      ]
    },
    {
      "cell_type": "code",
      "metadata": {
        "id": "qtaerQivQLZo",
        "colab_type": "code",
        "colab": {
          "base_uri": "https://localhost:8080/",
          "height": 1000
        },
        "outputId": "59782ec6-224c-4d11-fe3e-8a062b32d4fe"
      },
      "source": [
        "param_grid = [{\n",
        "    'preparation__num__imputer__strategy': ['mean', 'median', 'most_frequent'],\n",
        "    'feature_selection__k': list(range(1, len(feature_importances) + 1))\n",
        "}]\n",
        "\n",
        "grid_search_prep = GridSearchCV(prepare_select_and_predict_pipeline, param_grid, cv=5,\n",
        "                                scoring='neg_mean_squared_error', verbose=2)\n",
        "grid_search_prep.fit(housing, housing_labels)"
      ],
      "execution_count": 92,
      "outputs": [
        {
          "output_type": "stream",
          "text": [
            "Fitting 5 folds for each of 48 candidates, totalling 240 fits\n",
            "[CV] feature_selection__k=1, preparation__num__imputer__strategy=mean \n"
          ],
          "name": "stdout"
        },
        {
          "output_type": "stream",
          "text": [
            "[Parallel(n_jobs=1)]: Using backend SequentialBackend with 1 concurrent workers.\n"
          ],
          "name": "stderr"
        },
        {
          "output_type": "stream",
          "text": [
            "[CV]  feature_selection__k=1, preparation__num__imputer__strategy=mean, total=  12.5s\n",
            "[CV] feature_selection__k=1, preparation__num__imputer__strategy=mean \n"
          ],
          "name": "stdout"
        },
        {
          "output_type": "stream",
          "text": [
            "[Parallel(n_jobs=1)]: Done   1 out of   1 | elapsed:   12.5s remaining:    0.0s\n"
          ],
          "name": "stderr"
        },
        {
          "output_type": "stream",
          "text": [
            "[CV]  feature_selection__k=1, preparation__num__imputer__strategy=mean, total=  12.4s\n",
            "[CV] feature_selection__k=1, preparation__num__imputer__strategy=mean \n",
            "[CV]  feature_selection__k=1, preparation__num__imputer__strategy=mean, total=  12.5s\n",
            "[CV] feature_selection__k=1, preparation__num__imputer__strategy=mean \n",
            "[CV]  feature_selection__k=1, preparation__num__imputer__strategy=mean, total=  12.7s\n",
            "[CV] feature_selection__k=1, preparation__num__imputer__strategy=mean \n",
            "[CV]  feature_selection__k=1, preparation__num__imputer__strategy=mean, total=  12.4s\n",
            "[CV] feature_selection__k=1, preparation__num__imputer__strategy=median \n",
            "[CV]  feature_selection__k=1, preparation__num__imputer__strategy=median, total=  12.7s\n",
            "[CV] feature_selection__k=1, preparation__num__imputer__strategy=median \n",
            "[CV]  feature_selection__k=1, preparation__num__imputer__strategy=median, total=  13.0s\n",
            "[CV] feature_selection__k=1, preparation__num__imputer__strategy=median \n",
            "[CV]  feature_selection__k=1, preparation__num__imputer__strategy=median, total=  13.0s\n",
            "[CV] feature_selection__k=1, preparation__num__imputer__strategy=median \n",
            "[CV]  feature_selection__k=1, preparation__num__imputer__strategy=median, total=  12.7s\n",
            "[CV] feature_selection__k=1, preparation__num__imputer__strategy=median \n",
            "[CV]  feature_selection__k=1, preparation__num__imputer__strategy=median, total=  13.3s\n",
            "[CV] feature_selection__k=1, preparation__num__imputer__strategy=most_frequent \n",
            "[CV]  feature_selection__k=1, preparation__num__imputer__strategy=most_frequent, total=  13.9s\n",
            "[CV] feature_selection__k=1, preparation__num__imputer__strategy=most_frequent \n",
            "[CV]  feature_selection__k=1, preparation__num__imputer__strategy=most_frequent, total=  14.8s\n",
            "[CV] feature_selection__k=1, preparation__num__imputer__strategy=most_frequent \n",
            "[CV]  feature_selection__k=1, preparation__num__imputer__strategy=most_frequent, total=  12.8s\n",
            "[CV] feature_selection__k=1, preparation__num__imputer__strategy=most_frequent \n",
            "[CV]  feature_selection__k=1, preparation__num__imputer__strategy=most_frequent, total=  12.3s\n",
            "[CV] feature_selection__k=1, preparation__num__imputer__strategy=most_frequent \n",
            "[CV]  feature_selection__k=1, preparation__num__imputer__strategy=most_frequent, total=  12.6s\n",
            "[CV] feature_selection__k=2, preparation__num__imputer__strategy=mean \n",
            "[CV]  feature_selection__k=2, preparation__num__imputer__strategy=mean, total=  13.2s\n",
            "[CV] feature_selection__k=2, preparation__num__imputer__strategy=mean \n",
            "[CV]  feature_selection__k=2, preparation__num__imputer__strategy=mean, total=  13.1s\n",
            "[CV] feature_selection__k=2, preparation__num__imputer__strategy=mean \n",
            "[CV]  feature_selection__k=2, preparation__num__imputer__strategy=mean, total=  13.3s\n",
            "[CV] feature_selection__k=2, preparation__num__imputer__strategy=mean \n",
            "[CV]  feature_selection__k=2, preparation__num__imputer__strategy=mean, total=  14.3s\n",
            "[CV] feature_selection__k=2, preparation__num__imputer__strategy=mean \n",
            "[CV]  feature_selection__k=2, preparation__num__imputer__strategy=mean, total=  13.8s\n",
            "[CV] feature_selection__k=2, preparation__num__imputer__strategy=median \n",
            "[CV]  feature_selection__k=2, preparation__num__imputer__strategy=median, total=  12.9s\n",
            "[CV] feature_selection__k=2, preparation__num__imputer__strategy=median \n",
            "[CV]  feature_selection__k=2, preparation__num__imputer__strategy=median, total=  13.1s\n",
            "[CV] feature_selection__k=2, preparation__num__imputer__strategy=median \n",
            "[CV]  feature_selection__k=2, preparation__num__imputer__strategy=median, total=  14.3s\n",
            "[CV] feature_selection__k=2, preparation__num__imputer__strategy=median \n",
            "[CV]  feature_selection__k=2, preparation__num__imputer__strategy=median, total=  13.5s\n",
            "[CV] feature_selection__k=2, preparation__num__imputer__strategy=median \n",
            "[CV]  feature_selection__k=2, preparation__num__imputer__strategy=median, total=  12.9s\n",
            "[CV] feature_selection__k=2, preparation__num__imputer__strategy=most_frequent \n",
            "[CV]  feature_selection__k=2, preparation__num__imputer__strategy=most_frequent, total=  13.0s\n",
            "[CV] feature_selection__k=2, preparation__num__imputer__strategy=most_frequent \n",
            "[CV]  feature_selection__k=2, preparation__num__imputer__strategy=most_frequent, total=  12.9s\n",
            "[CV] feature_selection__k=2, preparation__num__imputer__strategy=most_frequent \n",
            "[CV]  feature_selection__k=2, preparation__num__imputer__strategy=most_frequent, total=  12.9s\n",
            "[CV] feature_selection__k=2, preparation__num__imputer__strategy=most_frequent \n",
            "[CV]  feature_selection__k=2, preparation__num__imputer__strategy=most_frequent, total=  13.1s\n",
            "[CV] feature_selection__k=2, preparation__num__imputer__strategy=most_frequent \n",
            "[CV]  feature_selection__k=2, preparation__num__imputer__strategy=most_frequent, total=  13.1s\n",
            "[CV] feature_selection__k=3, preparation__num__imputer__strategy=mean \n",
            "[CV]  feature_selection__k=3, preparation__num__imputer__strategy=mean, total=  13.0s\n",
            "[CV] feature_selection__k=3, preparation__num__imputer__strategy=mean \n",
            "[CV]  feature_selection__k=3, preparation__num__imputer__strategy=mean, total=  13.9s\n",
            "[CV] feature_selection__k=3, preparation__num__imputer__strategy=mean \n",
            "[CV]  feature_selection__k=3, preparation__num__imputer__strategy=mean, total=  13.6s\n",
            "[CV] feature_selection__k=3, preparation__num__imputer__strategy=mean \n",
            "[CV]  feature_selection__k=3, preparation__num__imputer__strategy=mean, total=  13.0s\n",
            "[CV] feature_selection__k=3, preparation__num__imputer__strategy=mean \n",
            "[CV]  feature_selection__k=3, preparation__num__imputer__strategy=mean, total=  13.6s\n",
            "[CV] feature_selection__k=3, preparation__num__imputer__strategy=median \n",
            "[CV]  feature_selection__k=3, preparation__num__imputer__strategy=median, total=  13.1s\n",
            "[CV] feature_selection__k=3, preparation__num__imputer__strategy=median \n",
            "[CV]  feature_selection__k=3, preparation__num__imputer__strategy=median, total=  13.1s\n",
            "[CV] feature_selection__k=3, preparation__num__imputer__strategy=median \n",
            "[CV]  feature_selection__k=3, preparation__num__imputer__strategy=median, total=  13.1s\n",
            "[CV] feature_selection__k=3, preparation__num__imputer__strategy=median \n",
            "[CV]  feature_selection__k=3, preparation__num__imputer__strategy=median, total=  13.8s\n",
            "[CV] feature_selection__k=3, preparation__num__imputer__strategy=median \n",
            "[CV]  feature_selection__k=3, preparation__num__imputer__strategy=median, total=  13.3s\n",
            "[CV] feature_selection__k=3, preparation__num__imputer__strategy=most_frequent \n",
            "[CV]  feature_selection__k=3, preparation__num__imputer__strategy=most_frequent, total=  13.1s\n",
            "[CV] feature_selection__k=3, preparation__num__imputer__strategy=most_frequent \n",
            "[CV]  feature_selection__k=3, preparation__num__imputer__strategy=most_frequent, total=  13.5s\n",
            "[CV] feature_selection__k=3, preparation__num__imputer__strategy=most_frequent \n",
            "[CV]  feature_selection__k=3, preparation__num__imputer__strategy=most_frequent, total=  13.9s\n",
            "[CV] feature_selection__k=3, preparation__num__imputer__strategy=most_frequent \n",
            "[CV]  feature_selection__k=3, preparation__num__imputer__strategy=most_frequent, total=  12.9s\n",
            "[CV] feature_selection__k=3, preparation__num__imputer__strategy=most_frequent \n",
            "[CV]  feature_selection__k=3, preparation__num__imputer__strategy=most_frequent, total=  13.2s\n",
            "[CV] feature_selection__k=4, preparation__num__imputer__strategy=mean \n",
            "[CV]  feature_selection__k=4, preparation__num__imputer__strategy=mean, total=  15.2s\n",
            "[CV] feature_selection__k=4, preparation__num__imputer__strategy=mean \n",
            "[CV]  feature_selection__k=4, preparation__num__imputer__strategy=mean, total=  14.3s\n",
            "[CV] feature_selection__k=4, preparation__num__imputer__strategy=mean \n",
            "[CV]  feature_selection__k=4, preparation__num__imputer__strategy=mean, total=  14.0s\n",
            "[CV] feature_selection__k=4, preparation__num__imputer__strategy=mean \n",
            "[CV]  feature_selection__k=4, preparation__num__imputer__strategy=mean, total=  14.1s\n",
            "[CV] feature_selection__k=4, preparation__num__imputer__strategy=mean \n",
            "[CV]  feature_selection__k=4, preparation__num__imputer__strategy=mean, total=  14.3s\n",
            "[CV] feature_selection__k=4, preparation__num__imputer__strategy=median \n",
            "[CV]  feature_selection__k=4, preparation__num__imputer__strategy=median, total=  14.4s\n",
            "[CV] feature_selection__k=4, preparation__num__imputer__strategy=median \n",
            "[CV]  feature_selection__k=4, preparation__num__imputer__strategy=median, total=  15.0s\n",
            "[CV] feature_selection__k=4, preparation__num__imputer__strategy=median \n",
            "[CV]  feature_selection__k=4, preparation__num__imputer__strategy=median, total=  13.8s\n",
            "[CV] feature_selection__k=4, preparation__num__imputer__strategy=median \n",
            "[CV]  feature_selection__k=4, preparation__num__imputer__strategy=median, total=  14.4s\n",
            "[CV] feature_selection__k=4, preparation__num__imputer__strategy=median \n",
            "[CV]  feature_selection__k=4, preparation__num__imputer__strategy=median, total=  15.0s\n",
            "[CV] feature_selection__k=4, preparation__num__imputer__strategy=most_frequent \n",
            "[CV]  feature_selection__k=4, preparation__num__imputer__strategy=most_frequent, total=  15.7s\n",
            "[CV] feature_selection__k=4, preparation__num__imputer__strategy=most_frequent \n",
            "[CV]  feature_selection__k=4, preparation__num__imputer__strategy=most_frequent, total=  16.0s\n",
            "[CV] feature_selection__k=4, preparation__num__imputer__strategy=most_frequent \n",
            "[CV]  feature_selection__k=4, preparation__num__imputer__strategy=most_frequent, total=  14.6s\n",
            "[CV] feature_selection__k=4, preparation__num__imputer__strategy=most_frequent \n",
            "[CV]  feature_selection__k=4, preparation__num__imputer__strategy=most_frequent, total=  14.0s\n",
            "[CV] feature_selection__k=4, preparation__num__imputer__strategy=most_frequent \n",
            "[CV]  feature_selection__k=4, preparation__num__imputer__strategy=most_frequent, total=  14.5s\n",
            "[CV] feature_selection__k=5, preparation__num__imputer__strategy=mean \n",
            "[CV]  feature_selection__k=5, preparation__num__imputer__strategy=mean, total=  14.8s\n",
            "[CV] feature_selection__k=5, preparation__num__imputer__strategy=mean \n",
            "[CV]  feature_selection__k=5, preparation__num__imputer__strategy=mean, total=  14.8s\n",
            "[CV] feature_selection__k=5, preparation__num__imputer__strategy=mean \n",
            "[CV]  feature_selection__k=5, preparation__num__imputer__strategy=mean, total=  15.1s\n",
            "[CV] feature_selection__k=5, preparation__num__imputer__strategy=mean \n",
            "[CV]  feature_selection__k=5, preparation__num__imputer__strategy=mean, total=  15.7s\n",
            "[CV] feature_selection__k=5, preparation__num__imputer__strategy=mean \n",
            "[CV]  feature_selection__k=5, preparation__num__imputer__strategy=mean, total=  15.0s\n",
            "[CV] feature_selection__k=5, preparation__num__imputer__strategy=median \n",
            "[CV]  feature_selection__k=5, preparation__num__imputer__strategy=median, total=  14.6s\n",
            "[CV] feature_selection__k=5, preparation__num__imputer__strategy=median \n",
            "[CV]  feature_selection__k=5, preparation__num__imputer__strategy=median, total=  14.5s\n",
            "[CV] feature_selection__k=5, preparation__num__imputer__strategy=median \n",
            "[CV]  feature_selection__k=5, preparation__num__imputer__strategy=median, total=  15.3s\n",
            "[CV] feature_selection__k=5, preparation__num__imputer__strategy=median \n",
            "[CV]  feature_selection__k=5, preparation__num__imputer__strategy=median, total=  15.5s\n",
            "[CV] feature_selection__k=5, preparation__num__imputer__strategy=median \n",
            "[CV]  feature_selection__k=5, preparation__num__imputer__strategy=median, total=  14.9s\n",
            "[CV] feature_selection__k=5, preparation__num__imputer__strategy=most_frequent \n",
            "[CV]  feature_selection__k=5, preparation__num__imputer__strategy=most_frequent, total=  14.1s\n",
            "[CV] feature_selection__k=5, preparation__num__imputer__strategy=most_frequent \n",
            "[CV]  feature_selection__k=5, preparation__num__imputer__strategy=most_frequent, total=  14.9s\n",
            "[CV] feature_selection__k=5, preparation__num__imputer__strategy=most_frequent \n",
            "[CV]  feature_selection__k=5, preparation__num__imputer__strategy=most_frequent, total=  14.8s\n",
            "[CV] feature_selection__k=5, preparation__num__imputer__strategy=most_frequent \n",
            "[CV]  feature_selection__k=5, preparation__num__imputer__strategy=most_frequent, total=  14.7s\n",
            "[CV] feature_selection__k=5, preparation__num__imputer__strategy=most_frequent \n",
            "[CV]  feature_selection__k=5, preparation__num__imputer__strategy=most_frequent, total=  15.6s\n",
            "[CV] feature_selection__k=6, preparation__num__imputer__strategy=mean \n",
            "[CV]  feature_selection__k=6, preparation__num__imputer__strategy=mean, total=  15.7s\n",
            "[CV] feature_selection__k=6, preparation__num__imputer__strategy=mean \n",
            "[CV]  feature_selection__k=6, preparation__num__imputer__strategy=mean, total=  16.1s\n",
            "[CV] feature_selection__k=6, preparation__num__imputer__strategy=mean \n",
            "[CV]  feature_selection__k=6, preparation__num__imputer__strategy=mean, total=  15.6s\n",
            "[CV] feature_selection__k=6, preparation__num__imputer__strategy=mean \n",
            "[CV]  feature_selection__k=6, preparation__num__imputer__strategy=mean, total=  16.6s\n",
            "[CV] feature_selection__k=6, preparation__num__imputer__strategy=mean \n",
            "[CV]  feature_selection__k=6, preparation__num__imputer__strategy=mean, total=  15.7s\n",
            "[CV] feature_selection__k=6, preparation__num__imputer__strategy=median \n",
            "[CV]  feature_selection__k=6, preparation__num__imputer__strategy=median, total=  16.0s\n",
            "[CV] feature_selection__k=6, preparation__num__imputer__strategy=median \n",
            "[CV]  feature_selection__k=6, preparation__num__imputer__strategy=median, total=  16.4s\n",
            "[CV] feature_selection__k=6, preparation__num__imputer__strategy=median \n",
            "[CV]  feature_selection__k=6, preparation__num__imputer__strategy=median, total=  15.4s\n",
            "[CV] feature_selection__k=6, preparation__num__imputer__strategy=median \n",
            "[CV]  feature_selection__k=6, preparation__num__imputer__strategy=median, total=  17.2s\n",
            "[CV] feature_selection__k=6, preparation__num__imputer__strategy=median \n",
            "[CV]  feature_selection__k=6, preparation__num__imputer__strategy=median, total=  16.0s\n",
            "[CV] feature_selection__k=6, preparation__num__imputer__strategy=most_frequent \n",
            "[CV]  feature_selection__k=6, preparation__num__imputer__strategy=most_frequent, total=  15.4s\n",
            "[CV] feature_selection__k=6, preparation__num__imputer__strategy=most_frequent \n",
            "[CV]  feature_selection__k=6, preparation__num__imputer__strategy=most_frequent, total=  16.4s\n",
            "[CV] feature_selection__k=6, preparation__num__imputer__strategy=most_frequent \n",
            "[CV]  feature_selection__k=6, preparation__num__imputer__strategy=most_frequent, total=  15.7s\n",
            "[CV] feature_selection__k=6, preparation__num__imputer__strategy=most_frequent \n",
            "[CV]  feature_selection__k=6, preparation__num__imputer__strategy=most_frequent, total=  16.0s\n",
            "[CV] feature_selection__k=6, preparation__num__imputer__strategy=most_frequent \n",
            "[CV]  feature_selection__k=6, preparation__num__imputer__strategy=most_frequent, total=  15.5s\n",
            "[CV] feature_selection__k=7, preparation__num__imputer__strategy=mean \n",
            "[CV]  feature_selection__k=7, preparation__num__imputer__strategy=mean, total=  17.3s\n",
            "[CV] feature_selection__k=7, preparation__num__imputer__strategy=mean \n",
            "[CV]  feature_selection__k=7, preparation__num__imputer__strategy=mean, total=  17.0s\n",
            "[CV] feature_selection__k=7, preparation__num__imputer__strategy=mean \n",
            "[CV]  feature_selection__k=7, preparation__num__imputer__strategy=mean, total=  16.1s\n",
            "[CV] feature_selection__k=7, preparation__num__imputer__strategy=mean \n",
            "[CV]  feature_selection__k=7, preparation__num__imputer__strategy=mean, total=  17.8s\n",
            "[CV] feature_selection__k=7, preparation__num__imputer__strategy=mean \n",
            "[CV]  feature_selection__k=7, preparation__num__imputer__strategy=mean, total=  21.1s\n",
            "[CV] feature_selection__k=7, preparation__num__imputer__strategy=median \n",
            "[CV]  feature_selection__k=7, preparation__num__imputer__strategy=median, total=  18.3s\n",
            "[CV] feature_selection__k=7, preparation__num__imputer__strategy=median \n",
            "[CV]  feature_selection__k=7, preparation__num__imputer__strategy=median, total=  17.4s\n",
            "[CV] feature_selection__k=7, preparation__num__imputer__strategy=median \n",
            "[CV]  feature_selection__k=7, preparation__num__imputer__strategy=median, total=  16.6s\n",
            "[CV] feature_selection__k=7, preparation__num__imputer__strategy=median \n",
            "[CV]  feature_selection__k=7, preparation__num__imputer__strategy=median, total=  18.1s\n",
            "[CV] feature_selection__k=7, preparation__num__imputer__strategy=median \n",
            "[CV]  feature_selection__k=7, preparation__num__imputer__strategy=median, total=  20.7s\n",
            "[CV] feature_selection__k=7, preparation__num__imputer__strategy=most_frequent \n",
            "[CV]  feature_selection__k=7, preparation__num__imputer__strategy=most_frequent, total=  17.4s\n",
            "[CV] feature_selection__k=7, preparation__num__imputer__strategy=most_frequent \n",
            "[CV]  feature_selection__k=7, preparation__num__imputer__strategy=most_frequent, total=  16.3s\n",
            "[CV] feature_selection__k=7, preparation__num__imputer__strategy=most_frequent \n",
            "[CV]  feature_selection__k=7, preparation__num__imputer__strategy=most_frequent, total=  15.6s\n",
            "[CV] feature_selection__k=7, preparation__num__imputer__strategy=most_frequent \n",
            "[CV]  feature_selection__k=7, preparation__num__imputer__strategy=most_frequent, total=  16.7s\n",
            "[CV] feature_selection__k=7, preparation__num__imputer__strategy=most_frequent \n",
            "[CV]  feature_selection__k=7, preparation__num__imputer__strategy=most_frequent, total=  18.8s\n",
            "[CV] feature_selection__k=8, preparation__num__imputer__strategy=mean \n",
            "[CV]  feature_selection__k=8, preparation__num__imputer__strategy=mean, total=  21.1s\n",
            "[CV] feature_selection__k=8, preparation__num__imputer__strategy=mean \n",
            "[CV]  feature_selection__k=8, preparation__num__imputer__strategy=mean, total=  21.5s\n",
            "[CV] feature_selection__k=8, preparation__num__imputer__strategy=mean \n",
            "[CV]  feature_selection__k=8, preparation__num__imputer__strategy=mean, total=  21.1s\n",
            "[CV] feature_selection__k=8, preparation__num__imputer__strategy=mean \n",
            "[CV]  feature_selection__k=8, preparation__num__imputer__strategy=mean, total=  21.7s\n",
            "[CV] feature_selection__k=8, preparation__num__imputer__strategy=mean \n",
            "[CV]  feature_selection__k=8, preparation__num__imputer__strategy=mean, total=  22.4s\n",
            "[CV] feature_selection__k=8, preparation__num__imputer__strategy=median \n",
            "[CV]  feature_selection__k=8, preparation__num__imputer__strategy=median, total=  20.8s\n",
            "[CV] feature_selection__k=8, preparation__num__imputer__strategy=median \n",
            "[CV]  feature_selection__k=8, preparation__num__imputer__strategy=median, total=  21.1s\n",
            "[CV] feature_selection__k=8, preparation__num__imputer__strategy=median \n",
            "[CV]  feature_selection__k=8, preparation__num__imputer__strategy=median, total=  21.1s\n",
            "[CV] feature_selection__k=8, preparation__num__imputer__strategy=median \n",
            "[CV]  feature_selection__k=8, preparation__num__imputer__strategy=median, total=  21.6s\n",
            "[CV] feature_selection__k=8, preparation__num__imputer__strategy=median \n",
            "[CV]  feature_selection__k=8, preparation__num__imputer__strategy=median, total=  22.0s\n",
            "[CV] feature_selection__k=8, preparation__num__imputer__strategy=most_frequent \n",
            "[CV]  feature_selection__k=8, preparation__num__imputer__strategy=most_frequent, total=  20.6s\n",
            "[CV] feature_selection__k=8, preparation__num__imputer__strategy=most_frequent \n",
            "[CV]  feature_selection__k=8, preparation__num__imputer__strategy=most_frequent, total=  20.3s\n",
            "[CV] feature_selection__k=8, preparation__num__imputer__strategy=most_frequent \n",
            "[CV]  feature_selection__k=8, preparation__num__imputer__strategy=most_frequent, total=  20.7s\n",
            "[CV] feature_selection__k=8, preparation__num__imputer__strategy=most_frequent \n",
            "[CV]  feature_selection__k=8, preparation__num__imputer__strategy=most_frequent, total=  21.1s\n",
            "[CV] feature_selection__k=8, preparation__num__imputer__strategy=most_frequent \n",
            "[CV]  feature_selection__k=8, preparation__num__imputer__strategy=most_frequent, total=  21.8s\n",
            "[CV] feature_selection__k=9, preparation__num__imputer__strategy=mean \n",
            "[CV]  feature_selection__k=9, preparation__num__imputer__strategy=mean, total=  26.1s\n",
            "[CV] feature_selection__k=9, preparation__num__imputer__strategy=mean \n",
            "[CV]  feature_selection__k=9, preparation__num__imputer__strategy=mean, total=  30.0s\n",
            "[CV] feature_selection__k=9, preparation__num__imputer__strategy=mean \n",
            "[CV]  feature_selection__k=9, preparation__num__imputer__strategy=mean, total=  24.2s\n",
            "[CV] feature_selection__k=9, preparation__num__imputer__strategy=mean \n",
            "[CV]  feature_selection__k=9, preparation__num__imputer__strategy=mean, total=  26.9s\n",
            "[CV] feature_selection__k=9, preparation__num__imputer__strategy=mean \n",
            "[CV]  feature_selection__k=9, preparation__num__imputer__strategy=mean, total=  26.3s\n",
            "[CV] feature_selection__k=9, preparation__num__imputer__strategy=median \n",
            "[CV]  feature_selection__k=9, preparation__num__imputer__strategy=median, total=  25.3s\n",
            "[CV] feature_selection__k=9, preparation__num__imputer__strategy=median \n",
            "[CV]  feature_selection__k=9, preparation__num__imputer__strategy=median, total=  30.4s\n",
            "[CV] feature_selection__k=9, preparation__num__imputer__strategy=median \n",
            "[CV]  feature_selection__k=9, preparation__num__imputer__strategy=median, total=  24.5s\n",
            "[CV] feature_selection__k=9, preparation__num__imputer__strategy=median \n",
            "[CV]  feature_selection__k=9, preparation__num__imputer__strategy=median, total=  26.2s\n",
            "[CV] feature_selection__k=9, preparation__num__imputer__strategy=median \n",
            "[CV]  feature_selection__k=9, preparation__num__imputer__strategy=median, total=  25.6s\n",
            "[CV] feature_selection__k=9, preparation__num__imputer__strategy=most_frequent \n",
            "[CV]  feature_selection__k=9, preparation__num__imputer__strategy=most_frequent, total=  25.2s\n",
            "[CV] feature_selection__k=9, preparation__num__imputer__strategy=most_frequent \n",
            "[CV]  feature_selection__k=9, preparation__num__imputer__strategy=most_frequent, total=  30.5s\n",
            "[CV] feature_selection__k=9, preparation__num__imputer__strategy=most_frequent \n",
            "[CV]  feature_selection__k=9, preparation__num__imputer__strategy=most_frequent, total=  24.4s\n",
            "[CV] feature_selection__k=9, preparation__num__imputer__strategy=most_frequent \n",
            "[CV]  feature_selection__k=9, preparation__num__imputer__strategy=most_frequent, total=  27.2s\n",
            "[CV] feature_selection__k=9, preparation__num__imputer__strategy=most_frequent \n",
            "[CV]  feature_selection__k=9, preparation__num__imputer__strategy=most_frequent, total=  25.5s\n",
            "[CV] feature_selection__k=10, preparation__num__imputer__strategy=mean \n",
            "[CV]  feature_selection__k=10, preparation__num__imputer__strategy=mean, total=  33.8s\n",
            "[CV] feature_selection__k=10, preparation__num__imputer__strategy=mean \n",
            "[CV]  feature_selection__k=10, preparation__num__imputer__strategy=mean, total=  33.2s\n",
            "[CV] feature_selection__k=10, preparation__num__imputer__strategy=mean \n",
            "[CV]  feature_selection__k=10, preparation__num__imputer__strategy=mean, total=  28.5s\n",
            "[CV] feature_selection__k=10, preparation__num__imputer__strategy=mean \n",
            "[CV]  feature_selection__k=10, preparation__num__imputer__strategy=mean, total=  35.6s\n",
            "[CV] feature_selection__k=10, preparation__num__imputer__strategy=mean \n",
            "[CV]  feature_selection__k=10, preparation__num__imputer__strategy=mean, total=  35.0s\n",
            "[CV] feature_selection__k=10, preparation__num__imputer__strategy=median \n",
            "[CV]  feature_selection__k=10, preparation__num__imputer__strategy=median, total=  33.1s\n",
            "[CV] feature_selection__k=10, preparation__num__imputer__strategy=median \n",
            "[CV]  feature_selection__k=10, preparation__num__imputer__strategy=median, total=  34.3s\n",
            "[CV] feature_selection__k=10, preparation__num__imputer__strategy=median \n",
            "[CV]  feature_selection__k=10, preparation__num__imputer__strategy=median, total=  30.5s\n",
            "[CV] feature_selection__k=10, preparation__num__imputer__strategy=median \n",
            "[CV]  feature_selection__k=10, preparation__num__imputer__strategy=median, total=  35.8s\n",
            "[CV] feature_selection__k=10, preparation__num__imputer__strategy=median \n",
            "[CV]  feature_selection__k=10, preparation__num__imputer__strategy=median, total=  35.3s\n",
            "[CV] feature_selection__k=10, preparation__num__imputer__strategy=most_frequent \n",
            "[CV]  feature_selection__k=10, preparation__num__imputer__strategy=most_frequent, total=  32.8s\n",
            "[CV] feature_selection__k=10, preparation__num__imputer__strategy=most_frequent \n",
            "[CV]  feature_selection__k=10, preparation__num__imputer__strategy=most_frequent, total=  34.9s\n",
            "[CV] feature_selection__k=10, preparation__num__imputer__strategy=most_frequent \n",
            "[CV]  feature_selection__k=10, preparation__num__imputer__strategy=most_frequent, total=  29.7s\n",
            "[CV] feature_selection__k=10, preparation__num__imputer__strategy=most_frequent \n",
            "[CV]  feature_selection__k=10, preparation__num__imputer__strategy=most_frequent, total=  35.9s\n",
            "[CV] feature_selection__k=10, preparation__num__imputer__strategy=most_frequent \n",
            "[CV]  feature_selection__k=10, preparation__num__imputer__strategy=most_frequent, total=  34.6s\n",
            "[CV] feature_selection__k=11, preparation__num__imputer__strategy=mean \n",
            "[CV]  feature_selection__k=11, preparation__num__imputer__strategy=mean, total=  34.7s\n",
            "[CV] feature_selection__k=11, preparation__num__imputer__strategy=mean \n",
            "[CV]  feature_selection__k=11, preparation__num__imputer__strategy=mean, total=  32.9s\n",
            "[CV] feature_selection__k=11, preparation__num__imputer__strategy=mean \n",
            "[CV]  feature_selection__k=11, preparation__num__imputer__strategy=mean, total=  34.1s\n",
            "[CV] feature_selection__k=11, preparation__num__imputer__strategy=mean \n",
            "[CV]  feature_selection__k=11, preparation__num__imputer__strategy=mean, total=  39.3s\n",
            "[CV] feature_selection__k=11, preparation__num__imputer__strategy=mean \n",
            "[CV]  feature_selection__k=11, preparation__num__imputer__strategy=mean, total=  36.6s\n",
            "[CV] feature_selection__k=11, preparation__num__imputer__strategy=median \n",
            "[CV]  feature_selection__k=11, preparation__num__imputer__strategy=median, total=  34.8s\n",
            "[CV] feature_selection__k=11, preparation__num__imputer__strategy=median \n",
            "[CV]  feature_selection__k=11, preparation__num__imputer__strategy=median, total=  33.2s\n",
            "[CV] feature_selection__k=11, preparation__num__imputer__strategy=median \n",
            "[CV]  feature_selection__k=11, preparation__num__imputer__strategy=median, total=  34.5s\n",
            "[CV] feature_selection__k=11, preparation__num__imputer__strategy=median \n",
            "[CV]  feature_selection__k=11, preparation__num__imputer__strategy=median, total=  39.4s\n",
            "[CV] feature_selection__k=11, preparation__num__imputer__strategy=median \n",
            "[CV]  feature_selection__k=11, preparation__num__imputer__strategy=median, total=  36.6s\n",
            "[CV] feature_selection__k=11, preparation__num__imputer__strategy=most_frequent \n",
            "[CV]  feature_selection__k=11, preparation__num__imputer__strategy=most_frequent, total=  35.2s\n",
            "[CV] feature_selection__k=11, preparation__num__imputer__strategy=most_frequent \n",
            "[CV]  feature_selection__k=11, preparation__num__imputer__strategy=most_frequent, total=  32.2s\n",
            "[CV] feature_selection__k=11, preparation__num__imputer__strategy=most_frequent \n",
            "[CV]  feature_selection__k=11, preparation__num__imputer__strategy=most_frequent, total=  34.0s\n",
            "[CV] feature_selection__k=11, preparation__num__imputer__strategy=most_frequent \n",
            "[CV]  feature_selection__k=11, preparation__num__imputer__strategy=most_frequent, total=  38.6s\n",
            "[CV] feature_selection__k=11, preparation__num__imputer__strategy=most_frequent \n",
            "[CV]  feature_selection__k=11, preparation__num__imputer__strategy=most_frequent, total=  37.2s\n",
            "[CV] feature_selection__k=12, preparation__num__imputer__strategy=mean \n",
            "[CV]  feature_selection__k=12, preparation__num__imputer__strategy=mean, total=  39.9s\n",
            "[CV] feature_selection__k=12, preparation__num__imputer__strategy=mean \n",
            "[CV]  feature_selection__k=12, preparation__num__imputer__strategy=mean, total=  35.9s\n",
            "[CV] feature_selection__k=12, preparation__num__imputer__strategy=mean \n",
            "[CV]  feature_selection__k=12, preparation__num__imputer__strategy=mean, total=  36.0s\n",
            "[CV] feature_selection__k=12, preparation__num__imputer__strategy=mean \n",
            "[CV]  feature_selection__k=12, preparation__num__imputer__strategy=mean, total=  34.0s\n",
            "[CV] feature_selection__k=12, preparation__num__imputer__strategy=mean \n",
            "[CV]  feature_selection__k=12, preparation__num__imputer__strategy=mean, total=  34.2s\n",
            "[CV] feature_selection__k=12, preparation__num__imputer__strategy=median \n",
            "[CV]  feature_selection__k=12, preparation__num__imputer__strategy=median, total=  38.5s\n",
            "[CV] feature_selection__k=12, preparation__num__imputer__strategy=median \n",
            "[CV]  feature_selection__k=12, preparation__num__imputer__strategy=median, total=  37.1s\n",
            "[CV] feature_selection__k=12, preparation__num__imputer__strategy=median \n",
            "[CV]  feature_selection__k=12, preparation__num__imputer__strategy=median, total=  37.3s\n",
            "[CV] feature_selection__k=12, preparation__num__imputer__strategy=median \n",
            "[CV]  feature_selection__k=12, preparation__num__imputer__strategy=median, total=  35.1s\n",
            "[CV] feature_selection__k=12, preparation__num__imputer__strategy=median \n",
            "[CV]  feature_selection__k=12, preparation__num__imputer__strategy=median, total=  36.9s\n",
            "[CV] feature_selection__k=12, preparation__num__imputer__strategy=most_frequent \n",
            "[CV]  feature_selection__k=12, preparation__num__imputer__strategy=most_frequent, total=  39.3s\n",
            "[CV] feature_selection__k=12, preparation__num__imputer__strategy=most_frequent \n",
            "[CV]  feature_selection__k=12, preparation__num__imputer__strategy=most_frequent, total=  36.8s\n",
            "[CV] feature_selection__k=12, preparation__num__imputer__strategy=most_frequent \n",
            "[CV]  feature_selection__k=12, preparation__num__imputer__strategy=most_frequent, total=  37.0s\n",
            "[CV] feature_selection__k=12, preparation__num__imputer__strategy=most_frequent \n",
            "[CV]  feature_selection__k=12, preparation__num__imputer__strategy=most_frequent, total=  33.5s\n",
            "[CV] feature_selection__k=12, preparation__num__imputer__strategy=most_frequent \n",
            "[CV]  feature_selection__k=12, preparation__num__imputer__strategy=most_frequent, total=  36.2s\n",
            "[CV] feature_selection__k=13, preparation__num__imputer__strategy=mean \n",
            "[CV]  feature_selection__k=13, preparation__num__imputer__strategy=mean, total=  49.7s\n",
            "[CV] feature_selection__k=13, preparation__num__imputer__strategy=mean \n",
            "[CV]  feature_selection__k=13, preparation__num__imputer__strategy=mean, total=  43.6s\n",
            "[CV] feature_selection__k=13, preparation__num__imputer__strategy=mean \n",
            "[CV]  feature_selection__k=13, preparation__num__imputer__strategy=mean, total=  44.9s\n",
            "[CV] feature_selection__k=13, preparation__num__imputer__strategy=mean \n",
            "[CV]  feature_selection__k=13, preparation__num__imputer__strategy=mean, total=  42.8s\n",
            "[CV] feature_selection__k=13, preparation__num__imputer__strategy=mean \n",
            "[CV]  feature_selection__k=13, preparation__num__imputer__strategy=mean, total=  39.7s\n",
            "[CV] feature_selection__k=13, preparation__num__imputer__strategy=median \n",
            "[CV]  feature_selection__k=13, preparation__num__imputer__strategy=median, total=  46.5s\n",
            "[CV] feature_selection__k=13, preparation__num__imputer__strategy=median \n",
            "[CV]  feature_selection__k=13, preparation__num__imputer__strategy=median, total=  44.9s\n",
            "[CV] feature_selection__k=13, preparation__num__imputer__strategy=median \n",
            "[CV]  feature_selection__k=13, preparation__num__imputer__strategy=median, total=  44.7s\n",
            "[CV] feature_selection__k=13, preparation__num__imputer__strategy=median \n",
            "[CV]  feature_selection__k=13, preparation__num__imputer__strategy=median, total=  43.0s\n",
            "[CV] feature_selection__k=13, preparation__num__imputer__strategy=median \n",
            "[CV]  feature_selection__k=13, preparation__num__imputer__strategy=median, total=  38.9s\n",
            "[CV] feature_selection__k=13, preparation__num__imputer__strategy=most_frequent \n",
            "[CV]  feature_selection__k=13, preparation__num__imputer__strategy=most_frequent, total=  46.1s\n",
            "[CV] feature_selection__k=13, preparation__num__imputer__strategy=most_frequent \n",
            "[CV]  feature_selection__k=13, preparation__num__imputer__strategy=most_frequent, total=  44.9s\n",
            "[CV] feature_selection__k=13, preparation__num__imputer__strategy=most_frequent \n",
            "[CV]  feature_selection__k=13, preparation__num__imputer__strategy=most_frequent, total=  43.6s\n",
            "[CV] feature_selection__k=13, preparation__num__imputer__strategy=most_frequent \n",
            "[CV]  feature_selection__k=13, preparation__num__imputer__strategy=most_frequent, total=  43.1s\n",
            "[CV] feature_selection__k=13, preparation__num__imputer__strategy=most_frequent \n",
            "[CV]  feature_selection__k=13, preparation__num__imputer__strategy=most_frequent, total=  42.1s\n",
            "[CV] feature_selection__k=14, preparation__num__imputer__strategy=mean \n",
            "[CV]  feature_selection__k=14, preparation__num__imputer__strategy=mean, total=  41.9s\n",
            "[CV] feature_selection__k=14, preparation__num__imputer__strategy=mean \n",
            "[CV]  feature_selection__k=14, preparation__num__imputer__strategy=mean, total=  46.8s\n",
            "[CV] feature_selection__k=14, preparation__num__imputer__strategy=mean \n",
            "[CV]  feature_selection__k=14, preparation__num__imputer__strategy=mean, total=  41.1s\n",
            "[CV] feature_selection__k=14, preparation__num__imputer__strategy=mean \n",
            "[CV]  feature_selection__k=14, preparation__num__imputer__strategy=mean, total=  48.1s\n",
            "[CV] feature_selection__k=14, preparation__num__imputer__strategy=mean \n",
            "[CV]  feature_selection__k=14, preparation__num__imputer__strategy=mean, total=  50.3s\n",
            "[CV] feature_selection__k=14, preparation__num__imputer__strategy=median \n",
            "[CV]  feature_selection__k=14, preparation__num__imputer__strategy=median, total=  41.7s\n",
            "[CV] feature_selection__k=14, preparation__num__imputer__strategy=median \n",
            "[CV]  feature_selection__k=14, preparation__num__imputer__strategy=median, total=  47.9s\n",
            "[CV] feature_selection__k=14, preparation__num__imputer__strategy=median \n",
            "[CV]  feature_selection__k=14, preparation__num__imputer__strategy=median, total=  40.9s\n",
            "[CV] feature_selection__k=14, preparation__num__imputer__strategy=median \n",
            "[CV]  feature_selection__k=14, preparation__num__imputer__strategy=median, total=  45.8s\n",
            "[CV] feature_selection__k=14, preparation__num__imputer__strategy=median \n",
            "[CV]  feature_selection__k=14, preparation__num__imputer__strategy=median, total=  47.0s\n",
            "[CV] feature_selection__k=14, preparation__num__imputer__strategy=most_frequent \n",
            "[CV]  feature_selection__k=14, preparation__num__imputer__strategy=most_frequent, total=  40.9s\n",
            "[CV] feature_selection__k=14, preparation__num__imputer__strategy=most_frequent \n",
            "[CV]  feature_selection__k=14, preparation__num__imputer__strategy=most_frequent, total=  45.4s\n",
            "[CV] feature_selection__k=14, preparation__num__imputer__strategy=most_frequent \n",
            "[CV]  feature_selection__k=14, preparation__num__imputer__strategy=most_frequent, total=  39.9s\n",
            "[CV] feature_selection__k=14, preparation__num__imputer__strategy=most_frequent \n",
            "[CV]  feature_selection__k=14, preparation__num__imputer__strategy=most_frequent, total=  49.0s\n",
            "[CV] feature_selection__k=14, preparation__num__imputer__strategy=most_frequent \n",
            "[CV]  feature_selection__k=14, preparation__num__imputer__strategy=most_frequent, total=  47.3s\n",
            "[CV] feature_selection__k=15, preparation__num__imputer__strategy=mean \n",
            "[CV]  feature_selection__k=15, preparation__num__imputer__strategy=mean, total=  39.0s\n",
            "[CV] feature_selection__k=15, preparation__num__imputer__strategy=mean \n",
            "[CV]  feature_selection__k=15, preparation__num__imputer__strategy=mean, total=  47.0s\n",
            "[CV] feature_selection__k=15, preparation__num__imputer__strategy=mean \n",
            "[CV]  feature_selection__k=15, preparation__num__imputer__strategy=mean, total=  46.8s\n",
            "[CV] feature_selection__k=15, preparation__num__imputer__strategy=mean \n",
            "[CV]  feature_selection__k=15, preparation__num__imputer__strategy=mean, total=  43.2s\n",
            "[CV] feature_selection__k=15, preparation__num__imputer__strategy=mean \n",
            "[CV]  feature_selection__k=15, preparation__num__imputer__strategy=mean, total=  50.4s\n",
            "[CV] feature_selection__k=15, preparation__num__imputer__strategy=median \n",
            "[CV]  feature_selection__k=15, preparation__num__imputer__strategy=median, total=  38.8s\n",
            "[CV] feature_selection__k=15, preparation__num__imputer__strategy=median \n",
            "[CV]  feature_selection__k=15, preparation__num__imputer__strategy=median, total=  46.0s\n",
            "[CV] feature_selection__k=15, preparation__num__imputer__strategy=median \n",
            "[CV]  feature_selection__k=15, preparation__num__imputer__strategy=median, total=  45.2s\n",
            "[CV] feature_selection__k=15, preparation__num__imputer__strategy=median \n",
            "[CV]  feature_selection__k=15, preparation__num__imputer__strategy=median, total=  42.9s\n",
            "[CV] feature_selection__k=15, preparation__num__imputer__strategy=median \n",
            "[CV]  feature_selection__k=15, preparation__num__imputer__strategy=median, total=  50.4s\n",
            "[CV] feature_selection__k=15, preparation__num__imputer__strategy=most_frequent \n",
            "[CV]  feature_selection__k=15, preparation__num__imputer__strategy=most_frequent, total=  37.6s\n",
            "[CV] feature_selection__k=15, preparation__num__imputer__strategy=most_frequent \n",
            "[CV]  feature_selection__k=15, preparation__num__imputer__strategy=most_frequent, total=  45.7s\n",
            "[CV] feature_selection__k=15, preparation__num__imputer__strategy=most_frequent \n",
            "[CV]  feature_selection__k=15, preparation__num__imputer__strategy=most_frequent, total=  48.4s\n",
            "[CV] feature_selection__k=15, preparation__num__imputer__strategy=most_frequent \n",
            "[CV]  feature_selection__k=15, preparation__num__imputer__strategy=most_frequent, total=  45.1s\n",
            "[CV] feature_selection__k=15, preparation__num__imputer__strategy=most_frequent \n",
            "[CV]  feature_selection__k=15, preparation__num__imputer__strategy=most_frequent, total=  51.6s\n",
            "[CV] feature_selection__k=16, preparation__num__imputer__strategy=mean \n",
            "[CV]  feature_selection__k=16, preparation__num__imputer__strategy=mean, total=  41.8s\n",
            "[CV] feature_selection__k=16, preparation__num__imputer__strategy=mean \n",
            "[CV]  feature_selection__k=16, preparation__num__imputer__strategy=mean, total=  46.7s\n",
            "[CV] feature_selection__k=16, preparation__num__imputer__strategy=mean \n",
            "[CV]  feature_selection__k=16, preparation__num__imputer__strategy=mean, total=  46.1s\n",
            "[CV] feature_selection__k=16, preparation__num__imputer__strategy=mean \n",
            "[CV]  feature_selection__k=16, preparation__num__imputer__strategy=mean, total=  47.5s\n",
            "[CV] feature_selection__k=16, preparation__num__imputer__strategy=mean \n",
            "[CV]  feature_selection__k=16, preparation__num__imputer__strategy=mean, total=  47.7s\n",
            "[CV] feature_selection__k=16, preparation__num__imputer__strategy=median \n",
            "[CV]  feature_selection__k=16, preparation__num__imputer__strategy=median, total=  42.1s\n",
            "[CV] feature_selection__k=16, preparation__num__imputer__strategy=median \n",
            "[CV]  feature_selection__k=16, preparation__num__imputer__strategy=median, total=  47.4s\n",
            "[CV] feature_selection__k=16, preparation__num__imputer__strategy=median \n",
            "[CV]  feature_selection__k=16, preparation__num__imputer__strategy=median, total=  46.7s\n",
            "[CV] feature_selection__k=16, preparation__num__imputer__strategy=median \n",
            "[CV]  feature_selection__k=16, preparation__num__imputer__strategy=median, total=  47.8s\n",
            "[CV] feature_selection__k=16, preparation__num__imputer__strategy=median \n",
            "[CV]  feature_selection__k=16, preparation__num__imputer__strategy=median, total=  47.8s\n",
            "[CV] feature_selection__k=16, preparation__num__imputer__strategy=most_frequent \n",
            "[CV]  feature_selection__k=16, preparation__num__imputer__strategy=most_frequent, total=  42.1s\n",
            "[CV] feature_selection__k=16, preparation__num__imputer__strategy=most_frequent \n",
            "[CV]  feature_selection__k=16, preparation__num__imputer__strategy=most_frequent, total=  47.9s\n",
            "[CV] feature_selection__k=16, preparation__num__imputer__strategy=most_frequent \n",
            "[CV]  feature_selection__k=16, preparation__num__imputer__strategy=most_frequent, total=  45.7s\n",
            "[CV] feature_selection__k=16, preparation__num__imputer__strategy=most_frequent \n",
            "[CV]  feature_selection__k=16, preparation__num__imputer__strategy=most_frequent, total=  47.2s\n",
            "[CV] feature_selection__k=16, preparation__num__imputer__strategy=most_frequent \n",
            "[CV]  feature_selection__k=16, preparation__num__imputer__strategy=most_frequent, total=  48.7s\n"
          ],
          "name": "stdout"
        },
        {
          "output_type": "stream",
          "text": [
            "[Parallel(n_jobs=1)]: Done 240 out of 240 | elapsed: 109.1min finished\n"
          ],
          "name": "stderr"
        },
        {
          "output_type": "execute_result",
          "data": {
            "text/plain": [
              "GridSearchCV(cv=5, error_score=nan,\n",
              "             estimator=Pipeline(memory=None,\n",
              "                                steps=[('preparation',\n",
              "                                        ColumnTransformer(n_jobs=None,\n",
              "                                                          remainder='drop',\n",
              "                                                          sparse_threshold=0.3,\n",
              "                                                          transformer_weights=None,\n",
              "                                                          transformers=[('num',\n",
              "                                                                         Pipeline(memory=None,\n",
              "                                                                                  steps=[('imputer',\n",
              "                                                                                          SimpleImputer(add_indicator=False,\n",
              "                                                                                                        copy=True,\n",
              "                                                                                                        fill_value=None,\n",
              "                                                                                                        missing_values=nan,\n",
              "                                                                                                        strategy='median',\n",
              "                                                                                                        verbose=0)),\n",
              "                                                                                         (...\n",
              "                                            kernel='rbf', max_iter=-1,\n",
              "                                            shrinking=True, tol=0.001,\n",
              "                                            verbose=False))],\n",
              "                                verbose=False),\n",
              "             iid='deprecated', n_jobs=None,\n",
              "             param_grid=[{'feature_selection__k': [1, 2, 3, 4, 5, 6, 7, 8, 9,\n",
              "                                                   10, 11, 12, 13, 14, 15, 16],\n",
              "                          'preparation__num__imputer__strategy': ['mean',\n",
              "                                                                  'median',\n",
              "                                                                  'most_frequent']}],\n",
              "             pre_dispatch='2*n_jobs', refit=True, return_train_score=False,\n",
              "             scoring='neg_mean_squared_error', verbose=2)"
            ]
          },
          "metadata": {
            "tags": []
          },
          "execution_count": 92
        }
      ]
    },
    {
      "cell_type": "code",
      "metadata": {
        "id": "kHFYt_5URD0D",
        "colab_type": "code",
        "colab": {
          "base_uri": "https://localhost:8080/",
          "height": 34
        },
        "outputId": "36b66e5c-3e46-4498-e859-6e8dcf9902fc"
      },
      "source": [
        "grid_search_prep.best_params_"
      ],
      "execution_count": 93,
      "outputs": [
        {
          "output_type": "execute_result",
          "data": {
            "text/plain": [
              "{'feature_selection__k': 15, 'preparation__num__imputer__strategy': 'mean'}"
            ]
          },
          "metadata": {
            "tags": []
          },
          "execution_count": 93
        }
      ]
    }
  ]
}